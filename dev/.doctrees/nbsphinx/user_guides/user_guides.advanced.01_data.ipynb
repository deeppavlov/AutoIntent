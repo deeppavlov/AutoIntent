{
 "cells": [
  {
   "cell_type": "markdown",
   "id": "639684ee",
   "metadata": {
    "cell_marker": "\"\"\""
   },
   "source": [
    "# Working with data\n",
    "\n",
    "This chapter is a more detailed version of data chapter from basic user guide about how to manipulate intent classification data with AutoIntent."
   ]
  },
  {
   "cell_type": "code",
   "execution_count": 1,
   "id": "1d120140",
   "metadata": {
    "execution": {
     "iopub.execute_input": "2024-12-18T11:48:45.452646Z",
     "iopub.status.busy": "2024-12-18T11:48:45.452438Z",
     "iopub.status.idle": "2024-12-18T11:48:49.304102Z",
     "shell.execute_reply": "2024-12-18T11:48:49.303359Z"
    }
   },
   "outputs": [
    {
     "name": "stderr",
     "output_type": "stream",
     "text": [
      "/home/runner/.cache/pypoetry/virtualenvs/autointent-FDypUDHQ-py3.10/lib/python3.10/site-packages/tqdm/auto.py:21: TqdmWarning: IProgress not found. Please update jupyter and ipywidgets. See https://ipywidgets.readthedocs.io/en/stable/user_install.html\n",
      "  from .autonotebook import tqdm as notebook_tqdm\n"
     ]
    }
   ],
   "source": [
    "import importlib.resources as ires\n",
    "\n",
    "import datasets\n",
    "\n",
    "from autointent import Dataset"
   ]
  },
  {
   "cell_type": "code",
   "execution_count": 2,
   "id": "dc7e6419",
   "metadata": {
    "execution": {
     "iopub.execute_input": "2024-12-18T11:48:49.306696Z",
     "iopub.status.busy": "2024-12-18T11:48:49.306357Z",
     "iopub.status.idle": "2024-12-18T11:48:49.309733Z",
     "shell.execute_reply": "2024-12-18T11:48:49.309069Z"
    }
   },
   "outputs": [],
   "source": [
    "datasets.logging.disable_progress_bar()  # disable tqdm outputs"
   ]
  },
  {
   "cell_type": "markdown",
   "id": "afdfdfee",
   "metadata": {
    "cell_marker": "\"\"\""
   },
   "source": [
    "## Creating a dataset\n",
    "\n",
    "To create a dataset, you need to provide a training split containing samples with utterances and labels, as shown below:\n",
    "\n",
    "```json\n",
    "{\n",
    "    \"train\": [\n",
    "        {\n",
    "            \"utterance\": \"Hello!\",\n",
    "            \"label\": 0\n",
    "        },\n",
    "        \"...\",\n",
    "    ]\n",
    "}\n",
    "```\n",
    "\n",
    "For a multilabel dataset, the `label` field should be a list of integers representing the corresponding class labels.\n",
    "\n",
    "### Handling out-of-scope samples\n",
    "\n",
    "To indicate that a sample is out-of-scope (see [concepts](../concepts.rst)), omit the `label` field from the sample dictionary. For example:\n",
    "\n",
    "```json\n",
    "{\n",
    "    \"train\": [\n",
    "        {\n",
    "            \"utterance\": \"OOS request\"\n",
    "        },\n",
    "        \"...\",\n",
    "    ]\n",
    "}\n",
    "```\n",
    "\n",
    "### Validation and test splits\n",
    "\n",
    "By default, a portion of the training split will be allocated for validation and testing.\n",
    "However, you can also specify a test split explicitly:\n",
    "\n",
    "```json\n",
    "{\n",
    "    \"train\": [\n",
    "        {\n",
    "            \"utterance\": \"Hello!\",\n",
    "            \"label\": 0\n",
    "        },\n",
    "        \"...\",\n",
    "    ],\n",
    "    \"test\": [\n",
    "        {\n",
    "            \"utterance\": \"Hi!\",\n",
    "            \"label\": 0\n",
    "        },\n",
    "        \"...\",\n",
    "    ]\n",
    "}\n",
    "```\n",
    "\n",
    "### Adding metadata to intents\n",
    "\n",
    "You can add metadata to intents in your dataset, such as\n",
    "regular expressions, intent names, descriptions, or tags, using the `intents` field:\n",
    "\n",
    "```json\n",
    "{\n",
    "    \"train\": [\n",
    "        {\n",
    "            \"utterance\": \"Hello!\",\n",
    "            \"label\": 0\n",
    "        },\n",
    "        \"...\",\n",
    "    ],\n",
    "    \"intents\": [\n",
    "        {\n",
    "            \"id\": 0,\n",
    "            \"name\": \"greeting\",\n",
    "            \"tags\": [\"conversation_start\"],\n",
    "            \"regexp_partial_match\": [\"\\bhello\\b\"],\n",
    "            \"regexp_full_match\": [\"^hello$\"],\n",
    "            \"description\": \"User wants to initiate a conversation with a greeting.\"\n",
    "        },\n",
    "        \"...\",\n",
    "    ]\n",
    "}\n",
    "```\n",
    "\n",
    "- `name`: A human-readable representation of the intent.\n",
    "- `tags`: Used in multilabel scenarios to predict the most probable class listed in a specific [Tag](../autoapi/autointent/schemas/Tag.html#autointent.schemas.Tag).\n",
    "- `regexp_partial_match` and `regexp_full_match`: Used by the [RegExp](../autoapi/autointent/modules/regexp/RegExp.html#autointent.modules.regexp.RegExp) module to predict intents based on provided patterns.\n",
    "- `description`: Used by the [DescriptionScorer](../autoapi/autointent/modules/scoring/DescriptionScorer.html#autointent.modules.scoring.DescriptionScorer) to calculate scores based on the similarity between an utterance and intent descriptions.\n",
    "\n",
    "All fields in the `intents` list are optional except for `id`."
   ]
  },
  {
   "cell_type": "markdown",
   "id": "80c5bab0",
   "metadata": {
    "cell_marker": "\"\"\""
   },
   "source": [
    "## Loading a dataset\n",
    "\n",
    "There are three main ways to load your dataset:\n",
    "\n",
    "1. From a Python dictionary.\n",
    "2. From a JSON file.\n",
    "3. Directly from the Hugging Face Hub."
   ]
  },
  {
   "cell_type": "markdown",
   "id": "835d22e0",
   "metadata": {
    "cell_marker": "\"\"\""
   },
   "source": [
    "### Creating a dataset from a Python dictionary\n",
    "\n",
    "One can load data into Python using our [Dataset](../autoapi/autointent/Dataset.html#autointent.Dataset) object."
   ]
  },
  {
   "cell_type": "code",
   "execution_count": 3,
   "id": "75d99657",
   "metadata": {
    "execution": {
     "iopub.execute_input": "2024-12-18T11:48:49.311928Z",
     "iopub.status.busy": "2024-12-18T11:48:49.311592Z",
     "iopub.status.idle": "2024-12-18T11:48:49.338280Z",
     "shell.execute_reply": "2024-12-18T11:48:49.337760Z"
    }
   },
   "outputs": [],
   "source": [
    "dataset = Dataset.from_dict(\n",
    "    {\n",
    "        \"train\": [\n",
    "            {\n",
    "                \"utterance\": \"Please help me with my card. It won't activate.\",\n",
    "                \"label\": 0,\n",
    "            },\n",
    "            {\n",
    "                \"utterance\": \"I tried but am unable to activate my card.\",\n",
    "                \"label\": 0,\n",
    "            },\n",
    "            {\n",
    "                \"utterance\": \"I want to open an account for my children.\",\n",
    "                \"label\": 1,\n",
    "            },\n",
    "            {\n",
    "                \"utterance\": \"How old do you need to be to use the bank's services?\",\n",
    "                \"label\": 1,\n",
    "            },\n",
    "        ],\n",
    "        \"test\": [\n",
    "            {\n",
    "                \"utterance\": \"I want to start using my card.\",\n",
    "                \"label\": 0,\n",
    "            },\n",
    "            {\n",
    "                \"utterance\": \"How old do I need to be?\",\n",
    "                \"label\": 1,\n",
    "            },\n",
    "        ],\n",
    "        \"intents\": [\n",
    "            {\n",
    "                \"id\": 0,\n",
    "                \"name\": \"activate_my_card\",\n",
    "            },\n",
    "            {\n",
    "                \"id\": 1,\n",
    "                \"name\": \"age_limit\",\n",
    "            },\n",
    "        ],\n",
    "    },\n",
    ")"
   ]
  },
  {
   "cell_type": "markdown",
   "id": "10bfcb1b",
   "metadata": {
    "cell_marker": "\"\"\""
   },
   "source": [
    "### Loading a dataset from a file\n",
    "\n",
    "The AutoIntent library includes sample datasets."
   ]
  },
  {
   "cell_type": "code",
   "execution_count": 4,
   "id": "c99b7dd3",
   "metadata": {
    "execution": {
     "iopub.execute_input": "2024-12-18T11:48:49.340318Z",
     "iopub.status.busy": "2024-12-18T11:48:49.339966Z",
     "iopub.status.idle": "2024-12-18T11:48:49.385342Z",
     "shell.execute_reply": "2024-12-18T11:48:49.384669Z"
    }
   },
   "outputs": [],
   "source": [
    "path_to_dataset = ires.files(\"tests.assets.data\").joinpath(\"clinc_subset.json\")\n",
    "dataset = Dataset.from_json(path_to_dataset)"
   ]
  },
  {
   "cell_type": "markdown",
   "id": "85dcba8b",
   "metadata": {
    "cell_marker": "\"\"\""
   },
   "source": [
    "### Loading a dataset from the Hugging Face Hub\n",
    "\n",
    "If your dataset on the Hugging Face Hub matches the required format, you can load it directly using its repository ID:"
   ]
  },
  {
   "cell_type": "code",
   "execution_count": 5,
   "id": "585ad261",
   "metadata": {
    "execution": {
     "iopub.execute_input": "2024-12-18T11:48:49.387568Z",
     "iopub.status.busy": "2024-12-18T11:48:49.387205Z",
     "iopub.status.idle": "2024-12-18T11:48:50.933480Z",
     "shell.execute_reply": "2024-12-18T11:48:50.932785Z"
    }
   },
   "outputs": [],
   "source": [
    "dataset = Dataset.from_hub(\"AutoIntent/clinc150_subset\")"
   ]
  },
  {
   "cell_type": "markdown",
   "id": "8cc55904",
   "metadata": {
    "cell_marker": "\"\"\""
   },
   "source": [
    "### Accessing dataset splits\n",
    "\n",
    "The [Dataset](../autoapi/autointent/Dataset.html#autointent.Dataset) class organizes your data as a dictionary of [datasets.Dataset](https://huggingface.co/docs/datasets/v2.1.0/en/package_reference/main_classes#datasets.Dataset).\n",
    "For example, after initialization, an `oos` key may be added if OOS samples are provided."
   ]
  },
  {
   "cell_type": "code",
   "execution_count": 6,
   "id": "b38f892d",
   "metadata": {
    "execution": {
     "iopub.execute_input": "2024-12-18T11:48:50.936002Z",
     "iopub.status.busy": "2024-12-18T11:48:50.935581Z",
     "iopub.status.idle": "2024-12-18T11:48:50.941998Z",
     "shell.execute_reply": "2024-12-18T11:48:50.941396Z"
    }
   },
   "outputs": [
    {
     "data": {
      "text/plain": [
       "Dataset({\n",
       "    features: ['utterance', 'label'],\n",
       "    num_rows: 60\n",
       "})"
      ]
     },
     "execution_count": 6,
     "metadata": {},
     "output_type": "execute_result"
    }
   ],
   "source": [
    "dataset[\"train\"]"
   ]
  },
  {
   "cell_type": "markdown",
   "id": "232b6108",
   "metadata": {
    "cell_marker": "\"\"\""
   },
   "source": [
    "### Working with dataset splits\n",
    "\n",
    "Each split in the [Dataset](../autoapi/autointent/Dataset.html#autointent.Dataset) class is an instance of [datasets.Dataset](https://huggingface.co/docs/datasets/en/package_reference/main_classes#datasets.Dataset),\n",
    "so you can work with them accordingly."
   ]
  },
  {
   "cell_type": "code",
   "execution_count": 7,
   "id": "7640860d",
   "metadata": {
    "execution": {
     "iopub.execute_input": "2024-12-18T11:48:50.944202Z",
     "iopub.status.busy": "2024-12-18T11:48:50.943694Z",
     "iopub.status.idle": "2024-12-18T11:48:50.948422Z",
     "shell.execute_reply": "2024-12-18T11:48:50.947782Z"
    }
   },
   "outputs": [
    {
     "data": {
      "text/plain": [
       "{'utterance': ['does acero in maplewood allow reservations',\n",
       "  'do they take reservations at bar tartine',\n",
       "  'does cowgirl creamery in san francisco take reservations',\n",
       "  'can i get a reservation at melting pot tomorrow',\n",
       "  'will they take reservations at torris'],\n",
       " 'label': [0, 0, 0, 0, 0]}"
      ]
     },
     "execution_count": 7,
     "metadata": {},
     "output_type": "execute_result"
    }
   ],
   "source": [
    "dataset[\"train\"][:5]  # get first 5 train samples"
   ]
  },
  {
   "cell_type": "markdown",
   "id": "2a82fe8d",
   "metadata": {
    "cell_marker": "\"\"\""
   },
   "source": [
    "### Working with intents\n",
    "\n",
    "Metadata that you added to intents in your dataset is stored in [intents](../autoapi/autointent/Dataset.html#autointent.Dataset.intents) attribute."
   ]
  },
  {
   "cell_type": "code",
   "execution_count": 8,
   "id": "f75be2cd",
   "metadata": {
    "execution": {
     "iopub.execute_input": "2024-12-18T11:48:50.950512Z",
     "iopub.status.busy": "2024-12-18T11:48:50.950162Z",
     "iopub.status.idle": "2024-12-18T11:48:50.954428Z",
     "shell.execute_reply": "2024-12-18T11:48:50.953893Z"
    }
   },
   "outputs": [
    {
     "data": {
      "text/plain": [
       "[Intent(id=0, name=None, tags=[], regexp_full_match=[], regexp_partial_match=[], description=None),\n",
       " Intent(id=1, name=None, tags=[], regexp_full_match=[], regexp_partial_match=[], description=None),\n",
       " Intent(id=2, name=None, tags=[], regexp_full_match=[], regexp_partial_match=[], description=None)]"
      ]
     },
     "execution_count": 8,
     "metadata": {},
     "output_type": "execute_result"
    }
   ],
   "source": [
    "dataset.intents[:3]"
   ]
  },
  {
   "cell_type": "markdown",
   "id": "d38d1b2b",
   "metadata": {
    "cell_marker": "\"\"\""
   },
   "source": [
    "### Pushing dataset to the Hugging Face Hub\n",
    "\n",
    "To share your dataset on the Hugging Face Hub, use method [push_to_hub](../autoapi/autointent/Dataset.html#autointent.Dataset.push_to_hub).\n",
    "Ensure that you are logged in using the `huggingface-cli` tool:"
   ]
  },
  {
   "cell_type": "code",
   "execution_count": 9,
   "id": "ea05935f",
   "metadata": {
    "execution": {
     "iopub.execute_input": "2024-12-18T11:48:50.956420Z",
     "iopub.status.busy": "2024-12-18T11:48:50.956042Z",
     "iopub.status.idle": "2024-12-18T11:48:50.958865Z",
     "shell.execute_reply": "2024-12-18T11:48:50.958312Z"
    }
   },
   "outputs": [],
   "source": [
    "# dataset.push_to_hub(\"<repo_id>\")"
   ]
  }
 ],
 "metadata": {
  "jupytext": {
   "cell_metadata_filter": "-all",
   "main_language": "python",
   "notebook_metadata_filter": "-all",
   "text_representation": {
    "extension": ".py",
    "format_name": "percent"
   }
  },
  "language_info": {
   "codemirror_mode": {
    "name": "ipython",
    "version": 3
   },
   "file_extension": ".py",
   "mimetype": "text/x-python",
   "name": "python",
   "nbconvert_exporter": "python",
   "pygments_lexer": "ipython3",
   "version": "3.10.15"
  }
 },
 "nbformat": 4,
 "nbformat_minor": 5
}
