{
 "cells": [
  {
   "cell_type": "markdown",
   "id": "c5c6ce05",
   "metadata": {
    "cell_marker": "\"\"\""
   },
   "source": [
    "# Modules\n",
    "\n",
    "In this chapter you will get familiar with modules and how to use them for intent classification.\n",
    "\n",
    "Modules are the basic units in our library. They perform core operations such as predicting probabilities and constructing final set of predicted labels.\n",
    "\n",
    "## Modules Types\n",
    "\n",
    "There are two main module types in AutoIntent:\n",
    "\n",
    "- **Scoring modules.** These modules perform probabilities prediction, i.e. they take an utterance as input and output a vector of probabilities.\n",
    "- **Prediction modules.** These modules take vector of probabilities and output set of labels. Prediction modules are important to support multi-label classification and out-of-domain utterances detection.\n",
    "\n",
    "## Initialize Module\n",
    "\n",
    "Firstly, you need to initialize module:"
   ]
  },
  {
   "cell_type": "code",
   "execution_count": 1,
   "id": "0abba024",
   "metadata": {
    "execution": {
     "iopub.execute_input": "2024-12-18T11:50:12.316296Z",
     "iopub.status.busy": "2024-12-18T11:50:12.315703Z",
     "iopub.status.idle": "2024-12-18T11:50:16.090594Z",
     "shell.execute_reply": "2024-12-18T11:50:16.089870Z"
    }
   },
   "outputs": [
    {
     "name": "stderr",
     "output_type": "stream",
     "text": [
      "/home/runner/.cache/pypoetry/virtualenvs/autointent-FDypUDHQ-py3.10/lib/python3.10/site-packages/sentence_transformers/cross_encoder/CrossEncoder.py:11: TqdmWarning: IProgress not found. Please update jupyter and ipywidgets. See https://ipywidgets.readthedocs.io/en/stable/user_install.html\n",
      "  from tqdm.autonotebook import tqdm, trange\n"
     ]
    }
   ],
   "source": [
    "from autointent.modules.scoring import KNNScorer\n",
    "\n",
    "scorer = KNNScorer(\n",
    "    embedder_name=\"sergeyzh/rubert-tiny-turbo\",\n",
    "    k=5,\n",
    ")"
   ]
  },
  {
   "cell_type": "markdown",
   "id": "8158aed4",
   "metadata": {
    "cell_marker": "\"\"\""
   },
   "source": [
    "At this moment, you do two things:\n",
    "\n",
    "- **Set hyperparameters**. Refer to [Modules API Reference](../autoapi/autointent/modules/index.rst) to see all possible hyperparameters and their default values.\n",
    "- **Configure infrastructure**. You are allowed to\n",
    "    - choose CUDA device (`embedder_device`)\n",
    "    - customize embedder batch size (`batch_size`) and truncation length (`embedder_max_length`)\n",
    "    - location where to save module's assets (`db_dir`)\n",
    "\n",
    "## Load Data\n",
    "\n",
    "Secondly, you need to load training data (see previous chapter for detailed explanation of what happens):"
   ]
  },
  {
   "cell_type": "code",
   "execution_count": 2,
   "id": "40e2f893",
   "metadata": {
    "execution": {
     "iopub.execute_input": "2024-12-18T11:50:16.093448Z",
     "iopub.status.busy": "2024-12-18T11:50:16.092931Z",
     "iopub.status.idle": "2024-12-18T11:50:17.711751Z",
     "shell.execute_reply": "2024-12-18T11:50:17.711179Z"
    }
   },
   "outputs": [],
   "source": [
    "from autointent import Dataset\n",
    "\n",
    "dataset = Dataset.from_hub(\"AutoIntent/clinc150_subset\")"
   ]
  },
  {
   "cell_type": "markdown",
   "id": "7e1eaa54",
   "metadata": {
    "cell_marker": "\"\"\""
   },
   "source": [
    "## Fit Module"
   ]
  },
  {
   "cell_type": "code",
   "execution_count": 3,
   "id": "6e2ce331",
   "metadata": {
    "execution": {
     "iopub.execute_input": "2024-12-18T11:50:17.714115Z",
     "iopub.status.busy": "2024-12-18T11:50:17.713700Z",
     "iopub.status.idle": "2024-12-18T11:50:18.866037Z",
     "shell.execute_reply": "2024-12-18T11:50:18.865301Z"
    }
   },
   "outputs": [],
   "source": [
    "scorer.fit(dataset[\"train\"][\"utterance\"], dataset[\"train\"][\"label\"])"
   ]
  },
  {
   "cell_type": "markdown",
   "id": "88435d23",
   "metadata": {
    "cell_marker": "\"\"\""
   },
   "source": [
    "## Inference\n",
    "\n",
    "After fitting, module is ready for using at inference:"
   ]
  },
  {
   "cell_type": "code",
   "execution_count": 4,
   "id": "81642a46",
   "metadata": {
    "execution": {
     "iopub.execute_input": "2024-12-18T11:50:18.868546Z",
     "iopub.status.busy": "2024-12-18T11:50:18.868167Z",
     "iopub.status.idle": "2024-12-18T11:50:18.880364Z",
     "shell.execute_reply": "2024-12-18T11:50:18.879745Z"
    }
   },
   "outputs": [
    {
     "data": {
      "text/plain": [
       "array([[0., 0., 1.]])"
      ]
     },
     "execution_count": 4,
     "metadata": {},
     "output_type": "execute_result"
    }
   ],
   "source": [
    "scorer.predict([\"hello world!\"])"
   ]
  },
  {
   "cell_type": "markdown",
   "id": "8144dbd3",
   "metadata": {
    "cell_marker": "\"\"\""
   },
   "source": [
    "## Dump and Load\n",
    "\n",
    "We provide functionality to save and restore module. To save, just provide a path to a directory:"
   ]
  },
  {
   "cell_type": "code",
   "execution_count": 5,
   "id": "ed6f7170",
   "metadata": {
    "execution": {
     "iopub.execute_input": "2024-12-18T11:50:18.882624Z",
     "iopub.status.busy": "2024-12-18T11:50:18.882211Z",
     "iopub.status.idle": "2024-12-18T11:50:19.009648Z",
     "shell.execute_reply": "2024-12-18T11:50:19.008918Z"
    }
   },
   "outputs": [],
   "source": [
    "from pathlib import Path\n",
    "\n",
    "pathdir = Path(\"my_dumps/knnscorer_clinc150\")\n",
    "pathdir.mkdir(parents=True)\n",
    "scorer.dump(pathdir)"
   ]
  },
  {
   "cell_type": "markdown",
   "id": "d99acf6c",
   "metadata": {
    "cell_marker": "\"\"\""
   },
   "source": [
    "To restore, initialize module with the same hyperparams and use load method:"
   ]
  },
  {
   "cell_type": "code",
   "execution_count": 6,
   "id": "ba5eea93",
   "metadata": {
    "execution": {
     "iopub.execute_input": "2024-12-18T11:50:19.012087Z",
     "iopub.status.busy": "2024-12-18T11:50:19.011873Z",
     "iopub.status.idle": "2024-12-18T11:50:19.633093Z",
     "shell.execute_reply": "2024-12-18T11:50:19.632403Z"
    }
   },
   "outputs": [
    {
     "data": {
      "text/plain": [
       "array([[0., 0., 1.]])"
      ]
     },
     "execution_count": 6,
     "metadata": {},
     "output_type": "execute_result"
    }
   ],
   "source": [
    "loaded_scorer = KNNScorer(\n",
    "    embedder_name=\"sergeyzh/rubert-tiny-turbo\",\n",
    "    k=5,\n",
    ")\n",
    "loaded_scorer.load(pathdir)\n",
    "loaded_scorer.predict([\"hello world!\"])"
   ]
  },
  {
   "cell_type": "markdown",
   "id": "d6dba6f4",
   "metadata": {
    "cell_marker": "\"\"\""
   },
   "source": [
    "## Rich Output\n",
    "\n",
    "Some scoring modules support rich output as a result of prediction. It can be useful for inspecting how your classifier work and for debugging as it contains intrinsic information such as retrieved candidates. Example:"
   ]
  },
  {
   "cell_type": "code",
   "execution_count": 7,
   "id": "b6490845",
   "metadata": {
    "execution": {
     "iopub.execute_input": "2024-12-18T11:50:19.635292Z",
     "iopub.status.busy": "2024-12-18T11:50:19.635084Z",
     "iopub.status.idle": "2024-12-18T11:50:19.644254Z",
     "shell.execute_reply": "2024-12-18T11:50:19.643653Z"
    }
   },
   "outputs": [
    {
     "data": {
      "text/plain": [
       "(array([[0., 0., 1.]]),\n",
       " [{'neighbors': ['i need an alarm set please',\n",
       "    'you need to set alarm for me',\n",
       "    'please set up an alarm to go off tomorrow at daybreak',\n",
       "    'set the alarm for me',\n",
       "    'set alarm']}])"
      ]
     },
     "execution_count": 7,
     "metadata": {},
     "output_type": "execute_result"
    }
   ],
   "source": [
    "loaded_scorer.predict_with_metadata([\"hello world!\"])"
   ]
  },
  {
   "cell_type": "markdown",
   "id": "1da11041",
   "metadata": {
    "cell_marker": "\"\"\""
   },
   "source": [
    "## That's all!"
   ]
  },
  {
   "cell_type": "code",
   "execution_count": 8,
   "id": "813710dd",
   "metadata": {
    "execution": {
     "iopub.execute_input": "2024-12-18T11:50:19.646410Z",
     "iopub.status.busy": "2024-12-18T11:50:19.645986Z",
     "iopub.status.idle": "2024-12-18T11:50:19.677555Z",
     "shell.execute_reply": "2024-12-18T11:50:19.676818Z"
    }
   },
   "outputs": [],
   "source": [
    "# [you didn't see it]\n",
    "import shutil\n",
    "\n",
    "shutil.rmtree(pathdir.parent)\n",
    "\n",
    "for file in Path.cwd().glob(\"vector_db*\"):\n",
    "    shutil.rmtree(file)"
   ]
  }
 ],
 "metadata": {
  "jupytext": {
   "cell_metadata_filter": "-all",
   "main_language": "python",
   "notebook_metadata_filter": "-all",
   "text_representation": {
    "extension": ".py",
    "format_name": "percent"
   }
  },
  "language_info": {
   "codemirror_mode": {
    "name": "ipython",
    "version": 3
   },
   "file_extension": ".py",
   "mimetype": "text/x-python",
   "name": "python",
   "nbconvert_exporter": "python",
   "pygments_lexer": "ipython3",
   "version": "3.10.15"
  }
 },
 "nbformat": 4,
 "nbformat_minor": 5
}
