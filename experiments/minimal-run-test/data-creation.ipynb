{
 "cells": [
  {
   "cell_type": "code",
   "execution_count": 6,
   "metadata": {},
   "outputs": [
    {
     "name": "stdout",
     "output_type": "stream",
     "text": [
      "151\n"
     ]
    }
   ],
   "source": [
    "import json\n",
    "\n",
    "path = \"/home/alekseev/AutoIntent/data/intent_records/clinc150.json\"\n",
    "with open(path) as file:\n",
    "    full_dataset = json.load(file)\n",
    "print(len(full_dataset))"
   ]
  },
  {
   "cell_type": "code",
   "execution_count": 7,
   "metadata": {},
   "outputs": [
    {
     "data": {
      "text/plain": [
       "{'intent_id': 0,\n",
       " 'intent_name': 'accept_reservations',\n",
       " 'sample_utterances': ['can i make a reservation for redrobin',\n",
       "  'is it possible to make a reservation at redrobin',\n",
       "  'does redrobin take reservations',\n",
       "  'are reservations taken at redrobin',\n",
       "  'does redrobin do reservations'],\n",
       " 'regexp_full_match': [],\n",
       " 'regexp_partial_match': []}"
      ]
     },
     "execution_count": 7,
     "metadata": {},
     "output_type": "execute_result"
    }
   ],
   "source": [
    "full_dataset[0]"
   ]
  },
  {
   "cell_type": "code",
   "execution_count": 9,
   "metadata": {},
   "outputs": [],
   "source": [
    "# take first three classes\n",
    "subset = full_dataset[:3]\n",
    "\n",
    "# -1 is out-of-scope exaples, take a couple of them\n",
    "ood = full_dataset[-1]\n",
    "ood[\"sample_utterances\"] = ood[\"sample_utterances\"][:3]\n",
    "\n",
    "subset += [ood]"
   ]
  },
  {
   "cell_type": "code",
   "execution_count": 11,
   "metadata": {},
   "outputs": [],
   "source": [
    "with open(\"/home/alekseev/AutoIntent/experiments/minimal-run-test/data/clinc_subset.json\", \"w\") as file:\n",
    "    json.dump(subset, file, indent=4, ensure_ascii=False)"
   ]
  }
 ],
 "metadata": {
  "kernelspec": {
   "display_name": "autointent-L_vaVjJE-py3.10",
   "language": "python",
   "name": "python3"
  },
  "language_info": {
   "codemirror_mode": {
    "name": "ipython",
    "version": 3
   },
   "file_extension": ".py",
   "mimetype": "text/x-python",
   "name": "python",
   "nbconvert_exporter": "python",
   "pygments_lexer": "ipython3",
   "version": "3.10.10"
  }
 },
 "nbformat": 4,
 "nbformat_minor": 2
}
