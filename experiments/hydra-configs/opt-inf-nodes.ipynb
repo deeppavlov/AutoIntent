{
 "cells": [
  {
   "cell_type": "markdown",
   "metadata": {},
   "source": [
    "## Optimization"
   ]
  },
  {
   "cell_type": "code",
   "execution_count": 1,
   "metadata": {},
   "outputs": [],
   "source": [
    "from autointent.nodes.optimization import NodeOptimizer"
   ]
  },
  {
   "cell_type": "code",
   "execution_count": 2,
   "metadata": {},
   "outputs": [],
   "source": [
    "import logging\n",
    "\n",
    "logger = logging.getLogger(__name__)"
   ]
  },
  {
   "cell_type": "code",
   "execution_count": 3,
   "metadata": {},
   "outputs": [],
   "source": [
    "from autointent import Context\n",
    "from autointent.pipeline.optimization.utils import get_run_name, load_data, get_db_dir\n",
    "\n",
    "\n",
    "run_name = get_run_name(\"multiclass-cpu\")\n",
    "db_dir = get_db_dir(\"\", run_name)\n",
    "\n",
    "data = load_data(\"/home/voorhs/repos/AutoIntent/tests/minimal_optimization/data/clinc_subset.json\", multilabel=False)\n",
    "context = Context(\n",
    "    multiclass_intent_records=data,\n",
    "    multilabel_utterance_records=[],\n",
    "    test_utterance_records=[],\n",
    "    device=\"cpu\",\n",
    "    mode=\"multiclass_as_multilabel\",\n",
    "    multilabel_generation_config=\"\",\n",
    "    db_dir=db_dir,\n",
    "    regex_sampling=0,\n",
    "    seed=0,\n",
    "    dump_dir=\"modules_dumps\"\n",
    ")"
   ]
  },
  {
   "cell_type": "markdown",
   "metadata": {},
   "source": [
    "### Retrieval"
   ]
  },
  {
   "cell_type": "code",
   "execution_count": 4,
   "metadata": {},
   "outputs": [],
   "source": [
    "retrieval_optimizer_config = {\n",
    "    'metric': 'retrieval_hit_rate_intersecting',\n",
    "    'node_type': 'retrieval',\n",
    "    'search_space': [\n",
    "        {\n",
    "            'k': [10],\n",
    "            'model_name': ['deepvk/USER-bge-m3'],\n",
    "            'module_type': 'vector_db'\n",
    "        }\n",
    "    ]\n",
    "}"
   ]
  },
  {
   "cell_type": "code",
   "execution_count": 5,
   "metadata": {},
   "outputs": [],
   "source": [
    "retrieval_optimizer = NodeOptimizer.from_dict_config(retrieval_optimizer_config)"
   ]
  },
  {
   "cell_type": "code",
   "execution_count": 7,
   "metadata": {},
   "outputs": [],
   "source": [
    "retrieval_optimizer.fit(context)"
   ]
  },
  {
   "cell_type": "code",
   "execution_count": 8,
   "metadata": {},
   "outputs": [
    {
     "data": {
      "text/plain": [
       "'modules_dumps/retrieval/vector_db/comb_0'"
      ]
     },
     "execution_count": 8,
     "metadata": {},
     "output_type": "execute_result"
    }
   ],
   "source": [
    "retrieval_dump = context.optimization_info.trials.retrieval[0].module_dump_dir\n",
    "retrieval_dump"
   ]
  },
  {
   "cell_type": "markdown",
   "metadata": {},
   "source": [
    "### Scoring"
   ]
  },
  {
   "cell_type": "code",
   "execution_count": 9,
   "metadata": {},
   "outputs": [],
   "source": [
    "scoring_optimizer_config = {\n",
    "    'metric': 'scoring_roc_auc',\n",
    "    'node_type': 'scoring',\n",
    "    'search_space': [\n",
    "        {\n",
    "            'k': [3],\n",
    "            'module_type': 'knn',\n",
    "            'weights': ['uniform', 'distance', 'closest']\n",
    "        },\n",
    "        {\n",
    "            'module_type': 'linear'\n",
    "        }\n",
    "    ]\n",
    "}"
   ]
  },
  {
   "cell_type": "code",
   "execution_count": 10,
   "metadata": {},
   "outputs": [],
   "source": [
    "scoring_optimizer = NodeOptimizer.from_dict_config(scoring_optimizer_config)"
   ]
  },
  {
   "cell_type": "code",
   "execution_count": 11,
   "metadata": {},
   "outputs": [],
   "source": [
    "scoring_optimizer.fit(context)"
   ]
  },
  {
   "cell_type": "code",
   "execution_count": 12,
   "metadata": {},
   "outputs": [
    {
     "data": {
      "text/plain": [
       "'modules_dumps/scoring/linear/comb_0'"
      ]
     },
     "execution_count": 12,
     "metadata": {},
     "output_type": "execute_result"
    }
   ],
   "source": [
    "scoring_dump = context.optimization_info.trials.scoring[-1].module_dump_dir\n",
    "scoring_dump"
   ]
  },
  {
   "cell_type": "markdown",
   "metadata": {},
   "source": [
    "### Prediction"
   ]
  },
  {
   "cell_type": "code",
   "execution_count": null,
   "metadata": {},
   "outputs": [],
   "source": [
    "prediction_optimizer_config = {\n",
    "    'metric': 'prediction_accuracy',\n",
    "    'node_type': 'prediction',\n",
    "    'search_space': [\n",
    "        {\n",
    "            'module_type': 'threshold',\n",
    "            'thresh': [0.5]\n",
    "        }\n",
    "    ]\n",
    "}"
   ]
  },
  {
   "cell_type": "code",
   "execution_count": 10,
   "metadata": {},
   "outputs": [],
   "source": [
    "prediction_optimizer = NodeOptimizer.from_dict_config(prediction_optimizer_config)"
   ]
  },
  {
   "cell_type": "code",
   "execution_count": 11,
   "metadata": {},
   "outputs": [],
   "source": [
    "prediction_optimizer.fit(context)"
   ]
  },
  {
   "cell_type": "markdown",
   "metadata": {},
   "source": [
    "### check result"
   ]
  },
  {
   "cell_type": "code",
   "execution_count": 12,
   "metadata": {},
   "outputs": [
    {
     "data": {
      "text/plain": [
       "{'metrics': {'regexp': [],\n",
       "  'retrieval': [1.0],\n",
       "  'scoring': [1.0, 1.0, 1.0, 1.0],\n",
       "  'prediction': [0.8333333333333334]},\n",
       " 'configs': {'regexp': [],\n",
       "  'retrieval': [{'module_type': 'vector_db',\n",
       "    'module_params': {'k': 10, 'model_name': 'deepvk/USER-bge-m3'},\n",
       "    'metric_name': 'retrieval_hit_rate_intersecting',\n",
       "    'metric_value': 1.0}],\n",
       "  'scoring': [{'module_type': 'knn',\n",
       "    'module_params': {'k': 3, 'weights': 'uniform'},\n",
       "    'metric_name': 'scoring_roc_auc',\n",
       "    'metric_value': 1.0},\n",
       "   {'module_type': 'knn',\n",
       "    'module_params': {'k': 3, 'weights': 'distance'},\n",
       "    'metric_name': 'scoring_roc_auc',\n",
       "    'metric_value': 1.0},\n",
       "   {'module_type': 'knn',\n",
       "    'module_params': {'k': 3, 'weights': 'closest'},\n",
       "    'metric_name': 'scoring_roc_auc',\n",
       "    'metric_value': 1.0},\n",
       "   {'module_type': 'linear',\n",
       "    'module_params': {},\n",
       "    'metric_name': 'scoring_roc_auc',\n",
       "    'metric_value': 1.0}],\n",
       "  'prediction': [{'module_type': 'threshold',\n",
       "    'module_params': {'thresh': 0.5},\n",
       "    'metric_name': 'prediction_accuracy',\n",
       "    'metric_value': 0.8333333333333334}]}}"
      ]
     },
     "execution_count": 12,
     "metadata": {},
     "output_type": "execute_result"
    }
   ],
   "source": [
    "context.optimization_info.dump_evaluation_results()"
   ]
  },
  {
   "cell_type": "markdown",
   "metadata": {},
   "source": [
    "## Inference"
   ]
  },
  {
   "cell_type": "code",
   "execution_count": 13,
   "metadata": {},
   "outputs": [],
   "source": [
    "from autointent.nodes import InferenceNode"
   ]
  },
  {
   "cell_type": "markdown",
   "metadata": {},
   "source": [
    "### Retrieval"
   ]
  },
  {
   "cell_type": "code",
   "execution_count": 14,
   "metadata": {},
   "outputs": [],
   "source": [
    "retrieval_config = dict(\n",
    "    node_type=\"retrieval\",\n",
    "    module_type=\"vector_db\",\n",
    "    module_config={\"k\": 10, \"model_name\": 'deepvk/USER-bge-m3'},\n",
    "    load_path=retrieval_dump\n",
    ")"
   ]
  },
  {
   "cell_type": "code",
   "execution_count": 15,
   "metadata": {},
   "outputs": [],
   "source": [
    "retrieval = InferenceNode(**retrieval_config)"
   ]
  },
  {
   "cell_type": "code",
   "execution_count": 16,
   "metadata": {},
   "outputs": [
    {
     "data": {
      "text/plain": [
       "<autointent.nodes.nodes_info.retrieval.RetrievalNodeInfo at 0x7527d0e43b90>"
      ]
     },
     "execution_count": 16,
     "metadata": {},
     "output_type": "execute_result"
    }
   ],
   "source": [
    "retrieval.node_info"
   ]
  },
  {
   "cell_type": "code",
   "execution_count": 21,
   "metadata": {},
   "outputs": [],
   "source": [
    "labels, distances, texts = retrieval.module.predict([\"hello\", \"world\"])"
   ]
  },
  {
   "cell_type": "code",
   "execution_count": 22,
   "metadata": {},
   "outputs": [
    {
     "data": {
      "text/plain": [
       "([[0, 0, 1],\n",
       "  [0, 0, 1],\n",
       "  [0, 0, 1],\n",
       "  [0, 0, 1],\n",
       "  [0, 1, 0],\n",
       "  [0, 1, 0],\n",
       "  [1, 0, 0],\n",
       "  [0, 1, 0],\n",
       "  [0, 1, 0],\n",
       "  [1, 0, 0]],\n",
       " [np.float32(0.477605),\n",
       "  np.float32(0.49597514),\n",
       "  np.float32(0.50022346),\n",
       "  np.float32(0.5128485),\n",
       "  np.float32(0.55573064),\n",
       "  np.float32(0.5758226),\n",
       "  np.float32(0.58933824),\n",
       "  np.float32(0.6130637),\n",
       "  np.float32(0.6174678),\n",
       "  np.float32(0.63502705)],\n",
       " ['please set an alarm for mid day',\n",
       "  'make sure my alarm is set for three thirty in the morning',\n",
       "  'have an alarm set for three in the morning',\n",
       "  'wake me up at noon tomorrow',\n",
       "  'i think my account is blocked but i do not know the reason',\n",
       "  'can you tell me why is my bank account frozen',\n",
       "  'can i make a reservation for redrobin',\n",
       "  'why is there a hold on my capital one checking account',\n",
       "  'why is there a hold on my american saving bank account',\n",
       "  'are reservations taken at redrobin'])"
      ]
     },
     "execution_count": 22,
     "metadata": {},
     "output_type": "execute_result"
    }
   ],
   "source": [
    "labels[0], distances[0], texts[0]"
   ]
  },
  {
   "cell_type": "markdown",
   "metadata": {},
   "source": [
    "### Scoring"
   ]
  },
  {
   "cell_type": "code",
   "execution_count": 25,
   "metadata": {},
   "outputs": [],
   "source": [
    "scoring_config = dict(\n",
    "    node_type=\"scoring\",\n",
    "    module_type=\"linear\",\n",
    "    module_config={},\n",
    "    load_path=scoring_dump\n",
    ")"
   ]
  },
  {
   "cell_type": "code",
   "execution_count": 26,
   "metadata": {},
   "outputs": [],
   "source": [
    "scoring = InferenceNode(**scoring_config)"
   ]
  },
  {
   "cell_type": "code",
   "execution_count": 27,
   "metadata": {},
   "outputs": [
    {
     "data": {
      "text/plain": [
       "array([[0.27486506, 0.31681463, 0.37459106],\n",
       "       [0.2769358 , 0.31536099, 0.37366978]])"
      ]
     },
     "execution_count": 27,
     "metadata": {},
     "output_type": "execute_result"
    }
   ],
   "source": [
    "scoring.module.predict([\"hello\", \"world\"])"
   ]
  },
  {
   "cell_type": "markdown",
   "metadata": {},
   "source": [
    "### Prediction"
   ]
  },
  {
   "cell_type": "code",
   "execution_count": null,
   "metadata": {},
   "outputs": [],
   "source": [
    "prediction_config = dict(\n",
    "    node_type=\"prediction\",\n",
    "    module_type=\"threshold\",\n",
    "    module_config={\"thresh\": 0.5},\n",
    "    load_path=\".\"\n",
    ")"
   ]
  },
  {
   "cell_type": "code",
   "execution_count": null,
   "metadata": {},
   "outputs": [],
   "source": [
    "prediction = InferenceNode(**prediction_config)"
   ]
  },
  {
   "cell_type": "code",
   "execution_count": null,
   "metadata": {},
   "outputs": [],
   "source": [
    "prediction.module.predict(context, ...)"
   ]
  }
 ],
 "metadata": {
  "kernelspec": {
   "display_name": "autointent-D7M6VOhJ-py3.12",
   "language": "python",
   "name": "python3"
  },
  "language_info": {
   "codemirror_mode": {
    "name": "ipython",
    "version": 3
   },
   "file_extension": ".py",
   "mimetype": "text/x-python",
   "name": "python",
   "nbconvert_exporter": "python",
   "pygments_lexer": "ipython3",
   "version": "3.12.3"
  }
 },
 "nbformat": 4,
 "nbformat_minor": 2
}
