{
 "cells": [
  {
   "cell_type": "markdown",
   "metadata": {},
   "source": [
    "## Toy example"
   ]
  },
  {
   "cell_type": "code",
   "execution_count": 1,
   "metadata": {},
   "outputs": [],
   "source": [
    "from dataclasses import dataclass\n",
    "from omegaconf import MISSING\n",
    "\n",
    "class Optimizer:\n",
    "    def __init__(self, algo: str, lr: float) -> None:\n",
    "        self.algo = algo\n",
    "        self.lr = lr\n",
    "\n",
    "@dataclass\n",
    "class OptimizerConfig:\n",
    "    algo: str = \"SGD\"\n",
    "    lr: float = MISSING\n",
    "    _target_: str = f\"{__name__}.Optimizer\"\n",
    "\n",
    "class Dataset:\n",
    "    def __init__(self, name: str, path: str) -> None:\n",
    "        self.name = name\n",
    "        self.path = path\n",
    "\n",
    "@dataclass\n",
    "class DatasetConfig:\n",
    "    name: str = \"clinc\"\n",
    "    path: str = \"./clinc.json\"\n",
    "    _target_: str = f\"{__name__}.Dataset\"\n",
    "\n",
    "\n",
    "\n",
    "class Trainer:\n",
    "    def __init__(self, optimizer: Optimizer, datasets: list[Dataset]) -> None:\n",
    "        self.optimizer = optimizer\n",
    "        self.datasets = datasets\n",
    "\n",
    "\n",
    "@dataclass\n",
    "class TrainerConfig:\n",
    "    optimizer: OptimizerConfig = MISSING\n",
    "    datasets: list[DatasetConfig] = MISSING\n",
    "    _target_: str = f\"{__name__}.Trainer\""
   ]
  },
  {
   "cell_type": "code",
   "execution_count": 2,
   "metadata": {},
   "outputs": [],
   "source": [
    "dct = {\n",
    "    # \"_target_\": f\"{__name__}.Trainer\",\n",
    "    \"optimizer\": {\n",
    "        # \"_target_\": f\"{__name__}.Optimizer\",\n",
    "        \"algo\": \"SGD\",\n",
    "        \"lr\": 1e-3,\n",
    "    },\n",
    "    \"datasets\": [{\n",
    "        # \"_target_\": f\"{__name__}.Dataset\",\n",
    "        \"name\": \"clinc\",\n",
    "        \"path\": \"./clinc.json\",\n",
    "    }],\n",
    "}"
   ]
  },
  {
   "cell_type": "code",
   "execution_count": 3,
   "metadata": {},
   "outputs": [
    {
     "data": {
      "text/plain": [
       "<__main__.Trainer at 0x79f32bf76450>"
      ]
     },
     "execution_count": 3,
     "metadata": {},
     "output_type": "execute_result"
    }
   ],
   "source": [
    "from hydra.utils import instantiate\n",
    "\n",
    "trainer: Trainer = instantiate(TrainerConfig(), **dct)\n",
    "# trainer: Trainer = instantiate(dct)\n",
    "trainer"
   ]
  },
  {
   "cell_type": "markdown",
   "metadata": {},
   "source": [
    "## Pipeline"
   ]
  },
  {
   "cell_type": "code",
   "execution_count": 1,
   "metadata": {},
   "outputs": [],
   "source": [
    "from hydra.utils import instantiate\n",
    "from autointent import Context\n",
    "from autointent.pipeline.optimization import get_db_dir, get_run_name, load_data\n",
    "\n",
    "run_name = get_run_name(\"multiclass-cpu\")\n",
    "db_dir = get_db_dir(\"\", run_name)\n",
    "\n",
    "data = load_data(\"/home/voorhs/repos/AutoIntent/tests/minimal-optimization/data/clinc_subset.json\", multilabel=False)\n",
    "context = Context(\n",
    "    multiclass_intent_records=data,\n",
    "    multilabel_utterance_records=[],\n",
    "    test_utterance_records=[],\n",
    "    device=\"cpu\",\n",
    "    mode=\"multiclass_as_multilabel\",\n",
    "    multilabel_generation_config=\"\",\n",
    "    db_dir=db_dir,\n",
    "    regex_sampling=0,\n",
    "    seed=0,\n",
    ")"
   ]
  },
  {
   "cell_type": "code",
   "execution_count": 2,
   "metadata": {},
   "outputs": [],
   "source": [
    "import importlib.resources as ires\n",
    "from pathlib import Path\n",
    "from logging import Logger\n",
    "import yaml\n",
    "\n",
    "\n",
    "def load_config(config_path: str, multilabel: bool, logger: Logger | None = None):\n",
    "    \"\"\"load config from the given path or load default config which is distributed along with the autointent package\"\"\"\n",
    "    if config_path != \"\":\n",
    "        if logger is not None:\n",
    "            logger.debug(\"loading optimization search space config from %s...)\", config_path)\n",
    "        with Path(config_path).open() as file:\n",
    "            file_content = file.read()\n",
    "    else:\n",
    "        if logger is not None:\n",
    "            logger.debug(\"loading default optimization search space config...\")\n",
    "        config_name = \"default-multilabel-config.yaml\" if multilabel else \"default-multiclass-config.yaml\"\n",
    "        with ires.files(\"autointent.datafiles\").joinpath(config_name).open() as file:\n",
    "            file_content = file.read()\n",
    "    return yaml.safe_load(file_content)"
   ]
  },
  {
   "cell_type": "code",
   "execution_count": 3,
   "metadata": {},
   "outputs": [],
   "source": [
    "config = load_config(\"/home/voorhs/repos/AutoIntent/autointent/datafiles/default-multilabel-config.yaml\", multilabel=True)"
   ]
  },
  {
   "cell_type": "code",
   "execution_count": 4,
   "metadata": {},
   "outputs": [
    {
     "name": "stdout",
     "output_type": "stream",
     "text": [
      "{'nodes': [{'metric': 'retrieval_hit_rate_intersecting',\n",
      "            'node_type': 'retrieval',\n",
      "            'search_space': [{'k': [10],\n",
      "                              'model_name': ['deepvk/USER-bge-m3'],\n",
      "                              'module_type': 'vector_db'}]},\n",
      "           {'metric': 'scoring_roc_auc',\n",
      "            'node_type': 'scoring',\n",
      "            'search_space': [{'k': [3],\n",
      "                              'module_type': 'knn',\n",
      "                              'weights': ['uniform', 'distance', 'closest']},\n",
      "                             {'module_type': 'linear'}]},\n",
      "           {'metric': 'prediction_accuracy',\n",
      "            'node_type': 'prediction',\n",
      "            'search_space': [{'module_type': 'threshold', 'thresh': [0.5]}]}]}\n"
     ]
    }
   ],
   "source": [
    "from pprint import pprint\n",
    "pprint(config)"
   ]
  },
  {
   "cell_type": "code",
   "execution_count": null,
   "metadata": {},
   "outputs": [],
   "source": [
    "from autointent.pipeline.pipeline import Pipeline\n",
    "from autointent.configs.pipeline import PipelineOptimizationConfig\n",
    "\n",
    "\n",
    "pipeline: Pipeline = instantiate(PipelineOptimizationConfig(), **config)"
   ]
  },
  {
   "cell_type": "code",
   "execution_count": 6,
   "metadata": {},
   "outputs": [
    {
     "data": {
      "text/plain": [
       "autointent.pipeline.pipeline.Pipeline"
      ]
     },
     "execution_count": 6,
     "metadata": {},
     "output_type": "execute_result"
    }
   ],
   "source": [
    "type(pipeline)"
   ]
  },
  {
   "cell_type": "code",
   "execution_count": 7,
   "metadata": {},
   "outputs": [],
   "source": [
    "pipeline.optimize(context)"
   ]
  },
  {
   "cell_type": "code",
   "execution_count": 8,
   "metadata": {},
   "outputs": [],
   "source": [
    "pipeline.dump(\"\", run_name)"
   ]
  }
 ],
 "metadata": {
  "kernelspec": {
   "display_name": "autointent-D7M6VOhJ-py3.12",
   "language": "python",
   "name": "python3"
  },
  "language_info": {
   "codemirror_mode": {
    "name": "ipython",
    "version": 3
   },
   "file_extension": ".py",
   "mimetype": "text/x-python",
   "name": "python",
   "nbconvert_exporter": "python",
   "pygments_lexer": "ipython3",
   "version": "3.12.3"
  }
 },
 "nbformat": 4,
 "nbformat_minor": 2
}
