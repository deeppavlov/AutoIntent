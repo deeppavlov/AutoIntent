{
 "cells": [
  {
   "cell_type": "markdown",
   "metadata": {},
   "source": [
    "# Toy Example"
   ]
  },
  {
   "cell_type": "markdown",
   "metadata": {},
   "source": [
    "## Classes"
   ]
  },
  {
   "cell_type": "code",
   "execution_count": 1,
   "metadata": {},
   "outputs": [],
   "source": [
    "class Optimizer:\n",
    "    def __init__(self, algo: str, lr: float) -> None:\n",
    "        self.algo = algo\n",
    "        self.lr = lr\n",
    "\n",
    "\n",
    "class Dataset:\n",
    "    def __init__(self, name: str, path: str) -> None:\n",
    "        self.name = name\n",
    "        self.path = path\n",
    "\n",
    "\n",
    "class Trainer:\n",
    "    def __init__(self, optimizer: Optimizer, datasets: list[Dataset]) -> None:\n",
    "        self.optimizer = optimizer\n",
    "        self.datasets = datasets"
   ]
  },
  {
   "cell_type": "markdown",
   "metadata": {},
   "source": [
    "## Structured Configs"
   ]
  },
  {
   "cell_type": "code",
   "execution_count": 2,
   "metadata": {},
   "outputs": [],
   "source": [
    "from dataclasses import dataclass\n",
    "from omegaconf import MISSING\n",
    "\n",
    "\n",
    "@dataclass\n",
    "class OptimizerConfig:\n",
    "    algo: str = \"SGD\"\n",
    "    lr: float = MISSING\n",
    "    _target_: str = f\"{__name__}.Optimizer\"\n",
    "\n",
    "\n",
    "@dataclass\n",
    "class DatasetConfig:\n",
    "    name: str = \"clinc\"\n",
    "    path: str = \"./clinc.json\"\n",
    "    _target_: str = f\"{__name__}.Dataset\"\n",
    "\n",
    "\n",
    "@dataclass\n",
    "class TrainerConfig:\n",
    "    optimizer: OptimizerConfig = MISSING\n",
    "    datasets: list[DatasetConfig] = MISSING\n",
    "    _target_: str = f\"{__name__}.Trainer\""
   ]
  },
  {
   "cell_type": "markdown",
   "metadata": {},
   "source": [
    "## User's parameters"
   ]
  },
  {
   "cell_type": "code",
   "execution_count": 3,
   "metadata": {},
   "outputs": [],
   "source": [
    "dct = {\n",
    "    # \"_target_\": f\"{__name__}.Trainer\",\n",
    "    \"optimizer\": {\n",
    "        # \"_target_\": f\"{__name__}.Optimizer\",\n",
    "        \"algo\": \"SGD\",\n",
    "        \"lr\": 1e-3,\n",
    "    },\n",
    "    \"datasets\": [{\n",
    "        # \"_target_\": f\"{__name__}.Dataset\",\n",
    "        \"name\": \"clinc\",\n",
    "        \"path\": \"./clinc.json\",\n",
    "    }],\n",
    "}"
   ]
  },
  {
   "cell_type": "markdown",
   "metadata": {},
   "source": [
    "## Recursive Instantiation"
   ]
  },
  {
   "cell_type": "code",
   "execution_count": 4,
   "metadata": {},
   "outputs": [
    {
     "data": {
      "text/plain": [
       "<__main__.Trainer at 0x74c110267290>"
      ]
     },
     "execution_count": 4,
     "metadata": {},
     "output_type": "execute_result"
    }
   ],
   "source": [
    "from hydra.utils import instantiate\n",
    "\n",
    "trainer: Trainer = instantiate(TrainerConfig(), **dct)\n",
    "trainer"
   ]
  }
 ],
 "metadata": {
  "kernelspec": {
   "display_name": "autointent-D7M6VOhJ-py3.12",
   "language": "python",
   "name": "python3"
  },
  "language_info": {
   "codemirror_mode": {
    "name": "ipython",
    "version": 3
   },
   "file_extension": ".py",
   "mimetype": "text/x-python",
   "name": "python",
   "nbconvert_exporter": "python",
   "pygments_lexer": "ipython3",
   "version": "3.12.3"
  }
 },
 "nbformat": 4,
 "nbformat_minor": 2
}
