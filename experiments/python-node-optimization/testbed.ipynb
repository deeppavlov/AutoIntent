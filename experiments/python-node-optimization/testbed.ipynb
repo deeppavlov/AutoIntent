{
 "cells": [
  {
   "cell_type": "markdown",
   "metadata": {},
   "source": [
    "# Simpler Pipeline Optimization Demo"
   ]
  },
  {
   "cell_type": "markdown",
   "metadata": {},
   "source": [
    "## Load datasets"
   ]
  },
  {
   "cell_type": "code",
   "execution_count": null,
   "metadata": {},
   "outputs": [
    {
     "data": {
      "text/plain": [
       "(165, 57)"
      ]
     },
     "execution_count": 1,
     "metadata": {},
     "output_type": "execute_result"
    }
   ],
   "source": [
    "from autointent.context.data_handler import Dataset\n",
    "from autointent.context.utils import load_data\n",
    "\n",
    "scoring_dataset = load_data(\"./data/train_data.json\")\n",
    "prediction_dataset = load_data(\"./data/test_data.json\")\n",
    "len(scoring_dataset.utterances), len(prediction_dataset.utterances)"
   ]
  },
  {
   "cell_type": "markdown",
   "metadata": {},
   "source": [
    "## Define Search Space"
   ]
  },
  {
   "cell_type": "code",
   "execution_count": 2,
   "metadata": {},
   "outputs": [],
   "source": [
    "from autointent.pipeline.optimization import PipelineOptimizer\n",
    "\n",
    "config = {\n",
    "    \"nodes\": [\n",
    "        {\n",
    "            \"node_type\": \"scoring\",\n",
    "            \"metric\": \"scoring_roc_auc\",\n",
    "            \"search_space\": [\n",
    "                {\"module_type\": \"knn\", \"k\": [5, 10], \"weights\": [\"uniform\", \"distance\", \"closest\"], \"model_name\": [\"avsolatorio/GIST-small-Embedding-v0\"]},\n",
    "                {\"module_type\": \"linear\", \"model_name\": [\"avsolatorio/GIST-small-Embedding-v0\"]},\n",
    "                # {\n",
    "                #     \"module_type\": \"dnnc\",\n",
    "                #     \"cross_encoder_name\": [\"cross-encoder/ms-marco-MiniLM-L-6-v2\", \"avsolatorio/GIST-small-Embedding-v0\"],\n",
    "                #     \"search_model_name\": [\"avsolatorio/GIST-small-Embedding-v0\"],\n",
    "                #     \"k\": [1, 3],\n",
    "                #     \"train_head\": [False, True],\n",
    "                # },\n",
    "            ],\n",
    "        },\n",
    "        {\n",
    "            \"node_type\": \"prediction\",\n",
    "            \"metric\": \"prediction_accuracy\",\n",
    "            \"search_space\": [\n",
    "                {\"module_type\": \"threshold\", \"thresh\": [0.5]},\n",
    "                {\"module_type\": \"tunable\"},\n",
    "                # {\"module_type\": \"argmax\"},\n",
    "                # {\"module_type\": \"jinoos\"},\n",
    "            ],\n",
    "        },\n",
    "    ]\n",
    "}\n",
    "\n",
    "pipeline_optimizer = PipelineOptimizer.from_dict_config(config)"
   ]
  },
  {
   "cell_type": "markdown",
   "metadata": {},
   "source": [
    "## [Optional] Configure Your Run"
   ]
  },
  {
   "cell_type": "code",
   "execution_count": 5,
   "metadata": {},
   "outputs": [],
   "source": [
    "from autointent.configs.optimization_cli import LoggingConfig, VectorIndexConfig, EmbedderConfig\n",
    "from pathlib import Path\n",
    "\n",
    "pipeline_optimizer.set_config(LoggingConfig(run_name=\"sweet_cucumber\", dirpath=Path(\".\").resolve(), dump_modules=False))\n",
    "pipeline_optimizer.set_config(VectorIndexConfig(db_dir=Path(\"./my_vector_db\").resolve(), device=\"cuda\"))\n",
    "pipeline_optimizer.set_config(EmbedderConfig(batch_size=16, max_length=32))"
   ]
  },
  {
   "cell_type": "markdown",
   "metadata": {},
   "source": [
    "## Run Optimization"
   ]
  },
  {
   "cell_type": "code",
   "execution_count": 6,
   "metadata": {},
   "outputs": [
    {
     "name": "stderr",
     "output_type": "stream",
     "text": [
      "[I 2024-11-05 18:08:17,123] A new study created in memory with name: no-name-5066322d-4fcd-4a17-8699-c3670e71e698\n"
     ]
    }
   ],
   "source": [
    "context = pipeline_optimizer.optimize_from_dataset(scoring_dataset, prediction_dataset) # data with partitions: train_1, train_2, val_1, val_2, test"
   ]
  },
  {
   "cell_type": "markdown",
   "metadata": {},
   "source": [
    "## Save Logs"
   ]
  },
  {
   "cell_type": "code",
   "execution_count": 7,
   "metadata": {},
   "outputs": [],
   "source": [
    "context.dump()"
   ]
  }
 ],
 "metadata": {
  "kernelspec": {
   "display_name": "autointent-D7M6VOhJ-py3.12",
   "language": "python",
   "name": "python3"
  },
  "language_info": {
   "codemirror_mode": {
    "name": "ipython",
    "version": 3
   },
   "file_extension": ".py",
   "mimetype": "text/x-python",
   "name": "python",
   "nbconvert_exporter": "python",
   "pygments_lexer": "ipython3",
   "version": "3.12.3"
  }
 },
 "nbformat": 4,
 "nbformat_minor": 2
}
