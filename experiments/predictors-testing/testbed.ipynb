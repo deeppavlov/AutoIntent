{
 "cells": [
  {
   "cell_type": "code",
   "execution_count": 1,
   "metadata": {},
   "outputs": [],
   "source": [
    "import importlib.resources as ires\n",
    "from autointent.context.utils import load_data\n",
    "\n",
    "def get_dataset_path():\n",
    "    return ires.files(\"tests.assets.data\").joinpath(\"clinc_subset.json\")\n",
    "\n",
    "\n",
    "def get_dataset():\n",
    "    return load_data(get_dataset_path())"
   ]
  },
  {
   "cell_type": "code",
   "execution_count": 2,
   "metadata": {},
   "outputs": [
    {
     "data": {
      "text/plain": [
       "(18, 3)"
      ]
     },
     "execution_count": 2,
     "metadata": {},
     "output_type": "execute_result"
    }
   ],
   "source": [
    "dataset = get_dataset()\n",
    "len(dataset.utterances), len(dataset.intents)"
   ]
  },
  {
   "cell_type": "code",
   "execution_count": 3,
   "metadata": {},
   "outputs": [],
   "source": [
    "from autointent.context.data_handler import DataHandler\n",
    "\n",
    "data_handler = DataHandler(dataset)"
   ]
  },
  {
   "cell_type": "code",
   "execution_count": 4,
   "metadata": {},
   "outputs": [
    {
     "data": {
      "text/plain": [
       "(11, 4, 3)"
      ]
     },
     "execution_count": 4,
     "metadata": {},
     "output_type": "execute_result"
    }
   ],
   "source": [
    "len(data_handler.utterances_train), len(data_handler.utterances_test), len(data_handler.oos_utterances)"
   ]
  },
  {
   "cell_type": "code",
   "execution_count": 5,
   "metadata": {},
   "outputs": [],
   "source": [
    "from autointent.modules.scoring import KNNScorer\n",
    "\n",
    "knn_params = {\n",
    "    \"k\": 3,\n",
    "    \"weights\": \"distance\",\n",
    "    \"embedder_name\": \"sergeyzh/rubert-tiny-turbo\",\n",
    "    \"db_dir\": \"db_dir\",\n",
    "}\n",
    "scorer = KNNScorer(**knn_params)\n",
    "\n",
    "scorer.fit(data_handler.utterances_train, data_handler.labels_train)\n",
    "scores = scorer.predict(data_handler.utterances_test + data_handler.oos_utterances)"
   ]
  },
  {
   "cell_type": "code",
   "execution_count": 6,
   "metadata": {},
   "outputs": [
    {
     "data": {
      "text/plain": [
       "array([[0.        , 1.        , 0.        ],\n",
       "       [1.        , 0.        , 0.        ],\n",
       "       [0.        , 0.        , 1.        ],\n",
       "       [1.        , 0.        , 0.        ],\n",
       "       [0.        , 0.7688683 , 0.2311317 ],\n",
       "       [0.32017301, 0.67982699, 0.        ],\n",
       "       [1.        , 0.        , 0.        ]])"
      ]
     },
     "execution_count": 6,
     "metadata": {},
     "output_type": "execute_result"
    }
   ],
   "source": [
    "scores"
   ]
  },
  {
   "cell_type": "code",
   "execution_count": 7,
   "metadata": {},
   "outputs": [],
   "source": [
    "labels = data_handler.labels_test + [-1] * len(data_handler.oos_utterances)"
   ]
  },
  {
   "cell_type": "code",
   "execution_count": 8,
   "metadata": {},
   "outputs": [
    {
     "data": {
      "text/plain": [
       "[1, 0, 2, 0, -1, -1, -1]"
      ]
     },
     "execution_count": 8,
     "metadata": {},
     "output_type": "execute_result"
    }
   ],
   "source": [
    "labels"
   ]
  },
  {
   "cell_type": "code",
   "execution_count": 9,
   "metadata": {},
   "outputs": [],
   "source": [
    "from autointent.modules.prediction import ThresholdPredictor\n",
    "import numpy as np\n",
    "\n",
    "predictor = ThresholdPredictor(np.array([0.5, 0.5, 0.5]))\n",
    "predictor.fit(scores, labels)"
   ]
  },
  {
   "cell_type": "code",
   "execution_count": null,
   "metadata": {},
   "outputs": [
    {
     "ename": "ValueError",
     "evalue": "Provided scores number don't match with number of classes which predictor was trained on.",
     "output_type": "error",
     "traceback": [
      "\u001b[0;31m---------------------------------------------------------------------------\u001b[0m",
      "\u001b[0;31mValueError\u001b[0m                                Traceback (most recent call last)",
      "Cell \u001b[0;32mIn[10], line 2\u001b[0m\n\u001b[1;32m      1\u001b[0m example_scores \u001b[38;5;241m=\u001b[39m np\u001b[38;5;241m.\u001b[39marray([[\u001b[38;5;241m0.1\u001b[39m, \u001b[38;5;241m0.9\u001b[39m], [\u001b[38;5;241m0.8\u001b[39m, \u001b[38;5;241m0.2\u001b[39m], [\u001b[38;5;241m0.3\u001b[39m, \u001b[38;5;241m0.7\u001b[39m]])\n\u001b[0;32m----> 2\u001b[0m predictions \u001b[38;5;241m=\u001b[39m \u001b[43mpredictor\u001b[49m\u001b[38;5;241;43m.\u001b[39;49m\u001b[43mpredict\u001b[49m\u001b[43m(\u001b[49m\u001b[43mexample_scores\u001b[49m\u001b[43m)\u001b[49m\n",
      "File \u001b[0;32m~/repos/AutoIntent/autointent/modules/prediction/threshold.py:74\u001b[0m, in \u001b[0;36mThresholdPredictor.predict\u001b[0;34m(self, scores)\u001b[0m\n\u001b[1;32m     72\u001b[0m \u001b[38;5;28;01mif\u001b[39;00m scores\u001b[38;5;241m.\u001b[39mshape[\u001b[38;5;241m1\u001b[39m] \u001b[38;5;241m!=\u001b[39m \u001b[38;5;28mself\u001b[39m\u001b[38;5;241m.\u001b[39mn_classes:\n\u001b[1;32m     73\u001b[0m     msg \u001b[38;5;241m=\u001b[39m \u001b[38;5;124m\"\u001b[39m\u001b[38;5;124mProvided scores number don\u001b[39m\u001b[38;5;124m'\u001b[39m\u001b[38;5;124mt match with number of classes which predictor was trained on.\u001b[39m\u001b[38;5;124m\"\u001b[39m\n\u001b[0;32m---> 74\u001b[0m     \u001b[38;5;28;01mraise\u001b[39;00m \u001b[38;5;167;01mValueError\u001b[39;00m(msg)\n\u001b[1;32m     75\u001b[0m \u001b[38;5;28;01mreturn\u001b[39;00m multiclass_predict(scores, \u001b[38;5;28mself\u001b[39m\u001b[38;5;241m.\u001b[39mthresh)\n",
      "\u001b[0;31mValueError\u001b[0m: Provided scores number don't match with number of classes which predictor was trained on."
     ]
    }
   ],
   "source": [
    "example_scores = np.array([[0.1, 0.9, 0], [0.8, 0, 0.2], [0, 0.3, 0.7]])\n",
    "predictions = predictor.predict(example_scores)"
   ]
  },
  {
   "cell_type": "code",
   "execution_count": null,
   "metadata": {},
   "outputs": [],
   "source": []
  }
 ],
 "metadata": {
  "language_info": {
   "name": "python"
  }
 },
 "nbformat": 4,
 "nbformat_minor": 2
}
