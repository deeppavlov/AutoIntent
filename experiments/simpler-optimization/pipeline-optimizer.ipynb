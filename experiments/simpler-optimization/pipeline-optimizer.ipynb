{
 "cells": [
  {
   "cell_type": "markdown",
   "metadata": {},
   "source": [
    "## Pipeline"
   ]
  },
  {
   "cell_type": "code",
   "execution_count": 1,
   "metadata": {},
   "outputs": [],
   "source": [
    "from autointent import Context\n",
    "from autointent.pipeline.optimization.utils import get_run_name, load_data\n",
    "\n",
    "\n",
    "run_name = get_run_name(\"multiclass-cpu\")\n",
    "\n",
    "data = load_data(\"/home/voorhs/repos/AutoIntent/tests/assets/data/clinc_subset_multiclass.json\")\n",
    "context = Context(\n",
    "    dataset=data,\n",
    "    test_dataset=None,\n",
    "    device=\"cpu\",\n",
    "    multilabel_generation_config=\"\",\n",
    "    db_dir=\"assets\",\n",
    "    regex_sampling=0,\n",
    "    seed=0,\n",
    "    dump_dir=\"assets\"\n",
    ")"
   ]
  },
  {
   "cell_type": "code",
   "execution_count": 2,
   "metadata": {},
   "outputs": [],
   "source": [
    "nodes = [\n",
    "    {\n",
    "        'metric': 'retrieval_hit_rate_intersecting',\n",
    "        'node_type': 'retrieval',\n",
    "        'search_space': [\n",
    "            {\n",
    "                'k': [10],\n",
    "                'model_name': [\"sentence-transformers/all-MiniLM-L6-v2\"],\n",
    "                'module_type': 'vector_db'\n",
    "            }\n",
    "        ]\n",
    "    },\n",
    "    {\n",
    "        'metric': 'scoring_roc_auc',\n",
    "        'node_type': 'scoring',\n",
    "        'search_space': [{'module_type': 'linear', \"n_jobs\": [1]}]\n",
    "    },\n",
    "    {\n",
    "        'metric': 'prediction_accuracy',\n",
    "        'node_type': 'prediction',\n",
    "        'search_space': [{'module_type': 'tunable'}]\n",
    "    }\n",
    "]"
   ]
  },
  {
   "cell_type": "code",
   "execution_count": 3,
   "metadata": {},
   "outputs": [],
   "source": [
    "from autointent.pipeline import PipelineOptimizer\n",
    "\n",
    "pipeline = PipelineOptimizer.from_dict_config({'nodes': nodes})"
   ]
  },
  {
   "cell_type": "code",
   "execution_count": 4,
   "metadata": {},
   "outputs": [
    {
     "name": "stderr",
     "output_type": "stream",
     "text": [
      "[I 2024-10-22 12:51:21,643] A new study created in memory with name: no-name-6e4e33b0-2d04-4481-aab0-21be410bec4f\n"
     ]
    }
   ],
   "source": [
    "pipeline.optimize(context)"
   ]
  },
  {
   "cell_type": "code",
   "execution_count": 9,
   "metadata": {},
   "outputs": [],
   "source": [
    "from pathlib import Path\n",
    "\n",
    "pipeline.dump(Path.cwd() / \"logs\")"
   ]
  },
  {
   "cell_type": "code",
   "execution_count": null,
   "metadata": {},
   "outputs": [],
   "source": []
  }
 ],
 "metadata": {
  "kernelspec": {
   "display_name": "autointent-D7M6VOhJ-py3.12",
   "language": "python",
   "name": "python3"
  },
  "language_info": {
   "codemirror_mode": {
    "name": "ipython",
    "version": 3
   },
   "file_extension": ".py",
   "mimetype": "text/x-python",
   "name": "python",
   "nbconvert_exporter": "python",
   "pygments_lexer": "ipython3",
   "version": "3.12.3"
  }
 },
 "nbformat": 4,
 "nbformat_minor": 2
}
