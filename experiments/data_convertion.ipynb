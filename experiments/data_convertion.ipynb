{
 "cells": [
  {
   "cell_type": "markdown",
   "metadata": {},
   "source": [
    "# Data Convertion"
   ]
  },
  {
   "cell_type": "markdown",
   "metadata": {},
   "source": [
    "Here's the code for converting different datasets to a my format."
   ]
  },
  {
   "cell_type": "code",
   "execution_count": 21,
   "metadata": {},
   "outputs": [],
   "source": [
    "import json"
   ]
  },
  {
   "cell_type": "code",
   "execution_count": 2,
   "metadata": {},
   "outputs": [],
   "source": [
    "# ! mkdir ../data/intent_records"
   ]
  },
  {
   "cell_type": "markdown",
   "metadata": {},
   "source": [
    "## Dream"
   ]
  },
  {
   "cell_type": "markdown",
   "metadata": {},
   "source": [
    "source:\n",
    "- english https://github.com/deeppavlov/dream/blob/new_intents/annotators/IntentCatcherTransformers/intent_phrases.json\n",
    "- russian https://github.com/deeppavlov/dream/blob/new_intents/annotators/IntentCatcherTransformers/intent_phrases_RU.json"
   ]
  },
  {
   "cell_type": "code",
   "execution_count": 3,
   "metadata": {},
   "outputs": [],
   "source": [
    "dream = json.load(open(\"../data/dream.json\"))\n",
    "ru_dream = json.load(open(\"../data/ru_dream.json\"))"
   ]
  },
  {
   "cell_type": "code",
   "execution_count": 4,
   "metadata": {},
   "outputs": [],
   "source": [
    "def convert_dream(dream_dict):\n",
    "    res = []\n",
    "    for i, (intent_name, all_phrases) in enumerate(dream_dict[\"intent_phrases\"].items()):\n",
    "        intent_record = {\n",
    "            \"intent_id\": i,\n",
    "            \"intent_name\": intent_name,\n",
    "            \"sample_utterances\": [],\n",
    "            \"regexp_full_match\": all_phrases[\"phrases\"],\n",
    "            \"regexp_partial_match\": all_phrases.get(\"reg_phrases\", []),\n",
    "        }\n",
    "        res.append(intent_record)\n",
    "    return res"
   ]
  },
  {
   "cell_type": "code",
   "execution_count": 5,
   "metadata": {},
   "outputs": [],
   "source": [
    "dream_records = convert_dream(dream)"
   ]
  },
  {
   "cell_type": "code",
   "execution_count": 6,
   "metadata": {},
   "outputs": [
    {
     "data": {
      "text/html": [
       "<div>\n",
       "<style scoped>\n",
       "    .dataframe tbody tr th:only-of-type {\n",
       "        vertical-align: middle;\n",
       "    }\n",
       "\n",
       "    .dataframe tbody tr th {\n",
       "        vertical-align: top;\n",
       "    }\n",
       "\n",
       "    .dataframe thead th {\n",
       "        text-align: right;\n",
       "    }\n",
       "</style>\n",
       "<table border=\"1\" class=\"dataframe\">\n",
       "  <thead>\n",
       "    <tr style=\"text-align: right;\">\n",
       "      <th></th>\n",
       "      <th>intent_id</th>\n",
       "      <th>intent_name</th>\n",
       "      <th>sample_utterances</th>\n",
       "      <th>regexp_full_match</th>\n",
       "      <th>regexp_partial_match</th>\n",
       "    </tr>\n",
       "  </thead>\n",
       "  <tbody>\n",
       "    <tr>\n",
       "      <th>0</th>\n",
       "      <td>0</td>\n",
       "      <td>what_are_you_talking_about</td>\n",
       "      <td>[]</td>\n",
       "      <td>[(alexa ){0,1}what are ((you)|(we)) ((talking ...</td>\n",
       "      <td>[(alexa ){0,1}are we having a communication pr...</td>\n",
       "    </tr>\n",
       "    <tr>\n",
       "      <th>1</th>\n",
       "      <td>1</td>\n",
       "      <td>topic_switching</td>\n",
       "      <td>[]</td>\n",
       "      <td>[(that's ){0,1}enough( talking ){0,1} about ((...</td>\n",
       "      <td>[tell me something else, don't tell me about ....</td>\n",
       "    </tr>\n",
       "    <tr>\n",
       "      <th>2</th>\n",
       "      <td>2</td>\n",
       "      <td>lets_chat_about</td>\n",
       "      <td>[]</td>\n",
       "      <td>[(stop ){0,1}(((let's )|(i want to )|(wanna )|...</td>\n",
       "      <td>[.*let(('s)|(s)) ((chat)|(talk)) ((to|with) (m...</td>\n",
       "    </tr>\n",
       "    <tr>\n",
       "      <th>3</th>\n",
       "      <td>3</td>\n",
       "      <td>exit</td>\n",
       "      <td>[]</td>\n",
       "      <td>[be quiet, (see you ){0,1}later, leave me alon...</td>\n",
       "      <td>[(leave|end) (the|this) conversation, alexa do...</td>\n",
       "    </tr>\n",
       "    <tr>\n",
       "      <th>4</th>\n",
       "      <td>4</td>\n",
       "      <td>tell_me_a_story</td>\n",
       "      <td>[]</td>\n",
       "      <td>[tell me ((another)|(other)) story, ((can you ...</td>\n",
       "      <td>[(can you ){0,1}tell me a .* story]</td>\n",
       "    </tr>\n",
       "    <tr>\n",
       "      <th>5</th>\n",
       "      <td>5</td>\n",
       "      <td>repeat</td>\n",
       "      <td>[]</td>\n",
       "      <td>[i did not hear you, what come again, what did...</td>\n",
       "      <td>[one second, what( (book|movie))?, say it agai...</td>\n",
       "    </tr>\n",
       "    <tr>\n",
       "      <th>6</th>\n",
       "      <td>6</td>\n",
       "      <td>yes</td>\n",
       "      <td>[]</td>\n",
       "      <td>[yes yes yes, ((sure)|(fine)|(okay)|(ok)|(yes)...</td>\n",
       "      <td>[you bet, kind of, sort of, oh yeah, maybe, it...</td>\n",
       "    </tr>\n",
       "    <tr>\n",
       "      <th>7</th>\n",
       "      <td>7</td>\n",
       "      <td>no</td>\n",
       "      <td>[]</td>\n",
       "      <td>[(alexa ){0,1}((no)|(nope)|(no way)|(don't)|(d...</td>\n",
       "      <td>[.* no no, .* not today]</td>\n",
       "    </tr>\n",
       "    <tr>\n",
       "      <th>8</th>\n",
       "      <td>8</td>\n",
       "      <td>dont_understand</td>\n",
       "      <td>[]</td>\n",
       "      <td>[(because ){0,1}you are being confusing(, alex...</td>\n",
       "      <td>[]</td>\n",
       "    </tr>\n",
       "    <tr>\n",
       "      <th>9</th>\n",
       "      <td>9</td>\n",
       "      <td>stupid</td>\n",
       "      <td>[]</td>\n",
       "      <td>[(alexa ){0,1}why are you this ((stupid)|(dump...</td>\n",
       "      <td>[]</td>\n",
       "    </tr>\n",
       "    <tr>\n",
       "      <th>10</th>\n",
       "      <td>10</td>\n",
       "      <td>cant_do</td>\n",
       "      <td>[]</td>\n",
       "      <td>[(alexa ){0,1}sing me a ((happy)|(sad)|(bedtim...</td>\n",
       "      <td>[(let's|let us) play .*, can you whisper.*, (c...</td>\n",
       "    </tr>\n",
       "    <tr>\n",
       "      <th>11</th>\n",
       "      <td>11</td>\n",
       "      <td>tell_me_more</td>\n",
       "      <td>[]</td>\n",
       "      <td>[((please )|(well )){0,1}tell me ((anything )|...</td>\n",
       "      <td>[((please) |(well )){0,1}tell me ((more)|(some...</td>\n",
       "    </tr>\n",
       "    <tr>\n",
       "      <th>12</th>\n",
       "      <td>12</td>\n",
       "      <td>weather_forecast_intent</td>\n",
       "      <td>[]</td>\n",
       "      <td>[tell me the weather in my ((town)|(city)|(pla...</td>\n",
       "      <td>[]</td>\n",
       "    </tr>\n",
       "    <tr>\n",
       "      <th>13</th>\n",
       "      <td>13</td>\n",
       "      <td>what_is_your_name</td>\n",
       "      <td>[]</td>\n",
       "      <td>[((let's )|(please )|(i want you to )){0,1}int...</td>\n",
       "      <td>[]</td>\n",
       "    </tr>\n",
       "    <tr>\n",
       "      <th>14</th>\n",
       "      <td>14</td>\n",
       "      <td>where_are_you_from</td>\n",
       "      <td>[]</td>\n",
       "      <td>[Where are you from(, Alexa){0,1}, (((I live i...</td>\n",
       "      <td>[]</td>\n",
       "    </tr>\n",
       "    <tr>\n",
       "      <th>15</th>\n",
       "      <td>15</td>\n",
       "      <td>what_can_you_do</td>\n",
       "      <td>[]</td>\n",
       "      <td>[((so )){0,1}(tell me ){0,1}what can you do, (...</td>\n",
       "      <td>[]</td>\n",
       "    </tr>\n",
       "    <tr>\n",
       "      <th>16</th>\n",
       "      <td>16</td>\n",
       "      <td>choose_topic</td>\n",
       "      <td>[]</td>\n",
       "      <td>[(tell me ){0,1}what do you ((wanna)|(want to)...</td>\n",
       "      <td>[(tell me ){0,1}what do you ((wanna)|(want to)...</td>\n",
       "    </tr>\n",
       "    <tr>\n",
       "      <th>17</th>\n",
       "      <td>17</td>\n",
       "      <td>who_made_you</td>\n",
       "      <td>[]</td>\n",
       "      <td>[who ((did)|(created)|(made)|(make)|(create)|(...</td>\n",
       "      <td>[]</td>\n",
       "    </tr>\n",
       "    <tr>\n",
       "      <th>18</th>\n",
       "      <td>18</td>\n",
       "      <td>what_is_your_job</td>\n",
       "      <td>[]</td>\n",
       "      <td>[what('s){0,1} is your ((profession)|(job)|(wo...</td>\n",
       "      <td>[]</td>\n",
       "    </tr>\n",
       "    <tr>\n",
       "      <th>19</th>\n",
       "      <td>19</td>\n",
       "      <td>opinion_request</td>\n",
       "      <td>[]</td>\n",
       "      <td>[what (do){0,1} you ((think)|(reckon)|(believe...</td>\n",
       "      <td>[]</td>\n",
       "    </tr>\n",
       "    <tr>\n",
       "      <th>20</th>\n",
       "      <td>20</td>\n",
       "      <td>doing_well</td>\n",
       "      <td>[]</td>\n",
       "      <td>[doing ((fine)|(great)|(cool)|(okay))( ((thank...</td>\n",
       "      <td>[i am good]</td>\n",
       "    </tr>\n",
       "    <tr>\n",
       "      <th>21</th>\n",
       "      <td>21</td>\n",
       "      <td>what_time</td>\n",
       "      <td>[]</td>\n",
       "      <td>[can you tell me the time, what(('s)|( is)|())...</td>\n",
       "      <td>[what time is it( in)?[\\s\\S]+, what time it is...</td>\n",
       "    </tr>\n",
       "  </tbody>\n",
       "</table>\n",
       "</div>"
      ],
      "text/plain": [
       "    intent_id                 intent_name sample_utterances  \\\n",
       "0           0  what_are_you_talking_about                []   \n",
       "1           1             topic_switching                []   \n",
       "2           2             lets_chat_about                []   \n",
       "3           3                        exit                []   \n",
       "4           4             tell_me_a_story                []   \n",
       "5           5                      repeat                []   \n",
       "6           6                         yes                []   \n",
       "7           7                          no                []   \n",
       "8           8             dont_understand                []   \n",
       "9           9                      stupid                []   \n",
       "10         10                     cant_do                []   \n",
       "11         11                tell_me_more                []   \n",
       "12         12     weather_forecast_intent                []   \n",
       "13         13           what_is_your_name                []   \n",
       "14         14          where_are_you_from                []   \n",
       "15         15             what_can_you_do                []   \n",
       "16         16                choose_topic                []   \n",
       "17         17                who_made_you                []   \n",
       "18         18            what_is_your_job                []   \n",
       "19         19             opinion_request                []   \n",
       "20         20                  doing_well                []   \n",
       "21         21                   what_time                []   \n",
       "\n",
       "                                  regexp_full_match  \\\n",
       "0   [(alexa ){0,1}what are ((you)|(we)) ((talking ...   \n",
       "1   [(that's ){0,1}enough( talking ){0,1} about ((...   \n",
       "2   [(stop ){0,1}(((let's )|(i want to )|(wanna )|...   \n",
       "3   [be quiet, (see you ){0,1}later, leave me alon...   \n",
       "4   [tell me ((another)|(other)) story, ((can you ...   \n",
       "5   [i did not hear you, what come again, what did...   \n",
       "6   [yes yes yes, ((sure)|(fine)|(okay)|(ok)|(yes)...   \n",
       "7   [(alexa ){0,1}((no)|(nope)|(no way)|(don't)|(d...   \n",
       "8   [(because ){0,1}you are being confusing(, alex...   \n",
       "9   [(alexa ){0,1}why are you this ((stupid)|(dump...   \n",
       "10  [(alexa ){0,1}sing me a ((happy)|(sad)|(bedtim...   \n",
       "11  [((please )|(well )){0,1}tell me ((anything )|...   \n",
       "12  [tell me the weather in my ((town)|(city)|(pla...   \n",
       "13  [((let's )|(please )|(i want you to )){0,1}int...   \n",
       "14  [Where are you from(, Alexa){0,1}, (((I live i...   \n",
       "15  [((so )){0,1}(tell me ){0,1}what can you do, (...   \n",
       "16  [(tell me ){0,1}what do you ((wanna)|(want to)...   \n",
       "17  [who ((did)|(created)|(made)|(make)|(create)|(...   \n",
       "18  [what('s){0,1} is your ((profession)|(job)|(wo...   \n",
       "19  [what (do){0,1} you ((think)|(reckon)|(believe...   \n",
       "20  [doing ((fine)|(great)|(cool)|(okay))( ((thank...   \n",
       "21  [can you tell me the time, what(('s)|( is)|())...   \n",
       "\n",
       "                                      regexp_partial_match  \n",
       "0   [(alexa ){0,1}are we having a communication pr...  \n",
       "1   [tell me something else, don't tell me about ....  \n",
       "2   [.*let(('s)|(s)) ((chat)|(talk)) ((to|with) (m...  \n",
       "3   [(leave|end) (the|this) conversation, alexa do...  \n",
       "4                 [(can you ){0,1}tell me a .* story]  \n",
       "5   [one second, what( (book|movie))?, say it agai...  \n",
       "6   [you bet, kind of, sort of, oh yeah, maybe, it...  \n",
       "7                            [.* no no, .* not today]  \n",
       "8                                                  []  \n",
       "9                                                  []  \n",
       "10  [(let's|let us) play .*, can you whisper.*, (c...  \n",
       "11  [((please) |(well )){0,1}tell me ((more)|(some...  \n",
       "12                                                 []  \n",
       "13                                                 []  \n",
       "14                                                 []  \n",
       "15                                                 []  \n",
       "16  [(tell me ){0,1}what do you ((wanna)|(want to)...  \n",
       "17                                                 []  \n",
       "18                                                 []  \n",
       "19                                                 []  \n",
       "20                                        [i am good]  \n",
       "21  [what time is it( in)?[\\s\\S]+, what time it is...  "
      ]
     },
     "execution_count": 6,
     "metadata": {},
     "output_type": "execute_result"
    }
   ],
   "source": [
    "import pandas as pd\n",
    "\n",
    "pd.DataFrame.from_records(dream_records)"
   ]
  },
  {
   "cell_type": "code",
   "execution_count": 7,
   "metadata": {},
   "outputs": [],
   "source": [
    "json.dump(dream_records, open(\"../data/intent_records/dream.json\", \"w\"), indent=4, ensure_ascii=False)"
   ]
  },
  {
   "cell_type": "code",
   "execution_count": 8,
   "metadata": {},
   "outputs": [
    {
     "data": {
      "text/html": [
       "<div>\n",
       "<style scoped>\n",
       "    .dataframe tbody tr th:only-of-type {\n",
       "        vertical-align: middle;\n",
       "    }\n",
       "\n",
       "    .dataframe tbody tr th {\n",
       "        vertical-align: top;\n",
       "    }\n",
       "\n",
       "    .dataframe thead th {\n",
       "        text-align: right;\n",
       "    }\n",
       "</style>\n",
       "<table border=\"1\" class=\"dataframe\">\n",
       "  <thead>\n",
       "    <tr style=\"text-align: right;\">\n",
       "      <th></th>\n",
       "      <th>intent_id</th>\n",
       "      <th>intent_name</th>\n",
       "      <th>sample_utterances</th>\n",
       "      <th>regexp_full_match</th>\n",
       "      <th>regexp_partial_match</th>\n",
       "    </tr>\n",
       "  </thead>\n",
       "  <tbody>\n",
       "    <tr>\n",
       "      <th>0</th>\n",
       "      <td>0</td>\n",
       "      <td>what_are_you_talking_about</td>\n",
       "      <td>[]</td>\n",
       "      <td>[о ((чем)|(чём)) ты( говоришь){0,1}( вообще){0...</td>\n",
       "      <td>[о ((чем)|(чём)) ты( говоришь){0,1}( вообще){0...</td>\n",
       "    </tr>\n",
       "    <tr>\n",
       "      <th>1</th>\n",
       "      <td>1</td>\n",
       "      <td>topic_switching</td>\n",
       "      <td>[]</td>\n",
       "      <td>[((хватит)|(прекрати)|(не хочу)|(не хочу больш...</td>\n",
       "      <td>[((хватит)|(прекрати)|(не хочу)|(не хочу больш...</td>\n",
       "    </tr>\n",
       "    <tr>\n",
       "      <th>2</th>\n",
       "      <td>2</td>\n",
       "      <td>lets_chat_about</td>\n",
       "      <td>[]</td>\n",
       "      <td>[((можем)|(можешь)|(давай))(( мы)|( ты)|( я)){...</td>\n",
       "      <td>[((можем)|(можешь)|(давай))(( мы)|( ты)|( я)){...</td>\n",
       "    </tr>\n",
       "    <tr>\n",
       "      <th>3</th>\n",
       "      <td>3</td>\n",
       "      <td>exit</td>\n",
       "      <td>[]</td>\n",
       "      <td>[пока, хватит, закончим разговор, мне пора]</td>\n",
       "      <td>[пока(((-)|( ))пока){0,1}, хватит ((болтать)|(...</td>\n",
       "    </tr>\n",
       "    <tr>\n",
       "      <th>4</th>\n",
       "      <td>4</td>\n",
       "      <td>repeat</td>\n",
       "      <td>[]</td>\n",
       "      <td>[повтори( еще раз){0,1}( пожалуйста){0,1}, ((м...</td>\n",
       "      <td>[повтори( еще раз){0,1}( пожалуйста){0,1}, ((м...</td>\n",
       "    </tr>\n",
       "    <tr>\n",
       "      <th>5</th>\n",
       "      <td>5</td>\n",
       "      <td>yes</td>\n",
       "      <td>[]</td>\n",
       "      <td>[((да)|(конечно)|(разумеется)|(точно)|(согласе...</td>\n",
       "      <td>[((да)|(конечно)|(разумеется)|(точно)|(согласе...</td>\n",
       "    </tr>\n",
       "    <tr>\n",
       "      <th>6</th>\n",
       "      <td>6</td>\n",
       "      <td>no</td>\n",
       "      <td>[]</td>\n",
       "      <td>[((нет)|(нее)|(неа)|(ни за что)|(ни в коем слу...</td>\n",
       "      <td>[((нет)|(нее)|(неа)|(ни за что)|(ни в коем слу...</td>\n",
       "    </tr>\n",
       "    <tr>\n",
       "      <th>7</th>\n",
       "      <td>7</td>\n",
       "      <td>what_is_your_name</td>\n",
       "      <td>[]</td>\n",
       "      <td>[((представься)|(представь себя)), у тебя есть...</td>\n",
       "      <td>[((представься)|(представь себя)), у тебя есть...</td>\n",
       "    </tr>\n",
       "    <tr>\n",
       "      <th>8</th>\n",
       "      <td>8</td>\n",
       "      <td>where_are_you_from</td>\n",
       "      <td>[]</td>\n",
       "      <td>[откуда ((ты)|(вы))( родом){0,1}, ((какая)|(ка...</td>\n",
       "      <td>[откуда ((ты)|(вы))( родом){0,1}, ((какая)|(ка...</td>\n",
       "    </tr>\n",
       "    <tr>\n",
       "      <th>9</th>\n",
       "      <td>9</td>\n",
       "      <td>what_can_you_do</td>\n",
       "      <td>[]</td>\n",
       "      <td>[что ты ((умеешь)|(можешь)|(способна)|(способе...</td>\n",
       "      <td>[.*что ты ((умеешь)|(можешь)|(способна)|(спосо...</td>\n",
       "    </tr>\n",
       "    <tr>\n",
       "      <th>10</th>\n",
       "      <td>10</td>\n",
       "      <td>choose_topic</td>\n",
       "      <td>[]</td>\n",
       "      <td>[о чем(( ты)|( мы)){0,1} ((можем)|(можешь)|(хо...</td>\n",
       "      <td>[о чем(( ты)|( мы)){0,1} ((можем)|(можешь)|(хо...</td>\n",
       "    </tr>\n",
       "    <tr>\n",
       "      <th>11</th>\n",
       "      <td>11</td>\n",
       "      <td>who_made_you</td>\n",
       "      <td>[]</td>\n",
       "      <td>[кто(( тебя)|( тобой)){0,1} ((сделал)|(создал)...</td>\n",
       "      <td>[кто(( тебя)|( тобой)){0,1} ((сделал)|(создал)...</td>\n",
       "    </tr>\n",
       "    <tr>\n",
       "      <th>12</th>\n",
       "      <td>12</td>\n",
       "      <td>what_is_your_job</td>\n",
       "      <td>[]</td>\n",
       "      <td>[((какой)|(какая)) ((у тебя)|(твоя)) ((професс...</td>\n",
       "      <td>[((какой)|(какая)) ((у тебя)|(твоя)) ((професс...</td>\n",
       "    </tr>\n",
       "  </tbody>\n",
       "</table>\n",
       "</div>"
      ],
      "text/plain": [
       "    intent_id                 intent_name sample_utterances  \\\n",
       "0           0  what_are_you_talking_about                []   \n",
       "1           1             topic_switching                []   \n",
       "2           2             lets_chat_about                []   \n",
       "3           3                        exit                []   \n",
       "4           4                      repeat                []   \n",
       "5           5                         yes                []   \n",
       "6           6                          no                []   \n",
       "7           7           what_is_your_name                []   \n",
       "8           8          where_are_you_from                []   \n",
       "9           9             what_can_you_do                []   \n",
       "10         10                choose_topic                []   \n",
       "11         11                who_made_you                []   \n",
       "12         12            what_is_your_job                []   \n",
       "\n",
       "                                  regexp_full_match  \\\n",
       "0   [о ((чем)|(чём)) ты( говоришь){0,1}( вообще){0...   \n",
       "1   [((хватит)|(прекрати)|(не хочу)|(не хочу больш...   \n",
       "2   [((можем)|(можешь)|(давай))(( мы)|( ты)|( я)){...   \n",
       "3         [пока, хватит, закончим разговор, мне пора]   \n",
       "4   [повтори( еще раз){0,1}( пожалуйста){0,1}, ((м...   \n",
       "5   [((да)|(конечно)|(разумеется)|(точно)|(согласе...   \n",
       "6   [((нет)|(нее)|(неа)|(ни за что)|(ни в коем слу...   \n",
       "7   [((представься)|(представь себя)), у тебя есть...   \n",
       "8   [откуда ((ты)|(вы))( родом){0,1}, ((какая)|(ка...   \n",
       "9   [что ты ((умеешь)|(можешь)|(способна)|(способе...   \n",
       "10  [о чем(( ты)|( мы)){0,1} ((можем)|(можешь)|(хо...   \n",
       "11  [кто(( тебя)|( тобой)){0,1} ((сделал)|(создал)...   \n",
       "12  [((какой)|(какая)) ((у тебя)|(твоя)) ((професс...   \n",
       "\n",
       "                                      regexp_partial_match  \n",
       "0   [о ((чем)|(чём)) ты( говоришь){0,1}( вообще){0...  \n",
       "1   [((хватит)|(прекрати)|(не хочу)|(не хочу больш...  \n",
       "2   [((можем)|(можешь)|(давай))(( мы)|( ты)|( я)){...  \n",
       "3   [пока(((-)|( ))пока){0,1}, хватит ((болтать)|(...  \n",
       "4   [повтори( еще раз){0,1}( пожалуйста){0,1}, ((м...  \n",
       "5   [((да)|(конечно)|(разумеется)|(точно)|(согласе...  \n",
       "6   [((нет)|(нее)|(неа)|(ни за что)|(ни в коем слу...  \n",
       "7   [((представься)|(представь себя)), у тебя есть...  \n",
       "8   [откуда ((ты)|(вы))( родом){0,1}, ((какая)|(ка...  \n",
       "9   [.*что ты ((умеешь)|(можешь)|(способна)|(спосо...  \n",
       "10  [о чем(( ты)|( мы)){0,1} ((можем)|(можешь)|(хо...  \n",
       "11  [кто(( тебя)|( тобой)){0,1} ((сделал)|(создал)...  \n",
       "12  [((какой)|(какая)) ((у тебя)|(твоя)) ((професс...  "
      ]
     },
     "execution_count": 8,
     "metadata": {},
     "output_type": "execute_result"
    }
   ],
   "source": [
    "dream_ru_records = convert_dream(ru_dream)\n",
    "pd.DataFrame.from_records(dream_ru_records)"
   ]
  },
  {
   "cell_type": "code",
   "execution_count": 9,
   "metadata": {},
   "outputs": [],
   "source": [
    "json.dump(dream_ru_records, open(\"../data/intent_records/ru_dream.json\", \"w\"), indent=4, ensure_ascii=False)"
   ]
  },
  {
   "cell_type": "markdown",
   "metadata": {},
   "source": [
    "## banking77"
   ]
  },
  {
   "cell_type": "markdown",
   "metadata": {},
   "source": [
    "source: https://huggingface.co/datasets/PolyAI/banking77"
   ]
  },
  {
   "cell_type": "code",
   "execution_count": 10,
   "metadata": {},
   "outputs": [
    {
     "name": "stderr",
     "output_type": "stream",
     "text": [
      "/home/voorhs/.pyenv/versions/3.10.14/envs/.autointent-dev/lib/python3.10/site-packages/tqdm/auto.py:21: TqdmWarning: IProgress not found. Please update jupyter and ipywidgets. See https://ipywidgets.readthedocs.io/en/stable/user_install.html\n",
      "  from .autonotebook import tqdm as notebook_tqdm\n"
     ]
    }
   ],
   "source": [
    "from datasets import load_dataset\n",
    "\n",
    "banking77 = load_dataset(\"PolyAI/banking77\")"
   ]
  },
  {
   "cell_type": "code",
   "execution_count": 11,
   "metadata": {},
   "outputs": [
    {
     "data": {
      "text/plain": [
       "DatasetDict({\n",
       "    train: Dataset({\n",
       "        features: ['text', 'label'],\n",
       "        num_rows: 10003\n",
       "    })\n",
       "    test: Dataset({\n",
       "        features: ['text', 'label'],\n",
       "        num_rows: 3080\n",
       "    })\n",
       "})"
      ]
     },
     "execution_count": 11,
     "metadata": {},
     "output_type": "execute_result"
    }
   ],
   "source": [
    "banking77"
   ]
  },
  {
   "cell_type": "code",
   "execution_count": 12,
   "metadata": {},
   "outputs": [
    {
     "data": {
      "text/plain": [
       "{'text': 'I am still waiting on my card?', 'label': 11}"
      ]
     },
     "execution_count": 12,
     "metadata": {},
     "output_type": "execute_result"
    }
   ],
   "source": [
    "banking77[\"train\"][0]"
   ]
  },
  {
   "cell_type": "code",
   "execution_count": 13,
   "metadata": {},
   "outputs": [],
   "source": [
    "# ! wget https://huggingface.co/datasets/PolyAI/banking77/resolve/main/dataset_infos.json -O ../data/banking77_info.json"
   ]
  },
  {
   "cell_type": "markdown",
   "metadata": {},
   "source": [
    "### intent records"
   ]
  },
  {
   "cell_type": "code",
   "execution_count": 14,
   "metadata": {},
   "outputs": [],
   "source": [
    "banking77_info = json.load(open(\"../data/banking77_info.json\"))\n",
    "intent_names = banking77_info[\"default\"][\"features\"][\"label\"][\"names\"]"
   ]
  },
  {
   "cell_type": "code",
   "execution_count": 15,
   "metadata": {},
   "outputs": [],
   "source": [
    "def convert_banking77(banking77_train, shots_per_intent, intent_names):\n",
    "    all_labels = sorted(banking77_train.unique(\"label\"))\n",
    "    assert all_labels == list(range(len(intent_names)))\n",
    "\n",
    "    res = [\n",
    "        {\n",
    "            \"intent_id\": i,\n",
    "            \"intent_name\": name,\n",
    "            \"sample_utterances\": [],\n",
    "            \"regexp_full_match\": [],\n",
    "            \"regexp_partial_match\": [],\n",
    "        }\n",
    "        for i, name in enumerate(intent_names)\n",
    "    ]\n",
    "\n",
    "    for b77_batch in banking77_train.iter(batch_size=16, drop_last_batch=False):\n",
    "        for txt, intent_id in zip(b77_batch[\"text\"], b77_batch[\"label\"], strict=False):\n",
    "            target_list = res[intent_id][\"sample_utterances\"]\n",
    "            if len(target_list) >= shots_per_intent:\n",
    "                continue\n",
    "            target_list.append(txt)\n",
    "\n",
    "    return res"
   ]
  },
  {
   "cell_type": "code",
   "execution_count": 16,
   "metadata": {},
   "outputs": [],
   "source": [
    "banking77_records = convert_banking77(banking77[\"train\"], shots_per_intent=5, intent_names=intent_names)"
   ]
  },
  {
   "cell_type": "code",
   "execution_count": 17,
   "metadata": {},
   "outputs": [
    {
     "data": {
      "text/plain": [
       "{'intent_id': 0,\n",
       " 'intent_name': 'activate_my_card',\n",
       " 'sample_utterances': [\"Please help me with my card.  It won't activate.\",\n",
       "  'I tired but an unable to activate my card.',\n",
       "  'I want to start using my card.',\n",
       "  'How do I verify my new card?',\n",
       "  \"I tried activating my plug-in and it didn't piece of work\"],\n",
       " 'regexp_full_match': [],\n",
       " 'regexp_partial_match': []}"
      ]
     },
     "execution_count": 17,
     "metadata": {},
     "output_type": "execute_result"
    }
   ],
   "source": [
    "banking77_records[0]"
   ]
  },
  {
   "cell_type": "code",
   "execution_count": 18,
   "metadata": {},
   "outputs": [],
   "source": [
    "json.dump(banking77_records, open(\"../data/intent_records/banking77.json\", \"w\"), indent=4, ensure_ascii=False)"
   ]
  },
  {
   "cell_type": "markdown",
   "metadata": {},
   "source": [
    "### utterance records"
   ]
  },
  {
   "cell_type": "code",
   "execution_count": 5,
   "metadata": {},
   "outputs": [
    {
     "data": {
      "text/plain": [
       "{'intent_id': 0,\n",
       " 'intent_name': 'activate_my_card',\n",
       " 'sample_utterances': [\"Please help me with my card.  It won't activate.\",\n",
       "  'I tired but an unable to activate my card.',\n",
       "  'I want to start using my card.',\n",
       "  'How do I verify my new card?',\n",
       "  \"I tried activating my plug-in and it didn't piece of work\"],\n",
       " 'regexp_full_match': [],\n",
       " 'regexp_partial_match': []}"
      ]
     },
     "execution_count": 5,
     "metadata": {},
     "output_type": "execute_result"
    }
   ],
   "source": [
    "import json\n",
    "\n",
    "banking77_records = json.load(open(\"../data/intent_records/banking77.json\"))\n",
    "ru_banking77_records = json.load(open(\"../data/intent_records/ru_banking77.json\"))\n",
    "banking77_records[0]"
   ]
  },
  {
   "cell_type": "code",
   "execution_count": 6,
   "metadata": {},
   "outputs": [],
   "source": [
    "def get_utterance_records(intent_records):\n",
    "    res = []\n",
    "    for rec in intent_records:\n",
    "        for utt in rec[\"sample_utterances\"]:\n",
    "            res.append({\"intent_id\": rec[\"intent_id\"], \"intent_name\": rec[\"intent_name\"], \"utterance\": utt})\n",
    "    return res"
   ]
  },
  {
   "cell_type": "code",
   "execution_count": 7,
   "metadata": {},
   "outputs": [],
   "source": [
    "banking77_utterance_records = get_utterance_records(banking77_records)\n",
    "ru_banking77_utterance_records = get_utterance_records(ru_banking77_records)"
   ]
  },
  {
   "cell_type": "code",
   "execution_count": 8,
   "metadata": {},
   "outputs": [],
   "source": [
    "json.dump(\n",
    "    banking77_utterance_records, open(\"../data/utterance_records/banking77.json\", \"w\"), indent=4, ensure_ascii=False\n",
    ")\n",
    "json.dump(\n",
    "    ru_banking77_utterance_records,\n",
    "    open(\"../data/utterance_records/ru_banking77.json\", \"w\"),\n",
    "    indent=4,\n",
    "    ensure_ascii=False,\n",
    ")"
   ]
  },
  {
   "cell_type": "markdown",
   "metadata": {},
   "source": [
    "## russian banking77"
   ]
  },
  {
   "cell_type": "markdown",
   "metadata": {},
   "source": [
    "source: https://github.com/LadaNikitina/RuBanking77"
   ]
  },
  {
   "cell_type": "code",
   "execution_count": 20,
   "metadata": {},
   "outputs": [
    {
     "name": "stdout",
     "output_type": "stream",
     "text": [
      "Cloning into '../data/RuBanking77'...\n",
      "Username for 'https://github.com': ^C\n"
     ]
    }
   ],
   "source": [
    "# ! git clone https://github.com/LadaNikitina/RuBanking77 ../data/RuBanking77\n",
    "# ! rm -rf ../data/RuBanking77/.git"
   ]
  },
  {
   "cell_type": "code",
   "execution_count": 21,
   "metadata": {},
   "outputs": [
    {
     "data": {
      "text/plain": [
       "DatasetDict({\n",
       "    train: Dataset({\n",
       "        features: ['text', 'label'],\n",
       "        num_rows: 10003\n",
       "    })\n",
       "    test: Dataset({\n",
       "        features: ['text', 'label'],\n",
       "        num_rows: 3080\n",
       "    })\n",
       "})"
      ]
     },
     "execution_count": 21,
     "metadata": {},
     "output_type": "execute_result"
    }
   ],
   "source": [
    "from datasets import load_from_disk\n",
    "\n",
    "rubanking77 = load_from_disk(\"../data/RuBanking77\")\n",
    "rubanking77"
   ]
  },
  {
   "cell_type": "code",
   "execution_count": 22,
   "metadata": {},
   "outputs": [
    {
     "data": {
      "text/plain": [
       "{'text': 'Я все еще жду свою карту?', 'label': 11}"
      ]
     },
     "execution_count": 22,
     "metadata": {},
     "output_type": "execute_result"
    }
   ],
   "source": [
    "rubanking77[\"train\"][0]"
   ]
  },
  {
   "cell_type": "code",
   "execution_count": 23,
   "metadata": {},
   "outputs": [],
   "source": [
    "rubanking77_records = convert_banking77(rubanking77[\"train\"], shots_per_intent=5)"
   ]
  },
  {
   "cell_type": "code",
   "execution_count": 24,
   "metadata": {},
   "outputs": [
    {
     "data": {
      "text/plain": [
       "{'intent_id': 0,\n",
       " 'intent_name': 'activate_my_card',\n",
       " 'sample_utterances': ['Пожалуйста, помогите мне с моей картой. Она не активируется.',\n",
       "  'Я устал, но не могу активировать свою карту.',\n",
       "  'Я хочу начать пользоваться своей картой.',\n",
       "  'Как мне проверить мою новую карту?',\n",
       "  'Я попытался активировать свой плагин, и это не сработало.'],\n",
       " 'regexp_full_match': [],\n",
       " 'regexp_partial_match': []}"
      ]
     },
     "execution_count": 24,
     "metadata": {},
     "output_type": "execute_result"
    }
   ],
   "source": [
    "rubanking77_records[0]"
   ]
  },
  {
   "cell_type": "code",
   "execution_count": 25,
   "metadata": {},
   "outputs": [],
   "source": [
    "json.dump(rubanking77_records, open(\"../data/intent_records/ru_banking77.json\", \"w\"), indent=4, ensure_ascii=False)"
   ]
  },
  {
   "cell_type": "markdown",
   "metadata": {},
   "source": [
    "## clinc150"
   ]
  },
  {
   "cell_type": "code",
   "execution_count": 39,
   "metadata": {},
   "outputs": [
    {
     "data": {
      "text/plain": [
       "DatasetDict({\n",
       "    train: Dataset({\n",
       "        features: ['data', 'labels', 'domain', 'generalisation'],\n",
       "        num_rows: 15200\n",
       "    })\n",
       "    validation: Dataset({\n",
       "        features: ['data', 'labels', 'domain', 'generalisation'],\n",
       "        num_rows: 3200\n",
       "    })\n",
       "    test: Dataset({\n",
       "        features: ['data', 'labels', 'domain', 'generalisation'],\n",
       "        num_rows: 7900\n",
       "    })\n",
       "})"
      ]
     },
     "execution_count": 39,
     "metadata": {},
     "output_type": "execute_result"
    }
   ],
   "source": [
    "from datasets import load_dataset\n",
    "\n",
    "clinc150 = load_dataset(\"cmaldona/All-Generalization-OOD-CLINC150\")\n",
    "clinc150"
   ]
  },
  {
   "cell_type": "code",
   "execution_count": 40,
   "metadata": {},
   "outputs": [
    {
     "name": "stdout",
     "output_type": "stream",
     "text": [
      "151\n"
     ]
    },
    {
     "data": {
      "text/plain": [
       "['accept_reservations',\n",
       " 'account_blocked',\n",
       " 'alarm',\n",
       " 'application_status',\n",
       " 'apr']"
      ]
     },
     "execution_count": 40,
     "metadata": {},
     "output_type": "execute_result"
    }
   ],
   "source": [
    "intent_names = sorted(clinc150[\"train\"].unique(\"labels\"))\n",
    "intent_names[:5]"
   ]
  },
  {
   "cell_type": "code",
   "execution_count": 41,
   "metadata": {},
   "outputs": [],
   "source": [
    "oos_samples = clinc150.filter(lambda x: x[\"labels\"] == \"ood\")"
   ]
  },
  {
   "cell_type": "code",
   "execution_count": 42,
   "metadata": {},
   "outputs": [
    {
     "data": {
      "text/plain": [
       "{'data': 'what size wipers does this car take',\n",
       " 'labels': 'ood',\n",
       " 'domain': 'Unknown',\n",
       " 'generalisation': 'near-OOD'}"
      ]
     },
     "execution_count": 42,
     "metadata": {},
     "output_type": "execute_result"
    }
   ],
   "source": [
    "oos_samples[\"train\"][2]"
   ]
  },
  {
   "cell_type": "code",
   "execution_count": 44,
   "metadata": {},
   "outputs": [
    {
     "name": "stdout",
     "output_type": "stream",
     "text": [
      "ood\n"
     ]
    }
   ],
   "source": [
    "for name in intent_names:\n",
    "    samples = clinc150[\"train\"].filter(lambda x: x[\"labels\"] == name)\n",
    "    if len(samples) > 100:\n",
    "        pass"
   ]
  },
  {
   "cell_type": "code",
   "execution_count": 29,
   "metadata": {},
   "outputs": [],
   "source": [
    "def convert_clinc150(clinc150_train, shots_per_intent, oos_intent_name=\"ood\"):\n",
    "    intent_names = sorted(clinc150_train.unique(\"labels\"))\n",
    "    oos_intent_id = intent_names.index(oos_intent_name)\n",
    "    intent_names = intent_names[:oos_intent_id] + intent_names[oos_intent_id + 1 :] + [intent_names[oos_intent_id]]\n",
    "    name_to_id = dict(zip(intent_names, range(len(intent_names)), strict=False))\n",
    "    name_to_id[oos_intent_name] = -1\n",
    "\n",
    "    res = [\n",
    "        {\n",
    "            \"intent_id\": i,\n",
    "            \"intent_name\": name,\n",
    "            \"sample_utterances\": [],\n",
    "            \"regexp_full_match\": [],\n",
    "            \"regexp_partial_match\": [],\n",
    "        }\n",
    "        for name, i in name_to_id.items()\n",
    "    ]\n",
    "\n",
    "    for batch in clinc150_train.iter(batch_size=16, drop_last_batch=False):\n",
    "        for txt, name in zip(batch[\"data\"], batch[\"labels\"], strict=False):\n",
    "            intent_id = name_to_id[name]\n",
    "            target_list = res[intent_id][\"sample_utterances\"]\n",
    "            if name != oos_intent_name and len(target_list) >= shots_per_intent:\n",
    "                continue\n",
    "            target_list.append(txt)\n",
    "\n",
    "    return res"
   ]
  },
  {
   "cell_type": "code",
   "execution_count": 30,
   "metadata": {},
   "outputs": [],
   "source": [
    "clinc150_records = convert_clinc150(clinc150[\"train\"], shots_per_intent=5)"
   ]
  },
  {
   "cell_type": "code",
   "execution_count": 31,
   "metadata": {},
   "outputs": [
    {
     "data": {
      "text/plain": [
       "{'intent_id': 0,\n",
       " 'intent_name': 'accept_reservations',\n",
       " 'sample_utterances': ['can i make a reservation for redrobin',\n",
       "  'is it possible to make a reservation at redrobin',\n",
       "  'does redrobin take reservations',\n",
       "  'are reservations taken at redrobin',\n",
       "  'does redrobin do reservations'],\n",
       " 'regexp_full_match': [],\n",
       " 'regexp_partial_match': []}"
      ]
     },
     "execution_count": 31,
     "metadata": {},
     "output_type": "execute_result"
    }
   ],
   "source": [
    "clinc150_records[0]"
   ]
  },
  {
   "cell_type": "code",
   "execution_count": 32,
   "metadata": {},
   "outputs": [
    {
     "data": {
      "text/plain": [
       "{'intent_id': -1,\n",
       " 'intent_name': 'ood',\n",
       " 'sample_utterances': ['how much is an overdraft fee for bank',\n",
       "  'why are exponents preformed before multiplication in the order of operations',\n",
       "  'what size wipers does this car take',\n",
       "  'where is the dipstick',\n",
       "  'how much is 1 share of aapl',\n",
       "  'how is glue made',\n",
       "  'any headlines from my area',\n",
       "  'what is the largest state in the us',\n",
       "  'what is the current market trend',\n",
       "  'what is the most popular airline',\n",
       "  'what is the formula for the circumference of a circle',\n",
       "  'what are some ways to reduce spending',\n",
       "  'what time does the louvre open',\n",
       "  'are there any local stations covering the moral march in raleigh in februaryu',\n",
       "  'how many planets have we discovered',\n",
       "  'how do i change my billing address',\n",
       "  'how do i open an online line of credit',\n",
       "  'how do i remove a coffee blemish',\n",
       "  'how expensive is an apple share',\n",
       "  'where can i find the cruise control on my kia sportage 2010',\n",
       "  'how many sides are in a hexagon',\n",
       "  'how fast does an airplane travel',\n",
       "  'is it worth investing in target',\n",
       "  'i need to speak to customer service regarding my flight',\n",
       "  'how long do wire transfers take',\n",
       "  'what are some deals on amazon',\n",
       "  'what city is the super bowl',\n",
       "  'what trees change color in autumn',\n",
       "  'do people prefer summer over fall',\n",
       "  'how long is winter',\n",
       "  \"what were some of ben franklin's notable accomplishments\",\n",
       "  'where was john denver born',\n",
       "  'where did abraham lincoln live',\n",
       "  'when was kobe bryant born',\n",
       "  \"who's toledo's starting point guard for the next game\",\n",
       "  'how many players are on the chicago bulls',\n",
       "  'who is the coach of the chicago bulls',\n",
       "  'when do the utah jazz play next',\n",
       "  'what other nations were involved in the chinese trade war',\n",
       "  'what years has korea been at war',\n",
       "  'when was the theory of evolution first considered',\n",
       "  'who formulated the theory of relativity',\n",
       "  'what stage of evolution am i',\n",
       "  'what other personality type is most compatible with infjs',\n",
       "  'what does my personality mean',\n",
       "  \"what's the most dominant scale in bluegrass\",\n",
       "  'what year was saxaphone first played',\n",
       "  'which piano is best for classical',\n",
       "  'is k-12 education required outside of the united states',\n",
       "  'what are the benefits of completing college',\n",
       "  'are you able to answer algebra equations',\n",
       "  'can you help me study for a history exam',\n",
       "  'how many points per game is lebron james averaging this season',\n",
       "  'what team does eli mannign play for',\n",
       "  'get me dwight howard shooting average',\n",
       "  \"can you list me tiger wood's stats\",\n",
       "  \"what's the runtime of all the lord of the rings movies combined\",\n",
       "  'which character is the most famous from titanic',\n",
       "  'how many oscars did star wars films win',\n",
       "  'what year was shawshank redemption released',\n",
       "  'which marvel character has appeared in the most movies',\n",
       "  \"when's the next movie starring thor set to come out\",\n",
       "  'who was the first capcom character',\n",
       "  'are any justice league movies coming out',\n",
       "  'can you tell me something about the nfl',\n",
       "  'please explain the catch rule to me',\n",
       "  'is there overtime in college football',\n",
       "  'when did the mls start',\n",
       "  \"what's the best price on super smash bros ultimate right now\",\n",
       "  'what is the highest earning game on atari',\n",
       "  'when is the next nintendo direct',\n",
       "  'when was nintendo created',\n",
       "  'please find the capital of pakistan and its population',\n",
       "  'how many people live in taiwan',\n",
       "  \"what are some of picasso's most famous works\",\n",
       "  \"what are van gogh's best pieces\",\n",
       "  'where can i see art',\n",
       "  'when did camus die',\n",
       "  'how much money does radiohead earn a year',\n",
       "  'who is radiohead',\n",
       "  \"what's the biggest saas marketing company in the united states\",\n",
       "  'how do i start my own marketing firm',\n",
       "  'how can i get involved in restaurant marketing',\n",
       "  'what is saas marketing',\n",
       "  'what do you call someone who was born in segovia',\n",
       "  'what is rhineland',\n",
       "  'who is the scariest character in start trek',\n",
       "  'who is the current captain of this ship',\n",
       "  'what year was star trek released',\n",
       "  'when was toyota created',\n",
       "  'who are some notable alumni of ucsd',\n",
       "  'what is the next football game',\n",
       "  'how many students attend ucsb',\n",
       "  'when do classes start',\n",
       "  'how can i become an aerospace engineer',\n",
       "  'what percentage of species display cold blooded traits',\n",
       "  'what does it mean to be an alpha male',\n",
       "  'what animals have alpha males',\n",
       "  'why do males want to be alpha',\n",
       "  \"what's the average battery life of an android phone\",\n",
       "  \"I stalk this truck.  I've been to industrial parks where I pretend to be a tech worker standing in line, strip mall parking lots, and of course the farmer's market.  The bowls are so so absolutely divine.  The owner is super friendly and he makes each bowl by hand with an incredible amount of pride.  You gotta eat here guys!!!\",\n",
       "  \"who really knows if this is good pho or not, i was hung tha fuck over and in desperate need of pho therapy. :P but it totally hit the spot and came out super freakin fast!!! omg! aaahhhhh.....\\\\n\\\\ni'm pretty sure it wasn't bad pho tho...meat, noodles, broth, all a-ok. the coffee was good too. thought i was gettin ripped off for a $3 cup of coffee but they gave me a big cup so it's all good! :)\\\\n\\\\nima make pho a must the next time i go to vegas again fo sure!!! yum! :D\",\n",
       "  'I LOVE Bloom Salon... all of their stylist are very qualified and provide excellent hair care...I prefer to book my appointments with Andrea, but if she is not available I am not afraid to book with anyone else.  Not only does this salon provide hair care, but they also offer skin, nails and massage therapy!!  What a great place with a relaxing atmosphere...I HIGHLY recommend this place.',\n",
       "  'We were excited to eat here, it is difficult to find. They were closed at 3 p.m. on a Saturday.',\n",
       "  \"So this is a place, with food. That much cannot be denied. But you know what? It's a small airport restaurant, and if you're flying in for a $100 hamburger, then a $100 hamburger you can have. And patty melts. And salads. And whatever other Sysco-type delights you might expect. (It was even prime rib night when we were there, but as it was 20 minutes til closing time, I thought better of it.)\\\\n\\\\nI had a perfectly reasonable patty melt myself, and I enjoyed it. The service was really nice, and the views out the window of the evening traffic on approach were phenomenal. Plus, *tons* of model airplanes hanging from the ceiling in the dining area, which was a fun touch.\",\n",
       "  \"Review for the Lounge/Club:\\\\nEvery time I go to Vegas this is always one of my stops- primarily because of the view. I started going years ago before it was super hyped up and packed almost all the time. I also remember the days when the Witch Doctors were twice the size they are now (and weaker than they used to be!). Voodoo hasn't changed much in the past 5 years except going cheap on the drinks and over packing the club with VIP sections that are unused (which is totally annoying if you're trying to see the view without a bunch of drunk asses running into you). \\\\n\\\\nThe DJs are consistently good and it has a very, very mixed crowd. However, I only keep coming back for the view- it doesn't compare to anything else. Ghost Bar has nothing on this place. \\\\n\\\\nAlso, over the years the award winning flair bartending has leveled off (I think I saw one bottle throw the whole time we were there) and it's not nearly the show it used to be which is really disappointing. If you ever have a chance to catch the episode of Three Sheets on Spike where Zane goes to Vegas- you'll see what I mean. The show was filmed several years ago and even there you can see the Witch Doctor and the flair are way better than they are now. \\\\n\\\\nFor newcomers I think this is a great place to at least see once just because the view is so amazing. However, for those who have been going back over and over again- it's turning into a huge disappointment. \\\\n\\\\nFor the Restaurant:\\\\n\\\\nI've dined here several times and price-wise it runs about the same as any other high end steak house you'd find on the strip. Mostly we ate here out of convenience since the selection at Rio isn't the greatest for food. The service has been reasonably decent and the food was good however, if dinner is going to cost around $100 a person I want to be wowed. The whole experience didn't seem like a 5 star dining like when we went to Strip House (wow! by the way). The servers were friendly but only slightly knowledgeable about the wine list and it seemed like there wasn't enough coverage for the tables which made dinner take forever. I don't really remember much more than that which is disappointing because I wish it were more memorable for the price paid. Been there, done that- won't be back to Voodoo Steak when there's so many better options for the same price.\",\n",
       "  \"I've been going here a lot(pretty much a regular you could say.) It's a good place to include in your bar hopping plans. Wandos too busy? Fooseball taken at Vintage? Swing by Red Shed. It's also one of the few bars you can actually have a conversation at some  nights. One of my minor complaints is the jukebox. If there is no songs playing..it's just that--quiet. And at certain points in the night, you can hear a pin drop. Lines for the bathroom is sometimes annoying and I've felt really bad for the ladies here who have sometimes waited 30 minutes before the line moved one person :P\",\n",
       "  'I went to Sole on the weekend and found that it was so crowded and noisy I thought I would wait till later.  What better night to feed my paella hungrys than tonight when it rained cats and dogs - I was seated immediately and the noise level was bearable.  I ordered a house salad, paella Valenciana, thought I might have a dessert after.  I was served a very small roll with a small piece of very cold, hard butter and waited.  The salad was better than the standard peter rabbit variety of lettuce with a slice of tomato and was not ice cold, certainly a plus.  The paella came in a traditional paella dish with, I kid you not, three small clams, three muscles, a few pieces of squid, and a few shrimp.  The rice had little saffron flavor. The Sofrito  was extremely bland with little of the spices that one associates with this dish.  Basically Sole prepares this \\\\\"all at once\\\\\" so the flavors have little or no chance to \\\\\"marry up\\\\\" and the sea food being overcooked is rubbery. In other words you must \\\\\"reserve\\\\\" the sea food and add it back in at the last moment.  As for the rice it should not be disturbed at the end of cooking so the socarrat (a crispy caramelized rice) can form in the bottom of the pan (See recipe below).  I think if you can buy canned paella and warm it up in a microwave it might be a close approximation of this abomination.  On the way out I was asked  about how I liked my meal.  When I proceeded to explain to him why I was so disappointed he ask first where I had eaten  paella and suggested that next time i should probably eat it some where else.  At no time was I rude to this person and I was frankly astonished at his attitude.  So to all you yelpers I suggest that you too might want to consider trying to find real Spanish food somewhere else.  For my friend at Sole I hope that even though he assures me that never in 8 years has he had a complaint about their  paella he will take the time next time to have the real thing at either of the fine restaurants that I have referenced in NYC.  He might also like to check out this recipe- noting the importance of the socarrat, the Sofrito, and the gradual \\\\\"building\\\\\" of the paella\\\\n\\\\nhttp://www.yelp.com/biz/el-charro-espanol-new-york#query:spanish%20food\\\\n\\\\nThis restaurant is a treasure and has been  serving a very special crowd for over thirty years.\\\\n\\\\nhttp://www.yelp.com/biz/socarrat-paella-bar-new-york\\\\nFor those who are not quiet as adventuresome as might be demanded by tiny little el Charro this is one of NY\\'s best Spanish restaurants.\\\\n\\\\nhttp://www.paellapans.com/Paella-Recipe-Seafood-a/142.htm\\\\nThis is close to the paella that I am accustomed to eating at el-Charro\\'s -  note the emphasis on the proper forming of the Socarrat\\\\n\\\\nRegardless of all this.  Common courtesy is something that I expect from any restaurant.  This place comes up short on just about every thing.',\n",
       "  \"Went in on a sunday afternoon. Place was dead. Wasn't greeted, sat at a table and was not helped. Waited 10 minutes, still no service. Walked out and still heard nothing from staff. \\\\n\\\\nIf time and service are important to you stay away from Hob Nob.\",\n",
       "  \"I have lived here in Phoenix for 9 months now and have had a tough time finding a hair salon as I have thick, curly hair. I have been buying groupons for many places trying them out and none have worked. I bought the groupon for The Green Room to try it out and am absolutely in love with them! \\\\n\\\\nSteph was my stylist and she was amazing! I came in with a specific color I wanted as I will be leaving for two out of town weddings this month and she consulted the owner to make sure I got the right color. They would not let me leave until my color was perfect (my cut was amazing as well)! Eric (the owner) even took time to blow dry my hair after Stephanie's next client came.\\\\n\\\\nI will definitely be going back in the future for cuts and colors. The place was cute and cozy and the staff was super friendly. They definitely made me feel like they cared about me and what I wanted where the other salons just put a color on and let me go. So glad I found them and have found my new salon!\",\n",
       "  'Totally gone down the tube. Way overpriced for food out of a box. Deserts are dry, old and inedible. Meat is like boot leather. The oysters stunk of dead fish. Plus just like the Paradise Buffet at Freemont, they were stuck to the shell. Very old.\\\\n   Wait staff was as rude as they come. Wanted a 20% gratuity for my party of 8. This is a BUFFET dang it. WE get our OWN FOOD. Then they seated us 4 to a table across the room from each other. The buffet had 15 people in it. They did this out of spite. Stay away.',\n",
       "  'I look forward to every visit! I always get exactly what I ask for.  I prefer the more natural look and she always delivers! I enjoy my many compliments but always give her the credit she deserves. She is a beautiful artist who makes me feel beautiful too. Thanks!!',\n",
       "  'There were three of us. Atmosphere was great. Menu was confusing on what to share, what to do. Once we studied it, we decided that two of us would share traditional California Roll and Shrimp Tempura Roll sushi to begin. These were very fresh and very good.  It was probably one of the best but not the best we have had. Then, these two would share the Shrimp and Lobster with Spicy Lemon ($38). It was served in a small deep dish skillet with veggies. It was a good size dish actually. I was afraid we were taking a risk to share, but it worked out. It was more pepper than a spicy with the lemon flavor. It was good but not over the top amazing. \\\\n\\\\nThe other person ordered miso soup. She liked it fine. She ordered chicken and veggie skewer ($15 ea) and white rice. She liked it well. \\\\n\\\\nGlass of wine ranged $15-$19 each. I had the $19 Russian river glass. It was great. Various cocktails looked fun.\\\\n\\\\nFinal bill was approx $60 each.',\n",
       "  \"Where to begin...I think I will start with the positive.   The brie brulee topped with the caramelized apple slices was a hit, the mixed green salad with goat cheese was awesome and the pear tart desert was outstanding.  The lamb shank was cooked perfectly, but the lamb flavor was missing.   The whole dish ( lamb shank, veggies, Israeli couscous, figs and apricots) ALL had the exact same flavor; only the textures were different.   Now the flavor was great, but not something I would write home about.   Now to the negative stuff...The place was too crowded and noisy for my liking. The tables were so close that I felt I could join in the conversation next to me without effort. Couple that with REALLY REALLY slow service and, well you get the idea.   You will need to bring your own wine and they will open it for you for only $10.00.  French food without wine?   really??  And then you gaff me for 10 bucks?!?  Needless to say I had the minted tea. It was okay but no real mint flavor to speak of.   The final bill for one appetizer, one salad, one entree and one desert was $70.00. (Not counting the tip)  My date and I split everything and we were comfortably well fed. So, the portion size was decent.   To sum up, it would be a nice place for a date, but I won't be back and I know a place not to far from there that I would MUCH rather go to given the choice.\",\n",
       "  'the food is awesome... but the hostess are not nice....',\n",
       "  'Got this \\\\\"deal\\\\\" on Travel Zoo for $135 - \\\\\"normally $220.\\\\\"  A horrible joke.  Supposedly a five course meal.  I think the total weight of items served must have been about 8 ounces.  The carpaccio only covered a quarter of the plate, the \\\\\"scallops\\\\\" consisted of a single scallop each!!  The pear for desert was about the size of a small tangerine.  I\\'ve never seen a ripe pear that small! They brought out covered plates in order for us not to be shocked until they removed the cover.  Should have asked for a magnifying glass to find the food on the plate.  It was like the Mad Hatter\\'s Tea Party - it was hilarious.  If it wasn\\'t for the bread and butter we would have starved.  Of course drinks are not included.  To add insult to injury you get an additional $35 bill tacked on for service, tip, and tax.  Would have preferred a gourmet meal at MacDonalds.  I almost forgot to mention this place has all the ambiance of a restroom.  No windows - small interior rooms.  There was a private party in the main dining area so they put us in an elevator and put us in what I call the \\\\\"annex\\\\\" upstairs with even less ambiance - looked like a converted hallway!  Avoid this scam at all cost!',\n",
       "  \"I have promoted shows out of this venue, checked out some of my favorite local bands here, and spent my last birthday here. The owner has always been very hospitable and professional. The security staff is very professional and the bar tenders are always pouring amazing drinks. Needless to say I love this bar anyone who is a fan of live music at intimate venues should like the bar's facebook page for regular updates on upcoming shows.\",\n",
       "  \"Great sandwiches. And a ton of food.  Wasn't thrilled with their potato salad. Get fries instead.  Restaurant is kind of a kickback from old Vegas. Wait staff was friendly too.\",\n",
       "  \"Well, it's ALMOST that time of year again. My favorite celebration... aside from Thanksgiving and Halloween. It's Matsuri. \\\\n\\\\nYeah, the parking rates around heritage square are pretty hefty when a big event like this rolls around. But it's totally worth it. I mean, when and where else in Arizona can you stuff yourself with steamed-right-in-front-of-you nikuman, take photos with samurai, see a kimono fashion show, feel really thankful you're out of high school and no longer as susceptible to the weirdness of cosplay, buy a hapi coat, pet a bunch of shiba-inu, marvel at bonsai trees that are older than your grandmother and watch almost 60 people wail on taiko drums? \\\\n\\\\nOK, I'm a little biased about the drums. But hey. We get quite a crowd, so other people must like it too. ;)\",\n",
       "  \"Even with a coupon, the drinks are overpriced ($13 girly drinks, $10 for Jack & Coke)...however, there's something to be said about killing an hour or two on a patio, drinking Jack & Cokes, watching the freaks parade down the strip.\",\n",
       "  \"I am sooooo upset with PRS. Its not right what renters do with your deposit . We all know that they will find anything to keep your money, but this is ridiculous. And I will not shut up Im going to the news, every review website, write my congress man about this unfair practice. When I moved out the house was 99% perfect. All I missed was LIGHT BULBS. They charged me $70 dollars for 50cent light bulbs. They said everything was good on the phone and then I get the check which was 35% of my deposit.   We gave them slake when they took a year to fix the garage door and then they fix it when we move out. Why couldn't you give us a break?\",\n",
       "  'We recently adopted our dog from my mom-in-law who lives in Casa Grande and I wanted to get Bruno in to see a vet in Tempe. I looked up a few offices and saw this location had an awesome rating. I was pleased to see someone I respect, Shayna K. from Scottsdale Doggie Suites, providing a 5 star rating and that was it. \\\\n\\\\nI immediately decided to make a new patient appointment for my furry baby. The office is clean, the staff is nice, and they made Bruno feel right at home. \\\\n\\\\nDr. Berthiaume came in and was very informative. I think he could tell I was a nervous \\\\\"new mom\\\\\" and he helped me stay at ease. He suggested one medication for Bruno which is for heartworm prevention but didn\\'t pressure me into making a purchase right then and there. He gave me a pamplet on it and told me to do some research on my own first. (AMEN!)\\\\n\\\\nWhen I told them about my concern about him scratching his ears a lot, they took swabs but didn\\'t run them. Dr. B. said if he saw anything \\\\\"bad\\\\\" he would have ran them for a test but didn\\'t want to charge me for anything Bruno didn\\'t need done. He suggested to have Bruno\\'s stool tested but said we could bring in a sample anytime and they would send it off then. There was NO pressure to have tests done so they could get money out of me. \\\\n\\\\nThey genuinely cared about Bruno and my wallet. I will be going back, this is going to be my dog\\'s doctor, and I appreciate how awesome everyone was. It is so refreshing to find a place that really care about the patients they see and the owners.',\n",
       "  \"Cheese sauce.  Not cheese, cheese sauce.  Burnt carne asada and pink Carne asada in the same burrito. They couldn't even make my daughter's quesadilla properly.  This place is to be avoided.\",\n",
       "  \"I wanted to love this place with it's cute decor and giant coffee mugs. We went in on a weekday morning where there was enough staff on for every table to have their own server. After waiting 10 minutes to be greeted by a server that looked mildly annoyed she had an opportunity to make money while at her job... I ordered a coffee, my husband ordered a pineapple juice. The juice never came. We ordered breakfast.. Maybe the juice was being fresh squeezed? My husband ordered pancakes, I ordered the chilaquiles benedict. The pancakes came out like pancakes... The Benedict looked like everything my breakfast loving heart desired. The first bite was cold... I assessed it to be the mass amount of pico piled on top. A few more bites... Meh. Tried the other half without all the pico... ICE COLD meat. Appetite killed with the fear that Id be yacking up food poisoning later. After our server finally showed up.. Still no pineapple juice.... I informed her of the ice cold meat (Cold as if they took it out of the freezer, forgot to prep it and just piled it on top). She asked if I wanted another one. I declined saying I didn't have time to wait for another meal as my husband was already finished with his breakfast and it was a weekday. She said she would take it off the bill. I handed her my credit card to go ahead and run since everything seemed to take forever there. She brings it back... The manager took $5 off. The Benedict was $13.50. The manager also never even came to the table. I want to hate this place and never return, but I know there is so much potential on that menu. The sad part is the owner was sitting at the table next to usgoing over paperwork.... Oh well.\",\n",
       "  \"Food was disappointing and ridiculously overpriced.  The whole restaurant reeked of charcoal/mesquite and not in a good way....we should have known the food was going to taste the same.  And it did. Awful.  I'm all for a burger grilled over hot coals, but when that is ALL you taste on a ridiculously overpriced burger with ala carte sides that you have to pay extra for and you leave smelling of burning mesquite, then that doesn't lend me to wanting to return.  And I won't.  The cheese on the burger was absolutely disgusting, a rubbery smoky nightmare.  Stay away from this place.  Not even service could save this place.  If Jasper's couldn't survive in this spot, this place doesn't even have a chance.\",\n",
       "  \"its ok.  visited on a tuesday night.  had the chicken fried rice... chicken dry.  egg rolls were good with the right amount of spice but the rest of the family's meal which was a bit of everything was all in all nothing different or unique than any Thai take out joints.  just ok.  service just ok.  price average.  lets just say not memorable.\",\n",
       "  \"This place is pretty dumpy.\\\\n\\\\nWork sent me to Phoenix for a couple of days.  I had a suite, but it was not very sweet.  The bathroom door didn't shut, and swung open into the middle of the room.  When I got up to go to the bathroom at night, I ran into the door.  I can only blame Country Inn and Suite for the first night, the second night when I bumped into the bathroom door in the dark, I blamed only myself.\\\\n\\\\nThe bed smelled like my old roommate's closet... musty and dirty.  Two of my towels were stained with something yellow, I am hoping coffee and not urine...\\\\n\\\\nI didn't really expect better, but that's my review.\",\n",
       "  'My friend was in the mood for Mexican food so we decided to wander into El Segundo Sol.  We really like the ambiance of this place.  The food was surprisingly better than we expected.  She got a vegetarian taco plate and I got a pulled pork taco plate.  \\\\n\\\\nMy pulled pork was not what I was expecting, but I thought it was okay.  \\\\n\\\\nThe service here was lacking though.  Our waiter brought us chips and salsa even though we said we didn\\'t want any when he asked.  And then he insisted that we had ordered it.  Of course he had to take it back, and we felt a little bad but we could noticeably tell that he was annoyed at us.  \\\\n\\\\nHe was overly attentive though.  He kept on filing my glass of water even though the pitcher of water was on the table.  And he kept on coming by to ask us, \\\\\"do you have everything you need right now?\\\\\" often interrupting our conversation.  \\\\n\\\\nOn the whole I think if you\\'re in the mood for slightly expensive Mexican food (about $15 a plate) then this place is worth checking out.  But I probably won\\'t be back here until after I\\'ve checked out all the other places on the strip.',\n",
       "  \"Great wings, stiff pour and nice bartenders. XO Baer's Den 'till we meet again!\",\n",
       "  'The service is what makes this place a restaurant worth returning.  This Glendale location is better than the ones closer to my house.',\n",
       "  \"i don't doubt that many people have bad experiences at this restaurant, because I can see how a lot of the food is overpriced the hosting station seemed to be a little lackluster.  My experience went quite smoothly however.  I went with four people, after our slightly confused looking hostess found us a seat, we were provided with great service.  The service was intelligent, but in a very scripted manner.  The beer was good, great compared to american craft and decent compared to european breweries.  The building is a lot of fun, huge renovated church with shiny stainless steel fermenting silos covering the side wall and the altar.  I chose the special for the night, which was rib-eye finished in the wood burning oven and a cranberry chutney.  It was good, charred on the outside, not overdone and a good cut of meat to begin with.  The prices are high for what you get though, meaning I wasn't stuffed after my meal.  Main Pro: Good local beer\\\\nMain Con: The smell of the bar, not the fermentation, was fairly strong.\",\n",
       "  \"This is a fun place to stay when you don't want to spend a ton of money on a hotel room.  It is far enough from the strip so that you aren't stuck in that nasty traffic.\\\\n\\\\nThe front desk and valet service is always nice.  Their complimentary drinks (while playing) are always strong and their food isn't too bad.  The pool area is nice although they can use a little more shade options out there. \\\\n\\\\nThis place can feel a little run down from time-to-time in their regular rooms and they definitely need some upgrades.  Outside of that, it is not too bad of a place to visit every now and then.\",\n",
       "  \"I'm on a four to five star review binge, but they're all deserving, and Bunky's is no exception.\\\\n\\\\nCame here on a Saturday at around 3 for an early dinner and the place was dead. The hostess was sweet as pie and informed us that they were switching over to their dinner menu. It's quite large, with a mix between Italian and Mediterranean fare, but was not overwhelming in the slightest.\\\\n\\\\nTo start, we ordered a hummus appetizer, and it was so incredibly good - served with warm pieces of soft, airy and delicious pieces of pita. Ugh, I'm eating some store brand hummus and crackers as I type this, and they've got nothin' on Bunky's.\\\\n\\\\nI set my eyes on one of Bunky's staples: Bunky's Pasta. It's loaded with chicken, mushrooms, broccoli, onions and farfalle noodles. It's mixed with the most mouthwatering creamy marinara sauce. The sauce was sweet and the plate savory, and all worked well together to create a cohesive dish.\\\\n\\\\nI know that Bunky's has some funky hours, but please make time to stop in when they're open. You will be glad you did.\",\n",
       "  \"I love donuts no matter how you spell them and O Face Doughnuts delivers.  Their staff is super friendly and the donuts are great.  I got the Maple Bacon w/ Maple Mascarpone one and it literally was one that needed a fork and knife. So great and if you're a donut lover, check this place out!\",\n",
       "  \"My wife and I left this evening (Cinco de Mayo) without being served or approached 15 minutes after seating ourselves in the bar. When we got up to leave the manager/bar tender asked where we were going, and when I told her wasn't any staff to wait on us on this usually bust night in Mexican restauarants she said ahe didn't have time for any complaints...totally non-professional.\\\\nNeedless to say, we won't return in the future.\",\n",
       "  \"The line to check in is really long! Also we booked a king bed but got one queen bed! There was no hot water in the shower either. The location of this hotel is great though because it's in the middle of the strip so I liked that.\",\n",
       "  \"For our weekly pizza delivery, we decided to try something new and got Manolo's.\\\\n\\\\nWe opted for the largest size thin crust with half pepperoni and half sausage. We also got 3 empanadas for $6 to go with it, delivery time was about an hour, which is to be expected on a weekend. This amount of food was just enough for our group of 3 in terms of portions.\\\\n\\\\nThe pizza was decent, definitely better than a Papa John's or similar chain. I didn't think it was anything spectacular though. If you like thin crust, this might be for you. It reminded me of Sbarro, except a little better. My issue with this pizza, and perhaps all thin crust/New York style is the lack of sauce. The sauce is so key to the flavor that often times without it your just eating a cheesy breadstick. I might have liked it more if there was a bit more sauce. The pepperoni wasn't that good, however, the sausage was unusually good, it tasted fresh and wasn't just a mushy piece of nothing, great flavor! I think I will get sausage if I order again. The crust was good, crispy bottom but edible edges.\\\\n\\\\nFeedback on the empanadas was a unanimous OK. I can only personally speak for the cheesecake empanada. The filling didn't resemble something you could get at The Cheesecake Factory, but it also wasn't just dried goop. Not too bad! I think the empanadas might be a really good bargain if you got a lot of them and the price was around $1 each.\\\\n\\\\nI have not tried any of the specialty pizzas and I may have to do that and then update my review. I will also have to try The Empanadas House for a fair comparison.\\\\n\\\\nOverall we thought Manolo's was just OK, we thought it might have been just a little pricey, but we were not disappointed with our food.\\\\n\\\\nI'll be back!\",\n",
       "  \"Waited 20 min before the girl told Us its a 30 min wait..... Didn't know that it take 30 min to make one smoothie.... Would not recommend any one to go before she didn't even seem like she wanted to take our order\",\n",
       "  'In order to not write a hateful review, I had to bring myself to the realization that this place is supposed to be a \\'healthy\\' buffet, not a \\'good\\' buffet. \\\\nI had never been here before, so I was delighted to see it was indeed a buffet. But as I got halfway down the first island of stuff, the delight turned into trepidation. At the cashier, which is at the end of your first go-round, she said $11.98 and I looked at my plate. \\\\\"For this?\\\\\" I wanted to ask. Wisely, I did not, for that is when I saw the other side of the buffet. There were warming lights and an actual kitchen back there, so I figured that must be where the meat is. I paid, however still leery. \\\\nI sat my salad down and hurried over to the hot stuff. Soups, alright. Breads with cheese on it, cool. Pastas, ok. Meats? No. Crap. \\\\nSo I knew I\\'d be eating \\'healthy\\'. I could use more of that. I didn\\'t complain too much. \\\\nAll the salad stuff was fresh. Whether it was good or not will depend upon your taste in salad stuff. They\\'ve got a variety toppings, so you probably will create something to your liking. They seemed to have all the bases covered with the dressings, too...and the low-fat honey mustard dressing doesn\\'t taste too low-fat, so don\\'t avoid it. There\\'s also oils and vinaigrette in bottles. I will say that for a place that specializes in salads, it seemed that they could have had even more toppings to offer...no ham, no turkey, no avocado, no mozzarella, no blahblahblah... I honestly have seen more offerings at a Ruby Tuesday salad bar. \\\\nAs for the specially prepared salads, most people will find something tasty. I had the Caesar salad, the pineapple coleslaw, tarragon tuna something, and some chicken and rice thing. The best was the Caesar, which was especially fresh and had garlic croutons. The pineapple coleslaw was as refreshing a dish as I think I\\'ve ever had. The tuna and the chicken/rice thing was just ok to me...but I still must point out how fresh it all was. \\\\nThe soups were delicious. I tried the shrimp bisque and the Mexican soup (can\\'t remember the name). The bisque was awesome as I had two bowls of it, creamy with a subtle flavor and plenty of shrimp. The Mexican soup was the meatiest thing there and had a great rustic taste. Neither soup was greasy or too heavy. \\\\nThe pasta was unremarkable. I had the lemon pasta with capers...all you tasted was a tang of lemon and absolutely nothing else. The pasta was well cooked, but just left you with no taste. I didn\\'t bother with the mac and cheese, as I don\\'t eat that at restaurants. Then there was the broccoli and cheese stuff...had too much of a twang to it, too sharp. I put it over the pasta to try and make something happen, the result was tasting nothing but the twang plus the tang. Uh uh. \\\\nOne of things I enjoyed the most was the asiago something something bread. It was nice and crusty, but soft somehow. And the taste was great...garlicy and the asiago cheesiness. Perfect with all the salad and even more so to sop up soup. There were other breads, but none looked as appetizing. I must say that they kept it nice and fresh, with at least 3 batches coming out while we were there. \\\\nDidn\\'t try the yogurt or any of the deserts...should\\'ve. Oh well. \\\\nThere is also some darn good strawberry lemonade here. Its got real strawberries from the looks of it, because you can see the \\'seeds\\' or whatever that stuff is in strawberries, all in the stuff. Either that or my glass was dirty... No, but it was great, and goes well with everything. \\\\nSomething else I\\'d like to mention is the service. The special salads had all been depleted, someone notified the cashier, the cashier immediately notified whoever, and they came over right away and began making fresh salads...which shows that there isn\\'t some big vat in the back with premade stuff in it. The line was backing up, but the people making the salads were busting their butts. It was nice to see. \\\\nWill I go back? Probably not, just not my style of buffet, even though it really SHOULD replace my usual buffets. \\\\nShould you go? If you like salads a lot, and if you like soups a lot - then yes. Keep in mind that they only had 3 soups to choose from, and also some chili (didn\\'t try). So that might not be enough variety for you. And you only get the pretty basic salad toppings. But its all fresh. Do not go here for the pasta. And I don\\'t know what changes at dinner time, so maybe there\\'s more variety then. \\\\nGood value? Yes, if you can get full off of salad and soup. Looking for a meal with more girth? No. $12 for no meat for a man who is looking for meat leaves a bad taste in the mouth. Don\\'t know the prices for kids under whatever age, but there is a senior price. \\\\nIf you\\'re smart enough to eat healthier, this is a decent place, but still doesn\\'t seem to have enough stuff to choose from - that\\'s my biggest gripe. Stay away if you\\'re used to eating at the Chinese buffet.',\n",
       "  \"Somehow Asian food just works at night...Noodles is inside the maze of the Bellagio and it's pretty large. Service is ok, but it's sorta expensive. Like $18 for HK style noodles. Given how complex it is to get in and out of hotels, and if you are craving asian food late at night, I'd go to Noodles....\",\n",
       "  \"I gave this an A-OK rating because i'm not an expert of PHO. I like the food, but just haven't been to plenty of vietnamese places.\\\\n\\\\nI ordered the spicy beef pho. It was good, very large bowl and the price was great ! This place was recommended to me by my asian friends. And i saw lots of asain peeps eating there as well, so it's probably a good place. Service was good, even though they were really busy.  I would go again, the menu has plenty of selections.\",\n",
       "  \"The skybar itself did not wow me, but I guess it's cool that it's different than the usual bars/clubs in Southside.  The place was small and can get kinda steamy if crowded.  Maybe it's better during the warmer season.  It was colder when my friends and I went, so it was covered.\\\\n\\\\nThe pre-made frozen drinks at skybar weren't that great according to my friends.  One had the pina colada, which she said didn't taste anything like pina colada.  Tasted like frozen nasty alcohol.  My other friend had the strawberry daiquiri, which she ended up returning to the bar after 2 sips.  The bartender was nice enough to change it to a better tasting drink that's on the rocks instead of being frozen.  I don't really know whether to recommend this place to a friend, I guess I will if it's their first time.  Otherwise, I probably won't go up to skybar.  Also, they charge an $8 cover.\\\\n\\\\nAnyway, we couldn't hear the music, so we decided to go down to Diesel after about 10-15 mins at skybar.  Diesel had more people and definitely more fun than skybar.\",\n",
       "  'The store is dirty, but much worse, the folks at the registers seem to be trained to be rude, and have the social skills of a grocery bag.  I live less than a mile away and was excited to find a Sprouts in my new neighborhood.  After the first few times there, I stopped going and drive well past this store to others.  Recently, I needed some organic tomatoes quickly and so, I thought I would give this Sprouts another try. The girl behind the register never spoke to me and seemed as if it was a real inconvenience to ring up four tomatoes. She practically threw my change and receipt at me.  Never again.  Five or six times of poor service is enough.',\n",
       "  'Place way over priced',\n",
       "  \"The piano bar is awesome!!! All I have to say is these guys r hilarious! Upbeat and straight up entertaining!! This is very delayed. I was here 2/13/11. Wrote it while I was still at the bar and just haven't been on here in a while to post it.\",\n",
       "  'This restaurant does indeed have a problem with general cleanliness.  However, the food was really good and so I\\'d probably still go back.  My friend and I spent about $10 each for one of the family dinners...and let me tell you, it was an enormous amount of food!  It even included a whole lobster, which was really tasty.  You will see most of the seafood chillin in the tanks when you first walk in, so you know it\\'s at least freshly killed.\\\\n\\\\nHowever, like the other reviewers I can\\'t give this more than 2 stars since the place is so filthy.  In all seriousness, the service was friendly but I had to keep kicking a cockroach away with my foot during dinner.\\\\n\\\\nHonestly, these guys could dominate the local market for traditional chinese dining if they\\'d just clean up a little and spend more than five dollars on the interior decor.  All the handwritten signs all over the walls advertising prices on fresh \\\\\"geo ducks\\\\\" and shrimp, along with the harsh fluorescent lighting, are just over-the-top carelessness.',\n",
       "  \"We finally came here for dinner but we were disappointed. There wasn't alot to choose from and it's quite expensive. The service was fine and the food was pretty decent but we expected a very different menu and a larger one at that. Plus their prices were way too much. I doubt we'd be back.\",\n",
       "  \"The chicken shwarma, kaftta and hommus deluxe are excellent. The garlic sauce is so good I want to drink it. Can you smell my breath from here?\\\\nAwesome staff and a cool store in the back. Try the cookies and the baklava, they're delicious.\",\n",
       "  \"Twice we ordered take out as Rosati's isn't far from our house and we had guests. Both times they lost our order, the 1st time we weren't told this until after we paid!!  The second time we called and mentioned the problem to avoid a repeat missed order, and they did it again! lol!  \\\\nAnd both times it took well over 30 minutes to get our order and on second time the order wasn't complete and that took 10 more minutes to fix!\\\\nWhat's the saying......'fool me once, shame on you, fool me twice, shame on me?'  We haven't been back since!   And btw, the food wasn't anything special!\",\n",
       "  \"Ice Pan is an interesting take on an already saturated chilled dessert market. The iced cream is made right in front of you with subtle variations on your classic flavors. This establishment is indeed somewhat pricey, but if you compare it to every other place on the strip, it is a perfectly acceptable amount to pay for a dessert.\\\\n\\\\nThe taste is nothing phenomenal, but they way they prepare it kinda is. the ice cream is made right in front of you as they turn milk and fruit into customized ice cream. The cream is poured onto this chilled pan / wok and freezes almost instantly. The ice cream masters then proceed to stir, scrape, slap, and slice the ice cream using knife-like spatulas with such speed and precision that you'd think you were watching a Benihana chef in action. Seriously, if they brought a knife to a gun fight, they would still have a chance at coming out on top.\\\\n\\\\nAs for eating the ice cream, the taste was a little light, which is kinda nice after a heavy Las Vegas meal, but deep down, I was kinda hoping for a little more umph from the flavor. Depending on who you get to prepare it, the consistency can be super creamy or hard and dense. If you get a more senior preparer, the cream comes out very smooth and can be almost gelato-like. If your preparer is the young one who has yet to master the tricks of the trade, the cream may be left on the ice pan a bit too long and freeze a little harder than it probably should.\\\\n\\\\nWith both ups and downs to this eatery, I think the Yelp rating system hit this one right on the mark, it is A-OK.\",\n",
       "  \"I was born really close to the Mexican border so when I heard this was the best Mexican place in town, naturally I had to act fast.\\\\n\\\\nIt's located centrally which is pretty nice - not in the best neighborhood, but easy access to the freeway.\\\\n\\\\nI should've known that this place was going to be a disaster from they're chips and salsa. One salsa was way too spicy and the other tasted like tomato sauce. \\\\n\\\\nWhen our food arrived (after a good wait) my guacamole had a fowl, spoiled taste and my mom's steak was rare. We sent both plates back (which I never do) and my second plate came equipped with beef instead of the chicken I order. Besides that, the food was just mediocre. The beans were too salty, and the meat was under-seasoned. \\\\n\\\\nPrices are reasonable for a sit down joint, but you can honestly get better food a Roberto's. Skip this one!\",\n",
       "  'Brown rice is MUSH!  Today was the second time I\\'ve been since my office moved a block away.  I gave it another chance because there is no way a place like this would over cook their rice to the point where it practically melted together....think again.  I have been to Samurai Sams a million times over the years for the \\\\\"healthy alternative\\\\\" to fast food and either something has changed to the quality of food or I\\'ve been there too many times that I\\'m burned out.  The rice issue is huge...who wants mushy rice?  Like someone said in reviews below-everything is now premade just sitting there.  Not sure how true that is but thats what it seems.  Big bummer. :(',\n",
       "  \"If you want PHO in Pittsburgh (Considering the Vietnamese Restaurant selections) I would choose this Place over Tram's Kitchen. The Pho here is more fragrant.\",\n",
       "  'Great customer service and well priced rentals. Good advice on trails to take and local sites to see. My buddy got a puncture (complete with sunstroke) and a member of the team came out to meet us and replace the tire.',\n",
       "  'The side of sauteed Spinach was incredibly salty otherwise the color was wonderful and it smelled great. The side of sauteed mushrooms looked really good, but they were way too peppery. I never season my food, when its cooked right there isn\\'t any need to but whoever made those dishes had a very heavy hand. I NEVER leave food behind and I didn\\'t even finish half of them. \\\\n\\\\nI had to ask for a steak knife. Waited until someone bothered to make eye contact with me to ask for it by the way. The steak was cooked perfectly - rare just the way I like it and the texture wonderful. The thin french fries were great too, very good! Flavor, texture etc. but as I ate the steak there was way too much seasoning on it as well. Seasoning shouldn\\'t over power the flavor of a good cut of meat and this did. \\\\n\\\\nThe biggest issue I had: the staff really needs a lesson in professionalism. I heard one woman behind me talk about a female condom which was just PART of their conversation. They were all huddled in the back while there were people at tables on the floor. Totally turned me off. I saw waitress and waiter in disagreement in the middle of the dining area while setting up a table. One couple complained they had been sitting there ignored. The gentleman got up and said something to a waiter and the manager came over and appeared to make amends in a grandiose way.  My own waiter walked by and for some reason never made eye contact. I was not sure why  - to be clear I NEVER give anyone a hard time nor am I anything other than friendly. Even if the service and food are not up to par. \\\\n\\\\nI was seated in the back, on the left (if you are facing the kitchens) so had a birds eye view - and ear - to everything. I told one friend that I actually felt like I was in restaurant boss type episode and there was a hidden camera somewhere, it was that ridiculous with the staff and how they were acting. \\\\n\\\\nThe Manager must have realized I heard what I shouldn\\'t have heard because he gave me a box of free pastries and apologized. The staff treated him, quite honestly? - like crap. It was embarrassing. The fact that those kids (some of them - others adults) acted in such a manner in a restaurant that I\\'d heard NOTHING but rave reviews about? It was disappointing. \\\\n\\\\nThe fact I heard him trying to discipline them - they ignored him - was probably not smart on his part either. He seemed frazzled and angry and just disgusted. Lets just say the atmosphere that night was a 1 star. If the staff acts up like that? Get them in the kitchen and send them home, don\\'t do it where patrons can hear.\\\\n\\\\nIn all fairness maybe (hopefully for the owner) this was not a regular occurrence because friends of mine RAVE about this place. For breakfast and dinner saying it was one of their favorites. I went on a Coupon to try it out, and at first loved the atmosphere but it went downhill from there. I also can\\'t see paying that kind of money for a meal that was \\\\\"eh\\\\\" \\\\n\\\\nI always eat every bite on my plate and I savor each one. I didn\\'t take anything with me except the free pastries and my french fries. \\\\n\\\\nI judge a place on different criteria and I have a sensitive palate and nose. LOVE food. To cook it, eat it, buy it, read about it etc. I think I am a good judge of what I see, taste, smell and - hear.\\\\n\\\\nI\\'d recommend other places before this one for DINNER - may consider giving them a shot for breakfast type fare and will say the ONE WONDERFUL thing - the best thing about this place - the desserts. They were a little stale but it was after 9pm so that isn\\'t a biggie in my book. \\\\n\\\\nI bought a slice of Carrot cake and Tiramisu - the waiter had closed my bill without asking me about desserts at all by the way......I watched a waitress across the room RAVE about them to a full table of people ( I was solo) and she had me craving them. He was going to give them to me for free because he closed the bill out. I insisted on paying for them and will tell you that it was \\\\\"THE BEST\\\\\" carrot cake I\\'ve ever had! I\\'d order a whole one for my birthday cake if I could. \\\\n\\\\nThe free pastries the Manager gave me? Macaroons are awesome almond cakes too and croissants with chocolate in them. I would recommend this place as a BAKERY and I may give them a shot - after hearing a friend say the crepes were really good - for breakfast. However, not my first choice or even second for Dinner. \\\\n\\\\nFor the owner? You have your work cut out for you, I am not a professional in the food service industry but you should consider \\\\\"Restaurant Stakeout\\\\\" if you find your patronage decline.',\n",
       "  \"The first impression was a good one.  The host led us to our table and I couldn't help but notice the murals of Aztec leaders and ancient designs painted on the walls.  The dining area has a warm and inviting feel.  Festive music can be heard but not too loud.  After being greeted by a waiter in traditional garb they immediately brought us their house chips which are light and crispy and they'll bring as many as you can eat.  \\\\n\\\\nThe salsa is watery, chunky, lacks any kick and I didn't find the pico de gallo appetizing either.  But the guacamole is made fresh table-side by a charming woman who doesn't speak much but smiles a lot.  You get to choose how spicy and whether you want onions, cilantro, lime, or all of the above.  She then muddles it in a stone serving dish and lets you taste-test it before she sets it on your table and moves on.\\\\n\\\\nThe ground beef tacos are too greasy.  But the flank steak in the Tacos al Carbon is sublime compared to the other items I've tried so far.  The menu is huge so there are still plenty of items to try on return visits.  For the value and down home atmosphere it's a great alternative to the other high (snooty) and low (scary) Mexican restaurants around town.\",\n",
       "  \"The husband and I wanted to hit up a few good buffets during our stay. We received mixed reviews for the Wynn buffet, but found it easy to eat at since we were going to watch le reve. After standing in line for about 20 mins (on a Tuesday around 7pm) we were seated. The entry way is gorg but lead back the buffet area the decor seemed a bit outdated, but still very nice.\\\\n\\\\nThe food experience - I just didn't find anything special. The food is all good, but nothing was drool worthy.  They have salads, american, Italian, grilled foods, ramen station, asian and seafood. It was a great variety, but like I said nothing stood out. My favorite was the dessert bar. It had a good variety.\",\n",
       "  \"Massage, massage!! I am visiting from out of town and wanted a massage. They were great on getting my sceduled in on last minute. I had a neck and shoulder massage from Lawerence and i highly recommend him! I typically dont like massages because I just don't have luck with finding someone good. He was great and will come back when I visit again!\",\n",
       "  'This review is not about the food but the slamming ultra lounge that is The Cathouse.\\\\n\\\\nIf you like house music in a less crowded atmosphere where you can actually socialize with people, this is the lounge for you.\\\\n\\\\nDrinks are very fairly priced.  Hostesses are very professional delivering incredible service (yeah they are also hot but this is not one of those clubs).\\\\n\\\\nMake some local friends and get in without cover.\\\\n\\\\nCheck the Luxor website before you head out to the lounge.  There are different themes during the week including a hip-hop and an \\\\\"alternative lifestyle\\\\\" night.',\n",
       "  \"After 24 hours on the Strip, you need to get away. A 15-minute drive out to an anonymous, deserted strip mall on W. Sahara you'll find Rosemary's, whose food can compete bite-for-bite w/ the Michelin 1- and 2-star restaurants at the resorts. We deferred to the prix fixe menus and were not disappointed!\",\n",
       "  \"I saw Keith Urban and LIttle Big Town recently, this was my first concert since moving to Phoenix. I've seen Keith up close before and to save money we chose lawn seats, the sound was great, he played in the center for several songs giving us a close up performance, his lighting and video behind the stage was super. i agree the concessions/beer prices are ridiculous but I wasn't surprised. It was a perfect night weather wise, it did run late and we left a few minutes earlier than he stopped performing.\\\\nI do recommend exiting the I 10 before 83rd, that's where all the traffic was. I will arrive earlier to get a better lawn seat but we had a great time, in fact will be there for Jason Aldean the 17th! For $30 sitting in my own chair in the lawn under the stars is worth it.\",\n",
       "  \"I used to love this place. So much so, that I gave them several chances to remind me of that long lost love affair. Last 3 out of 3 times has been terrible. My hot and sour soup came to me about the color of mustard. And it was sickeningly sweet. My fried wontons were virtually meatless, and my combo fried rice didn't have any discerning flavor at all. $20 later and all i can say is that I'm so disappointed.  I will never order from them again. I will stick with Red House for my wonton fix and continue to search for a go to place for fried rice.\",\n",
       "  \"Used to like this place now it's sucking more and more each time I go this was my last visit when I ordered country crepes and I got hash and eggs even the coke was flat\",\n",
       "  \"One of my favorite taco places. It's super far from me but every time I'm on this side of town I always have to stop by here for a few freshly made tacos.\\\\n\\\\nIt's about $2+ per taco. All served with corn tortilla which I personally don't like since I prefer flour tortilla and to get flour tortilla it's an extra $.50 per taco (which sucks bc you would think that it's included, all those $.50s add up haha) \\\\n\\\\nWeds is buy 1 ($2) get the 2nd taco free on the pork taco ..in other words a $1 each\",\n",
       "  'It was pretty good. We had the calamari which was excellent. I had the fettuccine with shrimp, it was good.',\n",
       "  'Atmosphere, Atmosphere, Atmosphere \\\\n\\\\nI make a pilgrimage to this place about every three months. The food is average and overpriced. The service is OK. And there is usually one good Pale Ale on tap and overpriced. \\\\n\\\\nIt is kinda like going to Disneyland. You know you are going to take in the shorts but you go anyway. You go to live the dream if only for an hour or two. \\\\n\\\\nIf you ever went fishing as a kid or wished you had,  grab your wallet or purse and eat here asap.',\n",
       "  'Horrible happy hour martinis - unless you like pure sugar syrup. Food is not much better. Would not recommend it.',\n",
       "  \"I made appointment prior to coming here but still waited for an hour. The place is nice but looks can be deceiving because of the bad service they provided me. Please don't waste your time coming here totally not worth the wait!!!\",\n",
       "  \"I just had a late lunch. The all you can eat sushi was not worth it. The food was not fresh. It was horrible!!! I've been here quite a few times but I don't remember the food tasting like this. First of all, the edamame was not eatable. I couldn't even get the peas out of the pods. The chicken skewers were dried and had a weird smell with it. Perhaps the meat was sitting out too long?? The sushi items we ate didn't taste fresh. Especially the tuna. We also ordered the green mussels which was burnt and ruin the rest of my appetite. Overall for lunch I should of starve.\",\n",
       "  'Totally avoid this place. Spend a few more $$s and go to the one at Bellagio but do so after 12noon as the Japenese and Italian stations do not open until then. The food at Flavor lacked flavor completely. It must take some effort to make simple dishes taste so bad!',\n",
       "  'Breakfast to die for!!!\\\\n\\\\nMy wife and I got in late, and woke up the next day hungry. We wanted breakfast so I yelp for local places.  We have tried Hash House a Go Go, great place when not watching your calories.  I saw other places with comments $40 for breakfast ya da, ya da.  We were staying in the Venezia tower and had eaten at Bouchon\\'s before. \\\\n\\\\n I noticed that Bouchon served breakfast so I was game.  I was not disappointed.  French pastry\\'s, European coffee, what could be better.\\\\n\\\\nI ordered the omelet of the day, stuffed with artichoke hearts, mushrooms, and cheese.  Perfect eggs, good sausage, with brioche toast.\\\\n\\\\nMy wife had the bread pudding French toast with warm Carmel vanilla sauce. \\\\\"Heaven on a plate\\\\\" according to my wife.  \\\\n\\\\nThe service was great, and for the strip, and an upscale restaurant the $38 dollar breakfast was another great moment.\\\\n\\\\nIf you stay anywhere near this place it is a must try for breakfast.',\n",
       "  \"They weren't busy so the server was on the money! I tried the pulled pork fajitas and my girlfriend try the chicken fajitas. The veggies and tortillas were awesome but everything else kind of lacked flavor. The server brought out plenty of chips with three different kinds of salsa. They were unique but none really popped for me. We ordered some fried ice cream, a necessity at a Mexican restaurant, and after about 15 minutes the waitress informed us that they didn't have it. The manager offered to buy us desserts for the inconvenience, which was pretty awesome if u ask me. I had the key lime pie and the kids had the kids Sunday. I will have to try this place again and see if something else on the menu has some Zing.\",\n",
       "  \"Disorganized. Ripoffs. Rude, airhead employees that don't clean and freely talk on there cell phones whilst you asking them a simple question. Id rather rub sand in my eyes. Disgusted.\",\n",
       "  \"Came here on a Tues night at 6pm. Warning. If your coming after 6pm, make a reservation! We were a party of 5 and were lucky to get in. They did accommodate us, but told us we had to leave by 7.  This place got so crowded at 6pm!! Full house! Legit Japanese place. My folks had the ramen, and I had a chicken egg bowl plus a few skewers on the side. Traditional Japanese recipes coming from someone who is Japanese.My folks came with me. They ordered the ramen, but preferred Monta Ramen better.( see my review on them) \\\\nService was a bit hectic, but the place was packed so I don't blame them. Foo\",\n",
       "  \"I should have reviewed this place long ago but I was too busy eating there to take the time to sit down and write. \\\\n\\\\nWe have been going here since they opened, first enticed in by a Groupon and then brought back by Chef Steve's wonderfully inspired dishes. This is a small plates restaurant so do not order one plate and expect to be full. The menu is divided into individual proteins and veggies. Read the descriptions carefully and then order enough to share. My husband and I typically order four or five plates and then hesitate over dessert. Chef Steve did a menu change recently so now we will be enjoying some new items and hope that you also try them out. Go with a group of people, its more fun\\\\n\\\\nThe Poke is one of my favorites, but make sure you mix it to get the seasoning all through it. One the new new additions is the Beef Carpaccio, Very flavorful. Also the shrimp dish, I believe its called Mini Mi's but its on a bun with slaw. The slaw is so good I would eat just that. They are so many dishes that it is truly had to remember. Checkout their ode to the Monte Cristo, it will make you weep. The owners work hard to provide good service and are always looking to improve. So.....if you want to eat and not be bothered go for lunch during the day. If you want busy with some music and noise check them out on a Friday night. They have a Facebook page that will tell you if there is something going on before you head out. Since I am all about the food, we go during the daytime. They also apparently have a happy hour but I don't know what that is about, I have just read the sign.\\\\n\\\\nThe decor is very basic, as is the plating and utensils. Because we have been coming here since the beginning, we have been able to see the changes they have made to the place over time. I can see where they have spent their money and am able to understand their choices. I would much rather have great food than great decor.\",\n",
       "  'I\\'ve been to The Vig a handful of times... for at least 4 lunches, a few times for just drinks / happy hour, and at least 2 dinners.  I think that is a fair amount of visits to justify the 4.5 star review rounded up to 5 stars that I am giving it now!\\\\n\\\\nI\\'ve always had friendly and attentive service, and I\\'ve never had a problem with the food or drinks I\\'ve ordered.  Granted, I\\'ve probably just ordered beer, iced tea, or water, but still :)\\\\n\\\\nI\\'m adding The Vig to my list of places to go for great sweet potato fries.  They also offer really yummy starters including the Vings (grilled wings), Grilled Veggie Platter, Hummus, and Ceviche.  At lunchtime, I recommend the Cobb salad although several friends of mine consistently order the Vig Azz Burger.  For dinner, I love their \\\\\"Miso Hungry Salmon.\\\\\"  \\\\n\\\\nAs mentioned in other reviews, their outdoor dining area and bocce court are just what Phoenix needs more of on a beautiful day or evening!  So much fun!\\\\n\\\\nIf this beautiful weather continues, I\\'ll be hanging out at The Vig again very soon!',\n",
       "  'Seemingly popular with the 20-somethings with long lines in the evening, we stopped in BurGR for a late lunch and it seems GR is living on his celebrity, not his cooking or service.  It took 35 minutes to get two burgers and an order of sweet potato fries to the table - cold.  The burgers were absolutely nothing special - except very expensive.  The ground beef was fresh but had sat out long enough not to be even luke-warm. Fries were stone cold.  Something I love: $9 for an order of cold fries.  Service was stretched.  Absolutely nothing special about the burgers or BurGR.  Easier to walk a block down the street to get a hot Quarter-Pounder at McDonald\\'s.  You won\\'t get quite the amount of beef but it will be hot and less than an third the price.  You won\\'t be paying for the fancy curved flame wall at the entrance.  While BurGR is less expensive than other casino eateries, it is still in the category of taking your money for little in return.  Try a Big Mac - you and your pocketbook will be happier.  Don\\'t use the excuse \\\\\"it\\'s Vegas, Baby.\\\\\"   Ramsay is there to take your money.  I think I\\'m older and more experienced at decent dining than many of the reviewers for this place.  Note the reviews that say they are fans of Ramsay - doesn\\'t have a thing to do with the food actually served - and I assure you - Ramsay didn\\'t cook these things.',\n",
       "  \"While everything is fresh, I am still not impressed.  I prefer the true Mediterranean restaurants, like Spices.  This place is just another trendy spin on Mediterranean food.  Examples:  the tzatziki had chunks of cucumber (weird) and the Greek salad didn't have olives.  Won't be back.\",\n",
       "  \"I had put off trying this restaurant due to the mixed reviews and the doubtful possibility there was quality BBQ in Pittsburgh having been so badly disapointed repeatedly.  I ordered 1/4 pound pork, 1/4 pound ribs and greens.  1/4 pound ribs were 2 bones, very small but very meaty.  I will say that this is the most expensive BBQ I have ever had anywhere in the country without a doubt.  \\\\n\\\\nThe ribs and pork have a nice dry rub.  BBQ is never spicy and this isn't either, thankfully.  It doesn't come out sauced, another blessing.  The sauce on the table is nice and complements the rub.  It's a little fruity and tangy breaking up the richness of the pork.  Please watch the char.  Burnt isn't good food.  Seriously!  The pork was succulent, there was lots of fat melting in my mouth and making me wish there was more.  I got the end piece of the rib rack but it was still fairly moist.  I wish there was more but I was already at $15 so I wasn't going to order anything else for lunch.  The greens were spot on.  Very nicely done and the portion size (for the greens) was ok. \\\\n\\\\nThe place isn't much to look at.  The service was friendly.  I don't know if it's ever going to be 5 stars for me but I will definitely be back to try it again.\\\\n\\\\nI went back!  Took Miriam just a few days later and it was exactly the same.  A good sign.  This time, in addition, I tried the brussel sprouts and they were delicious.  Bring a friend or 3.  If you order more food, the price gets cheaper.  So a 1/2 pound is less than  2 portions of a 1/4 pound for example and you can save money if you share.  It's still expensive but you can do a bit better with some planning.\",\n",
       "  \"Very Trendy hotel!!!  \\\\n\\\\nA friend was able to get me a free room for my birthday!   Thanks KJ!  :-)\\\\n\\\\nThe check in process was LONG-even in VIP, however I guess I shouldn't complain because it was free...\\\\n\\\\nThe room was cute and clean.   I enjoyed the views from the wraparound terrace.\\\\n\\\\nRoom service was GREAT!!!  \\\\n\\\\nI asked the bartender at the vesper bar  to  Surprise me with a drink that was fruity yet would still give me a buzz, she hooked me up with a SAGE 75!!!   Let's just say I enjoyed it to the fullest!!!  \\\\n\\\\nShopping in the hotel  left something to be desired.   \\\\n\\\\nI don't think I'll stay here again, however it was nice to experience it -  especially since it was free!  ;-)\",\n",
       "  \"I am a big fun of French food and patisserie, I used to go to that  place 3 times a week for breakfast or lunch, but everything change there during this last year, I order Marquez, and they serve it to me almost burned, u cannot taste any thing.  \\\\nLast Sunday I was there they close at 4pm, I was there  at 3pm, and I want to order omelet, the server there she told me the kitchen is close, we can't cook anything, come on!!\\\\nI had many bad experiences there, I will never go back, there are many other French bakery in vegas\",\n",
       "  'Cheap, cheap eats! Really great breakfast and service. The bloody mary was delish and for only $5, it packed a wallop for the small glass.',\n",
       "  'Republic Ramen looks and sounds like a promising restaurant; unfortunately, my first bite told me otherwise.  While the food is not inedible, it definitely does NOT resemble traditional Japanese ramen.  I ordered an original milk tea boba & a bowl of tonkotsu ramen with pork.  The pork is nothing like the pork that comes with authentic ramen.  Instead, it was pale, tough, and flavorless.  The noodles and soup are fine but way less flavorful than I am used to from a restaurant advertising themselves as a ramen restaurant and not just a plain noodle house.  And the boba I ordered was VERY flavorless and watered down.  However, on the bright side, the boba pearls were the perfect texture and level of chewiness!',\n",
       "  \"No special request is too special for John.  Even a soy allergy can be handled in this awesome sushi restaurant.  Don't eat shell fish, but still want sushi?  No problem.  John's is the best hands down.\",\n",
       "  'Difficult to find.  Annoying bar setup with mostly garbage Bud/Miller/Coors products like Blue Moon, and they had the nerve to serve me a Guinness in a frosty glass.  Service was a bit slow.  Prices were reasonable though.  Old building on the outside but decent inside.',\n",
       "  'I guess we arrived right after their rush hour because there were no tables readily available when we arrived but about 60% full which can be understandable. But we were seated within 5 minutes, but the menus took another 5 minutes to come.\\\\nI ordered the 4 course of salad, tandoori chicken, mixed vegetables, banana bread pudding, and a chai latte included in the end. Chicken was very tender and the salad a large order with even more salad placed on the same plate of the entree. Bread pudding very very good to finish. The gf had chicken marsala which was very sweet on its own but went very well with the garlic naan we ordered on the side. Main entrees were a bit on the smaller side.\\\\nThe server was joking around a little, calling my chicken KFC when it came and saying the bread pudding came with ketchup and mustard. Funny guy.',\n",
       "  'On our recent one day trip to las vegas we decided to have dinner at this place since we were residing far from the strip blvrd. The menu was very interesting and very confusing, So I let the other order. My favorite was pieces of salmon, and the one with the quail egg.\\\\nIn general the service was really good, super friendly and very fast. Fish was very fresh.',\n",
       "  \"Horrible food (except the garlic bread, that was actually pretty good!).  It's annoying that they only take cash, I feel like this is 1995 again.   It's also annoying you have to go to two sections to order your drinks, you can't order them with your meal.\\\\n\\\\nHOWEVER, it's cheap entertainment.   Have a little kid? Spend $25, take the family here, they will enjoy it.\",\n",
       "  \"My husband and I finally checked out this place after hearing about it only a couple weeks ago.  The idea of a cute storefront restaurant on Main Street intrigued us.  We went on a weeknight and found the place surprisingly full - there were only five (of about 15-20) tables available when we arrived.  However, we were quickly seated and provided with our requested drinks.\\\\n\\\\nWe had pork bellies and kale chips for our appetizers.  The pork bellies were divine.  The kale chips were a bit lacking in flair.  It was basically dry kale with paprika sprinkled on top.  Not much else.\\\\n\\\\nMy husband got the Local Dish burger and declared it good.  The fries he got on the side were great.  I ordered their chicken & peaches sandwich with coleslaw on the side.  The coleslaw was fantastic and I could have eaten more than the serving they gave me.  The chicken sandwich was average - but I loved knowing I was probably eating peaches from just a few blocks away at the Peach Stand.  The chicken itself was a bit dry but was helped by the pesto, spinach and peaches that came on it.\\\\n\\\\nWhy did I not give it more than 3 stars?  Because a second visit will be required, with other foods tried, before I decide to bump it up to four stars.  The restaurant was charming enough (and prices decent enough) that we'll most likely go back again the future.\",\n",
       "  \"My favorite thing about Stalzy's is that they stick to the basics but they do them really well. The menu may not sound super impressive in comparison to the prices but when you get your meal the quality is superb. These sandwiches are made with quality, local ingredients and with the above average drink selection they really provide the deli experience I expect. Dont let the simple titles fool you this top notch food is worth of your lunch(or breakfast) hour any day.\\\\n\\\\nMy sandwich of choice is the ham and swiss, simple, delectable, delicious :)\",\n",
       "  'My wife and I had dinner there last night. It was superb. \\\\nDon!t know what people are talking about regarding  nachos and sangria.\\\\nThis is totally good French food. The ambiance, the decor, the food presentation were all in keeping with what a high level restaurant should be. The restaurant was not very busy as it was relatively early evening\\\\nSo the waiter did not rush the servings along enabling us to dine at\\\\nOur own pace. Our prize fixe meal was $47each plus wine, tax, and tip\\\\nThe three course meal consisted of a lovely green salad, the entree was salmon for me that was cooked perfectly served with what appeared to be roasted barley mix and green beans. My wife has a veal chop that she liked but what I thought was a little too rare on the inside although\\\\nWell charred on the outside. Desert was a glorious crime de br\\\\u00fbl\\\\u00e9e that was to die for. \\\\nIn summary we both thought it was a good dining experience and a good value for the price.\\\\nWe would go back again and recommend to friends.',\n",
       "  'Went here on a Friday night around nine and was sat right away. I chose the Chilean sea bass and my dinner companions chose the bone in ribeye and the new your strip. After sampling everything I would have to say the ribeye was the best. We also tried their oyster Rockefeller and it was delicious!',\n",
       "  \"They are a nice alternative to Zimbrick in Madison is you have a foreign car.  However I would recommend Zimbrick as the mechanics at Zimbrick will tell you what items you can do yourself to save money.  Look out at Dunn's as they may try to add on additional services that you don't really need which will cost you more money.\",\n",
       "  'Up there with Crave for a classy bar with good, expensive martinis.  Nice, modern lighting, the atmosphere makes me feel fabulous.....who am I kidding, I am fabulous!  There\\'s always a cute boy around to by me a drink, so the prices don\\'t bother me too much.  Their \\\\\"one & done\\\\\" drinks knock my socks off.....heed the warning that the name gives....I\\'m serious.....brings me back to my jungle juice days at house parties.  5 stars!',\n",
       "  'Negative baristas heaven forgive they mess up your order and u ask them to remake it. No asking if it was right the second time, still not right but they are so rude ur afraid to ask for them to actually try it again. Also soooo sloooooooowww come on people drink some coffee and get motivated... lets work on niceness and speed.',\n",
       "  \"This place was okay, I wasn't too impressed. The neighborhood is great, but I didn't feel like the coffee shop was anything special. There isn't a lot of table space, so it's hard to do work.\\\\n\\\\nThe drinks were good, though. Seemed to be mostly fair priced. \\\\n\\\\nLike I said, it was good, but nothing special. I may or may not come back.\",\n",
       "  \"Awesome! We're from la and this was a treat! Chicken del sol was awesome!  Go here there's something healthy and delecious for everyone!\",\n",
       "  'First time at Extreme Pita.  It is a little different than Pita Pit. I had the small smoked turkey and my husband had the buffalo chick.  Was not impressed with the food nor the staff. Not sure we will go back.',\n",
       "  \"I love both locations equally. Such a delicious cafe caramel. I also really love their tea selections. The baristas are always friendly, and there's always a place to sit. What more can you ask for? :)\",\n",
       "  \"Went here with my roommate last week for a late breakfast and was pleasantly surprised! I got the Eggs Benedict and a chocolate croissant while my roommate went for the French toast with fresh fruit. Everything was very tasty, although my roommate could have easily handled a larger portion. \\\\nAll the employees were super sweet and the French owner's eclectic playlist really added to how much I enjoyed the experience. Will have to go again for lunch or dinner!\"],\n",
       " 'regexp_full_match': [],\n",
       " 'regexp_partial_match': []}"
      ]
     },
     "execution_count": 32,
     "metadata": {},
     "output_type": "execute_result"
    }
   ],
   "source": [
    "clinc150_records[-1]"
   ]
  },
  {
   "cell_type": "code",
   "execution_count": 33,
   "metadata": {},
   "outputs": [],
   "source": [
    "import json\n",
    "\n",
    "json.dump(clinc150_records, open(\"../data/intent_records/clinc150.json\", \"w\"), indent=4, ensure_ascii=False)"
   ]
  },
  {
   "cell_type": "markdown",
   "metadata": {},
   "source": [
    "## russian clinc150"
   ]
  },
  {
   "cell_type": "code",
   "execution_count": null,
   "metadata": {},
   "outputs": [],
   "source": [
    "# ! git clone https://github.com/LadaNikitina/clinc150 ../data/RuClinc150\n",
    "# ! rm -rf ../data/RuClinc150/.git"
   ]
  },
  {
   "cell_type": "code",
   "execution_count": 47,
   "metadata": {},
   "outputs": [
    {
     "data": {
      "text/plain": [
       "DatasetDict({\n",
       "    train: Dataset({\n",
       "        features: ['text', 'intent'],\n",
       "        num_rows: 15250\n",
       "    })\n",
       "    test: Dataset({\n",
       "        features: ['text', 'intent'],\n",
       "        num_rows: 5500\n",
       "    })\n",
       "    validation: Dataset({\n",
       "        features: ['text', 'intent'],\n",
       "        num_rows: 3100\n",
       "    })\n",
       "})"
      ]
     },
     "execution_count": 47,
     "metadata": {},
     "output_type": "execute_result"
    }
   ],
   "source": [
    "from datasets import load_from_disk\n",
    "\n",
    "ruclinc150 = load_from_disk(\"../data/RuClinc150\")\n",
    "ruclinc150"
   ]
  },
  {
   "cell_type": "code",
   "execution_count": 48,
   "metadata": {},
   "outputs": [
    {
     "data": {
      "text/plain": [
       "{'text': 'Какое выражение я бы использовал, чтобы сказать, что я люблю тебя, если бы я был итальянцем?',\n",
       " 'intent': 61}"
      ]
     },
     "execution_count": 48,
     "metadata": {},
     "output_type": "execute_result"
    }
   ],
   "source": [
    "ruclinc150[\"train\"][0]"
   ]
  },
  {
   "cell_type": "code",
   "execution_count": 49,
   "metadata": {},
   "outputs": [
    {
     "name": "stdout",
     "output_type": "stream",
     "text": [
      "151\n"
     ]
    }
   ],
   "source": [
    "intent_labels = sorted(ruclinc150[\"train\"].unique(\"intent\"))"
   ]
  },
  {
   "cell_type": "markdown",
   "metadata": {},
   "source": [
    "find index of ood class:"
   ]
  },
  {
   "cell_type": "code",
   "execution_count": 50,
   "metadata": {},
   "outputs": [
    {
     "name": "stdout",
     "output_type": "stream",
     "text": [
      "42\n"
     ]
    }
   ],
   "source": [
    "for i in intent_labels:\n",
    "    samples = ruclinc150[\"train\"].filter(lambda x: x[\"intent\"] == i)\n",
    "    if len(samples) > 100:\n",
    "        pass"
   ]
  },
  {
   "cell_type": "code",
   "execution_count": 51,
   "metadata": {},
   "outputs": [],
   "source": [
    "def convert_ruclinc150(clinc150_train, shots_per_intent, ood_index=42):\n",
    "    all_labels = sorted(clinc150_train.unique(\"intent\"))\n",
    "    assert all_labels == list(range(151))\n",
    "\n",
    "    in_domain_samples = clinc150_train.filter(lambda x: x[\"intent\"] != ood_index)\n",
    "    oos_samples = clinc150_train.filter(lambda x: x[\"intent\"] == ood_index)\n",
    "\n",
    "    res = [\n",
    "        {\n",
    "            \"intent_id\": i,\n",
    "            \"intent_name\": None,\n",
    "            \"sample_utterances\": [],\n",
    "            \"regexp_full_match\": [],\n",
    "            \"regexp_partial_match\": [],\n",
    "        }\n",
    "        for i in range(150)\n",
    "    ]\n",
    "\n",
    "    for batch in in_domain_samples.iter(batch_size=16, drop_last_batch=False):\n",
    "        for txt, intent_id in zip(batch[\"text\"], batch[\"intent\"], strict=False):\n",
    "            intent_id -= int(intent_id > ood_index)\n",
    "            target_list = res[intent_id][\"sample_utterances\"]\n",
    "            if len(target_list) >= shots_per_intent:\n",
    "                continue\n",
    "            target_list.append(txt)\n",
    "\n",
    "    res.append(\n",
    "        {\n",
    "            \"intent_id\": -1,\n",
    "            \"intent_name\": \"ood\",\n",
    "            \"sample_utterances\": oos_samples[\"text\"],\n",
    "            \"regexp_full_match\": [],\n",
    "            \"regexp_partial_match\": [],\n",
    "        }\n",
    "    )\n",
    "\n",
    "    return res"
   ]
  },
  {
   "cell_type": "code",
   "execution_count": 52,
   "metadata": {},
   "outputs": [
    {
     "data": {
      "application/vnd.jupyter.widget-view+json": {
       "model_id": "982dde0d1c1043e2b2517b61f7d1f4cf",
       "version_major": 2,
       "version_minor": 0
      },
      "text/plain": [
       "Filter:   0%|          | 0/15250 [00:00<?, ? examples/s]"
      ]
     },
     "metadata": {},
     "output_type": "display_data"
    },
    {
     "data": {
      "application/vnd.jupyter.widget-view+json": {
       "model_id": "451602fafb65441497995efafc56c1d6",
       "version_major": 2,
       "version_minor": 0
      },
      "text/plain": [
       "Filter:   0%|          | 0/15250 [00:00<?, ? examples/s]"
      ]
     },
     "metadata": {},
     "output_type": "display_data"
    }
   ],
   "source": [
    "ruclinc150_records = convert_ruclinc150(ruclinc150[\"train\"], shots_per_intent=5)"
   ]
  },
  {
   "cell_type": "code",
   "execution_count": 53,
   "metadata": {},
   "outputs": [
    {
     "data": {
      "text/plain": [
       "{'intent_id': 0,\n",
       " 'intent_name': None,\n",
       " 'sample_utterances': ['как делают пончики в tgi',\n",
       "  'Пончики в TGI хорошо оценены',\n",
       "  'как выглядят пончики отзывы в tgi',\n",
       "  'какие отзывы о пончиках в тги',\n",
       "  'Люди рекомендуют пончики в TGI'],\n",
       " 'regexp_full_match': [],\n",
       " 'regexp_partial_match': []}"
      ]
     },
     "execution_count": 53,
     "metadata": {},
     "output_type": "execute_result"
    }
   ],
   "source": [
    "ruclinc150_records[0]"
   ]
  },
  {
   "cell_type": "code",
   "execution_count": 54,
   "metadata": {},
   "outputs": [
    {
     "data": {
      "text/plain": [
       "{'intent_id': -1,\n",
       " 'intent_name': 'ood',\n",
       " 'sample_utterances': ['Сколько стоит овердрафт для банка',\n",
       "  'почему экспоненты образуются перед умножением в порядке операций',\n",
       "  'Какой размер стеклоочистителей принимает этот автомобиль',\n",
       "  'Где находится Дипстик',\n",
       "  'Сколько стоит 1 акция AAPL',\n",
       "  'Как производится клей',\n",
       "  'любые заголовки из моей области',\n",
       "  'какой самый большой штат в сша',\n",
       "  'Какова текущая тенденция на рынке',\n",
       "  'какая самая популярная авиакомпания',\n",
       "  'что такое формула для окружности круга',\n",
       "  'Какие есть способы сократить расходы',\n",
       "  'Во сколько открывается Лувр',\n",
       "  'Есть ли какие-либо местные станции, освещающие моральный марш в Роли в феврале?',\n",
       "  'Сколько планет мы обнаружили',\n",
       "  'Как я могу изменить свой платежный адрес',\n",
       "  'Как открыть кредитную линию онлайн',\n",
       "  'Как удалить пятно от кофе',\n",
       "  'Сколько стоит акция Apple',\n",
       "  'Где я могу найти круиз-контроль на моем Kia Sportage 2010',\n",
       "  'Сколько сторон в шестиугольнике',\n",
       "  'С какой скоростью летит самолет',\n",
       "  'Стоит ли инвестировать в Target',\n",
       "  'Мне нужно поговорить со службой поддержки клиентов по поводу моего рейса',\n",
       "  'Сколько времени занимают банковские переводы',\n",
       "  'какие есть сделки на амазоне',\n",
       "  'в каком городе проходит супербоул',\n",
       "  'Какие деревья меняют цвет осенью',\n",
       "  'Люди предпочитают лето осени',\n",
       "  'Сколько длится зима',\n",
       "  'Каковы были некоторые из заметных достижений Бена Франклина',\n",
       "  'где родился джон денвер',\n",
       "  'Где жил Авраам Линкольн',\n",
       "  'когда родился коби брайант',\n",
       "  'кто стартовый разыгрывающий защитник толедо в следующей игре',\n",
       "  'Сколько игроков в \"Чикаго Буллз\"',\n",
       "  'кто такой тренер чикаго буллз',\n",
       "  'когда играть utah jazz',\n",
       "  'Какие еще страны были вовлечены в китайскую торговую войну',\n",
       "  'сколько лет корея воюет',\n",
       "  'Когда теория эволюции была впервые рассмотрена',\n",
       "  'кто сформулировал теорию относительности',\n",
       "  'На каком этапе эволюции я нахожусь',\n",
       "  'какой другой тип личности наиболее совместим с infjs',\n",
       "  'Что означает моя личность',\n",
       "  'какая самая доминирующая гамма в блюграссе',\n",
       "  'в каком году впервые заиграл саксофон',\n",
       "  'какое пианино лучше для классики',\n",
       "  'Требуется ли образование K-12 за пределами США?',\n",
       "  'Каковы преимущества завершения колледжа',\n",
       "  'Умеете ли вы решать алгебраические уравнения',\n",
       "  'Можете ли вы помочь мне подготовиться к экзамену по истории?',\n",
       "  'сколько очков в среднем набирает леброн джеймс в этом сезоне',\n",
       "  'за какую команду играет эли маннинг',\n",
       "  'Дайте мне Дуайта Ховарда со средней результативностью',\n",
       "  'Можете ли вы перечислить мне статистику Тайгера Вуда',\n",
       "  'Какова продолжительность всех фильмов Властелин колец вместе взятых',\n",
       "  'какой персонаж самый известный из титаника',\n",
       "  'Сколько Оскаров выиграли фильмы \"Звездные войны\"',\n",
       "  'В каком году был выпущен фильм \"Побег из Шоушенка\"',\n",
       "  'Какой персонаж Marvel появился в большинстве фильмов',\n",
       "  'когда выйдет следующий фильм с тором в главной роли',\n",
       "  'кто был первым персонажем капкома',\n",
       "  'когда выйдет фильм лига справедливости',\n",
       "  'Можете ли вы рассказать мне что-нибудь о НФЛ?',\n",
       "  'пожалуйста, объясните мне правило улова',\n",
       "  'Есть ли овертайм в студенческом футболе',\n",
       "  'когда начали делать мтс',\n",
       "  'какая лучшая цена на super smash bros ultimate сейчас',\n",
       "  'какая игра самая прибыльная в атари',\n",
       "  'когда будет следующий nintendo direct',\n",
       "  'когда была создана nintendo',\n",
       "  'Пожалуйста, найдите столицу Пакистана и ее население',\n",
       "  'Сколько людей живет на Тайване',\n",
       "  'Каковы некоторые из самых известных работ Пикассо',\n",
       "  'какие лучшие произведения ван гога',\n",
       "  'Где можно увидеть искусство',\n",
       "  'когда умер камю',\n",
       "  'Сколько Radiohead зарабатывают в год',\n",
       "  'кто такой radiohead',\n",
       "  'какая самая большая маркетинговая компания saas в сша',\n",
       "  'Как я начал свою собственную маркетинговую фирму',\n",
       "  'Как я могу принять участие в маркетинге ресторана',\n",
       "  'Что такое SaaS-маркетинг',\n",
       "  'как называют того кто родился в сеговии',\n",
       "  'что такое rhineland',\n",
       "  'кто самый страшный персонаж в start trek',\n",
       "  'Кто является нынешним капитаном этого корабля',\n",
       "  'в каком году вышел star trek',\n",
       "  'когда была создана тойота',\n",
       "  'кто такие известные выпускники ucsd',\n",
       "  'какой следующий футбольный матч',\n",
       "  'Сколько студентов посещают UCSB',\n",
       "  'Когда начинаются занятия',\n",
       "  'Как стать аэрокосмическим инженером',\n",
       "  'какой процент видов демонстрирует хладнокровные черты',\n",
       "  'Что значит быть альфа-самцом',\n",
       "  'у каких животных есть альфа-самцы',\n",
       "  'Почему мужчины хотят быть альфа-самцами',\n",
       "  'Какое среднее время автономной работы телефона Android',\n",
       "  'какая самая дорогая цена за акцию любой акции',\n",
       "  'Можете ли вы сказать мне, когда закроется банк?',\n",
       "  'Перемотать на одну минуту назад',\n",
       "  'Что такое акции Apple',\n",
       "  'есть ли функция видео по запросу (vod)',\n",
       "  'Показать все контакты',\n",
       "  'В чем плюсы и минусы кредитных карт',\n",
       "  'Можете ли вы показать мне мой 3-значный номер проверки кредитной карты',\n",
       "  'Как выиграть деньги в интернете',\n",
       "  'Есть ли автомобиль в моей слепой зоне',\n",
       "  'что такое наклон перевернутой линии',\n",
       "  'Сможете ли вы меня разбудить в',\n",
       "  'Как вы храните информацию о моей карте',\n",
       "  'Можете ли вы сказать мне, до какого времени открыт фондовый рынок?',\n",
       "  'Дайте мне местные новости',\n",
       "  'почему нельзя делить на ноль',\n",
       "  'Регулировка стеклоочистителей',\n",
       "  'какая формула площади поверхности цилиндра',\n",
       "  'Можете ли вы переслать это письмо моему начальнику',\n",
       "  'Что сказал сегодня президент',\n",
       "  'какого цвета автомобиль',\n",
       "  'Вы можете перезагрузить мой телефон',\n",
       "  'Что такое номер счета',\n",
       "  'Будете ли вы блокировать недружелюбные к детям шоу',\n",
       "  'Можете ли вы сказать мне, кто еще есть на моем аккаунте?',\n",
       "  'Какое чистящее средство я должен использовать на деревянных полах',\n",
       "  'В каком штате лучшие авиалинии',\n",
       "  'Стало известно, кто победил на выборах губернатора',\n",
       "  'что такое bbc headlines',\n",
       "  'когда была последняя забастовка рабочих в амстердаме',\n",
       "  'Сколько простых чисел меньше 100',\n",
       "  'Наденьте ремни безопасности',\n",
       "  'Сколькими способами я могу заработать 1 доллар, используя стандартные американские монеты?',\n",
       "  'Какой газ я использую',\n",
       "  'Нужно ли менять фильтр кондиционера',\n",
       "  'Как работают антиблокировочные тормоза',\n",
       "  'Как я могу изменить свой рейс',\n",
       "  'Вы можете найти инструкции по удалению пятна кофе с обивки',\n",
       "  'какое шоу я смотрю',\n",
       "  'Каковы мои местные новостные станции',\n",
       "  'У меня есть старая модель автомобиля',\n",
       "  'Не могли бы вы подсказать, как вычислить процент от числа',\n",
       "  'Что значат значения чисел в нечисловом смысле',\n",
       "  'Вы можете прочитать мне последний текст',\n",
       "  'Пожалуйста, сохраните мой черновик для меня, чтобы я мог работать над ним позже',\n",
       "  'Как я могу остановить звуковой сигнал, когда мой ремень безопасности выключен в моей Honda Civic?',\n",
       "  'Как найти общий знаменатель',\n",
       "  'Вы можете увидеть второй прямо внутри холодильника',\n",
       "  'Сменить место на сиденье у окна на моем рейсе в понедельник',\n",
       "  'Покажите мне пример алгебраического выражения',\n",
       "  'О чем NPR сообщает прямо сейчас',\n",
       "  'На сколько пунктов поднялся NYSE в этом месяце',\n",
       "  'Стоит ли инвестировать в акции Microsoft',\n",
       "  'Можете ли вы показать мне номер моей кредитной карты',\n",
       "  'Фондовый рынок сегодня вверх или вниз',\n",
       "  'Закрытие закончилось',\n",
       "  'какой мой гороскоп сегодня',\n",
       "  'Я использую круиз-контроль',\n",
       "  'Вы можете отправить электронное письмо клиенту b',\n",
       "  '\"Холостяк\" сегодня вечером',\n",
       "  'Есть ли на моей кредитной карте в настоящее время акции по переводу баланса',\n",
       "  'Как работает оптическая мышь',\n",
       "  'В какие акции я должен инвестировать, чтобы получить не менее 5% от моих инвестиций в этом году',\n",
       "  'Узнайте для меня, какие льготы имеют военные ветераны после выхода на пенсию',\n",
       "  'Можете ли вы сказать мне, какие льготы получают ветераны милиции',\n",
       "  'Если вы уволены с позором, вы все еще ветеран',\n",
       "  'Бесплатное лечение для ветеранов',\n",
       "  'в каком месяце комары наиболее активны в сша',\n",
       "  'какой самый эффективный репеллент от клопов',\n",
       "  'как долго живут комары',\n",
       "  'Где живут белки',\n",
       "  'Можно ли отличить ядовитый гриб от неядовитого',\n",
       "  'Можете ли вы выяснить для меня, сколько видов грибов существует?',\n",
       "  'какие есть способы приготовить грибы портабелло',\n",
       "  'Как узнать, съедобен ли гриб',\n",
       "  'Какое самое популярное телешоу на Netflix прямо сейчас?',\n",
       "  'Что в тренде в телешоу 90-х на Netflix',\n",
       "  'когда был создан хулу',\n",
       "  'получить мне показатели восприимчивости к взлому для домашних хозяйств в моем районе',\n",
       "  'Вы можете проверить мою конфиденциальность в режиме онлайн',\n",
       "  'Как я могу защитить себя в Интернете',\n",
       "  'Сколько стоит лучший VPN',\n",
       "  'кто такой оскар в честь кого назван \"оскар\"',\n",
       "  'Каково происхождение имени Майкл',\n",
       "  'Где вручают \"Оскар\"',\n",
       "  'Как получить Оскар',\n",
       "  'Олени являются коренными жителями Северной Америки',\n",
       "  'Что является основной диетой выдры',\n",
       "  'Велосипед выглядит очень красиво',\n",
       "  'Как выглядят велосипеды',\n",
       "  'Является ли патриархат обоснованной концепцией',\n",
       "  'Патриархат ошибается',\n",
       "  'Сколько поколений покемонов существует сейчас',\n",
       "  'в каком году вышла первая игра про покемонов',\n",
       "  'Сколько покемонов существует',\n",
       "  'Где была создана соль',\n",
       "  'Что такое естественная среда обитания тупика',\n",
       "  'Ястребы одомашненные или дикие',\n",
       "  'Откуда берутся лягушки',\n",
       "  'Какие бывают пуфы',\n",
       "  'Законно ли разводить и продавать кроликов без лицензии',\n",
       "  'Сколько разных видов малинов существует',\n",
       "  'Сколько обычно живут бурундуки',\n",
       "  'Чем питаются кролики',\n",
       "  'Сколько сезонов рик и морти',\n",
       "  'Будет ли новый сезон \"Настоящего детектива\"',\n",
       "  'Сколько лет Рику Ад Морти',\n",
       "  'Кто такие Дэн и Дэйв',\n",
       "  'какой был код города телефонного номера из последнего мошеннического звонка',\n",
       "  'Сколько людей в год становятся жертвами интернет-мошенников',\n",
       "  'Как защититься от мошенников с \"нигерийским принцем\"',\n",
       "  'Семитские языки сложнее для изучения, чем арабские',\n",
       "  'Сложно ли выучить семитский язык',\n",
       "  'Какие языки считаются семитскими',\n",
       "  'Что такое семитский язык',\n",
       "  'Какова типичная структура для написания песни в стиле кантри',\n",
       "  'где я могу найти лирическое вдохновение для написания песен',\n",
       "  'что такое доминантный минор для ключа bflat',\n",
       "  'что такое порядок круга пятых',\n",
       "  'Какой вид спорта самый популярный в Нью-Йорке',\n",
       "  'Как работают мои спортивные команды',\n",
       "  'какой вид спорта самый веселый',\n",
       "  'Что происходит в спорте сегодня',\n",
       "  'Можете ли вы дать мне инструкции по уходу за татуировкой',\n",
       "  'Как выбрать хорошую первую татуировку',\n",
       "  'Где появилась первая татуировка',\n",
       "  'Безопасно ли делать татуировки',\n",
       "  'Путешествие во времени в прошлое теоретически возможно',\n",
       "  'Как решить парадокс дедушки',\n",
       "  'Пожалуйста, верните меня в 1982 год',\n",
       "  'Путешествовал ли кто-нибудь раньше во времени',\n",
       "  'какой вид дуба вырастает самым высоким',\n",
       "  'Какое лучшее время года, чтобы посадить дерево',\n",
       "  'Деревья абсолютно необходимы для выживания',\n",
       "  'какое самое большое дерево в мире',\n",
       "  'Насколько рынок поднялся или опустился до сих пор в 2019 году',\n",
       "  'какое самое дорогое здание на уолл стрит',\n",
       "  'Трудно ли быть успешным на Уолл-стрит',\n",
       "  'Какая самая быстрорастущая акция 2019 года',\n",
       "  'Дайте мне информацию об участии Советского Союза во Второй мировой войне',\n",
       "  'какие страны были по обе стороны конфликта во второй мировой войне',\n",
       "  'сколько длилась осада ленинграда',\n",
       "  'в какие годы была первая мировая война',\n",
       "  'Что является хорошим ресурсом для изучения йоги для начинающих',\n",
       "  'какая самая сложная поза йоги для выполнения',\n",
       "  'Как я могу принять участие в йоге',\n",
       "  'Является ли йога здоровой',\n",
       "  'Что такое альма-матер человека, который начал YouTube',\n",
       "  'У кого больше всего подписчиков на YouTube',\n",
       "  'у тех, на кого я подписана, есть новые видео'],\n",
       " 'regexp_full_match': [],\n",
       " 'regexp_partial_match': []}"
      ]
     },
     "execution_count": 54,
     "metadata": {},
     "output_type": "execute_result"
    }
   ],
   "source": [
    "ruclinc150_records[-1]"
   ]
  },
  {
   "cell_type": "code",
   "execution_count": 55,
   "metadata": {},
   "outputs": [],
   "source": [
    "json.dump(ruclinc150_records, open(\"../data/intent_records/ru_clinc150.json\", \"w\"), indent=4, ensure_ascii=False)"
   ]
  },
  {
   "cell_type": "markdown",
   "metadata": {},
   "source": [
    "## Snips"
   ]
  },
  {
   "cell_type": "code",
   "execution_count": 42,
   "metadata": {},
   "outputs": [
    {
     "data": {
      "application/vnd.jupyter.widget-view+json": {
       "model_id": "6b6eeb5a507b40eaa85631a143f7bd17",
       "version_major": 2,
       "version_minor": 0
      },
      "text/plain": [
       "Downloading readme:   0%|          | 0.00/426 [00:00<?, ?B/s]"
      ]
     },
     "metadata": {},
     "output_type": "display_data"
    },
    {
     "data": {
      "application/vnd.jupyter.widget-view+json": {
       "model_id": "9752a067f48d4aa29fc50f1eb170e162",
       "version_major": 2,
       "version_minor": 0
      },
      "text/plain": [
       "Downloading data:   0%|          | 0.00/370k [00:00<?, ?B/s]"
      ]
     },
     "metadata": {},
     "output_type": "display_data"
    },
    {
     "data": {
      "application/vnd.jupyter.widget-view+json": {
       "model_id": "d84c9246be3c47fc931205d9e461fcfb",
       "version_major": 2,
       "version_minor": 0
      },
      "text/plain": [
       "Downloading data:   0%|          | 0.00/45.0k [00:00<?, ?B/s]"
      ]
     },
     "metadata": {},
     "output_type": "display_data"
    },
    {
     "data": {
      "application/vnd.jupyter.widget-view+json": {
       "model_id": "578f12e17fd045c68805d7f4048ac1d8",
       "version_major": 2,
       "version_minor": 0
      },
      "text/plain": [
       "Generating train split:   0%|          | 0/13084 [00:00<?, ? examples/s]"
      ]
     },
     "metadata": {},
     "output_type": "display_data"
    },
    {
     "data": {
      "application/vnd.jupyter.widget-view+json": {
       "model_id": "d27fc208fb884d22a0f2e6c21425d6c7",
       "version_major": 2,
       "version_minor": 0
      },
      "text/plain": [
       "Generating test split:   0%|          | 0/1400 [00:00<?, ? examples/s]"
      ]
     },
     "metadata": {},
     "output_type": "display_data"
    },
    {
     "data": {
      "text/plain": [
       "DatasetDict({\n",
       "    train: Dataset({\n",
       "        features: ['text', 'category'],\n",
       "        num_rows: 13084\n",
       "    })\n",
       "    test: Dataset({\n",
       "        features: ['text', 'category'],\n",
       "        num_rows: 1400\n",
       "    })\n",
       "})"
      ]
     },
     "execution_count": 42,
     "metadata": {},
     "output_type": "execute_result"
    }
   ],
   "source": [
    "from datasets import load_dataset\n",
    "\n",
    "snips = load_dataset(\"benayas/snips\")\n",
    "snips"
   ]
  },
  {
   "cell_type": "code",
   "execution_count": 44,
   "metadata": {},
   "outputs": [
    {
     "name": "stdout",
     "output_type": "stream",
     "text": [
      "7\n"
     ]
    },
    {
     "data": {
      "text/plain": [
       "['AddToPlaylist',\n",
       " 'BookRestaurant',\n",
       " 'GetWeather',\n",
       " 'PlayMusic',\n",
       " 'RateBook',\n",
       " 'SearchCreativeWork',\n",
       " 'SearchScreeningEvent']"
      ]
     },
     "execution_count": 44,
     "metadata": {},
     "output_type": "execute_result"
    }
   ],
   "source": [
    "intent_names = sorted(snips[\"train\"].unique(\"category\"))\n",
    "intent_names"
   ]
  },
  {
   "cell_type": "code",
   "execution_count": 47,
   "metadata": {},
   "outputs": [],
   "source": [
    "def convert_snips(snips_train, shots_per_intent):\n",
    "    intent_names = sorted(snips_train.unique(\"category\"))\n",
    "    name_to_id = dict(zip(intent_names, range(len(intent_names)), strict=False))\n",
    "\n",
    "    res = [\n",
    "        {\n",
    "            \"intent_id\": i,\n",
    "            \"intent_name\": name,\n",
    "            \"sample_utterances\": [],\n",
    "            \"regexp_full_match\": [],\n",
    "            \"regexp_partial_match\": [],\n",
    "        }\n",
    "        for i, name in enumerate(intent_names)\n",
    "    ]\n",
    "\n",
    "    for batch in snips_train.iter(batch_size=16, drop_last_batch=False):\n",
    "        for txt, name in zip(batch[\"text\"], batch[\"category\"], strict=False):\n",
    "            intent_id = name_to_id[name]\n",
    "            target_list = res[intent_id][\"sample_utterances\"]\n",
    "            if len(target_list) >= shots_per_intent:\n",
    "                continue\n",
    "            target_list.append(txt)\n",
    "\n",
    "    return res"
   ]
  },
  {
   "cell_type": "code",
   "execution_count": 48,
   "metadata": {},
   "outputs": [],
   "source": [
    "snips_records = convert_snips(snips[\"train\"], shots_per_intent=5)"
   ]
  },
  {
   "cell_type": "code",
   "execution_count": 49,
   "metadata": {},
   "outputs": [],
   "source": [
    "json.dump(snips_records, open(\"../data/intent_records/snips.json\", \"w\"), indent=4, ensure_ascii=False)"
   ]
  },
  {
   "cell_type": "markdown",
   "metadata": {},
   "source": [
    "## russian Snips"
   ]
  },
  {
   "cell_type": "code",
   "execution_count": null,
   "metadata": {},
   "outputs": [],
   "source": [
    "# ! git clone https://github.com/LadaNikitina/Snips ../data/RuSnips\n",
    "# ! rm -rf ../data/RuSnips/.git"
   ]
  },
  {
   "cell_type": "code",
   "execution_count": 30,
   "metadata": {},
   "outputs": [
    {
     "data": {
      "text/plain": [
       "DatasetDict({\n",
       "    train: Dataset({\n",
       "        features: ['text', 'intent'],\n",
       "        num_rows: 13784\n",
       "    })\n",
       "    test: Dataset({\n",
       "        features: ['text', 'intent'],\n",
       "        num_rows: 700\n",
       "    })\n",
       "})"
      ]
     },
     "execution_count": 30,
     "metadata": {},
     "output_type": "execute_result"
    }
   ],
   "source": [
    "from datasets import load_from_disk\n",
    "\n",
    "rusnips = load_from_disk(\"../data/RuSnips\")\n",
    "rusnips"
   ]
  },
  {
   "cell_type": "code",
   "execution_count": 31,
   "metadata": {},
   "outputs": [
    {
     "data": {
      "text/plain": [
       "{'text': 'Добавьте еще одну песню в плейлист Cita Romántica.',\n",
       " 'intent': 'add_to_playlist'}"
      ]
     },
     "execution_count": 31,
     "metadata": {},
     "output_type": "execute_result"
    }
   ],
   "source": [
    "rusnips[\"train\"][0]"
   ]
  },
  {
   "cell_type": "code",
   "execution_count": 33,
   "metadata": {},
   "outputs": [
    {
     "data": {
      "text/plain": [
       "['add_to_playlist',\n",
       " 'book_restaurant',\n",
       " 'get_weather',\n",
       " 'play_music',\n",
       " 'rate_book',\n",
       " 'search_creative_work',\n",
       " 'search_screening_event']"
      ]
     },
     "execution_count": 33,
     "metadata": {},
     "output_type": "execute_result"
    }
   ],
   "source": [
    "rusnips[\"train\"].unique(\"intent\")"
   ]
  },
  {
   "cell_type": "code",
   "execution_count": 39,
   "metadata": {},
   "outputs": [],
   "source": [
    "def convert_rusnips(snips_train, shots_per_intent):\n",
    "    intent_names = sorted(snips_train.unique(\"intent\"))\n",
    "    name_to_id = dict(zip(intent_names, range(len(intent_names)), strict=False))\n",
    "\n",
    "    res = [\n",
    "        {\n",
    "            \"intent_id\": i,\n",
    "            \"intent_name\": name,\n",
    "            \"sample_utterances\": [],\n",
    "            \"regexp_full_match\": [],\n",
    "            \"regexp_partial_match\": [],\n",
    "        }\n",
    "        for i, name in enumerate(intent_names)\n",
    "    ]\n",
    "\n",
    "    for batch in snips_train.iter(batch_size=16, drop_last_batch=False):\n",
    "        for txt, name in zip(batch[\"text\"], batch[\"intent\"], strict=False):\n",
    "            intent_id = name_to_id[name]\n",
    "            target_list = res[intent_id][\"sample_utterances\"]\n",
    "            if len(target_list) >= shots_per_intent:\n",
    "                continue\n",
    "            target_list.append(txt)\n",
    "\n",
    "    return res"
   ]
  },
  {
   "cell_type": "code",
   "execution_count": 40,
   "metadata": {},
   "outputs": [],
   "source": [
    "rusnips_records = convert_rusnips(rusnips[\"train\"], shots_per_intent=5)"
   ]
  },
  {
   "cell_type": "code",
   "execution_count": 41,
   "metadata": {},
   "outputs": [],
   "source": [
    "json.dump(rusnips_records, open(\"../data/intent_records/ru_snips.json\", \"w\"), indent=4, ensure_ascii=False)"
   ]
  },
  {
   "cell_type": "markdown",
   "metadata": {},
   "source": [
    "## hwu64"
   ]
  },
  {
   "cell_type": "markdown",
   "metadata": {},
   "source": [
    "source: https://github.com/jianguoz/Few-Shot-Intent-Detection/tree/main/Datasets/HWU64/train"
   ]
  },
  {
   "cell_type": "code",
   "execution_count": 1,
   "metadata": {},
   "outputs": [
    {
     "name": "stdout",
     "output_type": "stream",
     "text": [
      "8954\n"
     ]
    },
    {
     "data": {
      "text/plain": [
       "['alarm_query', 'alarm_query', 'alarm_query', 'alarm_query', 'alarm_query']"
      ]
     },
     "execution_count": 1,
     "metadata": {},
     "output_type": "execute_result"
    }
   ],
   "source": [
    "hwu64_labels = open(\"../data/hwu_assets/label.txt\").read().split(\"\\n\")[:-1]\n",
    "hwu64_labels[:5]"
   ]
  },
  {
   "cell_type": "code",
   "execution_count": 2,
   "metadata": {},
   "outputs": [
    {
     "name": "stdout",
     "output_type": "stream",
     "text": [
      "8954\n"
     ]
    },
    {
     "data": {
      "text/plain": [
       "['what alarms do i have set right now',\n",
       " 'checkout today alarm of meeting',\n",
       " 'report alarm settings',\n",
       " 'see see for me the alarms that you have set tomorrow morning',\n",
       " 'is there an alarm for ten am']"
      ]
     },
     "execution_count": 2,
     "metadata": {},
     "output_type": "execute_result"
    }
   ],
   "source": [
    "hwu64_utterances = open(\"../data/hwu_assets/seq.in\").read().split(\"\\n\")[:-1]\n",
    "hwu64_utterances[:5]"
   ]
  },
  {
   "cell_type": "code",
   "execution_count": 3,
   "metadata": {},
   "outputs": [
    {
     "data": {
      "text/plain": [
       "64"
      ]
     },
     "execution_count": 3,
     "metadata": {},
     "output_type": "execute_result"
    }
   ],
   "source": [
    "len(set(hwu64_labels))"
   ]
  },
  {
   "cell_type": "code",
   "execution_count": 4,
   "metadata": {},
   "outputs": [],
   "source": [
    "def convert_hwu64(hwu_utterances, hwu_labels, shots_per_intent):\n",
    "    intent_names = sorted(set(hwu_labels))\n",
    "    name_to_id = dict(zip(intent_names, range(len(intent_names)), strict=False))\n",
    "\n",
    "    res = [\n",
    "        {\n",
    "            \"intent_id\": i,\n",
    "            \"intent_name\": name,\n",
    "            \"sample_utterances\": [],\n",
    "            \"regexp_full_match\": [],\n",
    "            \"regexp_partial_match\": [],\n",
    "        }\n",
    "        for i, name in enumerate(intent_names)\n",
    "    ]\n",
    "\n",
    "    for txt, name in zip(hwu_utterances, hwu_labels, strict=False):\n",
    "        intent_id = name_to_id[name]\n",
    "        target_list = res[intent_id][\"sample_utterances\"]\n",
    "        if len(target_list) >= shots_per_intent:\n",
    "            continue\n",
    "        target_list.append(txt)\n",
    "\n",
    "    return res"
   ]
  },
  {
   "cell_type": "code",
   "execution_count": 5,
   "metadata": {},
   "outputs": [],
   "source": [
    "hwu64_records = convert_hwu64(hwu64_utterances, hwu64_labels, shots_per_intent=5)"
   ]
  },
  {
   "cell_type": "code",
   "execution_count": 6,
   "metadata": {},
   "outputs": [],
   "source": [
    "import json\n",
    "\n",
    "json.dump(hwu64_records, open(\"../data/intent_records/hwu64.json\", \"w\"), indent=4, ensure_ascii=False)"
   ]
  },
  {
   "cell_type": "markdown",
   "metadata": {},
   "source": [
    "## russian hwu64"
   ]
  },
  {
   "cell_type": "code",
   "execution_count": null,
   "metadata": {},
   "outputs": [],
   "source": [
    "# ! git clone https://github.com/LadaNikitina/HWU64 ../data/RuHWU64\n",
    "# ! rm -rf ../data/RuHWU64/.git"
   ]
  },
  {
   "cell_type": "code",
   "execution_count": 74,
   "metadata": {},
   "outputs": [
    {
     "data": {
      "text/plain": [
       "DatasetDict({\n",
       "    train: Dataset({\n",
       "        features: ['text', 'intent'],\n",
       "        num_rows: 25606\n",
       "    })\n",
       "})"
      ]
     },
     "execution_count": 74,
     "metadata": {},
     "output_type": "execute_result"
    }
   ],
   "source": [
    "from datasets import load_from_disk\n",
    "\n",
    "ruhwu64 = load_from_disk(\"../data/RuHWU64\")\n",
    "ruhwu64"
   ]
  },
  {
   "cell_type": "code",
   "execution_count": 75,
   "metadata": {},
   "outputs": [
    {
     "data": {
      "text/plain": [
       "{'text': 'Разбуди меня в 5 утра на этой неделе', 'intent': 'set'}"
      ]
     },
     "execution_count": 75,
     "metadata": {},
     "output_type": "execute_result"
    }
   ],
   "source": [
    "ruhwu64[\"train\"][0]"
   ]
  },
  {
   "cell_type": "code",
   "execution_count": 80,
   "metadata": {},
   "outputs": [
    {
     "name": "stdout",
     "output_type": "stream",
     "text": [
      "54\n"
     ]
    },
    {
     "data": {
      "text/plain": [
       "['addcontact', 'affirm', 'audiobook', 'cleaning', 'coffee']"
      ]
     },
     "execution_count": 80,
     "metadata": {},
     "output_type": "execute_result"
    }
   ],
   "source": [
    "intent_names = sorted(set(ruhwu64[\"train\"].unique(\"intent\")))\n",
    "intent_names[:5]"
   ]
  },
  {
   "cell_type": "code",
   "execution_count": 81,
   "metadata": {},
   "outputs": [],
   "source": [
    "def convert_ruhwu64(hwu64_train, shots_per_intent):\n",
    "    intent_names = sorted(hwu64_train.unique(\"intent\"))\n",
    "    name_to_id = dict(zip(intent_names, range(len(intent_names)), strict=False))\n",
    "\n",
    "    res = [\n",
    "        {\n",
    "            \"intent_id\": i,\n",
    "            \"intent_name\": name,\n",
    "            \"sample_utterances\": [],\n",
    "            \"regexp_full_match\": [],\n",
    "            \"regexp_partial_match\": [],\n",
    "        }\n",
    "        for i, name in enumerate(intent_names)\n",
    "    ]\n",
    "\n",
    "    for batch in hwu64_train.iter(batch_size=16, drop_last_batch=False):\n",
    "        for txt, name in zip(batch[\"text\"], batch[\"intent\"], strict=False):\n",
    "            intent_id = name_to_id[name]\n",
    "            target_list = res[intent_id][\"sample_utterances\"]\n",
    "            if len(target_list) >= shots_per_intent:\n",
    "                continue\n",
    "            target_list.append(txt)\n",
    "\n",
    "    return res"
   ]
  },
  {
   "cell_type": "code",
   "execution_count": 82,
   "metadata": {},
   "outputs": [],
   "source": [
    "ruhwu64_records = convert_ruhwu64(ruhwu64[\"train\"], shots_per_intent=5)"
   ]
  },
  {
   "cell_type": "code",
   "execution_count": 83,
   "metadata": {},
   "outputs": [],
   "source": [
    "json.dump(ruhwu64_records, open(\"../data/intent_records/ru_hwu64.json\", \"w\"), indent=4, ensure_ascii=False)"
   ]
  },
  {
   "cell_type": "markdown",
   "metadata": {},
   "source": [
    "## russian Minds14"
   ]
  },
  {
   "cell_type": "code",
   "execution_count": 86,
   "metadata": {},
   "outputs": [
    {
     "data": {
      "application/vnd.jupyter.widget-view+json": {
       "model_id": "6f8795ee3d794e29a4391e9b3020d9f5",
       "version_major": 2,
       "version_minor": 0
      },
      "text/plain": [
       "Generating train split: 0 examples [00:00, ? examples/s]"
      ]
     },
     "metadata": {},
     "output_type": "display_data"
    },
    {
     "data": {
      "text/plain": [
       "DatasetDict({\n",
       "    train: Dataset({\n",
       "        features: ['path', 'audio', 'transcription', 'english_transcription', 'intent_class', 'lang_id'],\n",
       "        num_rows: 539\n",
       "    })\n",
       "})"
      ]
     },
     "execution_count": 86,
     "metadata": {},
     "output_type": "execute_result"
    }
   ],
   "source": [
    "from datasets import load_dataset\n",
    "\n",
    "ruminds14 = load_dataset(\"PolyAI/minds14\", \"ru-RU\")\n",
    "ruminds14"
   ]
  },
  {
   "cell_type": "code",
   "execution_count": 87,
   "metadata": {},
   "outputs": [
    {
     "data": {
      "text/plain": [
       "{'path': '/home/voorhs/.cache/huggingface/datasets/downloads/extracted/f8075d4661a5d714b98ee4adbe7d239eb1a69d19d3cd7fa9cd42aeb27cab93c3/ru-RU~LATEST_TRANSACTIONS/6030093cbb1e6d0fbce93a74.wav',\n",
       " 'audio': {'path': '/home/voorhs/.cache/huggingface/datasets/downloads/extracted/f8075d4661a5d714b98ee4adbe7d239eb1a69d19d3cd7fa9cd42aeb27cab93c3/ru-RU~LATEST_TRANSACTIONS/6030093cbb1e6d0fbce93a74.wav',\n",
       "  'array': array([ 0.        ,  0.        ,  0.        , ..., -0.00048828,\n",
       "         -0.00073242, -0.00073242]),\n",
       "  'sampling_rate': 8000},\n",
       " 'transcription': 'Здравствуйте я бы хотела пересмотреть свои предыдущие последние операции которые проходили по моей карте прямым помимо ему счёту Покажите пожалуйста операции последних трёх месяцев',\n",
       " 'english_transcription': 'Hello, I would like to review my previous last transactions that took place on my card directly in addition to his account. Please show the transactions of the last three months',\n",
       " 'intent_class': 12,\n",
       " 'lang_id': 12}"
      ]
     },
     "execution_count": 87,
     "metadata": {},
     "output_type": "execute_result"
    }
   ],
   "source": [
    "ruminds14[\"train\"][0]"
   ]
  },
  {
   "cell_type": "code",
   "execution_count": 89,
   "metadata": {},
   "outputs": [
    {
     "data": {
      "text/plain": [
       "[0, 1, 2, 3, 4, 5, 6, 7, 8, 9, 10, 11, 12, 13]"
      ]
     },
     "execution_count": 89,
     "metadata": {},
     "output_type": "execute_result"
    }
   ],
   "source": [
    "sorted(ruminds14[\"train\"].unique(\"intent_class\"))"
   ]
  },
  {
   "cell_type": "code",
   "execution_count": 90,
   "metadata": {},
   "outputs": [],
   "source": [
    "def convert_ruminds14(minds14_train, shots_per_intent):\n",
    "    res = [\n",
    "        {\n",
    "            \"intent_id\": i,\n",
    "            \"intent_name\": None,\n",
    "            \"sample_utterances\": [],\n",
    "            \"regexp_full_match\": [],\n",
    "            \"regexp_partial_match\": [],\n",
    "        }\n",
    "        for i in range(14)\n",
    "    ]\n",
    "\n",
    "    for batch in minds14_train.iter(batch_size=16, drop_last_batch=False):\n",
    "        for txt, intent_id in zip(batch[\"transcription\"], batch[\"intent_class\"], strict=False):\n",
    "            target_list = res[intent_id][\"sample_utterances\"]\n",
    "            if len(target_list) >= shots_per_intent:\n",
    "                continue\n",
    "            target_list.append(txt)\n",
    "\n",
    "    return res"
   ]
  },
  {
   "cell_type": "code",
   "execution_count": 91,
   "metadata": {},
   "outputs": [],
   "source": [
    "ruminds14_records = convert_ruminds14(ruminds14[\"train\"], shots_per_intent=5)"
   ]
  },
  {
   "cell_type": "code",
   "execution_count": 92,
   "metadata": {},
   "outputs": [
    {
     "data": {
      "text/plain": [
       "{'intent_id': 0,\n",
       " 'intent_name': None,\n",
       " 'sample_utterances': ['Здравствуйте я хотел бы узнать Могу ли я использовать свою карту за границей и нужно мне для этого предупредить Мой Банк Спасибо',\n",
       "  'Здравствуйте какая комиссия будет если я буду использовать карту свою заграницы',\n",
       "  'Здравствуйте Через несколько дней я уезжаю в швецию на целый месяц я хотел бы узнать Могу ли я платить моей карты Спасибо',\n",
       "  'Здравствуйте я уезжаю на несколько недель заграницу и хотела бы узнать Могу ли я пользоваться твоей картой там Я бы хотела оплачивать покупки в Америке Нужно ли мне что-нибудь для этого делать',\n",
       "  'Здравствуйте мне хотелось бы задать вам один вопрос я уезжаю в отпуск и мне нужно уточнить работать будет ли моя кредитная карточка За границей'],\n",
       " 'regexp_full_match': [],\n",
       " 'regexp_partial_match': []}"
      ]
     },
     "execution_count": 92,
     "metadata": {},
     "output_type": "execute_result"
    }
   ],
   "source": [
    "ruminds14_records[0]"
   ]
  },
  {
   "cell_type": "code",
   "execution_count": 93,
   "metadata": {},
   "outputs": [],
   "source": [
    "json.dump(ruminds14_records, open(\"../data/intent_records/ru_minds14.json\", \"w\"), indent=4, ensure_ascii=False)"
   ]
  },
  {
   "cell_type": "markdown",
   "metadata": {},
   "source": [
    "## Minds14"
   ]
  },
  {
   "cell_type": "code",
   "execution_count": 94,
   "metadata": {},
   "outputs": [],
   "source": [
    "def convert_minds14(minds14_train, shots_per_intent):\n",
    "    res = [\n",
    "        {\n",
    "            \"intent_id\": i,\n",
    "            \"intent_name\": None,\n",
    "            \"sample_utterances\": [],\n",
    "            \"regexp_full_match\": [],\n",
    "            \"regexp_partial_match\": [],\n",
    "        }\n",
    "        for i in range(14)\n",
    "    ]\n",
    "\n",
    "    for batch in minds14_train.iter(batch_size=16, drop_last_batch=False):\n",
    "        for txt, intent_id in zip(batch[\"english_transcription\"], batch[\"intent_class\"], strict=False):\n",
    "            target_list = res[intent_id][\"sample_utterances\"]\n",
    "            if len(target_list) >= shots_per_intent:\n",
    "                continue\n",
    "            target_list.append(txt)\n",
    "\n",
    "    return res"
   ]
  },
  {
   "cell_type": "code",
   "execution_count": 95,
   "metadata": {},
   "outputs": [],
   "source": [
    "minds14_records = convert_minds14(ruminds14[\"train\"], shots_per_intent=5)"
   ]
  },
  {
   "cell_type": "code",
   "execution_count": 96,
   "metadata": {},
   "outputs": [
    {
     "data": {
      "text/plain": [
       "{'intent_id': 0,\n",
       " 'intent_name': None,\n",
       " 'sample_utterances': ['Hello, I would like to know if I can use my card abroad and I need to warn My Bank for this. Thank you',\n",
       "  'Hello, what will be the commission if I use my card abroad',\n",
       "  'Hello In a few days I am leaving for sweden for a whole month I would like to know if I can pay with my card Thank you',\n",
       "  'Hello, I am going abroad for a few weeks and would like to know Can I use your card there I would like to pay for purchases in America Do I need to do anything for this',\n",
       "  'Hello, I would like to ask you one question, I am going on vacation and I need to clarify whether my credit card will work abroad'],\n",
       " 'regexp_full_match': [],\n",
       " 'regexp_partial_match': []}"
      ]
     },
     "execution_count": 96,
     "metadata": {},
     "output_type": "execute_result"
    }
   ],
   "source": [
    "minds14_records[0]"
   ]
  },
  {
   "cell_type": "code",
   "execution_count": 97,
   "metadata": {},
   "outputs": [],
   "source": [
    "json.dump(minds14_records, open(\"../data/intent_records/minds14.json\", \"w\"), indent=4, ensure_ascii=False)"
   ]
  },
  {
   "cell_type": "markdown",
   "metadata": {},
   "source": [
    "## Massive"
   ]
  },
  {
   "cell_type": "code",
   "execution_count": 98,
   "metadata": {},
   "outputs": [
    {
     "data": {
      "application/vnd.jupyter.widget-view+json": {
       "model_id": "5f389e606b554e078096956d4a777222",
       "version_major": 2,
       "version_minor": 0
      },
      "text/plain": [
       "Downloading readme:   0%|          | 0.00/9.25k [00:00<?, ?B/s]"
      ]
     },
     "metadata": {},
     "output_type": "display_data"
    },
    {
     "data": {
      "application/vnd.jupyter.widget-view+json": {
       "model_id": "8a38134170ba4958b052c2f70a8681a1",
       "version_major": 2,
       "version_minor": 0
      },
      "text/plain": [
       "Resolving data files:   0%|          | 0/51 [00:00<?, ?it/s]"
      ]
     },
     "metadata": {},
     "output_type": "display_data"
    },
    {
     "data": {
      "application/vnd.jupyter.widget-view+json": {
       "model_id": "30735a193e1644ceb8b445dd25c34d22",
       "version_major": 2,
       "version_minor": 0
      },
      "text/plain": [
       "Resolving data files:   0%|          | 0/51 [00:00<?, ?it/s]"
      ]
     },
     "metadata": {},
     "output_type": "display_data"
    },
    {
     "data": {
      "application/vnd.jupyter.widget-view+json": {
       "model_id": "59926fda045444aeb9efecb41098b862",
       "version_major": 2,
       "version_minor": 0
      },
      "text/plain": [
       "Resolving data files:   0%|          | 0/51 [00:00<?, ?it/s]"
      ]
     },
     "metadata": {},
     "output_type": "display_data"
    },
    {
     "data": {
      "application/vnd.jupyter.widget-view+json": {
       "model_id": "76cf5c3dd57b4050924a7cbca003da3b",
       "version_major": 2,
       "version_minor": 0
      },
      "text/plain": [
       "Downloading data:   0%|          | 0.00/187k [00:00<?, ?B/s]"
      ]
     },
     "metadata": {},
     "output_type": "display_data"
    },
    {
     "data": {
      "application/vnd.jupyter.widget-view+json": {
       "model_id": "709760dde49744a68bff556f74241556",
       "version_major": 2,
       "version_minor": 0
      },
      "text/plain": [
       "Downloading data:   0%|          | 0.00/54.1k [00:00<?, ?B/s]"
      ]
     },
     "metadata": {},
     "output_type": "display_data"
    },
    {
     "data": {
      "application/vnd.jupyter.widget-view+json": {
       "model_id": "b736901731da4b369c5fe52fbe121e92",
       "version_major": 2,
       "version_minor": 0
      },
      "text/plain": [
       "Downloading data:   0%|          | 0.00/38.3k [00:00<?, ?B/s]"
      ]
     },
     "metadata": {},
     "output_type": "display_data"
    },
    {
     "data": {
      "application/vnd.jupyter.widget-view+json": {
       "model_id": "6a9613c2088548cebc2c6ac791a6045b",
       "version_major": 2,
       "version_minor": 0
      },
      "text/plain": [
       "Generating train split:   0%|          | 0/11514 [00:00<?, ? examples/s]"
      ]
     },
     "metadata": {},
     "output_type": "display_data"
    },
    {
     "data": {
      "application/vnd.jupyter.widget-view+json": {
       "model_id": "b9199d7f211e47f6999b38a058d19a3e",
       "version_major": 2,
       "version_minor": 0
      },
      "text/plain": [
       "Generating test split:   0%|          | 0/2974 [00:00<?, ? examples/s]"
      ]
     },
     "metadata": {},
     "output_type": "display_data"
    },
    {
     "data": {
      "application/vnd.jupyter.widget-view+json": {
       "model_id": "2518b85f40b04dca89fe20d84111cda8",
       "version_major": 2,
       "version_minor": 0
      },
      "text/plain": [
       "Generating validation split:   0%|          | 0/2033 [00:00<?, ? examples/s]"
      ]
     },
     "metadata": {},
     "output_type": "display_data"
    },
    {
     "data": {
      "text/plain": [
       "DatasetDict({\n",
       "    train: Dataset({\n",
       "        features: ['id', 'label', 'label_text', 'text', 'lang'],\n",
       "        num_rows: 11514\n",
       "    })\n",
       "    test: Dataset({\n",
       "        features: ['id', 'label', 'label_text', 'text', 'lang'],\n",
       "        num_rows: 2974\n",
       "    })\n",
       "    validation: Dataset({\n",
       "        features: ['id', 'label', 'label_text', 'text', 'lang'],\n",
       "        num_rows: 2033\n",
       "    })\n",
       "})"
      ]
     },
     "execution_count": 98,
     "metadata": {},
     "output_type": "execute_result"
    }
   ],
   "source": [
    "from datasets import load_dataset\n",
    "\n",
    "massive = load_dataset(\"mteb/amazon_massive_intent\", \"en\")\n",
    "massive"
   ]
  },
  {
   "cell_type": "code",
   "execution_count": 101,
   "metadata": {},
   "outputs": [
    {
     "data": {
      "text/plain": [
       "{'id': '1',\n",
       " 'label': 'alarm_set',\n",
       " 'label_text': 'alarm_set',\n",
       " 'text': 'wake me up at nine am on friday',\n",
       " 'lang': 'en'}"
      ]
     },
     "execution_count": 101,
     "metadata": {},
     "output_type": "execute_result"
    }
   ],
   "source": [
    "massive[\"train\"][0]"
   ]
  },
  {
   "cell_type": "code",
   "execution_count": 104,
   "metadata": {},
   "outputs": [
    {
     "name": "stdout",
     "output_type": "stream",
     "text": [
      "60\n"
     ]
    },
    {
     "data": {
      "text/plain": [
       "['alarm_query',\n",
       " 'alarm_remove',\n",
       " 'alarm_set',\n",
       " 'audio_volume_down',\n",
       " 'audio_volume_mute']"
      ]
     },
     "execution_count": 104,
     "metadata": {},
     "output_type": "execute_result"
    }
   ],
   "source": [
    "intent_names = sorted(massive[\"train\"].unique(\"label\"))\n",
    "intent_names[:5]"
   ]
  },
  {
   "cell_type": "code",
   "execution_count": 108,
   "metadata": {},
   "outputs": [],
   "source": [
    "def convert_massive(massive_train, shots_per_intent):\n",
    "    intent_names = sorted(massive_train.unique(\"label\"))\n",
    "    name_to_id = dict(zip(intent_names, range(len(intent_names)), strict=False))\n",
    "\n",
    "    res = [\n",
    "        {\n",
    "            \"intent_id\": i,\n",
    "            \"intent_name\": name,\n",
    "            \"sample_utterances\": [],\n",
    "            \"regexp_full_match\": [],\n",
    "            \"regexp_partial_match\": [],\n",
    "        }\n",
    "        for i, name in enumerate(intent_names)\n",
    "    ]\n",
    "\n",
    "    for batch in massive_train.iter(batch_size=16, drop_last_batch=False):\n",
    "        for txt, name in zip(batch[\"text\"], batch[\"label\"], strict=False):\n",
    "            intent_id = name_to_id[name]\n",
    "            target_list = res[intent_id][\"sample_utterances\"]\n",
    "            if len(target_list) >= shots_per_intent:\n",
    "                continue\n",
    "            target_list.append(txt)\n",
    "\n",
    "    return res"
   ]
  },
  {
   "cell_type": "code",
   "execution_count": 109,
   "metadata": {},
   "outputs": [],
   "source": [
    "massive_records = convert_massive(massive[\"train\"], shots_per_intent=5)"
   ]
  },
  {
   "cell_type": "code",
   "execution_count": 110,
   "metadata": {},
   "outputs": [
    {
     "data": {
      "text/plain": [
       "{'intent_id': 0,\n",
       " 'intent_name': 'alarm_query',\n",
       " 'sample_utterances': ['please list active alarms',\n",
       "  'show me the alarms i set',\n",
       "  'do i have any alarms',\n",
       "  'show alarms',\n",
       "  'do i have an alarm set for morning flight'],\n",
       " 'regexp_full_match': [],\n",
       " 'regexp_partial_match': []}"
      ]
     },
     "execution_count": 110,
     "metadata": {},
     "output_type": "execute_result"
    }
   ],
   "source": [
    "massive_records[0]"
   ]
  },
  {
   "cell_type": "code",
   "execution_count": 111,
   "metadata": {},
   "outputs": [],
   "source": [
    "json.dump(massive_records, open(\"../data/intent_records/massive.json\", \"w\"), indent=4, ensure_ascii=False)"
   ]
  },
  {
   "cell_type": "markdown",
   "metadata": {},
   "source": [
    "## russian Massive"
   ]
  },
  {
   "cell_type": "code",
   "execution_count": 112,
   "metadata": {},
   "outputs": [
    {
     "data": {
      "application/vnd.jupyter.widget-view+json": {
       "model_id": "a16a0d7a7c514a97a494066a490c6172",
       "version_major": 2,
       "version_minor": 0
      },
      "text/plain": [
       "Resolving data files:   0%|          | 0/51 [00:00<?, ?it/s]"
      ]
     },
     "metadata": {},
     "output_type": "display_data"
    },
    {
     "data": {
      "application/vnd.jupyter.widget-view+json": {
       "model_id": "4e0b28d506a24090ac74c59acbad7277",
       "version_major": 2,
       "version_minor": 0
      },
      "text/plain": [
       "Resolving data files:   0%|          | 0/51 [00:00<?, ?it/s]"
      ]
     },
     "metadata": {},
     "output_type": "display_data"
    },
    {
     "data": {
      "application/vnd.jupyter.widget-view+json": {
       "model_id": "9bfe1527816f47a69bb5c38bfd3c996a",
       "version_major": 2,
       "version_minor": 0
      },
      "text/plain": [
       "Resolving data files:   0%|          | 0/51 [00:00<?, ?it/s]"
      ]
     },
     "metadata": {},
     "output_type": "display_data"
    },
    {
     "data": {
      "application/vnd.jupyter.widget-view+json": {
       "model_id": "5196af6645e2437599cc7a6d0a15745b",
       "version_major": 2,
       "version_minor": 0
      },
      "text/plain": [
       "Downloading data:   0%|          | 0.00/262k [00:00<?, ?B/s]"
      ]
     },
     "metadata": {},
     "output_type": "display_data"
    },
    {
     "data": {
      "application/vnd.jupyter.widget-view+json": {
       "model_id": "7d59a289f8964af28e26d2f6c7d1140d",
       "version_major": 2,
       "version_minor": 0
      },
      "text/plain": [
       "Downloading data:   0%|          | 0.00/73.4k [00:00<?, ?B/s]"
      ]
     },
     "metadata": {},
     "output_type": "display_data"
    },
    {
     "data": {
      "application/vnd.jupyter.widget-view+json": {
       "model_id": "63b9cd3621bd465aafffc55b25b671de",
       "version_major": 2,
       "version_minor": 0
      },
      "text/plain": [
       "Downloading data:   0%|          | 0.00/51.8k [00:00<?, ?B/s]"
      ]
     },
     "metadata": {},
     "output_type": "display_data"
    },
    {
     "data": {
      "application/vnd.jupyter.widget-view+json": {
       "model_id": "4fb48901082e4711ad72fa008d3a0e2b",
       "version_major": 2,
       "version_minor": 0
      },
      "text/plain": [
       "Generating train split:   0%|          | 0/11514 [00:00<?, ? examples/s]"
      ]
     },
     "metadata": {},
     "output_type": "display_data"
    },
    {
     "data": {
      "application/vnd.jupyter.widget-view+json": {
       "model_id": "95329ddd27da46d1b664f5b121bcf865",
       "version_major": 2,
       "version_minor": 0
      },
      "text/plain": [
       "Generating test split:   0%|          | 0/2974 [00:00<?, ? examples/s]"
      ]
     },
     "metadata": {},
     "output_type": "display_data"
    },
    {
     "data": {
      "application/vnd.jupyter.widget-view+json": {
       "model_id": "73dece0b2fec4ce9aa6209a79aae616a",
       "version_major": 2,
       "version_minor": 0
      },
      "text/plain": [
       "Generating validation split:   0%|          | 0/2033 [00:00<?, ? examples/s]"
      ]
     },
     "metadata": {},
     "output_type": "display_data"
    },
    {
     "data": {
      "text/plain": [
       "DatasetDict({\n",
       "    train: Dataset({\n",
       "        features: ['id', 'label', 'label_text', 'text', 'lang'],\n",
       "        num_rows: 11514\n",
       "    })\n",
       "    test: Dataset({\n",
       "        features: ['id', 'label', 'label_text', 'text', 'lang'],\n",
       "        num_rows: 2974\n",
       "    })\n",
       "    validation: Dataset({\n",
       "        features: ['id', 'label', 'label_text', 'text', 'lang'],\n",
       "        num_rows: 2033\n",
       "    })\n",
       "})"
      ]
     },
     "execution_count": 112,
     "metadata": {},
     "output_type": "execute_result"
    }
   ],
   "source": [
    "from datasets import load_dataset\n",
    "\n",
    "rumassive = load_dataset(\"mteb/amazon_massive_intent\", \"ru\")\n",
    "rumassive"
   ]
  },
  {
   "cell_type": "code",
   "execution_count": 113,
   "metadata": {},
   "outputs": [
    {
     "data": {
      "text/plain": [
       "{'id': '1',\n",
       " 'label': 'alarm_set',\n",
       " 'label_text': 'alarm_set',\n",
       " 'text': 'разбуди меня в девять утра в пятницу',\n",
       " 'lang': 'ru'}"
      ]
     },
     "execution_count": 113,
     "metadata": {},
     "output_type": "execute_result"
    }
   ],
   "source": [
    "rumassive[\"train\"][0]"
   ]
  },
  {
   "cell_type": "code",
   "execution_count": 114,
   "metadata": {},
   "outputs": [],
   "source": [
    "rumassive_records = convert_massive(rumassive[\"train\"], shots_per_intent=5)"
   ]
  },
  {
   "cell_type": "code",
   "execution_count": 115,
   "metadata": {},
   "outputs": [
    {
     "data": {
      "text/plain": [
       "{'intent_id': 0,\n",
       " 'intent_name': 'alarm_query',\n",
       " 'sample_utterances': ['пожалуйста список активных будильников',\n",
       "  'покажи мне будильники которые я установил',\n",
       "  'у меня есть какие-то будильники',\n",
       "  'покажи будильники',\n",
       "  'имею ли я будильник на утренний рейс'],\n",
       " 'regexp_full_match': [],\n",
       " 'regexp_partial_match': []}"
      ]
     },
     "execution_count": 115,
     "metadata": {},
     "output_type": "execute_result"
    }
   ],
   "source": [
    "rumassive_records[0]"
   ]
  },
  {
   "cell_type": "code",
   "execution_count": 116,
   "metadata": {},
   "outputs": [],
   "source": [
    "json.dump(rumassive_records, open(\"../data/intent_records/ru_massive.json\", \"w\"), indent=4, ensure_ascii=False)"
   ]
  },
  {
   "cell_type": "markdown",
   "metadata": {},
   "source": [
    "## DialogStudio"
   ]
  },
  {
   "cell_type": "markdown",
   "metadata": {},
   "source": [
    "бесполезная разметка у этих датасетов :("
   ]
  },
  {
   "cell_type": "code",
   "execution_count": 1,
   "metadata": {},
   "outputs": [
    {
     "name": "stdout",
     "output_type": "stream",
     "text": [
      "❤️Attention❤️: Dataset download may take some time. We appreciate your patience!\n"
     ]
    }
   ],
   "source": [
    "from datasets import load_dataset\n",
    "\n",
    "\n",
    "def get_dataset(name):\n",
    "    return load_dataset(\"Salesforce/dialogstudio\", name, split=\"train\", trust_remote_code=True, token=True)\n",
    "\n",
    "\n",
    "sgd = get_dataset(\"SGD\")"
   ]
  },
  {
   "cell_type": "code",
   "execution_count": 7,
   "metadata": {},
   "outputs": [
    {
     "name": "stdout",
     "output_type": "stream",
     "text": [
      "❤️Attention❤️: Dataset download may take some time. We appreciate your patience!\n"
     ]
    }
   ],
   "source": [
    "multiwoz = get_dataset(\"MULTIWOZ2_2\")"
   ]
  },
  {
   "cell_type": "code",
   "execution_count": 9,
   "metadata": {},
   "outputs": [
    {
     "data": {
      "text/plain": [
       "{'original dialog id': 'SSNG0007.json',\n",
       " 'new dialog id': 'MULTIWOZ2_2--train--1',\n",
       " 'dialog index': 1,\n",
       " 'original dialog info': '{\"services\": [\"restaurant\"]}',\n",
       " 'log': [{'turn id': 1,\n",
       "   'user utterance': 'I am looking for a Chinese place in the centre.',\n",
       "   'system response': 'I have 10 restaurants matching your request. Did you have a price range you would like?',\n",
       "   'dialog history': '',\n",
       "   'original user side information': '{\"frames\": [{\"actions\": [], \"service\": \"restaurant\", \"slots\": [{\"exclusive_end\": 26, \"slot\": \"restaurant-food\", \"start\": 19, \"value\": \"Chinese\"}], \"state\": {\"active_intent\": \"find_restaurant\", \"requested_slots\": [], \"slot_values\": {\"restaurant-area\": [\"centre\"], \"restaurant-food\": [\"chinese\"]}}}, {\"actions\": [], \"service\": \"taxi\", \"slots\": [], \"state\": {\"active_intent\": \"NONE\", \"requested_slots\": [], \"slot_values\": {}}}, {\"actions\": [], \"service\": \"train\", \"slots\": [], \"state\": {\"active_intent\": \"NONE\", \"requested_slots\": [], \"slot_values\": {}}}, {\"actions\": [], \"service\": \"bus\", \"slots\": [], \"state\": {\"active_intent\": \"NONE\", \"requested_slots\": [], \"slot_values\": {}}}, {\"actions\": [], \"service\": \"police\", \"slots\": [], \"state\": {\"active_intent\": \"NONE\", \"requested_slots\": [], \"slot_values\": {}}}, {\"actions\": [], \"service\": \"hotel\", \"slots\": [], \"state\": {\"active_intent\": \"NONE\", \"requested_slots\": [], \"slot_values\": {}}}, {\"actions\": [], \"service\": \"attraction\", \"slots\": [], \"state\": {\"active_intent\": \"NONE\", \"requested_slots\": [], \"slot_values\": {}}}, {\"actions\": [], \"service\": \"hospital\", \"slots\": [], \"state\": {\"active_intent\": \"NONE\", \"requested_slots\": [], \"slot_values\": {}}}]}',\n",
       "   'original system side information': '{}',\n",
       "   'dst': '\"restaurant area centre , restaurant food chinese\"',\n",
       "   'dst accumulated': '\"restaurant area centre , restaurant food chinese\"',\n",
       "   'intent': '\"find_restaurant\"',\n",
       "   'external knowledge': '',\n",
       "   'external knowledge non-flat': ''},\n",
       "  {'turn id': 2,\n",
       "   'user utterance': \"No, it doesn't matter.\",\n",
       "   'system response': 'Would you like for it to have a certain number of stars?',\n",
       "   'dialog history': '<USER> I am looking for a Chinese place in the centre. <SYSTEM> I have 10 restaurants matching your request. Did you have a price range you would like?',\n",
       "   'original user side information': '{\"frames\": [{\"actions\": [], \"service\": \"restaurant\", \"slots\": [], \"state\": {\"active_intent\": \"find_restaurant\", \"requested_slots\": [], \"slot_values\": {\"restaurant-area\": [\"centre\"], \"restaurant-food\": [\"chinese\"]}}}, {\"actions\": [], \"service\": \"taxi\", \"slots\": [], \"state\": {\"active_intent\": \"NONE\", \"requested_slots\": [], \"slot_values\": {}}}, {\"actions\": [], \"service\": \"train\", \"slots\": [], \"state\": {\"active_intent\": \"NONE\", \"requested_slots\": [], \"slot_values\": {}}}, {\"actions\": [], \"service\": \"bus\", \"slots\": [], \"state\": {\"active_intent\": \"NONE\", \"requested_slots\": [], \"slot_values\": {}}}, {\"actions\": [], \"service\": \"police\", \"slots\": [], \"state\": {\"active_intent\": \"NONE\", \"requested_slots\": [], \"slot_values\": {}}}, {\"actions\": [], \"service\": \"hotel\", \"slots\": [], \"state\": {\"active_intent\": \"NONE\", \"requested_slots\": [], \"slot_values\": {}}}, {\"actions\": [], \"service\": \"attraction\", \"slots\": [], \"state\": {\"active_intent\": \"NONE\", \"requested_slots\": [], \"slot_values\": {}}}, {\"actions\": [], \"service\": \"hospital\", \"slots\": [], \"state\": {\"active_intent\": \"NONE\", \"requested_slots\": [], \"slot_values\": {}}}]}',\n",
       "   'original system side information': '{}',\n",
       "   'dst': '\"\"',\n",
       "   'dst accumulated': '\"restaurant area centre , restaurant food chinese\"',\n",
       "   'intent': '\"find_restaurant\"',\n",
       "   'external knowledge': '',\n",
       "   'external knowledge non-flat': ''},\n",
       "  {'turn id': 3,\n",
       "   'user utterance': 'No just book at a chinese place in the centre. I need a table for 4 at 15:00 on wednesday please.',\n",
       "   'system response': 'I have you at Jinling Noodle bar then, reference is OCNH3CJJ . Anything else you need?',\n",
       "   'dialog history': \"<USER> I am looking for a Chinese place in the centre. <SYSTEM> I have 10 restaurants matching your request. Did you have a price range you would like? <USER> No, it doesn't matter. <SYSTEM> Would you like for it to have a certain number of stars?\",\n",
       "   'original user side information': '{\"frames\": [{\"actions\": [], \"service\": \"restaurant\", \"slots\": [{\"exclusive_end\": 76, \"slot\": \"restaurant-booktime\", \"start\": 71, \"value\": \"15:00\"}], \"state\": {\"active_intent\": \"book_restaurant\", \"requested_slots\": [], \"slot_values\": {\"restaurant-area\": [\"centre\"], \"restaurant-bookday\": [\"wednesday\"], \"restaurant-bookpeople\": [\"4\"], \"restaurant-booktime\": [\"15:00\"], \"restaurant-food\": [\"chinese\"]}}}, {\"actions\": [], \"service\": \"taxi\", \"slots\": [], \"state\": {\"active_intent\": \"NONE\", \"requested_slots\": [], \"slot_values\": {}}}, {\"actions\": [], \"service\": \"train\", \"slots\": [], \"state\": {\"active_intent\": \"NONE\", \"requested_slots\": [], \"slot_values\": {}}}, {\"actions\": [], \"service\": \"bus\", \"slots\": [], \"state\": {\"active_intent\": \"NONE\", \"requested_slots\": [], \"slot_values\": {}}}, {\"actions\": [], \"service\": \"police\", \"slots\": [], \"state\": {\"active_intent\": \"NONE\", \"requested_slots\": [], \"slot_values\": {}}}, {\"actions\": [], \"service\": \"hotel\", \"slots\": [], \"state\": {\"active_intent\": \"NONE\", \"requested_slots\": [], \"slot_values\": {}}}, {\"actions\": [], \"service\": \"attraction\", \"slots\": [], \"state\": {\"active_intent\": \"NONE\", \"requested_slots\": [], \"slot_values\": {}}}, {\"actions\": [], \"service\": \"hospital\", \"slots\": [], \"state\": {\"active_intent\": \"NONE\", \"requested_slots\": [], \"slot_values\": {}}}]}',\n",
       "   'original system side information': '{}',\n",
       "   'dst': '\"restaurant bookpeople 4 , restaurant bookday wednesday , restaurant booktime 15:00\"',\n",
       "   'dst accumulated': '\"restaurant area centre , restaurant bookday wednesday , restaurant bookpeople 4 , restaurant booktime 15:00 , restaurant food chinese\"',\n",
       "   'intent': '\"book_restaurant\"',\n",
       "   'external knowledge': '',\n",
       "   'external knowledge non-flat': ''},\n",
       "  {'turn id': 4,\n",
       "   'user utterance': 'No that is it. Thank you.',\n",
       "   'system response': 'Have a great day!',\n",
       "   'dialog history': \"<USER> I am looking for a Chinese place in the centre. <SYSTEM> I have 10 restaurants matching your request. Did you have a price range you would like? <USER> No, it doesn't matter. <SYSTEM> Would you like for it to have a certain number of stars? <USER> No just book at a chinese place in the centre. I need a table for 4 at 15:00 on wednesday please. <SYSTEM> I have you at Jinling Noodle bar then, reference is OCNH3CJJ . Anything else you need?\",\n",
       "   'original user side information': '{\"frames\": [{\"actions\": [], \"service\": \"restaurant\", \"slots\": [], \"state\": {\"active_intent\": \"book_restaurant\", \"requested_slots\": [], \"slot_values\": {\"restaurant-area\": [\"centre\"], \"restaurant-bookday\": [\"wednesday\"], \"restaurant-bookpeople\": [\"4\"], \"restaurant-booktime\": [\"15:00\"], \"restaurant-food\": [\"chinese\"], \"restaurant-name\": [\"jinling noodle bar\"]}}}, {\"actions\": [], \"service\": \"taxi\", \"slots\": [], \"state\": {\"active_intent\": \"NONE\", \"requested_slots\": [], \"slot_values\": {}}}, {\"actions\": [], \"service\": \"train\", \"slots\": [], \"state\": {\"active_intent\": \"NONE\", \"requested_slots\": [], \"slot_values\": {}}}, {\"actions\": [], \"service\": \"bus\", \"slots\": [], \"state\": {\"active_intent\": \"NONE\", \"requested_slots\": [], \"slot_values\": {}}}, {\"actions\": [], \"service\": \"police\", \"slots\": [], \"state\": {\"active_intent\": \"NONE\", \"requested_slots\": [], \"slot_values\": {}}}, {\"actions\": [], \"service\": \"hotel\", \"slots\": [], \"state\": {\"active_intent\": \"NONE\", \"requested_slots\": [], \"slot_values\": {}}}, {\"actions\": [], \"service\": \"attraction\", \"slots\": [], \"state\": {\"active_intent\": \"NONE\", \"requested_slots\": [], \"slot_values\": {}}}, {\"actions\": [], \"service\": \"hospital\", \"slots\": [], \"state\": {\"active_intent\": \"NONE\", \"requested_slots\": [], \"slot_values\": {}}}]}',\n",
       "   'original system side information': '{}',\n",
       "   'dst': '\"restaurant name jinling noodle bar\"',\n",
       "   'dst accumulated': '\"restaurant area centre , restaurant bookday wednesday , restaurant bookpeople 4 , restaurant booktime 15:00 , restaurant food chinese , restaurant name jinling noodle bar\"',\n",
       "   'intent': '\"book_restaurant\"',\n",
       "   'external knowledge': '',\n",
       "   'external knowledge non-flat': ''}],\n",
       " 'prompt': ['This is a bot helping users to find a restaurant. Given the dialog context and external database, please generate a relevant system response for the user.',\n",
       "  'This bot assists users to find a restaurant. Based on the dialogue context and information from the external database, please generate an appropriate response for the user.',\n",
       "  'This bot helps users to find a restaurant. Based on the conversation history and available external data, please generate a relevant system response for the user.',\n",
       "  'The purpose of this bot is to assist users to find a restaurant. Considering the dialogue context and the information available in the external database, please provide a fitting response for the user.',\n",
       "  'This bot is designed to help users find a restaurant. By utilizing the current dialog context and external resources, generate a fitting response for the user.'],\n",
       " 'external knowledge non-flat': '{\"metadata\": {\"restaurant\": [{\"address\": \"11 Peas Hill City Centre\", \"area\": \"centre\", \"food\": \"chinese\", \"id\": \"19242\", \"introduction\": \"jinling noodle bar serves a wide range of chinese and shanghai dishes reflecting many different flavours and ingredients\", \"location\": [52.204453, 0.118693], \"name\": \"jinling noodle bar\", \"phone\": \"01223566188\", \"postcode\": \"cb23pp\", \"pricerange\": \"moderate\", \"type\": \"restaurant\"}, {\"address\": \"12 Norfolk Street City Centre\", \"area\": \"centre\", \"food\": \"chinese\", \"id\": \"19186\", \"introduction\": \"lan hong house serves great value home cooked authentic chinese food with over two five dishes available from the buffet\", \"location\": [52.204609, 0.137976], \"name\": \"lan hong house\", \"phone\": \"01223350420\", \"postcode\": \"cb12lf\", \"pricerange\": \"moderate\", \"type\": \"restaurant\"}, {\"address\": \"39 Burleigh Street City Centre\", \"area\": \"centre\", \"food\": \"chinese\", \"id\": \"19173\", \"introduction\": \"shanghai family restaurant comprises a french cafe on the lower level and a chinese restaurant upstairs\", \"location\": [52.206111, 0.132969], \"name\": \"shanghai family restaurant\", \"phone\": \"01223301761\", \"postcode\": \"cb11dg\", \"pricerange\": \"moderate\", \"type\": \"restaurant\"}, {\"address\": \"Jesus Lane Fen Ditton\", \"area\": \"centre\", \"food\": \"italian\", \"id\": \"19269\", \"introduction\": \"the simple menu and kitchen concept at pizza express has retained its freshly made ideal, and you can still watch your pizza being prepared for you. This branch has live jazz music\", \"location\": [52.208252, 0.119957], \"name\": \"pizza express Fen Ditton\", \"phone\": \"01223324033\", \"postcode\": \"cb58ba\", \"pricerange\": \"moderate\", \"type\": \"restaurant\"}, {\"address\": \"5 Jordans Yard Bridge Street City Centre\", \"area\": \"centre\", \"food\": \"indian\", \"id\": \"19231\", \"introduction\": \"curry king serve a variety of indian dishes to eat in or take away catering for private parties of up to 40 guests is available upon request\", \"location\": [52.209003, 0.118661], \"name\": \"curry king\", \"phone\": \"01223324351\", \"postcode\": \"cb21ug\", \"pricerange\": \"expensive\", \"type\": \"restaurant\"}, {\"address\": \"7 Barnwell Road Fen Ditton\", \"area\": \"east\", \"food\": \"indian\", \"id\": \"19274\", \"introduction\": \"rajmahal serves traditional indian cuisine accomapnied by a broad wine list with beers and spirits also available\", \"location\": [52.211144, 0.163247], \"name\": \"rajmahal\", \"phone\": \"01223244955\", \"postcode\": \"cb58rg\", \"pricerange\": \"moderate\", \"type\": \"restaurant\"}, {\"address\": \"2G Cambridge Leisure Park Cherry Hinton Road Cherry Hinton\", \"area\": \"south\", \"food\": \"mexican\", \"id\": \"19194\", \"introduction\": \"chiquito is a chain of inexpensive tex mex restaurants predominantly aimed at tourists. They serve a variety of mexican and north of the border food as well as a range of cocktails\", \"location\": [52.190176, 0.13699], \"name\": \"chiquito restaurant bar\", \"phone\": \"01223400170\", \"postcode\": \"cb17dy\", \"pricerange\": \"expensive\", \"type\": \"restaurant\"}, {\"address\": \"Huntingdon Road City Centre\", \"area\": \"west\", \"food\": \"british\", \"id\": \"19251\", \"introduction\": \"\", \"location\": [52.214201, 0.108588], \"name\": \"travellers rest\", \"phone\": \"01223276182\", \"postcode\": \"cb30df\", \"pricerange\": \"expensive\", \"type\": \"restaurant\"}, {\"address\": \"24 Green Street City Centre\", \"area\": \"centre\", \"food\": \"thai\", \"id\": \"19236\", \"introduction\": \"bangkok city serve a variety of authentic dishes to eat in or take away\", \"location\": [52.206504, 0.119157], \"name\": \"bangkok city\", \"phone\": \"01223354382\", \"postcode\": \"cb23jx\", \"pricerange\": \"expensive\", \"type\": \"restaurant\"}, {\"address\": \"Cambridge City Football Club Milton Road Chesterton\", \"area\": \"north\", \"id\": \"19262\", \"introduction\": \"located in cambridge city football club, city stop restaurant serve a variety of english and italian dishes as well as offering a selection of vegetarian options catering for corporate events and private parties of up to 100 guests is available upon request.\", \"location\": [52.215157, 0.125015], \"name\": \"city stop restaurant\", \"phone\": \"01223363270\", \"postcode\": \"cb41uy\", \"pricerange\": \"expensive\", \"food\": \"european\", \"type\": \"restaurant\"}]}, \"slots and values\": {\"restaurant\": {\"day\": [\"monday\", \"saturday|thursday\", \"tuesday\", \"tuesday\", \"monday\", \"monday\", \"saturday\", \"thursday\", \"wednesday\", \"thursday\"], \"people\": [\"2\", \"5\", \"6\", \"2\", \"8\", \"2\", \"3\", \"3\", \"8\", \"5\"], \"time\": [\"18:00\", \"19:00\", \"11:00\", \"21:00\", \"20:00\", \"17:30\", \"17:45\", \"18:00|12:15\", \"16:00\", \"17:00|16:00\"], \"area\": [\"west\", \"centre\", \"south\", \"centre\", \"east|south\", \"dontcare\", \"dontcare\", \"east\", \"centre\", \"south\"], \"food\": [\"crossover\", \"dojo noodle bar\", \"eritrean\", \"middle eastern\", \"chinese|mexican\", \"unusual\", \"japanese\", \"south indian\", \"cuban\", \"canapes\"], \"name\": [\"bedouin\", \"sala thong|bangkok city\", \"the hotpot\", \"cafe uno\", \"pipasha restaurant\", \"cafe uno\", \"saffron brasserie\", \"sala thong\", \"the lucky star\", \"mahal of cambridge\"], \"pricerange\": [\"moderate\", \"moderate|cheap\", \"moderate|cheap\", \"expensive\", \"moderate|cheap\", \"expensive\", \"moderate|cheap\", \"moderate\", \"moderate\", \"cheap\"]}}, \"intents\": {\"restaurant\": [\"Restaurant-Inform\", \"Restaurant-NoOffer\", \"Restaurant-Recommend\", \"Restaurant-Request\", \"Restaurant-Select\"], \"booking\": [\"Booking-Book\", \"Booking-Inform\", \"Booking-NoBook\", \"Booking-Request\"], \"general\": [\"general-bye\", \"general-greet\", \"general-reqmore\", \"general-welcome\"]}}',\n",
       " 'external knowledge': '\"( restaurant : (( address : 11 Peas Hill City Centre | area : centre | food : chinese | id : 19242 | introduction : jinling noodle bar serves a wide range of chinese and shanghai dishes reflecting many different flavours and ingredients | location : (52.204453 | 0.118693) | name : jinling noodle bar | phone : 01223566188 | postcode : cb23pp | pricerange : moderate | type : restaurant ) | ( address : 12 Norfolk Street City Centre | area : centre | food : chinese | id : 19186 | introduction : lan hong house serves great value home cooked authentic chinese food with over two five dishes available from the buffet | location : (52.204609 | 0.137976) | name : lan hong house | phone : 01223350420 | postcode : cb12lf | pricerange : moderate | type : restaurant ) | ( address : 39 Burleigh Street City Centre | area : centre | food : chinese | id : 19173 | introduction : shanghai family restaurant comprises a french cafe on the lower level and a chinese restaurant upstairs | location : (52.206111 | 0.132969) | name : shanghai family restaurant | phone : 01223301761 | postcode : cb11dg | pricerange : moderate | type : restaurant ) | ( address : Jesus Lane Fen Ditton | area : centre | food : italian | id : 19269 | introduction : the simple menu and kitchen concept at pizza express has retained its freshly made ideal | and you can still watch your pizza being prepared for you. This branch has live jazz music | location : (52.208252 | 0.119957) | name : pizza express Fen Ditton | phone : 01223324033 | postcode : cb58ba | pricerange : moderate | type : restaurant ) | ( address : 5 Jordans Yard Bridge Street City Centre | area : centre | food : indian | id : 19231 | introduction : curry king serve a variety of indian dishes to eat in or take away catering for private parties of up to 40 guests is available upon request | location : (52.209003 | 0.118661) | name : curry king | phone : 01223324351 | postcode : cb21ug | pricerange : expensive | type : restaurant ) | ( address : 7 Barnwell Road Fen Ditton | area : east | food : indian | id : 19274 | introduction : rajmahal serves traditional indian cuisine accomapnied by a broad wine list with beers and spirits also available | location : (52.211144 | 0.163247) | name : rajmahal | phone : 01223244955 | postcode : cb58rg | pricerange : moderate | type : restaurant ) | ( address : 2G Cambridge Leisure Park Cherry Hinton Road Cherry Hinton | area : south | food : mexican | id : 19194 | introduction : chiquito is a chain of inexpensive tex mex restaurants predominantly aimed at tourists. They serve a variety of mexican and north of the border food as well as a range of cocktails | location : (52.190176 | 0.13699) | name : chiquito restaurant bar | phone : 01223400170 | postcode : cb17dy | pricerange : expensive | type : restaurant ) | ( address : Huntingdon Road City Centre | area : west | food : british | id : 19251 | introduction :  | location : (52.214201 | 0.108588) | name : travellers rest | phone : 01223276182 | postcode : cb30df | pricerange : expensive | type : restaurant ) | ( address : 24 Green Street City Centre | area : centre | food : thai | id : 19236 | introduction : bangkok city serve a variety of authentic dishes to eat in or take away | location : (52.206504 | 0.119157) | name : bangkok city | phone : 01223354382 | postcode : cb23jx | pricerange : expensive | type : restaurant ) | ( address : Cambridge City Football Club Milton Road Chesterton | area : north | id : 19262 | introduction : located in cambridge city football club | city stop restaurant serve a variety of english and italian dishes as well as offering a selection of vegetarian options catering for corporate events and private parties of up to 100 guests is available upon request. | location : (52.215157 | 0.125015) | name : city stop restaurant | phone : 01223363270 | postcode : cb41uy | pricerange : expensive | food : european | type : restaurant )))\"',\n",
       " 'dst knowledge': '\"( restaurant : ( day : ( monday | saturday|thursday | tuesday | tuesday | monday | monday | saturday | thursday | wednesday | thursday ) | people : ( 2 | 5 | 6 | 2 | 8 | 2 | 3 | 3 | 8 | 5 ) | time : ( 18:00 | 19:00 | 11:00 | 21:00 | 20:00 | 17:30 | 17:45 | 18:00|12:15 | 16:00 | 17:00|16:00 ) | area : ( west | centre | south | centre | east|south | dontcare | dontcare | east | centre | south ) | food : ( crossover | dojo noodle bar | eritrean | middle eastern | chinese|mexican | unusual | japanese | south indian | cuban | canapes ) | name : ( bedouin | sala thong|bangkok city | the hotpot | cafe uno | pipasha restaurant | cafe uno | saffron brasserie | sala thong | the lucky star | mahal of cambridge ) | pricerange : ( moderate | moderate|cheap | moderate|cheap | expensive | moderate|cheap | expensive | moderate|cheap | moderate | moderate | cheap )))\"',\n",
       " 'intent knowledge': '\"( restaurant : ( Restaurant-Inform | Restaurant-NoOffer | Restaurant-Recommend | Restaurant-Request | Restaurant-Select ) | booking : ( Booking-Book | Booking-Inform | Booking-NoBook | Booking-Request ) | general : ( general-bye | general-greet | general-reqmore | general-welcome ))\"'}"
      ]
     },
     "execution_count": 9,
     "metadata": {},
     "output_type": "execute_result"
    }
   ],
   "source": [
    "multiwoz[0]"
   ]
  },
  {
   "cell_type": "markdown",
   "metadata": {},
   "source": [
    "## AC Robotic"
   ]
  },
  {
   "cell_type": "code",
   "execution_count": 78,
   "metadata": {},
   "outputs": [
    {
     "data": {
      "text/plain": [
       "18"
      ]
     },
     "execution_count": 78,
     "metadata": {},
     "output_type": "execute_result"
    }
   ],
   "source": [
    "import json\n",
    "\n",
    "robotic_intents = json.load(open(\"../data/ac_robotic_intents.json\"))\n",
    "len(robotic_intents)"
   ]
  },
  {
   "cell_type": "code",
   "execution_count": 79,
   "metadata": {},
   "outputs": [
    {
     "data": {
      "text/plain": [
       "{'name': 'move_forward',\n",
       " 'phrases': ['(пожалуйста(,){0,1} ){0,1}((проедь)|(проезжай)|(едь)|(езжай)|(двигайся)|(подвинься)|(продвигайся)|(отъедь)|(отъезжай)) ((вперёд)|(вперед)|(по прямой)|(прямо)) (на ){0,1}((2)|(три)|(17)|(десять)){0,1}( метров){0,1}',\n",
       "  '(пожалуйста(,){0,1} ){0,1}((проедь)|(проезжай)|(едь)|(езжай)|(двигайся)|(подвинься)|(продвигайся)|(отъедь)|(отъезжай)) ((вперёд)|(вперед)|(по прямой)|(прямо)) (на ){0,1}((10)|(десять)){0,1}( метров){0,1}(, если можешь){0,1}',\n",
       "  '((тебе ((надо)|(следует)|(стоит))|ты (можешь|мог бы|не мог бы)) ){0,1}((проехать)|(отъехать)|(доехать)|(продвинуться)|(подвинуться)) ((вперёд)|(вперед)|(по прямой)|(прямо)) (на ){0,1}((6)|(пять)){0,1}( метров){0,1}',\n",
       "  '(робот(,){0,1} ){0,1}(пожалуйста(,){0,1} ){0,1}((проедь)|(проезжай)|(едь)|(езжай)|(двигайся)|(подвинься)|(продвигайся)) (на ){0,1}((7)|(четыре)|(11)|(двенадцать)){0,1}( метров){0,1}',\n",
       "  'было бы хорошо, если бы ты ((проехал)|(продвинулся)|(подвинулся)|(отъехал)) ((вперёд)|(вперед)|(по прямой)|(прямо)) (на ){0,1}((20)|(семь)|(11)|(одиннадцать)){0,1}( метров){0,1}'],\n",
       " 'reg_phrases': ['(пожалуйста(,){0,1} ){0,1}((проедь)|(проезжай)|(едь)|(езжай)|(двигайся)|(подвинься)|(продвигайся)|(отъедь)|(отъезжай)) ((вперёд)|(вперед)|(по прямой)|(прямо)) .* метров',\n",
       "  '(пожалуйста(,){0,1} ){0,1}((проедь)|(проезжай)|(едь)|(езжай)|(двигайся)|(подвинься)|(продвигайся)|(отъедь)|(отъезжай)) ((вперёд)|(вперед)|(по прямой)|(прямо)) .* метров',\n",
       "  '(тебе ((надо)|(следует)|(стоит)) ){0,1}((проехать)|(отъехать)|(доехать)|(продвинуться)|(подвинуться)) ((вперёд)|(вперед)|(по прямой)|(прямо)) .* метров',\n",
       "  '(робот(,){0,1} ){0,1}(пожалуйста(,){0,1} ){0,1}((проедь)|(проезжай)|(едь)|(езжай)|(двигайся)|(подвинься)|(продвигайся)) .* метров',\n",
       "  'было бы хорошо, если бы ты ((проехал)|(продвинулся)|(подвинулся)|(отъехал)) ((вперёд)|(вперед)|(по прямой)|(прямо)) .* метров'],\n",
       " 'min_precision': 0.94,\n",
       " 'punctuation': ['.', '?']}"
      ]
     },
     "execution_count": 79,
     "metadata": {},
     "output_type": "execute_result"
    }
   ],
   "source": [
    "robotic_intents[0]"
   ]
  },
  {
   "cell_type": "code",
   "execution_count": 80,
   "metadata": {},
   "outputs": [
    {
     "data": {
      "text/plain": [
       "['GO',\n",
       " 'disable_autopilot',\n",
       " 'drop',\n",
       " 'enable_autopilot',\n",
       " 'go_to',\n",
       " 'move_backward',\n",
       " 'move_forward',\n",
       " 'pick_up',\n",
       " 'place',\n",
       " 'say',\n",
       " 'set_point',\n",
       " 'sit_down',\n",
       " 'stand_up',\n",
       " 'status',\n",
       " 'stop',\n",
       " 'turn_left',\n",
       " 'turn_right',\n",
       " 'world_state']"
      ]
     },
     "execution_count": 80,
     "metadata": {},
     "output_type": "execute_result"
    }
   ],
   "source": [
    "intent_names = sorted({record[\"name\"] for record in robotic_intents})\n",
    "intent_names"
   ]
  },
  {
   "cell_type": "code",
   "execution_count": 81,
   "metadata": {},
   "outputs": [
    {
     "data": {
      "text/plain": [
       "{'GO': 0,\n",
       " 'disable_autopilot': 1,\n",
       " 'drop': 2,\n",
       " 'enable_autopilot': 3,\n",
       " 'go_to': 4,\n",
       " 'move_backward': 5,\n",
       " 'move_forward': 6,\n",
       " 'pick_up': 7,\n",
       " 'place': 8,\n",
       " 'say': 9,\n",
       " 'set_point': 10,\n",
       " 'sit_down': 11,\n",
       " 'stand_up': 12,\n",
       " 'status': 13,\n",
       " 'stop': 14,\n",
       " 'turn_left': 15,\n",
       " 'turn_right': 16,\n",
       " 'world_state': 17}"
      ]
     },
     "execution_count": 81,
     "metadata": {},
     "output_type": "execute_result"
    }
   ],
   "source": [
    "name_to_id = {name: i for i, name in enumerate(intent_names)}\n",
    "name_to_id"
   ]
  },
  {
   "cell_type": "code",
   "execution_count": 82,
   "metadata": {},
   "outputs": [],
   "source": [
    "for intent in robotic_intents:\n",
    "    intent[\"intent_id\"] = name_to_id[intent[\"name\"]]\n",
    "    intent[\"intent_name\"] = intent.pop(\"name\")\n",
    "    intent[\"sample_utterances\"] = []\n",
    "    intent[\"regexp_full_match\"] = intent.pop(\"phrases\")\n",
    "    intent[\"regexp_partial_match\"] = intent.pop(\"reg_phrases\")\n",
    "    intent.pop(\"punctuation\")\n",
    "    intent.pop(\"min_precision\")"
   ]
  },
  {
   "cell_type": "code",
   "execution_count": 83,
   "metadata": {},
   "outputs": [
    {
     "data": {
      "text/plain": [
       "{'intent_id': 6,\n",
       " 'intent_name': 'move_forward',\n",
       " 'sample_utterances': [],\n",
       " 'regexp_full_match': ['(пожалуйста(,){0,1} ){0,1}((проедь)|(проезжай)|(едь)|(езжай)|(двигайся)|(подвинься)|(продвигайся)|(отъедь)|(отъезжай)) ((вперёд)|(вперед)|(по прямой)|(прямо)) (на ){0,1}((2)|(три)|(17)|(десять)){0,1}( метров){0,1}',\n",
       "  '(пожалуйста(,){0,1} ){0,1}((проедь)|(проезжай)|(едь)|(езжай)|(двигайся)|(подвинься)|(продвигайся)|(отъедь)|(отъезжай)) ((вперёд)|(вперед)|(по прямой)|(прямо)) (на ){0,1}((10)|(десять)){0,1}( метров){0,1}(, если можешь){0,1}',\n",
       "  '((тебе ((надо)|(следует)|(стоит))|ты (можешь|мог бы|не мог бы)) ){0,1}((проехать)|(отъехать)|(доехать)|(продвинуться)|(подвинуться)) ((вперёд)|(вперед)|(по прямой)|(прямо)) (на ){0,1}((6)|(пять)){0,1}( метров){0,1}',\n",
       "  '(робот(,){0,1} ){0,1}(пожалуйста(,){0,1} ){0,1}((проедь)|(проезжай)|(едь)|(езжай)|(двигайся)|(подвинься)|(продвигайся)) (на ){0,1}((7)|(четыре)|(11)|(двенадцать)){0,1}( метров){0,1}',\n",
       "  'было бы хорошо, если бы ты ((проехал)|(продвинулся)|(подвинулся)|(отъехал)) ((вперёд)|(вперед)|(по прямой)|(прямо)) (на ){0,1}((20)|(семь)|(11)|(одиннадцать)){0,1}( метров){0,1}'],\n",
       " 'regexp_partial_match': ['(пожалуйста(,){0,1} ){0,1}((проедь)|(проезжай)|(едь)|(езжай)|(двигайся)|(подвинься)|(продвигайся)|(отъедь)|(отъезжай)) ((вперёд)|(вперед)|(по прямой)|(прямо)) .* метров',\n",
       "  '(пожалуйста(,){0,1} ){0,1}((проедь)|(проезжай)|(едь)|(езжай)|(двигайся)|(подвинься)|(продвигайся)|(отъедь)|(отъезжай)) ((вперёд)|(вперед)|(по прямой)|(прямо)) .* метров',\n",
       "  '(тебе ((надо)|(следует)|(стоит)) ){0,1}((проехать)|(отъехать)|(доехать)|(продвинуться)|(подвинуться)) ((вперёд)|(вперед)|(по прямой)|(прямо)) .* метров',\n",
       "  '(робот(,){0,1} ){0,1}(пожалуйста(,){0,1} ){0,1}((проедь)|(проезжай)|(едь)|(езжай)|(двигайся)|(подвинься)|(продвигайся)) .* метров',\n",
       "  'было бы хорошо, если бы ты ((проехал)|(продвинулся)|(подвинулся)|(отъехал)) ((вперёд)|(вперед)|(по прямой)|(прямо)) .* метров']}"
      ]
     },
     "execution_count": 83,
     "metadata": {},
     "output_type": "execute_result"
    }
   ],
   "source": [
    "robotic_intents[0]"
   ]
  },
  {
   "cell_type": "code",
   "execution_count": 88,
   "metadata": {},
   "outputs": [],
   "source": [
    "json.dump(robotic_intents, open(\"../data/intent_records/ac_robotic.json\", \"w\"), indent=4, ensure_ascii=False)"
   ]
  },
  {
   "cell_type": "markdown",
   "metadata": {},
   "source": [
    "## AC Robotic (new version)"
   ]
  },
  {
   "cell_type": "code",
   "execution_count": 2,
   "metadata": {},
   "outputs": [
    {
     "data": {
      "text/plain": [
       "(18, 3)"
      ]
     },
     "execution_count": 2,
     "metadata": {},
     "output_type": "execute_result"
    }
   ],
   "source": [
    "import json\n",
    "\n",
    "robotic_data = json.load(open(\"../data/ac_robotic_2_raw.json\"))\n",
    "robotic_intents = robotic_data[\"intents\"]\n",
    "robotic_tags = robotic_data[\"tags\"]\n",
    "len(robotic_intents), len(robotic_tags)"
   ]
  },
  {
   "cell_type": "code",
   "execution_count": 3,
   "metadata": {},
   "outputs": [
    {
     "data": {
      "text/plain": [
       "['GO',\n",
       " 'disable_autopilot',\n",
       " 'drop',\n",
       " 'enable_autopilot',\n",
       " 'go_to',\n",
       " 'move_backward',\n",
       " 'move_forward',\n",
       " 'pick_up',\n",
       " 'place',\n",
       " 'say',\n",
       " 'set_point',\n",
       " 'sit_down',\n",
       " 'stand_up',\n",
       " 'status',\n",
       " 'stop',\n",
       " 'turn_left',\n",
       " 'turn_right',\n",
       " 'world_state']"
      ]
     },
     "execution_count": 3,
     "metadata": {},
     "output_type": "execute_result"
    }
   ],
   "source": [
    "intent_names = sorted({record[\"name\"] for record in robotic_intents})\n",
    "intent_names"
   ]
  },
  {
   "cell_type": "code",
   "execution_count": 4,
   "metadata": {},
   "outputs": [
    {
     "data": {
      "text/plain": [
       "{'GO': 0,\n",
       " 'disable_autopilot': 1,\n",
       " 'drop': 2,\n",
       " 'enable_autopilot': 3,\n",
       " 'go_to': 4,\n",
       " 'move_backward': 5,\n",
       " 'move_forward': 6,\n",
       " 'pick_up': 7,\n",
       " 'place': 8,\n",
       " 'say': 9,\n",
       " 'set_point': 10,\n",
       " 'sit_down': 11,\n",
       " 'stand_up': 12,\n",
       " 'status': 13,\n",
       " 'stop': 14,\n",
       " 'turn_left': 15,\n",
       " 'turn_right': 16,\n",
       " 'world_state': 17}"
      ]
     },
     "execution_count": 4,
     "metadata": {},
     "output_type": "execute_result"
    }
   ],
   "source": [
    "name_to_id = {name: i for i, name in enumerate(intent_names)}\n",
    "name_to_id"
   ]
  },
  {
   "cell_type": "code",
   "execution_count": 5,
   "metadata": {},
   "outputs": [],
   "source": [
    "for intent in robotic_intents:\n",
    "    intent[\"intent_id\"] = name_to_id[intent[\"name\"]]\n",
    "    intent[\"intent_name\"] = intent.pop(\"name\")\n",
    "    intent[\"sample_utterances\"] = []\n",
    "    intent[\"regexp_full_match\"] = intent.pop(\"phrases\")\n",
    "    intent[\"regexp_partial_match\"] = intent.pop(\"reg_phrases\")\n",
    "    intent.pop(\"punctuation\")\n",
    "    intent.pop(\"min_precision\")"
   ]
  },
  {
   "cell_type": "code",
   "execution_count": 6,
   "metadata": {},
   "outputs": [
    {
     "data": {
      "text/plain": [
       "{'tags': ['movement_direction'],\n",
       " 'intent_id': 6,\n",
       " 'intent_name': 'move_forward',\n",
       " 'sample_utterances': [],\n",
       " 'regexp_full_match': ['(пожалуйста(,){0,1} ){0,1}((проедь)|(проезжай)|(едь)|(езжай)|(двигайся)|(подвинься)|(продвигайся)|(отъедь)|(отъезжай)) ((вперёд)|(вперед)|(по прямой)|(прямо)) (на ){0,1}((2)|(три)|(17)|(десять)){0,1}( метров){0,1}',\n",
       "  '(пожалуйста(,){0,1} ){0,1}((проедь)|(проезжай)|(едь)|(езжай)|(двигайся)|(подвинься)|(продвигайся)|(отъедь)|(отъезжай)) ((вперёд)|(вперед)|(по прямой)|(прямо)) (на ){0,1}((10)|(десять)){0,1}( метров){0,1}(, если можешь){0,1}',\n",
       "  '((тебе ((надо)|(следует)|(стоит))|ты (можешь|мог бы|не мог бы)) ){0,1}((проехать)|(отъехать)|(доехать)|(продвинуться)|(подвинуться)) ((вперёд)|(вперед)|(по прямой)|(прямо)) (на ){0,1}((6)|(пять)){0,1}( метров){0,1}',\n",
       "  '(робот(,){0,1} ){0,1}(пожалуйста(,){0,1} ){0,1}((проедь)|(проезжай)|(едь)|(езжай)|(двигайся)|(подвинься)|(продвигайся)) (на ){0,1}((7)|(четыре)|(11)|(двенадцать)){0,1}( метров){0,1}',\n",
       "  'было бы хорошо, если бы ты ((проехал)|(продвинулся)|(подвинулся)|(отъехал)) ((вперёд)|(вперед)|(по прямой)|(прямо)) (на ){0,1}((20)|(семь)|(11)|(одиннадцать)){0,1}( метров){0,1}'],\n",
       " 'regexp_partial_match': ['(?i)(?:пожалуйста,?\\\\s*)?(?:робот,?\\\\s*)?(?:(?:про|по)?ед(?:ь(?:те)?|у)|(?:про|по)?езжай(?:те)?|двигай(?:ся|тесь)|(?:про|под)вин(?:ь(?:ся|тесь)|усь)|отъ?езжай(?:те)?)\\\\s+(?:вперёд|вперед|прямо|по\\\\s+прямой)(?:\\\\s+на\\\\s+(?:\\\\d+|[а-я]+)\\\\s*(?:метр(?:ов|а)?|м\\\\.?|шаг(?:ов|а)?))?(?:,?\\\\s*если\\\\s+можешь)?',\n",
       "  '(?i)(?:(?:не\\\\s+)?мог(?:\\\\s+бы)?\\\\s+(?:ли\\\\s+)?(?:ты|вы)|(?:ты\\\\s+)?(?:не\\\\s+)?мо(?:жешь|г(?:ла|ли)\\\\s+бы)|способен\\\\s+ли\\\\s+ты)\\\\s+(?:про|по)?ехать\\\\s+(?:вперёд|вперед|прямо|по\\\\s+прямой)(?:\\\\s+на\\\\s+(?:\\\\d+|[а-я]+)\\\\s*(?:метр(?:ов|а)?|м\\\\.?|шаг(?:ов|а)?))?',\n",
       "  '(?i)(?:тебе\\\\s+(?:надо|следует|стоит)|нужно|необходимо|требуется|следует)\\\\s+(?:про|по)?ехать\\\\s+(?:вперёд|вперед|прямо|по\\\\s+прямой)(?:\\\\s+на\\\\s+(?:\\\\d+|[а-я]+)\\\\s*(?:метр(?:ов|а)?|м\\\\.?|шаг(?:ов|а)?))?',\n",
       "  '(?i)(?:хорошо\\\\s+бы|было\\\\s+бы\\\\s+(?:неплохо|здорово|хорошо))(?:,?\\\\s*если\\\\s+бы)?\\\\s+(?:ты\\\\s+)?(?:про|по|под)?(?:ехал(?:а)?|двинул(?:ся|ась))\\\\s+(?:вперёд|вперед|прямо|по\\\\s+прямой)(?:\\\\s+на\\\\s+(?:\\\\d+|[а-я]+)\\\\s*(?:метр(?:ов|а)?|м\\\\.?|шаг(?:ов|а)?))?']}"
      ]
     },
     "execution_count": 6,
     "metadata": {},
     "output_type": "execute_result"
    }
   ],
   "source": [
    "robotic_intents[0]"
   ]
  },
  {
   "cell_type": "code",
   "execution_count": 7,
   "metadata": {},
   "outputs": [],
   "source": [
    "json.dump(robotic_intents, open(\"../data/intent_records/ac_robotic_new.json\", \"w\"), indent=4, ensure_ascii=False)"
   ]
  },
  {
   "cell_type": "markdown",
   "metadata": {},
   "source": [
    "## dstc3"
   ]
  },
  {
   "cell_type": "code",
   "execution_count": 28,
   "metadata": {},
   "outputs": [
    {
     "data": {
      "text/plain": [
       "DatasetDict({\n",
       "    test: Dataset({\n",
       "        features: ['session', 'caller', 'turn', 'transcript', 'audio', 'intent', 'slots', 'cam'],\n",
       "        num_rows: 18715\n",
       "    })\n",
       "    seed: Dataset({\n",
       "        features: ['session', 'caller', 'turn', 'transcript', 'audio', 'intent', 'slots', 'cam'],\n",
       "        num_rows: 109\n",
       "    })\n",
       "})"
      ]
     },
     "execution_count": 28,
     "metadata": {},
     "output_type": "execute_result"
    }
   ],
   "source": [
    "from datasets import load_dataset\n",
    "\n",
    "dstc3 = load_dataset(\"marcel-gohsen/dstc3\")\n",
    "dstc3"
   ]
  },
  {
   "cell_type": "code",
   "execution_count": 29,
   "metadata": {},
   "outputs": [
    {
     "data": {
      "application/vnd.jupyter.widget-view+json": {
       "model_id": "dd7fb89750ff49fe892e52645b8e3a81",
       "version_major": 2,
       "version_minor": 0
      },
      "text/plain": [
       "Filter:   0%|          | 0/18715 [00:00<?, ? examples/s]"
      ]
     },
     "metadata": {},
     "output_type": "display_data"
    }
   ],
   "source": [
    "dstc3[\"test\"] = dstc3[\"test\"].filter(lambda example: example[\"transcript\"] != \"\")"
   ]
  },
  {
   "cell_type": "code",
   "execution_count": 30,
   "metadata": {},
   "outputs": [
    {
     "data": {
      "text/plain": [
       "Dataset({\n",
       "    features: ['session', 'caller', 'turn', 'transcript', 'audio', 'intent', 'slots', 'cam'],\n",
       "    num_rows: 18714\n",
       "})"
      ]
     },
     "execution_count": 30,
     "metadata": {},
     "output_type": "execute_result"
    }
   ],
   "source": [
    "dstc3[\"test\"]"
   ]
  },
  {
   "cell_type": "code",
   "execution_count": 31,
   "metadata": {},
   "outputs": [
    {
     "data": {
      "text/plain": [
       "{'ack': 0,\n",
       " 'affirm': 1,\n",
       " 'bye': 2,\n",
       " 'confirm': 3,\n",
       " 'deny': 4,\n",
       " 'hello': 5,\n",
       " 'inform': 6,\n",
       " 'negate': 7,\n",
       " 'repeat': 8,\n",
       " 'reqalts': 9,\n",
       " 'reqmore': 10,\n",
       " 'request': 11,\n",
       " 'restart': 12,\n",
       " 'thankyou': 13}"
      ]
     },
     "execution_count": 31,
     "metadata": {},
     "output_type": "execute_result"
    }
   ],
   "source": [
    "import itertools as it\n",
    "\n",
    "intent_names = sorted(set(it.chain.from_iterable(intents for intents in dstc3[\"test\"][\"intent\"])))\n",
    "name_to_id = {name: i for i, name in enumerate(intent_names)}\n",
    "name_to_id"
   ]
  },
  {
   "cell_type": "code",
   "execution_count": 32,
   "metadata": {},
   "outputs": [
    {
     "data": {
      "application/vnd.jupyter.widget-view+json": {
       "model_id": "0ef4ff4673384f4683a078409927b0ca",
       "version_major": 2,
       "version_minor": 0
      },
      "text/plain": [
       "Filter:   0%|          | 0/18714 [00:00<?, ? examples/s]"
      ]
     },
     "metadata": {},
     "output_type": "display_data"
    },
    {
     "data": {
      "text/plain": [
       "Dataset({\n",
       "    features: ['session', 'caller', 'turn', 'transcript', 'audio', 'intent', 'slots', 'cam'],\n",
       "    num_rows: 1\n",
       "})"
      ]
     },
     "execution_count": 32,
     "metadata": {},
     "output_type": "execute_result"
    }
   ],
   "source": [
    "dstc3[\"test\"].filter(lambda example: \"reqmore\" in example[\"intent\"])"
   ]
  },
  {
   "cell_type": "code",
   "execution_count": 33,
   "metadata": {},
   "outputs": [
    {
     "data": {
      "text/plain": [
       "{'ack': 0,\n",
       " 'affirm': 1,\n",
       " 'bye': 2,\n",
       " 'confirm': 3,\n",
       " 'deny': 4,\n",
       " 'hello': 5,\n",
       " 'inform': 6,\n",
       " 'negate': 7,\n",
       " 'repeat': 8,\n",
       " 'reqalts': 9,\n",
       " 'request': 10,\n",
       " 'restart': 11,\n",
       " 'thankyou': 12}"
      ]
     },
     "execution_count": 33,
     "metadata": {},
     "output_type": "execute_result"
    }
   ],
   "source": [
    "intent_names.remove(\"reqmore\")\n",
    "name_to_id = {name: i for i, name in enumerate(intent_names)}\n",
    "name_to_id"
   ]
  },
  {
   "cell_type": "code",
   "execution_count": 34,
   "metadata": {},
   "outputs": [
    {
     "data": {
      "application/vnd.jupyter.widget-view+json": {
       "model_id": "ff5c0e206089465f81fb5bd21b386468",
       "version_major": 2,
       "version_minor": 0
      },
      "text/plain": [
       "Map:   0%|          | 0/18714 [00:00<?, ? examples/s]"
      ]
     },
     "metadata": {},
     "output_type": "display_data"
    }
   ],
   "source": [
    "def transform(example: dict):\n",
    "    return {\n",
    "        \"utterance\": example[\"transcript\"],\n",
    "        \"labels\": [name_to_id[intent_name] for intent_name in example[\"intent\"] if intent_name != \"reqmore\"],\n",
    "    }\n",
    "\n",
    "\n",
    "multilabel_dstc = dstc3[\"test\"].map(transform, remove_columns=dstc3[\"test\"].features.keys())"
   ]
  },
  {
   "cell_type": "code",
   "execution_count": 35,
   "metadata": {},
   "outputs": [
    {
     "data": {
      "text/plain": [
       "{'utterance': 'sil', 'labels': []}"
      ]
     },
     "execution_count": 35,
     "metadata": {},
     "output_type": "execute_result"
    }
   ],
   "source": [
    "multilabel_dstc[0]"
   ]
  },
  {
   "cell_type": "code",
   "execution_count": 36,
   "metadata": {},
   "outputs": [
    {
     "data": {
      "text/plain": [
       "Dataset({\n",
       "    features: ['utterance', 'labels'],\n",
       "    num_rows: 18714\n",
       "})"
      ]
     },
     "execution_count": 36,
     "metadata": {},
     "output_type": "execute_result"
    }
   ],
   "source": [
    "multilabel_dstc"
   ]
  },
  {
   "cell_type": "code",
   "execution_count": 37,
   "metadata": {},
   "outputs": [
    {
     "data": {
      "application/vnd.jupyter.widget-view+json": {
       "model_id": "6dc3624cbd0e4eb6a5bf355b543e0abe",
       "version_major": 2,
       "version_minor": 0
      },
      "text/plain": [
       "Creating json from Arrow format:   0%|          | 0/19 [00:00<?, ?ba/s]"
      ]
     },
     "metadata": {},
     "output_type": "display_data"
    },
    {
     "data": {
      "text/plain": [
       "1865921"
      ]
     },
     "execution_count": 37,
     "metadata": {},
     "output_type": "execute_result"
    }
   ],
   "source": [
    "multilabel_dstc.to_json(\"../data/multi_label_data/dstc3.json\", lines=False, indent=4, orient=\"records\")"
   ]
  },
  {
   "cell_type": "markdown",
   "metadata": {},
   "source": [
    "## events text classification"
   ]
  },
  {
   "cell_type": "code",
   "execution_count": 2,
   "metadata": {},
   "outputs": [
    {
     "data": {
      "text/plain": [
       "DatasetDict({\n",
       "    train: Dataset({\n",
       "        features: ['title', 'content', 'target organization', 'all_labels', 'all_labels_concat', 'label 1', 'label 2', 'label 3', 'label 4', 'label 5'],\n",
       "        num_rows: 2759\n",
       "    })\n",
       "    test: Dataset({\n",
       "        features: ['title', 'content', 'target organization', 'all_labels', 'all_labels_concat', 'label 1', 'label 2', 'label 3', 'label 4', 'label 5'],\n",
       "        num_rows: 381\n",
       "    })\n",
       "})"
      ]
     },
     "execution_count": 2,
     "metadata": {},
     "output_type": "execute_result"
    }
   ],
   "source": [
    "from datasets import load_dataset\n",
    "\n",
    "events_dataset = load_dataset(\"knowledgator/events_classification_biotech\", trust_remote_code=True)\n",
    "events_dataset"
   ]
  },
  {
   "cell_type": "code",
   "execution_count": 3,
   "metadata": {},
   "outputs": [
    {
     "data": {
      "text/plain": [
       "{'title': 'Barnet, Enfield and Haringey Mental Health Trust on track to meet carbon emissions target',\n",
       " 'content': \"Barnet, Enfield and Haringey Mental Health Trust on track to meet carbon emissions target\\nSt Mark's Hospital in Harrow. Photo: Google Street View\\ncomment\\nBarnet's mental health trust is putting the planet first as records show it is on track to meet ambitious targets to cut carbon emissions by a third.\\nIt is likely Barnet, Enfield and Haringey Mental Health Trust will continue to achieve the Governments goal for the NHS to slash carbon dioxide emissions by 2020.\\nThe mental health trust is amongst 90 others which were on course to meet the target in 2017/18 which leaves more than 60 per cent failing to take their responsibilities seriously, the shadow health secretary claimed.\\nJohn Mills, BEHs director of estates and facilities, is pleased and reassured by their performance.\\nHe explained the trust has reduced its CO2 emissions by 23 per cent since 2013.\\nHe said: Weve also designed sustainability and low carbon usage into our new development - most notably with the state-of-the-art mental health facility at St Anns which will open next summer.\\nWe recognise a clean, healthy environment, which promises a sustainable future, can help improve mental health.\\nThats why weve developed specific initiatives in our healthy transport and sustainable development management plans, including reviewing car parking and working with the London Wildlife Trust to improve open spaces.\\nUnder the Climate Change Act, trusts were tasked to cut emissions by 80 per cent by 2050, supported by reductions of 34 per cent by 2020, and 50 per cent by 2025.\\nDespite this, a quarter of the 232 trusts included in the latest NHS records are not on track to meet the objectives, Newsquests Data Unit discovered.\\n46 per cent also still need a healthy transport plan, including the London Ambulance Service.\\nThe trust admitted its fleet causes most of its carbon footprint.\\nBy 2050, all vehicles in the services fleet should be zero emission capable.\\nWe have ambitious aims to reduce the environmental impact of our service while improving our\",\n",
       " 'target organization': 'Barnet Enfield and Haringey Mental Health Trust',\n",
       " 'all_labels': ['executive statement'],\n",
       " 'all_labels_concat': 'executive statement',\n",
       " 'label 1': 1,\n",
       " 'label 2': None,\n",
       " 'label 3': None,\n",
       " 'label 4': None,\n",
       " 'label 5': None}"
      ]
     },
     "execution_count": 3,
     "metadata": {},
     "output_type": "execute_result"
    }
   ],
   "source": [
    "events_dataset[\"train\"][-2]"
   ]
  },
  {
   "cell_type": "code",
   "execution_count": 7,
   "metadata": {},
   "outputs": [
    {
     "data": {
      "text/plain": [
       "[('partnerships & alliances', 2),\n",
       " ('patent publication', 6),\n",
       " ('subsidiary establishment', 8),\n",
       " ('department establishment', 9),\n",
       " ('foundation', 11),\n",
       " ('closing', 19),\n",
       " ('ipo exit', 20),\n",
       " ('clinical trial sponsorship', 23),\n",
       " ('expanding industry', 36),\n",
       " ('new initiatives & programs', 53),\n",
       " ('investment in public company', 60),\n",
       " ('regulatory approval', 63),\n",
       " ('hiring', 73),\n",
       " ('event organization', 75),\n",
       " ('participation in an event', 77),\n",
       " ('product updates', 87),\n",
       " ('service & product providing', 103),\n",
       " ('funding round', 125),\n",
       " ('executive appointment', 134),\n",
       " ('article publication', 142),\n",
       " ('expanding geography', 146),\n",
       " ('support & philanthropy', 158),\n",
       " ('m&a', 185),\n",
       " ('new initiatives or programs', 203),\n",
       " ('product launching & presentation', 303),\n",
       " ('alliance & partnership', 365),\n",
       " ('other', 400),\n",
       " ('company description', 767),\n",
       " ('executive statement', 1435)]"
      ]
     },
     "execution_count": 7,
     "metadata": {},
     "output_type": "execute_result"
    }
   ],
   "source": [
    "from collections import defaultdict\n",
    "\n",
    "counter = defaultdict(int)\n",
    "for batch in events_dataset[\"train\"].iter(batch_size=16):\n",
    "    for labels in batch[\"all_labels\"]:\n",
    "        for lab in labels:\n",
    "            counter[lab] += 1\n",
    "sorted(counter.items(), key=lambda x: x[1])"
   ]
  },
  {
   "cell_type": "code",
   "execution_count": 10,
   "metadata": {},
   "outputs": [
    {
     "data": {
      "text/plain": [
       "{'alliance & partnership': 0,\n",
       " 'article publication': 1,\n",
       " 'clinical trial sponsorship': 2,\n",
       " 'closing': 3,\n",
       " 'company description': 4,\n",
       " 'event organization': 5,\n",
       " 'executive appointment': 6,\n",
       " 'executive statement': 7,\n",
       " 'expanding geography': 8,\n",
       " 'expanding industry': 9,\n",
       " 'foundation': 10,\n",
       " 'funding round': 11,\n",
       " 'hiring': 12,\n",
       " 'investment in public company': 13,\n",
       " 'ipo exit': 14,\n",
       " 'm&a': 15,\n",
       " 'new initiatives & programs': 16,\n",
       " 'new initiatives or programs': 17,\n",
       " 'other': 18,\n",
       " 'participation in an event': 19,\n",
       " 'product launching & presentation': 20,\n",
       " 'product updates': 21,\n",
       " 'regulatory approval': 22,\n",
       " 'service & product providing': 23,\n",
       " 'support & philanthropy': 24}"
      ]
     },
     "execution_count": 10,
     "metadata": {},
     "output_type": "execute_result"
    }
   ],
   "source": [
    "import itertools as it\n",
    "\n",
    "intent_names = sorted(set(it.chain.from_iterable(intents for intents in events_dataset[\"train\"][\"all_labels\"])))\n",
    "names_to_remove = [\n",
    "    \"partnerships & alliances\",\n",
    "    \"patent publication\",\n",
    "    \"subsidiary establishment\",\n",
    "    \"department establishment\",\n",
    "]\n",
    "for n in names_to_remove:\n",
    "    intent_names.remove(n)\n",
    "name_to_id = {name: i for i, name in enumerate(intent_names)}\n",
    "name_to_id"
   ]
  },
  {
   "cell_type": "code",
   "execution_count": 12,
   "metadata": {},
   "outputs": [
    {
     "data": {
      "application/vnd.jupyter.widget-view+json": {
       "model_id": "09621655147e48799eb133a10ff9f16d",
       "version_major": 2,
       "version_minor": 0
      },
      "text/plain": [
       "Map:   0%|          | 0/2759 [00:00<?, ? examples/s]"
      ]
     },
     "metadata": {},
     "output_type": "display_data"
    },
    {
     "data": {
      "text/plain": [
       "Dataset({\n",
       "    features: ['utterance', 'labels'],\n",
       "    num_rows: 2759\n",
       "})"
      ]
     },
     "execution_count": 12,
     "metadata": {},
     "output_type": "execute_result"
    }
   ],
   "source": [
    "def transform(example: dict):\n",
    "    return {\n",
    "        \"utterance\": example[\"content\"],\n",
    "        \"labels\": [name_to_id[intent_name] for intent_name in example[\"all_labels\"] if intent_name not in names_to_remove],\n",
    "    }\n",
    "\n",
    "\n",
    "multilabel_events_dataset = events_dataset[\"train\"].map(\n",
    "    transform, remove_columns=events_dataset[\"train\"].features.keys()\n",
    ")\n",
    "multilabel_events_dataset"
   ]
  },
  {
   "cell_type": "code",
   "execution_count": 13,
   "metadata": {},
   "outputs": [
    {
     "data": {
      "application/vnd.jupyter.widget-view+json": {
       "model_id": "773180f3104248049932e0c6f7babdb1",
       "version_major": 2,
       "version_minor": 0
      },
      "text/plain": [
       "Creating json from Arrow format:   0%|          | 0/3 [00:00<?, ?ba/s]"
      ]
     },
     "metadata": {},
     "output_type": "display_data"
    },
    {
     "data": {
      "text/plain": [
       "8865566"
      ]
     },
     "execution_count": 13,
     "metadata": {},
     "output_type": "execute_result"
    }
   ],
   "source": [
    "multilabel_events_dataset.to_json(\"../data/multi_label_data/events.json\", lines=False, indent=4, orient=\"records\")"
   ]
  },
  {
   "cell_type": "markdown",
   "metadata": {},
   "source": [
    "## reiters"
   ]
  },
  {
   "cell_type": "code",
   "execution_count": 15,
   "metadata": {},
   "outputs": [
    {
     "data": {
      "text/plain": [
       "DatasetDict({\n",
       "    test: Dataset({\n",
       "        features: ['text', 'text_type', 'topics', 'lewis_split', 'cgis_split', 'old_id', 'new_id', 'places', 'people', 'orgs', 'exchanges', 'date', 'title'],\n",
       "        num_rows: 722\n",
       "    })\n",
       "    train: Dataset({\n",
       "        features: ['text', 'text_type', 'topics', 'lewis_split', 'cgis_split', 'old_id', 'new_id', 'places', 'people', 'orgs', 'exchanges', 'date', 'title'],\n",
       "        num_rows: 20856\n",
       "    })\n",
       "})"
      ]
     },
     "execution_count": 15,
     "metadata": {},
     "output_type": "execute_result"
    }
   ],
   "source": [
    "reuters = load_dataset(\"ucirvine/reuters21578\", \"ModHayes\", trust_remote_code=True)\n",
    "reuters"
   ]
  },
  {
   "cell_type": "code",
   "execution_count": 16,
   "metadata": {},
   "outputs": [
    {
     "data": {
      "text/plain": [
       "{'text': 'Showers continued throughout the week in\\nthe Bahia cocoa zone, alleviating the drought since early\\nJanuary and improving prospects for the coming temporao,\\nalthough normal humidity levels have not been restored,\\nComissaria Smith said in its weekly review.\\n    The dry period means the temporao will be late this year.\\n    Arrivals for the week ended February 22 were 155,221 bags\\nof 60 kilos making a cumulative total for the season of 5.93\\nmln against 5.81 at the same stage last year. Again it seems\\nthat cocoa delivered earlier on consignment was included in the\\narrivals figures.\\n    Comissaria Smith said there is still some doubt as to how\\nmuch old crop cocoa is still available as harvesting has\\npractically come to an end. With total Bahia crop estimates\\naround 6.4 mln bags and sales standing at almost 6.2 mln there\\nare a few hundred thousand bags still in the hands of farmers,\\nmiddlemen, exporters and processors.\\n    There are doubts as to how much of this cocoa would be fit\\nfor export as shippers are now experiencing dificulties in\\nobtaining +Bahia superior+ certificates.\\n    In view of the lower quality over recent weeks farmers have\\nsold a good part of their cocoa held on consignment.\\n    Comissaria Smith said spot bean prices rose to 340 to 350\\ncruzados per arroba of 15 kilos.\\n    Bean shippers were reluctant to offer nearby shipment and\\nonly limited sales were booked for March shipment at 1,750 to\\n1,780 dlrs per tonne to ports to be named.\\n    New crop sales were also light and all to open ports with\\nJune/July going at 1,850 and 1,880 dlrs and at 35 and 45 dlrs\\nunder New York july, Aug/Sept at 1,870, 1,875 and 1,880 dlrs\\nper tonne FOB.\\n    Routine sales of butter were made. March/April sold at\\n4,340, 4,345 and 4,350 dlrs.\\n    April/May butter went at 2.27 times New York May, June/July\\nat 4,400 and 4,415 dlrs, Aug/Sept at 4,351 to 4,450 dlrs and at\\n2.27 and 2.28 times New York Sept and Oct/Dec at 4,480 dlrs and\\n2.27 times New York Dec, Comissaria Smith said.\\n    Destinations were the U.S., Covertible currency areas,\\nUruguay and open ports.\\n    Cake sales were registered at 785 to 995 dlrs for\\nMarch/April, 785 dlrs for May, 753 dlrs for Aug and 0.39 times\\nNew York Dec for Oct/Dec.\\n    Buyers were the U.S., Argentina, Uruguay and convertible\\ncurrency areas.\\n    Liquor sales were limited with March/April selling at 2,325\\nand 2,380 dlrs, June/July at 2,375 dlrs and at 1.25 times New\\nYork July, Aug/Sept at 2,400 dlrs and at 1.25 times New York\\nSept and Oct/Dec at 1.25 times New York Dec, Comissaria Smith\\nsaid.\\n    Total Bahia sales are currently estimated at 6.13 mln bags\\nagainst the 1986/87 crop and 1.06 mln bags against the 1987/88\\ncrop.\\n    Final figures for the period to February 28 are expected to\\nbe published by the Brazilian Cocoa Trade Commission after\\ncarnival which ends midday on February 27.\\n Reuter\\n',\n",
       " 'text_type': '\"NORM\"',\n",
       " 'topics': ['cocoa'],\n",
       " 'lewis_split': '\"TRAIN\"',\n",
       " 'cgis_split': '\"TRAINING-SET\"',\n",
       " 'old_id': '\"5544\"',\n",
       " 'new_id': '\"1\"',\n",
       " 'places': ['el-salvador', 'usa', 'uruguay'],\n",
       " 'people': [],\n",
       " 'orgs': [],\n",
       " 'exchanges': [],\n",
       " 'date': '26-FEB-1987 15:01:01.79',\n",
       " 'title': 'BAHIA COCOA REVIEW'}"
      ]
     },
     "execution_count": 16,
     "metadata": {},
     "output_type": "execute_result"
    }
   ],
   "source": [
    "reuters[\"train\"][0]"
   ]
  },
  {
   "cell_type": "code",
   "execution_count": 18,
   "metadata": {},
   "outputs": [
    {
     "data": {
      "text/plain": [
       "[('red-bean', 1),\n",
       " ('citruspulp', 1),\n",
       " ('rape-meal', 1),\n",
       " ('corn-oil', 1),\n",
       " ('peseta', 1),\n",
       " ('ringgit', 1),\n",
       " ('castorseed', 1),\n",
       " ('lit', 1),\n",
       " ('rupiah', 1),\n",
       " ('skr', 1),\n",
       " ('dkr', 1),\n",
       " ('lin-meal', 1),\n",
       " ('cruzado', 1),\n",
       " ('cottonseed', 1),\n",
       " ('f-cattle', 1),\n",
       " ('sfr', 1),\n",
       " ('linseed', 2),\n",
       " ('lin-oil', 2),\n",
       " ('rye', 2),\n",
       " ('groundnut-oil', 2),\n",
       " ('cornglutenfeed', 2),\n",
       " ('wool', 2),\n",
       " ('fishmeal', 2),\n",
       " ('castor-oil', 2),\n",
       " ('sun-meal', 2),\n",
       " ('copra-cake', 3),\n",
       " ('palmkernel', 3),\n",
       " ('tapioca', 3),\n",
       " ('saudriyal', 3),\n",
       " ('can', 3),\n",
       " ('palladium', 3),\n",
       " ('dfl', 3),\n",
       " ('cotton-oil', 3),\n",
       " ('rand', 3),\n",
       " ('pork-belly', 3),\n",
       " ('nkr', 3),\n",
       " ('plywood', 4),\n",
       " ('cpu', 4),\n",
       " ('austdlr', 4),\n",
       " ('nzdlr', 4),\n",
       " ('jet', 5),\n",
       " ('inventories', 5),\n",
       " ('propane', 6),\n",
       " ('potato', 6),\n",
       " ('instal-debt', 6),\n",
       " ('naphtha', 6),\n",
       " ('coconut', 6),\n",
       " ('sun-oil', 7),\n",
       " ('coconut-oil', 7),\n",
       " ('rape-oil', 8),\n",
       " ('l-cattle', 8),\n",
       " ('groundnut', 9),\n",
       " ('nickel', 9),\n",
       " ('platinum', 12),\n",
       " ('tea', 13),\n",
       " ('oat', 14),\n",
       " ('dmk', 14),\n",
       " ('lei', 15),\n",
       " ('sunseed', 16),\n",
       " ('income', 16),\n",
       " ('lumber', 16),\n",
       " ('stg', 17),\n",
       " ('heat', 19),\n",
       " ('housing', 20),\n",
       " ('hog', 22),\n",
       " ('fuel', 23),\n",
       " ('soy-oil', 25),\n",
       " ('retail', 25),\n",
       " ('soy-meal', 26),\n",
       " ('strategic-metal', 27),\n",
       " ('rapeseed', 27),\n",
       " ('orange', 27),\n",
       " ('silver', 29),\n",
       " ('wpi', 29),\n",
       " ('lead', 29),\n",
       " ('tin', 30),\n",
       " ('pet-chem', 32),\n",
       " ('sorghum', 34),\n",
       " ('zinc', 34),\n",
       " ('palm-oil', 40),\n",
       " ('meal-feed', 49),\n",
       " ('rubber', 49),\n",
       " ('barley', 51),\n",
       " ('ipi', 53),\n",
       " ('iron-steel', 54),\n",
       " ('gas', 55),\n",
       " ('alum', 58),\n",
       " ('cotton', 59),\n",
       " ('rice', 59),\n",
       " ('yen', 59),\n",
       " ('copper', 65),\n",
       " ('jobs', 67),\n",
       " ('carcass', 68),\n",
       " ('cocoa', 73),\n",
       " ('reserves', 73),\n",
       " ('cpi', 97),\n",
       " ('livestock', 99),\n",
       " ('nat-gas', 105),\n",
       " ('bop', 105),\n",
       " ('soybean', 111),\n",
       " ('veg-oil', 124),\n",
       " ('gold', 124),\n",
       " ('gnp', 136),\n",
       " ('coffee', 139),\n",
       " ('sugar', 162),\n",
       " ('oilseed', 171),\n",
       " ('money-supply', 174),\n",
       " ('dlr', 175),\n",
       " ('corn', 239),\n",
       " ('wheat', 283),\n",
       " ('ship', 287),\n",
       " ('interest', 480),\n",
       " ('trade', 487),\n",
       " ('crude', 580),\n",
       " ('grain', 583),\n",
       " ('money-fx', 719),\n",
       " ('acq', 2369),\n",
       " ('earn', 3965)]"
      ]
     },
     "execution_count": 18,
     "metadata": {},
     "output_type": "execute_result"
    }
   ],
   "source": [
    "from collections import defaultdict\n",
    "\n",
    "counter = defaultdict(int)\n",
    "for batch in reuters[\"train\"].iter(batch_size=16):\n",
    "    for labels in batch[\"topics\"]:\n",
    "        for lab in labels:\n",
    "            counter[lab] += 1\n",
    "sorted(counter.items(), key=lambda x: x[1])"
   ]
  },
  {
   "cell_type": "code",
   "execution_count": 19,
   "metadata": {},
   "outputs": [],
   "source": [
    "names_to_remove = [name for name, cnt in counter.items() if cnt < 10]"
   ]
  },
  {
   "cell_type": "code",
   "execution_count": 20,
   "metadata": {},
   "outputs": [
    {
     "data": {
      "text/plain": [
       "{'acq': 0,\n",
       " 'alum': 1,\n",
       " 'barley': 2,\n",
       " 'bop': 3,\n",
       " 'carcass': 4,\n",
       " 'cocoa': 5,\n",
       " 'coffee': 6,\n",
       " 'copper': 7,\n",
       " 'corn': 8,\n",
       " 'cotton': 9,\n",
       " 'cpi': 10,\n",
       " 'crude': 11,\n",
       " 'dlr': 12,\n",
       " 'dmk': 13,\n",
       " 'earn': 14,\n",
       " 'fuel': 15,\n",
       " 'gas': 16,\n",
       " 'gnp': 17,\n",
       " 'gold': 18,\n",
       " 'grain': 19,\n",
       " 'heat': 20,\n",
       " 'hog': 21,\n",
       " 'housing': 22,\n",
       " 'income': 23,\n",
       " 'interest': 24,\n",
       " 'ipi': 25,\n",
       " 'iron-steel': 26,\n",
       " 'jobs': 27,\n",
       " 'lead': 28,\n",
       " 'lei': 29,\n",
       " 'livestock': 30,\n",
       " 'lumber': 31,\n",
       " 'meal-feed': 32,\n",
       " 'money-fx': 33,\n",
       " 'money-supply': 34,\n",
       " 'nat-gas': 35,\n",
       " 'oat': 36,\n",
       " 'oilseed': 37,\n",
       " 'orange': 38,\n",
       " 'palm-oil': 39,\n",
       " 'pet-chem': 40,\n",
       " 'platinum': 41,\n",
       " 'rapeseed': 42,\n",
       " 'reserves': 43,\n",
       " 'retail': 44,\n",
       " 'rice': 45,\n",
       " 'rubber': 46,\n",
       " 'ship': 47,\n",
       " 'silver': 48,\n",
       " 'sorghum': 49,\n",
       " 'soy-meal': 50,\n",
       " 'soy-oil': 51,\n",
       " 'soybean': 52,\n",
       " 'stg': 53,\n",
       " 'strategic-metal': 54,\n",
       " 'sugar': 55,\n",
       " 'sunseed': 56,\n",
       " 'tea': 57,\n",
       " 'tin': 58,\n",
       " 'trade': 59,\n",
       " 'veg-oil': 60,\n",
       " 'wheat': 61,\n",
       " 'wpi': 62,\n",
       " 'yen': 63,\n",
       " 'zinc': 64}"
      ]
     },
     "execution_count": 20,
     "metadata": {},
     "output_type": "execute_result"
    }
   ],
   "source": [
    "import itertools as it\n",
    "\n",
    "intent_names = sorted(set(it.chain.from_iterable(intents for intents in reuters[\"train\"][\"topics\"])))\n",
    "for n in names_to_remove:\n",
    "    intent_names.remove(n)\n",
    "name_to_id = {name: i for i, name in enumerate(intent_names)}\n",
    "name_to_id"
   ]
  },
  {
   "cell_type": "code",
   "execution_count": 21,
   "metadata": {},
   "outputs": [
    {
     "data": {
      "application/vnd.jupyter.widget-view+json": {
       "model_id": "3658d8311c3c4ec7bece7c89ff8969e2",
       "version_major": 2,
       "version_minor": 0
      },
      "text/plain": [
       "Map:   0%|          | 0/20856 [00:00<?, ? examples/s]"
      ]
     },
     "metadata": {},
     "output_type": "display_data"
    },
    {
     "data": {
      "text/plain": [
       "Dataset({\n",
       "    features: ['utterance', 'labels'],\n",
       "    num_rows: 20856\n",
       "})"
      ]
     },
     "execution_count": 21,
     "metadata": {},
     "output_type": "execute_result"
    }
   ],
   "source": [
    "def transform(example: dict):\n",
    "    return {\n",
    "        \"utterance\": example[\"text\"],\n",
    "        \"labels\": [name_to_id[intent_name] for intent_name in example[\"topics\"] if intent_name not in names_to_remove],\n",
    "    }\n",
    "\n",
    "\n",
    "multilabel_reuters = reuters[\"train\"].map(transform, remove_columns=reuters[\"train\"].features.keys())\n",
    "multilabel_reuters"
   ]
  },
  {
   "cell_type": "code",
   "execution_count": 22,
   "metadata": {},
   "outputs": [
    {
     "data": {
      "text/plain": [
       "{'utterance': 'Showers continued throughout the week in\\nthe Bahia cocoa zone, alleviating the drought since early\\nJanuary and improving prospects for the coming temporao,\\nalthough normal humidity levels have not been restored,\\nComissaria Smith said in its weekly review.\\n    The dry period means the temporao will be late this year.\\n    Arrivals for the week ended February 22 were 155,221 bags\\nof 60 kilos making a cumulative total for the season of 5.93\\nmln against 5.81 at the same stage last year. Again it seems\\nthat cocoa delivered earlier on consignment was included in the\\narrivals figures.\\n    Comissaria Smith said there is still some doubt as to how\\nmuch old crop cocoa is still available as harvesting has\\npractically come to an end. With total Bahia crop estimates\\naround 6.4 mln bags and sales standing at almost 6.2 mln there\\nare a few hundred thousand bags still in the hands of farmers,\\nmiddlemen, exporters and processors.\\n    There are doubts as to how much of this cocoa would be fit\\nfor export as shippers are now experiencing dificulties in\\nobtaining +Bahia superior+ certificates.\\n    In view of the lower quality over recent weeks farmers have\\nsold a good part of their cocoa held on consignment.\\n    Comissaria Smith said spot bean prices rose to 340 to 350\\ncruzados per arroba of 15 kilos.\\n    Bean shippers were reluctant to offer nearby shipment and\\nonly limited sales were booked for March shipment at 1,750 to\\n1,780 dlrs per tonne to ports to be named.\\n    New crop sales were also light and all to open ports with\\nJune/July going at 1,850 and 1,880 dlrs and at 35 and 45 dlrs\\nunder New York july, Aug/Sept at 1,870, 1,875 and 1,880 dlrs\\nper tonne FOB.\\n    Routine sales of butter were made. March/April sold at\\n4,340, 4,345 and 4,350 dlrs.\\n    April/May butter went at 2.27 times New York May, June/July\\nat 4,400 and 4,415 dlrs, Aug/Sept at 4,351 to 4,450 dlrs and at\\n2.27 and 2.28 times New York Sept and Oct/Dec at 4,480 dlrs and\\n2.27 times New York Dec, Comissaria Smith said.\\n    Destinations were the U.S., Covertible currency areas,\\nUruguay and open ports.\\n    Cake sales were registered at 785 to 995 dlrs for\\nMarch/April, 785 dlrs for May, 753 dlrs for Aug and 0.39 times\\nNew York Dec for Oct/Dec.\\n    Buyers were the U.S., Argentina, Uruguay and convertible\\ncurrency areas.\\n    Liquor sales were limited with March/April selling at 2,325\\nand 2,380 dlrs, June/July at 2,375 dlrs and at 1.25 times New\\nYork July, Aug/Sept at 2,400 dlrs and at 1.25 times New York\\nSept and Oct/Dec at 1.25 times New York Dec, Comissaria Smith\\nsaid.\\n    Total Bahia sales are currently estimated at 6.13 mln bags\\nagainst the 1986/87 crop and 1.06 mln bags against the 1987/88\\ncrop.\\n    Final figures for the period to February 28 are expected to\\nbe published by the Brazilian Cocoa Trade Commission after\\ncarnival which ends midday on February 27.\\n Reuter\\n',\n",
       " 'labels': [5]}"
      ]
     },
     "execution_count": 22,
     "metadata": {},
     "output_type": "execute_result"
    }
   ],
   "source": [
    "multilabel_reuters[0]"
   ]
  },
  {
   "cell_type": "code",
   "execution_count": 23,
   "metadata": {},
   "outputs": [
    {
     "data": {
      "application/vnd.jupyter.widget-view+json": {
       "model_id": "39377f773f494bc4b9bf03f9bd580040",
       "version_major": 2,
       "version_minor": 0
      },
      "text/plain": [
       "Creating json from Arrow format:   0%|          | 0/21 [00:00<?, ?ba/s]"
      ]
     },
     "metadata": {},
     "output_type": "display_data"
    },
    {
     "data": {
      "text/plain": [
       "17345885"
      ]
     },
     "execution_count": 23,
     "metadata": {},
     "output_type": "execute_result"
    }
   ],
   "source": [
    "multilabel_reuters.to_json(\"../data/multi_label_data/reuters.json\", lines=False, indent=4, orient=\"records\")"
   ]
  },
  {
   "cell_type": "markdown",
   "metadata": {},
   "source": [
    "## eurlex"
   ]
  },
  {
   "cell_type": "code",
   "execution_count": 24,
   "metadata": {},
   "outputs": [
    {
     "data": {
      "text/plain": [
       "DatasetDict({\n",
       "    train: Dataset({\n",
       "        features: ['celex_id', 'text', 'labels'],\n",
       "        num_rows: 55000\n",
       "    })\n",
       "    test: Dataset({\n",
       "        features: ['celex_id', 'text', 'labels'],\n",
       "        num_rows: 5000\n",
       "    })\n",
       "    validation: Dataset({\n",
       "        features: ['celex_id', 'text', 'labels'],\n",
       "        num_rows: 5000\n",
       "    })\n",
       "})"
      ]
     },
     "execution_count": 24,
     "metadata": {},
     "output_type": "execute_result"
    }
   ],
   "source": [
    "eurlex = load_dataset(\"coastalcph/multi_eurlex\", \"en\", trust_remote_code=True)\n",
    "eurlex"
   ]
  },
  {
   "cell_type": "code",
   "execution_count": 25,
   "metadata": {},
   "outputs": [
    {
     "data": {
      "text/plain": [
       "{'celex_id': '32006D0213',\n",
       " 'text': 'COMMISSION DECISION\\nof 6 March 2006\\nestablishing the classes of reaction-to-fire performance for certain construction products as regards wood flooring and solid wood panelling and cladding\\n(notified under document number C(2006) 655)\\n(Text with EEA relevance)\\n(2006/213/EC)\\nTHE COMMISSION OF THE EUROPEAN COMMUNITIES,\\nHaving regard to the Treaty establishing the European Community,\\nHaving regard to Directive 89/106/EEC of 21 December 1988, on the approximation of laws, regulations and administrative provisions of the Member States relating to construction products (1), and in particular Article 20(2) thereof,\\nWhereas:\\n(1)\\nDirective 89/106/EEC envisages that in order to take account of different levels of protection for construction works at national, regional or local level, it may be necessary to establish in the interpretative documents classes corresponding to the performance of products in respect of each essential requirement. Those documents have been published as the ‘Communication of the Commission with regard to the interpretative documents of Directive 89/106/EEC’ (2).\\n(2)\\nWith respect to the essential requirement of safety in the event of fire, interpretative document No 2 lists a number of interrelated measures which together define the fire safety strategy to be variously developed in the Member States.\\n(3)\\nInterpretative document No 2 identifies one of those measures as the limitation of the generation and spread of fire and smoke within a given area by limiting the potential of construction products to contribute to the full development of a fire.\\n(4)\\nThe level of that limitation may be expressed only in terms of the different levels of reaction-to-fire performance of the products in their end-use application;\\n(5)\\nBy way of harmonised solution, a system of classes was adopted in Commission Decision 2000/147/EC of 8 February 2000 implementing Council Directive 89/106/EEC as regards the classification of the reaction-to-fire performance of construction products (3).\\n(6)\\nIn the case of wood flooring and solid wood panelling and cladding it is necessary to use the classification established in Decision 2000/147/EC.\\n(7)\\nThe reaction-to-fire performance of many construction products and/or materials, within the classification provided for in Decision 2000/147/EC, is well established and sufficiently well known to fire regulators in Member States that they do not require testing for this particular performance characteristic.\\n(8)\\nThe measures provided for in this Decision are in accordance with the opinion of the Standing Committee on Construction,\\nHAS ADOPTED THIS DECISION:\\nArticle 1\\nThe construction products and/or materials which satisfy all the requirements of the performance characteristic ‘reaction to fire’ without need for further testing are set out in the Annex.\\nArticle 2\\nThe specific classes to be applied to different construction products and/or materials, within the reaction-to-fire classification adopted in Decision 2000/147/EC, are set out in the Annex to this Decision.\\nArticle 3\\nProducts shall be considered in relation to their end-use application, where relevant.\\nArticle 4\\nThis Decision is addressed to the Member States.\\nDone at Brussels, 6 March 2006.',\n",
       " 'labels': [1, 20, 7, 3, 0]}"
      ]
     },
     "execution_count": 25,
     "metadata": {},
     "output_type": "execute_result"
    }
   ],
   "source": [
    "eurlex[\"train\"][0]"
   ]
  },
  {
   "cell_type": "code",
   "execution_count": 27,
   "metadata": {},
   "outputs": [
    {
     "data": {
      "text/plain": [
       "[(13, 541),\n",
       " (16, 877),\n",
       " (14, 1122),\n",
       " (9, 1926),\n",
       " (10, 2151),\n",
       " (11, 2233),\n",
       " (20, 3096),\n",
       " (8, 3317),\n",
       " (12, 3640),\n",
       " (7, 4175),\n",
       " (4, 5065),\n",
       " (0, 6056),\n",
       " (1, 6150),\n",
       " (19, 7065),\n",
       " (5, 8444),\n",
       " (2, 8803),\n",
       " (15, 13519),\n",
       " (6, 19431),\n",
       " (18, 22975),\n",
       " (17, 26931),\n",
       " (3, 30222)]"
      ]
     },
     "execution_count": 27,
     "metadata": {},
     "output_type": "execute_result"
    }
   ],
   "source": [
    "from collections import defaultdict\n",
    "\n",
    "counter = defaultdict(int)\n",
    "for batch in eurlex[\"train\"].iter(batch_size=16):\n",
    "    for labels in batch[\"labels\"]:\n",
    "        for lab in labels:\n",
    "            counter[lab] += 1\n",
    "sorted(counter.items(), key=lambda x: x[1])"
   ]
  },
  {
   "cell_type": "code",
   "execution_count": 157,
   "metadata": {},
   "outputs": [
    {
     "data": {
      "text/plain": [
       "Dataset({\n",
       "    features: ['labels', 'utterance'],\n",
       "    num_rows: 55000\n",
       "})"
      ]
     },
     "execution_count": 157,
     "metadata": {},
     "output_type": "execute_result"
    }
   ],
   "source": [
    "def transform(example: dict):\n",
    "    return {\"utterance\": example[\"text\"], \"labels\": example[\"labels\"]}\n",
    "\n",
    "\n",
    "multilabel_eurlex = eurlex[\"train\"].map(transform, remove_columns=eurlex[\"train\"].features.keys())\n",
    "multilabel_eurlex"
   ]
  },
  {
   "cell_type": "code",
   "execution_count": 158,
   "metadata": {},
   "outputs": [
    {
     "data": {
      "text/plain": [
       "397409661"
      ]
     },
     "execution_count": 158,
     "metadata": {},
     "output_type": "execute_result"
    }
   ],
   "source": [
    "multilabel_eurlex.to_json(\"../data/multi_label_data/eurlex.json\", lines=False, indent=4, orient=\"records\")"
   ]
  },
  {
   "cell_type": "code",
   "execution_count": 2,
   "metadata": {},
   "outputs": [],
   "source": [
    "eurlex = open(\"../data/multi_label_data/eurlex.json\").read().replace(\"]\\n[\", \",\")"
   ]
  },
  {
   "cell_type": "code",
   "execution_count": 3,
   "metadata": {},
   "outputs": [
    {
     "data": {
      "text/plain": [
       "397409553"
      ]
     },
     "execution_count": 3,
     "metadata": {},
     "output_type": "execute_result"
    }
   ],
   "source": [
    "open(\"../data/multi_label_data/eurlex.json\", \"w\").write(eurlex)"
   ]
  },
  {
   "cell_type": "code",
   "execution_count": 4,
   "metadata": {},
   "outputs": [],
   "source": [
    "import json\n",
    "\n",
    "eurlex = json.load(open(\"../data/multi_label_data/eurlex.json\"))"
   ]
  },
  {
   "cell_type": "code",
   "execution_count": 5,
   "metadata": {},
   "outputs": [
    {
     "data": {
      "text/plain": [
       "55000"
      ]
     },
     "execution_count": 5,
     "metadata": {},
     "output_type": "execute_result"
    }
   ],
   "source": [
    "len(eurlex)"
   ]
  },
  {
   "cell_type": "code",
   "execution_count": 6,
   "metadata": {},
   "outputs": [
    {
     "data": {
      "text/plain": [
       "{'labels': [1, 20, 7, 3, 0],\n",
       " 'utterance': 'COMMISSION DECISION\\nof 6 March 2006\\nestablishing the classes of reaction-to-fire performance for certain construction products as regards wood flooring and solid wood panelling and cladding\\n(notified under document number C(2006) 655)\\n(Text with EEA relevance)\\n(2006/213/EC)\\nTHE COMMISSION OF THE EUROPEAN COMMUNITIES,\\nHaving regard to the Treaty establishing the European Community,\\nHaving regard to Directive 89/106/EEC of 21 December 1988, on the approximation of laws, regulations and administrative provisions of the Member States relating to construction products (1), and in particular Article 20(2) thereof,\\nWhereas:\\n(1)\\nDirective 89/106/EEC envisages that in order to take account of different levels of protection for construction works at national, regional or local level, it may be necessary to establish in the interpretative documents classes corresponding to the performance of products in respect of each essential requirement. Those documents have been published as the ‘Communication of the Commission with regard to the interpretative documents of Directive 89/106/EEC’ (2).\\n(2)\\nWith respect to the essential requirement of safety in the event of fire, interpretative document No 2 lists a number of interrelated measures which together define the fire safety strategy to be variously developed in the Member States.\\n(3)\\nInterpretative document No 2 identifies one of those measures as the limitation of the generation and spread of fire and smoke within a given area by limiting the potential of construction products to contribute to the full development of a fire.\\n(4)\\nThe level of that limitation may be expressed only in terms of the different levels of reaction-to-fire performance of the products in their end-use application;\\n(5)\\nBy way of harmonised solution, a system of classes was adopted in Commission Decision 2000/147/EC of 8 February 2000 implementing Council Directive 89/106/EEC as regards the classification of the reaction-to-fire performance of construction products (3).\\n(6)\\nIn the case of wood flooring and solid wood panelling and cladding it is necessary to use the classification established in Decision 2000/147/EC.\\n(7)\\nThe reaction-to-fire performance of many construction products and/or materials, within the classification provided for in Decision 2000/147/EC, is well established and sufficiently well known to fire regulators in Member States that they do not require testing for this particular performance characteristic.\\n(8)\\nThe measures provided for in this Decision are in accordance with the opinion of the Standing Committee on Construction,\\nHAS ADOPTED THIS DECISION:\\nArticle 1\\nThe construction products and/or materials which satisfy all the requirements of the performance characteristic ‘reaction to fire’ without need for further testing are set out in the Annex.\\nArticle 2\\nThe specific classes to be applied to different construction products and/or materials, within the reaction-to-fire classification adopted in Decision 2000/147/EC, are set out in the Annex to this Decision.\\nArticle 3\\nProducts shall be considered in relation to their end-use application, where relevant.\\nArticle 4\\nThis Decision is addressed to the Member States.\\nDone at Brussels, 6 March 2006.'}"
      ]
     },
     "execution_count": 6,
     "metadata": {},
     "output_type": "execute_result"
    }
   ],
   "source": [
    "eurlex[0]"
   ]
  },
  {
   "cell_type": "markdown",
   "metadata": {},
   "source": [
    "## robotics validation"
   ]
  },
  {
   "cell_type": "code",
   "execution_count": 13,
   "metadata": {},
   "outputs": [],
   "source": [
    "import csv\n",
    "\n",
    "with open(\"../data/robotics_val.csv\", newline=\"\") as file:\n",
    "    csv_reader = csv.DictReader(file)\n",
    "    robotics_val = list(csv_reader)"
   ]
  },
  {
   "cell_type": "code",
   "execution_count": 14,
   "metadata": {},
   "outputs": [
    {
     "data": {
      "text/plain": [
       "80"
      ]
     },
     "execution_count": 14,
     "metadata": {},
     "output_type": "execute_result"
    }
   ],
   "source": [
    "len(robotics_val)"
   ]
  },
  {
   "cell_type": "code",
   "execution_count": 15,
   "metadata": {},
   "outputs": [
    {
     "data": {
      "text/plain": [
       "[{'text': 'пожалуйста, проедь вперед на 20 метров', 'intents': 'move_forward'},\n",
       " {'text': 'тебе стоит отъехать назад 5 метров', 'intents': 'move_backward'},\n",
       " {'text': 'иди на расстояние', 'intents': 'GO'},\n",
       " {'text': 'подними этот стул, пожалуйста', 'intents': 'pick_up'},\n",
       " {'text': 'поставь эту коробку в угол', 'intents': 'place drop'},\n",
       " {'text': 'повтори за мной, пожалуйста', 'intents': 'say'},\n",
       " {'text': 'можешь сесть рядом', 'intents': 'sit_down'},\n",
       " {'text': 'встань, пожалуйста', 'intents': 'stand_up'},\n",
       " {'text': 'прекрати шуметь', 'intents': 'stop'},\n",
       " {'text': 'можешь завернуть направо', 'intents': 'turn_right'}]"
      ]
     },
     "execution_count": 15,
     "metadata": {},
     "output_type": "execute_result"
    }
   ],
   "source": [
    "robotics_val[:10]"
   ]
  },
  {
   "cell_type": "code",
   "execution_count": 16,
   "metadata": {},
   "outputs": [],
   "source": [
    "def split_intent_field(record: dict):\n",
    "    record[\"intents_splitted\"] = record[\"intents\"].split()\n",
    "\n",
    "\n",
    "for rec in robotics_val:\n",
    "    split_intent_field(rec)"
   ]
  },
  {
   "cell_type": "code",
   "execution_count": 17,
   "metadata": {},
   "outputs": [
    {
     "data": {
      "text/plain": [
       "[{'text': 'пожалуйста, проедь вперед на 20 метров',\n",
       "  'intents': 'move_forward',\n",
       "  'intents_splitted': ['move_forward']},\n",
       " {'text': 'тебе стоит отъехать назад 5 метров',\n",
       "  'intents': 'move_backward',\n",
       "  'intents_splitted': ['move_backward']},\n",
       " {'text': 'иди на расстояние', 'intents': 'GO', 'intents_splitted': ['GO']},\n",
       " {'text': 'подними этот стул, пожалуйста',\n",
       "  'intents': 'pick_up',\n",
       "  'intents_splitted': ['pick_up']},\n",
       " {'text': 'поставь эту коробку в угол',\n",
       "  'intents': 'place drop',\n",
       "  'intents_splitted': ['place', 'drop']},\n",
       " {'text': 'повтори за мной, пожалуйста',\n",
       "  'intents': 'say',\n",
       "  'intents_splitted': ['say']},\n",
       " {'text': 'можешь сесть рядом',\n",
       "  'intents': 'sit_down',\n",
       "  'intents_splitted': ['sit_down']},\n",
       " {'text': 'встань, пожалуйста',\n",
       "  'intents': 'stand_up',\n",
       "  'intents_splitted': ['stand_up']},\n",
       " {'text': 'прекрати шуметь', 'intents': 'stop', 'intents_splitted': ['stop']},\n",
       " {'text': 'можешь завернуть направо',\n",
       "  'intents': 'turn_right',\n",
       "  'intents_splitted': ['turn_right']}]"
      ]
     },
     "execution_count": 17,
     "metadata": {},
     "output_type": "execute_result"
    }
   ],
   "source": [
    "robotics_val[:10]"
   ]
  },
  {
   "cell_type": "code",
   "execution_count": 18,
   "metadata": {},
   "outputs": [
    {
     "data": {
      "text/plain": [
       "['GO',\n",
       " 'disable_autopilot',\n",
       " 'drop',\n",
       " 'enable_autopilot',\n",
       " 'go_to',\n",
       " 'move_backward',\n",
       " 'move_forward',\n",
       " 'pick_up',\n",
       " 'place',\n",
       " 'say',\n",
       " 'set_point',\n",
       " 'sit_down',\n",
       " 'stand_up',\n",
       " 'status',\n",
       " 'stop',\n",
       " 'turn_left',\n",
       " 'turn_right',\n",
       " 'undefined',\n",
       " 'world_state']"
      ]
     },
     "execution_count": 18,
     "metadata": {},
     "output_type": "execute_result"
    }
   ],
   "source": [
    "import itertools as it\n",
    "\n",
    "intent_names = sorted(set(it.chain.from_iterable(rec[\"intents_splitted\"] for rec in robotics_val)))\n",
    "intent_names"
   ]
  },
  {
   "cell_type": "markdown",
   "metadata": {},
   "source": [
    "в тестовой выборке есть класс `undefined`, видимо это OOS"
   ]
  },
  {
   "cell_type": "code",
   "execution_count": 19,
   "metadata": {},
   "outputs": [
    {
     "name": "stdout",
     "output_type": "stream",
     "text": [
      "{'text': 'Посчитай количество объектов в комнате', 'intents': 'undefined', 'intents_splitted': ['undefined']}\n",
      "{'text': 'Измерь расстояние до ближайшей стены', 'intents': 'undefined', 'intents_splitted': ['undefined']}\n",
      "{'text': 'Воспроизведи аудиофайл из моей библиотеки', 'intents': 'undefined', 'intents_splitted': ['undefined']}\n",
      "{'text': 'Запиши видео своего движения', 'intents': 'undefined', 'intents_splitted': ['undefined']}\n",
      "{'text': 'Активируй режим экономии энергии', 'intents': 'undefined', 'intents_splitted': ['undefined']}\n",
      "{'text': 'Синхронизируй данные с облачным хранилищем', 'intents': 'undefined', 'intents_splitted': ['undefined']}\n",
      "{'text': 'Проведи калибровку сенсоров', 'intents': 'undefined', 'intents_splitted': ['undefined']}\n",
      "{'text': 'Опусти левую руку и подними правую', 'intents': 'undefined', 'intents_splitted': ['undefined']}\n",
      "{'text': 'Подними руку и помаши', 'intents': 'undefined', 'intents_splitted': ['undefined']}\n",
      "{'text': 'Выключи свет в комнате', 'intents': 'undefined', 'intents_splitted': ['undefined']}\n"
     ]
    }
   ],
   "source": [
    "for rec in robotics_val:\n",
    "    if \"undefined\" in rec[\"intents_splitted\"]:\n",
    "        pass"
   ]
  },
  {
   "cell_type": "markdown",
   "metadata": {},
   "source": [
    "надо сделать метки для интентов, консистентные с метками в тренировочной выборке"
   ]
  },
  {
   "cell_type": "code",
   "execution_count": 20,
   "metadata": {},
   "outputs": [],
   "source": [
    "intent_names.remove(\"undefined\")"
   ]
  },
  {
   "cell_type": "code",
   "execution_count": 21,
   "metadata": {},
   "outputs": [
    {
     "data": {
      "text/plain": [
       "{'GO': 0,\n",
       " 'disable_autopilot': 1,\n",
       " 'drop': 2,\n",
       " 'enable_autopilot': 3,\n",
       " 'go_to': 4,\n",
       " 'move_backward': 5,\n",
       " 'move_forward': 6,\n",
       " 'pick_up': 7,\n",
       " 'place': 8,\n",
       " 'say': 9,\n",
       " 'set_point': 10,\n",
       " 'sit_down': 11,\n",
       " 'stand_up': 12,\n",
       " 'status': 13,\n",
       " 'stop': 14,\n",
       " 'turn_left': 15,\n",
       " 'turn_right': 16,\n",
       " 'world_state': 17}"
      ]
     },
     "execution_count": 21,
     "metadata": {},
     "output_type": "execute_result"
    }
   ],
   "source": [
    "name_to_id = {name: i for i, name in enumerate(intent_names)}\n",
    "name_to_id"
   ]
  },
  {
   "cell_type": "code",
   "execution_count": 22,
   "metadata": {},
   "outputs": [],
   "source": [
    "robotics_val_converted = []\n",
    "for rec in robotics_val:\n",
    "    robotics_val_converted.append(\n",
    "        {\n",
    "            \"utterance\": rec[\"text\"],\n",
    "            \"labels\": [name_to_id[name] for name in rec[\"intents_splitted\"] if name != \"undefined\"],\n",
    "        }\n",
    "    )"
   ]
  },
  {
   "cell_type": "code",
   "execution_count": 23,
   "metadata": {},
   "outputs": [
    {
     "data": {
      "text/plain": [
       "[{'utterance': 'пожалуйста, проедь вперед на 20 метров', 'labels': [6]},\n",
       " {'utterance': 'тебе стоит отъехать назад 5 метров', 'labels': [5]},\n",
       " {'utterance': 'иди на расстояние', 'labels': [0]},\n",
       " {'utterance': 'подними этот стул, пожалуйста', 'labels': [7]},\n",
       " {'utterance': 'поставь эту коробку в угол', 'labels': [8, 2]},\n",
       " {'utterance': 'повтори за мной, пожалуйста', 'labels': [9]},\n",
       " {'utterance': 'можешь сесть рядом', 'labels': [11]},\n",
       " {'utterance': 'встань, пожалуйста', 'labels': [12]},\n",
       " {'utterance': 'прекрати шуметь', 'labels': [14]},\n",
       " {'utterance': 'можешь завернуть направо', 'labels': [16]}]"
      ]
     },
     "execution_count": 23,
     "metadata": {},
     "output_type": "execute_result"
    }
   ],
   "source": [
    "robotics_val_converted[:10]"
   ]
  },
  {
   "cell_type": "code",
   "execution_count": 24,
   "metadata": {},
   "outputs": [],
   "source": [
    "import json\n",
    "\n",
    "json.dump(robotics_val_converted, open(\"../data/intent_records/ac_robotic_val.json\", \"w\"), indent=4, ensure_ascii=False)"
   ]
  },
  {
   "cell_type": "markdown",
   "metadata": {},
   "source": [
    "## ac robotics ordering"
   ]
  },
  {
   "cell_type": "code",
   "execution_count": 26,
   "metadata": {},
   "outputs": [],
   "source": [
    "import difflib\n",
    "import json\n",
    "\n",
    "\n",
    "def read_json_file(file_path):\n",
    "    with open(file_path) as file:\n",
    "        return json.load(file)\n",
    "\n",
    "\n",
    "def json_to_string(json_obj):\n",
    "    return json.dumps(json_obj, indent=4, sort_keys=True)\n",
    "\n",
    "\n",
    "def compare_json_files(file1_path, file2_path):\n",
    "    # Read JSON files\n",
    "    json1 = read_json_file(file1_path)\n",
    "    json2 = read_json_file(file2_path)\n",
    "\n",
    "    # Convert JSON objects to strings\n",
    "    json1_str = json_to_string(json1)\n",
    "    json2_str = json_to_string(json2)\n",
    "\n",
    "    # Split strings into lines for difflib\n",
    "    json1_lines = json1_str.splitlines()\n",
    "    json2_lines = json2_str.splitlines()\n",
    "\n",
    "    # Compare the lines\n",
    "    diff = difflib.unified_diff(json1_lines, json2_lines, fromfile=file1_path, tofile=file2_path)\n",
    "\n",
    "    # Print the differences\n",
    "    for _line in diff:\n",
    "        pass"
   ]
  },
  {
   "cell_type": "code",
   "execution_count": 29,
   "metadata": {},
   "outputs": [],
   "source": [
    "compare_json_files(\n",
    "    file1_path=\"../data/ac_robotic_2_raw.json\",\n",
    "    file2_path=\"../data/autopilot_intents.json\",\n",
    ")"
   ]
  },
  {
   "cell_type": "markdown",
   "metadata": {},
   "source": [
    "окей, автопилот интенты не изменились"
   ]
  },
  {
   "cell_type": "code",
   "execution_count": 30,
   "metadata": {},
   "outputs": [
    {
     "data": {
      "text/plain": [
       "13"
      ]
     },
     "execution_count": 30,
     "metadata": {},
     "output_type": "execute_result"
    }
   ],
   "source": [
    "import json\n",
    "\n",
    "ordering_data = json.load(open(\"../data/ordering_intents.json\"))\n",
    "# ordering_tags = ordering_data[\"tags\"]\n",
    "ordering_intents = ordering_data[\"intents\"]\n",
    "len(ordering_intents)"
   ]
  },
  {
   "cell_type": "code",
   "execution_count": 31,
   "metadata": {},
   "outputs": [
    {
     "data": {
      "text/plain": [
       "{'name': 'get_order',\n",
       " 'phrases': ['(пожалуйста(,){0,1} ){0,1}((получить)|(забрать)|(оформить)|(выдать)) ((заказ)|(посылку)|(покупку))',\n",
       "  '(пожалуйста(,){0,1} ){0,1}((получить)|(забрать)|(оформить)|(выдать)) ((мой)|(свой)) ((заказ)|(посылку)|(покупку))',\n",
       "  '((тебе ((надо)|(следует)|(стоит))|ты (можешь|мог бы|не мог бы)) ){0,1}((получить)|(забрать)|(оформить)|(выдать)) ((заказ)|(посылку)|(покупку))',\n",
       "  '(сотрудник(,){0,1} ){0,1}(пожалуйста(,){0,1} ){0,1}((получить)|(забрать)|(оформить)|(выдать)) ((мой)|(свой)) ((заказ)|(посылку)|(покупку))',\n",
       "  'было бы хорошо, если бы вы ((выдали)|(оформили)|(подготовили)) ((мой)|(свой)) ((заказ)|(посылку)|(покупку))',\n",
       "  '((готов)|(хочу)|(когда можно)|(как)) ((получить)|(забрать)|(оформить)) ((мой)|(свой)) ((заказ)|(посылку)|(покупку))',\n",
       "  '((заказ)|(посылка)|(покупка)) на выдачу',\n",
       "  '((оформить)|(сделать)) выдачу ((заказа)|(посылки)|(покупки))',\n",
       "  '((забираю)|(получаю)) ((заказ)|(посылку)|(покупку))'],\n",
       " 'reg_phrases': ['(?i)(?:пожалуйста,?\\\\s*)?(?:сотрудник,?\\\\s*)?(?:(?:получ(?:ить|у|ите)|забр(?:ать|у|ите)|оформ(?:ить|лю|ите)|выд(?:ать|айте))\\\\s+(?:мо(?:й|ю)|сво(?:й|ю))?\\\\s*(?:заказ|посылк(?:у|и)|покупк(?:у|и)))(?:,?\\\\s*если\\\\s+можно)?',\n",
       "  '(?i)(?:(?:не\\\\s+)?мог(?:\\\\s+бы)?\\\\s+(?:ли\\\\s+)?(?:я|вы)|(?:я\\\\s+)?(?:не\\\\s+)?мо(?:гу|г(?:ла|ли)\\\\s+бы)|можно\\\\s+(?:ли|мне))\\\\s+(?:получ(?:ить|у|ите)|забр(?:ать|у|ите)|оформ(?:ить|лю|ите)|выд(?:ать|айте))\\\\s+(?:мо(?:й|ю)|сво(?:й|ю))?\\\\s*(?:заказ|посылк(?:у|и)|покупк(?:у|и))',\n",
       "  '(?i)(?:мне\\\\s+(?:надо|следует|стоит|нужно)|необходимо|требуется)\\\\s+(?:получ(?:ить|у|ите)|забр(?:ать|у|ите)|оформ(?:ить|лю|ите)|выд(?:ать|айте))\\\\s+(?:мо(?:й|ю)|сво(?:й|ю))?\\\\s*(?:заказ|посылк(?:у|и)|покупк(?:у|и))',\n",
       "  '(?i)(?:хорошо\\\\s+бы|было\\\\s+бы\\\\s+(?:неплохо|здорово|хорошо))(?:,?\\\\s*если\\\\s+бы)?\\\\s+(?:вы\\\\s+)?(?:выдали|оформили|подготовили)\\\\s+(?:мо(?:й|ю)|сво(?:й|ю))?\\\\s*(?:заказ|посылк(?:у|и)|покупк(?:у|и))',\n",
       "  '(?i)(?:гото(?:в|ва)|хоч(?:у|ется)|когда\\\\s+можно|как)\\\\s+(?:получ(?:ить|у|ите)|забр(?:ать|у|ите)|оформ(?:ить|лю|ите))\\\\s+(?:мо(?:й|ю)|сво(?:й|ю))?\\\\s*(?:заказ|посылк(?:у|и)|покупк(?:у|и))',\n",
       "  '(?i)(?:заказ|посылк(?:а|и)|покупк(?:а|и))\\\\s+на\\\\s+выдачу',\n",
       "  '(?i)(?:оформ(?:ить|лю|ите)|сдела(?:ть|ю|йте))\\\\s+выдачу\\\\s+(?:заказа|посылк(?:и|ов)|покупк(?:и|ов))',\n",
       "  '(?i)(?:забира(?:ю|ем)|получа(?:ю|ем))\\\\s+(?:мо(?:й|ю)|сво(?:й|ю))?\\\\s*(?:заказ|посылк(?:у|и)|покупк(?:у|и))'],\n",
       " 'min_precision': 0.94,\n",
       " 'punctuation': ['.', '?']}"
      ]
     },
     "execution_count": 31,
     "metadata": {},
     "output_type": "execute_result"
    }
   ],
   "source": [
    "ordering_intents[0]"
   ]
  },
  {
   "cell_type": "code",
   "execution_count": 33,
   "metadata": {},
   "outputs": [
    {
     "data": {
      "text/plain": [
       "['about_pickup_point',\n",
       " 'get_order',\n",
       " 'have_more_questions',\n",
       " 'have_no_more_questions',\n",
       " 'not_ready_to_get_order',\n",
       " 'off_topic',\n",
       " 'order_is_accepted',\n",
       " 'order_is_not_accepted',\n",
       " 'query_delay_order',\n",
       " 'query_order_conditions',\n",
       " 'query_return_item',\n",
       " 'query_working_hours',\n",
       " 'ready_to_get_order']"
      ]
     },
     "execution_count": 33,
     "metadata": {},
     "output_type": "execute_result"
    }
   ],
   "source": [
    "intent_names = sorted({rec[\"name\"] for rec in ordering_intents})\n",
    "intent_names"
   ]
  },
  {
   "cell_type": "code",
   "execution_count": 34,
   "metadata": {},
   "outputs": [
    {
     "data": {
      "text/plain": [
       "{'about_pickup_point': 0,\n",
       " 'get_order': 1,\n",
       " 'have_more_questions': 2,\n",
       " 'have_no_more_questions': 3,\n",
       " 'not_ready_to_get_order': 4,\n",
       " 'off_topic': 5,\n",
       " 'order_is_accepted': 6,\n",
       " 'order_is_not_accepted': 7,\n",
       " 'query_delay_order': 8,\n",
       " 'query_order_conditions': 9,\n",
       " 'query_return_item': 10,\n",
       " 'query_working_hours': 11,\n",
       " 'ready_to_get_order': 12}"
      ]
     },
     "execution_count": 34,
     "metadata": {},
     "output_type": "execute_result"
    }
   ],
   "source": [
    "name_to_id = {name: i for i, name in enumerate(intent_names)}\n",
    "name_to_id"
   ]
  },
  {
   "cell_type": "code",
   "execution_count": 35,
   "metadata": {},
   "outputs": [],
   "source": [
    "for intent in ordering_intents:\n",
    "    intent[\"intent_id\"] = name_to_id[intent[\"name\"]]\n",
    "    intent[\"intent_name\"] = intent.pop(\"name\")\n",
    "    intent[\"sample_utterances\"] = []\n",
    "    intent[\"regexp_full_match\"] = intent.pop(\"phrases\")\n",
    "    intent[\"regexp_partial_match\"] = intent.pop(\"reg_phrases\")\n",
    "    intent.pop(\"punctuation\")\n",
    "    intent.pop(\"min_precision\")"
   ]
  },
  {
   "cell_type": "code",
   "execution_count": 36,
   "metadata": {},
   "outputs": [
    {
     "data": {
      "text/plain": [
       "{'intent_id': 1,\n",
       " 'intent_name': 'get_order',\n",
       " 'sample_utterances': [],\n",
       " 'regexp_full_match': ['(пожалуйста(,){0,1} ){0,1}((получить)|(забрать)|(оформить)|(выдать)) ((заказ)|(посылку)|(покупку))',\n",
       "  '(пожалуйста(,){0,1} ){0,1}((получить)|(забрать)|(оформить)|(выдать)) ((мой)|(свой)) ((заказ)|(посылку)|(покупку))',\n",
       "  '((тебе ((надо)|(следует)|(стоит))|ты (можешь|мог бы|не мог бы)) ){0,1}((получить)|(забрать)|(оформить)|(выдать)) ((заказ)|(посылку)|(покупку))',\n",
       "  '(сотрудник(,){0,1} ){0,1}(пожалуйста(,){0,1} ){0,1}((получить)|(забрать)|(оформить)|(выдать)) ((мой)|(свой)) ((заказ)|(посылку)|(покупку))',\n",
       "  'было бы хорошо, если бы вы ((выдали)|(оформили)|(подготовили)) ((мой)|(свой)) ((заказ)|(посылку)|(покупку))',\n",
       "  '((готов)|(хочу)|(когда можно)|(как)) ((получить)|(забрать)|(оформить)) ((мой)|(свой)) ((заказ)|(посылку)|(покупку))',\n",
       "  '((заказ)|(посылка)|(покупка)) на выдачу',\n",
       "  '((оформить)|(сделать)) выдачу ((заказа)|(посылки)|(покупки))',\n",
       "  '((забираю)|(получаю)) ((заказ)|(посылку)|(покупку))'],\n",
       " 'regexp_partial_match': ['(?i)(?:пожалуйста,?\\\\s*)?(?:сотрудник,?\\\\s*)?(?:(?:получ(?:ить|у|ите)|забр(?:ать|у|ите)|оформ(?:ить|лю|ите)|выд(?:ать|айте))\\\\s+(?:мо(?:й|ю)|сво(?:й|ю))?\\\\s*(?:заказ|посылк(?:у|и)|покупк(?:у|и)))(?:,?\\\\s*если\\\\s+можно)?',\n",
       "  '(?i)(?:(?:не\\\\s+)?мог(?:\\\\s+бы)?\\\\s+(?:ли\\\\s+)?(?:я|вы)|(?:я\\\\s+)?(?:не\\\\s+)?мо(?:гу|г(?:ла|ли)\\\\s+бы)|можно\\\\s+(?:ли|мне))\\\\s+(?:получ(?:ить|у|ите)|забр(?:ать|у|ите)|оформ(?:ить|лю|ите)|выд(?:ать|айте))\\\\s+(?:мо(?:й|ю)|сво(?:й|ю))?\\\\s*(?:заказ|посылк(?:у|и)|покупк(?:у|и))',\n",
       "  '(?i)(?:мне\\\\s+(?:надо|следует|стоит|нужно)|необходимо|требуется)\\\\s+(?:получ(?:ить|у|ите)|забр(?:ать|у|ите)|оформ(?:ить|лю|ите)|выд(?:ать|айте))\\\\s+(?:мо(?:й|ю)|сво(?:й|ю))?\\\\s*(?:заказ|посылк(?:у|и)|покупк(?:у|и))',\n",
       "  '(?i)(?:хорошо\\\\s+бы|было\\\\s+бы\\\\s+(?:неплохо|здорово|хорошо))(?:,?\\\\s*если\\\\s+бы)?\\\\s+(?:вы\\\\s+)?(?:выдали|оформили|подготовили)\\\\s+(?:мо(?:й|ю)|сво(?:й|ю))?\\\\s*(?:заказ|посылк(?:у|и)|покупк(?:у|и))',\n",
       "  '(?i)(?:гото(?:в|ва)|хоч(?:у|ется)|когда\\\\s+можно|как)\\\\s+(?:получ(?:ить|у|ите)|забр(?:ать|у|ите)|оформ(?:ить|лю|ите))\\\\s+(?:мо(?:й|ю)|сво(?:й|ю))?\\\\s*(?:заказ|посылк(?:у|и)|покупк(?:у|и))',\n",
       "  '(?i)(?:заказ|посылк(?:а|и)|покупк(?:а|и))\\\\s+на\\\\s+выдачу',\n",
       "  '(?i)(?:оформ(?:ить|лю|ите)|сдела(?:ть|ю|йте))\\\\s+выдачу\\\\s+(?:заказа|посылк(?:и|ов)|покупк(?:и|ов))',\n",
       "  '(?i)(?:забира(?:ю|ем)|получа(?:ю|ем))\\\\s+(?:мо(?:й|ю)|сво(?:й|ю))?\\\\s*(?:заказ|посылк(?:у|и)|покупк(?:у|и))']}"
      ]
     },
     "execution_count": 36,
     "metadata": {},
     "output_type": "execute_result"
    }
   ],
   "source": [
    "ordering_intents[0]"
   ]
  },
  {
   "cell_type": "code",
   "execution_count": 37,
   "metadata": {},
   "outputs": [],
   "source": [
    "json.dump(ordering_intents, open(\"../data/intent_records/ac_ordering.json\", \"w\"), indent=4, ensure_ascii=False)"
   ]
  },
  {
   "cell_type": "markdown",
   "metadata": {},
   "source": [
    "теперь надо сделать мердж двух датасетов"
   ]
  },
  {
   "cell_type": "code",
   "execution_count": 40,
   "metadata": {},
   "outputs": [
    {
     "data": {
      "text/plain": [
       "31"
      ]
     },
     "execution_count": 40,
     "metadata": {},
     "output_type": "execute_result"
    }
   ],
   "source": [
    "autopilot_intents = json.load(open(\"../data/intent_records/ac_robotic_new.json\"))\n",
    "ordering_intents = json.load(open(\"../data/intent_records/ac_ordering.json\"))\n",
    "\n",
    "merged_intents = autopilot_intents + ordering_intents\n",
    "len(merged_intents)"
   ]
  },
  {
   "cell_type": "code",
   "execution_count": 41,
   "metadata": {},
   "outputs": [
    {
     "data": {
      "text/plain": [
       "['GO',\n",
       " 'about_pickup_point',\n",
       " 'disable_autopilot',\n",
       " 'drop',\n",
       " 'enable_autopilot',\n",
       " 'get_order',\n",
       " 'go_to',\n",
       " 'have_more_questions',\n",
       " 'have_no_more_questions',\n",
       " 'move_backward',\n",
       " 'move_forward',\n",
       " 'not_ready_to_get_order',\n",
       " 'off_topic',\n",
       " 'order_is_accepted',\n",
       " 'order_is_not_accepted',\n",
       " 'pick_up',\n",
       " 'place',\n",
       " 'query_delay_order',\n",
       " 'query_order_conditions',\n",
       " 'query_return_item',\n",
       " 'query_working_hours',\n",
       " 'ready_to_get_order',\n",
       " 'say',\n",
       " 'set_point',\n",
       " 'sit_down',\n",
       " 'stand_up',\n",
       " 'status',\n",
       " 'stop',\n",
       " 'turn_left',\n",
       " 'turn_right',\n",
       " 'world_state']"
      ]
     },
     "execution_count": 41,
     "metadata": {},
     "output_type": "execute_result"
    }
   ],
   "source": [
    "intent_names = sorted({rec[\"intent_name\"] for rec in merged_intents})\n",
    "intent_names"
   ]
  },
  {
   "cell_type": "code",
   "execution_count": 42,
   "metadata": {},
   "outputs": [
    {
     "data": {
      "text/plain": [
       "{'GO': 0,\n",
       " 'about_pickup_point': 1,\n",
       " 'disable_autopilot': 2,\n",
       " 'drop': 3,\n",
       " 'enable_autopilot': 4,\n",
       " 'get_order': 5,\n",
       " 'go_to': 6,\n",
       " 'have_more_questions': 7,\n",
       " 'have_no_more_questions': 8,\n",
       " 'move_backward': 9,\n",
       " 'move_forward': 10,\n",
       " 'not_ready_to_get_order': 11,\n",
       " 'off_topic': 12,\n",
       " 'order_is_accepted': 13,\n",
       " 'order_is_not_accepted': 14,\n",
       " 'pick_up': 15,\n",
       " 'place': 16,\n",
       " 'query_delay_order': 17,\n",
       " 'query_order_conditions': 18,\n",
       " 'query_return_item': 19,\n",
       " 'query_working_hours': 20,\n",
       " 'ready_to_get_order': 21,\n",
       " 'say': 22,\n",
       " 'set_point': 23,\n",
       " 'sit_down': 24,\n",
       " 'stand_up': 25,\n",
       " 'status': 26,\n",
       " 'stop': 27,\n",
       " 'turn_left': 28,\n",
       " 'turn_right': 29,\n",
       " 'world_state': 30}"
      ]
     },
     "execution_count": 42,
     "metadata": {},
     "output_type": "execute_result"
    }
   ],
   "source": [
    "name_to_id = {name: i for i, name in enumerate(intent_names)}\n",
    "name_to_id"
   ]
  },
  {
   "cell_type": "code",
   "execution_count": 43,
   "metadata": {},
   "outputs": [],
   "source": [
    "for intent in merged_intents:\n",
    "    intent[\"intent_id\"] = name_to_id[intent[\"intent_name\"]]"
   ]
  },
  {
   "cell_type": "code",
   "execution_count": 44,
   "metadata": {},
   "outputs": [
    {
     "data": {
      "text/plain": [
       "{'tags': ['movement_direction'],\n",
       " 'intent_id': 10,\n",
       " 'intent_name': 'move_forward',\n",
       " 'sample_utterances': [],\n",
       " 'regexp_full_match': ['(пожалуйста(,){0,1} ){0,1}((проедь)|(проезжай)|(едь)|(езжай)|(двигайся)|(подвинься)|(продвигайся)|(отъедь)|(отъезжай)) ((вперёд)|(вперед)|(по прямой)|(прямо)) (на ){0,1}((2)|(три)|(17)|(десять)){0,1}( метров){0,1}',\n",
       "  '(пожалуйста(,){0,1} ){0,1}((проедь)|(проезжай)|(едь)|(езжай)|(двигайся)|(подвинься)|(продвигайся)|(отъедь)|(отъезжай)) ((вперёд)|(вперед)|(по прямой)|(прямо)) (на ){0,1}((10)|(десять)){0,1}( метров){0,1}(, если можешь){0,1}',\n",
       "  '((тебе ((надо)|(следует)|(стоит))|ты (можешь|мог бы|не мог бы)) ){0,1}((проехать)|(отъехать)|(доехать)|(продвинуться)|(подвинуться)) ((вперёд)|(вперед)|(по прямой)|(прямо)) (на ){0,1}((6)|(пять)){0,1}( метров){0,1}',\n",
       "  '(робот(,){0,1} ){0,1}(пожалуйста(,){0,1} ){0,1}((проедь)|(проезжай)|(едь)|(езжай)|(двигайся)|(подвинься)|(продвигайся)) (на ){0,1}((7)|(четыре)|(11)|(двенадцать)){0,1}( метров){0,1}',\n",
       "  'было бы хорошо, если бы ты ((проехал)|(продвинулся)|(подвинулся)|(отъехал)) ((вперёд)|(вперед)|(по прямой)|(прямо)) (на ){0,1}((20)|(семь)|(11)|(одиннадцать)){0,1}( метров){0,1}'],\n",
       " 'regexp_partial_match': ['(?i)(?:пожалуйста,?\\\\s*)?(?:робот,?\\\\s*)?(?:(?:про|по)?ед(?:ь(?:те)?|у)|(?:про|по)?езжай(?:те)?|двигай(?:ся|тесь)|(?:про|под)вин(?:ь(?:ся|тесь)|усь)|отъ?езжай(?:те)?)\\\\s+(?:вперёд|вперед|прямо|по\\\\s+прямой)(?:\\\\s+на\\\\s+(?:\\\\d+|[а-я]+)\\\\s*(?:метр(?:ов|а)?|м\\\\.?|шаг(?:ов|а)?))?(?:,?\\\\s*если\\\\s+можешь)?',\n",
       "  '(?i)(?:(?:не\\\\s+)?мог(?:\\\\s+бы)?\\\\s+(?:ли\\\\s+)?(?:ты|вы)|(?:ты\\\\s+)?(?:не\\\\s+)?мо(?:жешь|г(?:ла|ли)\\\\s+бы)|способен\\\\s+ли\\\\s+ты)\\\\s+(?:про|по)?ехать\\\\s+(?:вперёд|вперед|прямо|по\\\\s+прямой)(?:\\\\s+на\\\\s+(?:\\\\d+|[а-я]+)\\\\s*(?:метр(?:ов|а)?|м\\\\.?|шаг(?:ов|а)?))?',\n",
       "  '(?i)(?:тебе\\\\s+(?:надо|следует|стоит)|нужно|необходимо|требуется|следует)\\\\s+(?:про|по)?ехать\\\\s+(?:вперёд|вперед|прямо|по\\\\s+прямой)(?:\\\\s+на\\\\s+(?:\\\\d+|[а-я]+)\\\\s*(?:метр(?:ов|а)?|м\\\\.?|шаг(?:ов|а)?))?',\n",
       "  '(?i)(?:хорошо\\\\s+бы|было\\\\s+бы\\\\s+(?:неплохо|здорово|хорошо))(?:,?\\\\s*если\\\\s+бы)?\\\\s+(?:ты\\\\s+)?(?:про|по|под)?(?:ехал(?:а)?|двинул(?:ся|ась))\\\\s+(?:вперёд|вперед|прямо|по\\\\s+прямой)(?:\\\\s+на\\\\s+(?:\\\\d+|[а-я]+)\\\\s*(?:метр(?:ов|а)?|м\\\\.?|шаг(?:ов|а)?))?']}"
      ]
     },
     "execution_count": 44,
     "metadata": {},
     "output_type": "execute_result"
    }
   ],
   "source": [
    "merged_intents[0]"
   ]
  },
  {
   "cell_type": "code",
   "execution_count": 45,
   "metadata": {},
   "outputs": [],
   "source": [
    "json.dump(merged_intents, open(\"../data/intent_records/ac_merged.json\", \"w\"), indent=4, ensure_ascii=False)"
   ]
  },
  {
   "cell_type": "code",
   "execution_count": null,
   "metadata": {},
   "outputs": [],
   "source": []
  }
 ],
 "metadata": {
  "kernelspec": {
   "display_name": ".autointent",
   "language": "python",
   "name": "python3"
  },
  "language_info": {
   "codemirror_mode": {
    "name": "ipython",
    "version": 3
   },
   "file_extension": ".py",
   "mimetype": "text/x-python",
   "name": "python",
   "nbconvert_exporter": "python",
   "pygments_lexer": "ipython3",
   "version": "3.10.14"
  }
 },
 "nbformat": 4,
 "nbformat_minor": 2
}
