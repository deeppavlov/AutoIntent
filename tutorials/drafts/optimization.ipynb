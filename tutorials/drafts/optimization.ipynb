{
 "cells": [
  {
   "cell_type": "code",
   "execution_count": 1,
   "metadata": {},
   "outputs": [],
   "source": [
    "%load_ext autoreload\n",
    "%autoreload 2"
   ]
  },
  {
   "cell_type": "markdown",
   "metadata": {},
   "source": [
    "basic concepts\n",
    "\n",
    "- dataset\n",
    "- modules\n",
    "- nodes\n",
    "- pipeline"
   ]
  },
  {
   "cell_type": "markdown",
   "metadata": {},
   "source": [
    "## Dataset"
   ]
  },
  {
   "cell_type": "code",
   "execution_count": 22,
   "metadata": {},
   "outputs": [
    {
     "data": {
      "text/plain": [
       "Dataset({\n",
       "    type: multiclass,\n",
       "    utterances: {\n",
       "        features: [\"text\", \"label\"],\n",
       "        num_rows: 320,\n",
       "    }\n",
       "    intents: {\n",
       "        features: [\"id\", \"name\", \"tags\", \"regexp_full_match\", \"regexp_partial_match\", \"description\"],\n",
       "        num_rows: 64\n",
       "    }\n",
       "})"
      ]
     },
     "execution_count": 22,
     "metadata": {},
     "output_type": "execute_result"
    }
   ],
   "source": [
    "from autointent.utils import load_dataset\n",
    "\n",
    "dataset = load_dataset(\"/home/voorhs/repos/AutoIntent/data/intent_records/hwu64.json\")\n",
    "dataset"
   ]
  },
  {
   "cell_type": "code",
   "execution_count": 23,
   "metadata": {},
   "outputs": [
    {
     "name": "stdout",
     "output_type": "stream",
     "text": [
      "Utterance(text=\"checkout today alarm of meeting\", label=0)\n",
      "Utterance(text=\"is it going to snow tonight\", label=63)\n"
     ]
    }
   ],
   "source": [
    "from pprint import pprint\n",
    "\n",
    "pprint(dataset[1])\n",
    "pprint(dataset[-1])"
   ]
  },
  {
   "cell_type": "code",
   "execution_count": 24,
   "metadata": {},
   "outputs": [
    {
     "name": "stdout",
     "output_type": "stream",
     "text": [
      "[Utterance(text=\"what alarms do i have set right now\", label=0),\n",
      " Utterance(text=\"checkout today alarm of meeting\", label=0),\n",
      " Utterance(text=\"report alarm settings\", label=0)]\n"
     ]
    }
   ],
   "source": [
    "pprint(dataset[:3])"
   ]
  },
  {
   "cell_type": "code",
   "execution_count": 25,
   "metadata": {},
   "outputs": [
    {
     "name": "stdout",
     "output_type": "stream",
     "text": [
      "Intent(id=0, name=\"alarm_query\")\n"
     ]
    }
   ],
   "source": [
    "pprint(dataset.intents[0])"
   ]
  },
  {
   "cell_type": "code",
   "execution_count": 26,
   "metadata": {},
   "outputs": [
    {
     "name": "stdout",
     "output_type": "stream",
     "text": [
      "Dataset({\n",
      "    type: multilabel,\n",
      "    utterances: {\n",
      "        features: [\"text\", \"label\"],\n",
      "        num_rows: 320,\n",
      "    }\n",
      "    intents: {\n",
      "        features: [\"id\", \"name\", \"tags\", \"regexp_full_match\", \"regexp_partial_match\", \"description\"],\n",
      "        num_rows: 64\n",
      "    }\n",
      "})\n",
      "Utterance(text=\"checkout today alarm of meeting\", label=[0])\n",
      "Utterance(text=\"is it going to snow tonight\", label=[63])\n"
     ]
    }
   ],
   "source": [
    "ml_dataset = dataset.to_multilabel()\n",
    "pprint(ml_dataset)\n",
    "pprint(ml_dataset[1])\n",
    "pprint(ml_dataset[-1])"
   ]
  },
  {
   "cell_type": "code",
   "execution_count": 27,
   "metadata": {},
   "outputs": [
    {
     "name": "stdout",
     "output_type": "stream",
     "text": [
      "['what alarms do i have set right now',\n",
      " 'checkout today alarm of meeting',\n",
      " 'report alarm settings',\n",
      " 'see see for me the alarms that you have set tomorrow morning',\n",
      " 'is there an alarm for ten am',\n",
      " 'delete alarm',\n",
      " 'remove the latest alarm',\n",
      " 'stop wake up calls for this week',\n",
      " 'remove the first alarm',\n",
      " 'remove my earliest alarm for tomorrow']\n",
      "[0, 0, 0, 0, 0, 1, 1, 1, 1, 1]\n"
     ]
    }
   ],
   "source": [
    "pprint(dataset.texts[:10])\n",
    "pprint(dataset.labels[:10])"
   ]
  },
  {
   "cell_type": "raw",
   "metadata": {
    "vscode": {
     "languageId": "raw"
    }
   },
   "source": [
    "Dataset({\n",
    "    type: multilabel,\n",
    "    intents: {\n",
    "        features: [\"id\", \"name\", \"tags\", \"regexp_full_match\", \"regexp_partial_match\", \"description\"],\n",
    "        num_rows: 64\n",
    "    },\n",
    "    part_1: {\n",
    "        features: [\"text\", \"label\"],\n",
    "        num_rows: 320,\n",
    "    },\n",
    "    ...\n",
    "    part_n: {\n",
    "        features: [\"text\", \"label\"],\n",
    "        num_rows: 320,\n",
    "    },\n",
    "})"
   ]
  },
  {
   "cell_type": "markdown",
   "metadata": {},
   "source": [
    "- обёртка над hugging face datasets, чтобы можно было так же как hf обращаться к семплам и загружать с диска / на диск / в хаб\n",
    "- стратифицированный сплиттинг не только на train/test, а на train/val для каждого модуля и test в конце\n",
    "- опция в конфиге: какому модулю какие партиции использовать для train/val"
   ]
  },
  {
   "cell_type": "markdown",
   "metadata": {},
   "source": [
    "## Modules"
   ]
  },
  {
   "cell_type": "code",
   "execution_count": null,
   "metadata": {},
   "outputs": [],
   "source": [
    "from autointent.modules import LinearScorer, TunablePredictor\n",
    "\n",
    "scorer = LinearScorer(...)  # hyperparams\n",
    "scorer.fit(...)  # train_part_1 data\n",
    "probs = scorer.predict(...)  # train_part_2 data\n",
    "\n",
    "predictor = TunablePredictor(...)  # hyperparams\n",
    "predictor.fit(probs, ...)  # train_part_2 data\n",
    "predictor.predict(...)  # test data"
   ]
  },
  {
   "cell_type": "markdown",
   "metadata": {},
   "source": [
    "## Node Optimizer"
   ]
  },
  {
   "cell_type": "code",
   "execution_count": null,
   "metadata": {},
   "outputs": [],
   "source": [
    "from autointent.nodes.optimization import NodeOptimizer"
   ]
  },
  {
   "cell_type": "code",
   "execution_count": null,
   "metadata": {},
   "outputs": [],
   "source": [
    "search_space = {\n",
    "    [\n",
    "        {\"module_type\": \"knn\", \"k\": [1, 3, 5, 10], \"weights\": [\"uniform\", \"distance\", \"closest\"]},\n",
    "        {\"module_type\": \"linear\"},\n",
    "        {\n",
    "            \"module_type\": \"dnnc\",\n",
    "            \"model_name\": [\"BAAI/bge-reranker-base\", \"cross-encoder/ms-marco-MiniLM-L-6-v2\"],\n",
    "            \"k\": [1, 3, 5, 10],\n",
    "        },\n",
    "    ]\n",
    "}\n",
    "\n",
    "scoring_optimizer = NodeOptimizer(node_type=\"scoring\", search_space=search_space, metric=\"scoring_roc_auc\")\n",
    "scoring_optimizer.fit(...)  # train_1, val_1\n",
    "scorer = scoring_optimizer.best()\n",
    "probs = scorer.predict(...)  # train_2"
   ]
  },
  {
   "cell_type": "code",
   "execution_count": null,
   "metadata": {},
   "outputs": [],
   "source": [
    "search_space = {\n",
    "    {\"module_type\": \"threshold\", \"thresh\": [0.5, [0.5, 0.5, 0.5]]},\n",
    "    {\"module_type\": \"tunable\", \"n_trials\": 100},\n",
    "    {\"module_type\": \"argmax\"},\n",
    "    {\"module_type\": \"jinoos\"},\n",
    "}\n",
    "prediction_optimizer = NodeOptimizer(node_type=\"prediction\", search_space=search_space, metric=\"prediction_accuracy\")\n",
    "prediction_optimizer.fit(probs, ...)  # train_2, val_2\n",
    "predictor = prediction_optimizer.best()\n",
    "predictor.predict(...)  # test data"
   ]
  },
  {
   "cell_type": "markdown",
   "metadata": {},
   "source": [
    "## Pipeline"
   ]
  },
  {
   "cell_type": "code",
   "execution_count": null,
   "metadata": {},
   "outputs": [],
   "source": [
    "from autointent.pipeline.optimization import PipelineOptimizer"
   ]
  },
  {
   "cell_type": "code",
   "execution_count": null,
   "metadata": {},
   "outputs": [],
   "source": [
    "config = {\n",
    "    \"nodes\": [\n",
    "        {\n",
    "            \"node_type\": \"scoring\",\n",
    "            \"metric\": \"scoring_roc_auc\",\n",
    "            \"search_space\": [\n",
    "                {\"module_type\": \"knn\", \"k\": [5, 10], \"weights\": [\"uniform\", \"distance\", \"closest\"]},\n",
    "                {\"module_type\": \"linear\"},\n",
    "                {\n",
    "                    \"module_type\": \"dnnc\",\n",
    "                    \"model_name\": [\"cross-encoder/ms-marco-MiniLM-L-6-v2\", \"avsolatorio/GIST-small-Embedding-v0\"],\n",
    "                    \"k\": [1, 3],\n",
    "                    \"train_head\": [False, True],\n",
    "                },\n",
    "            ],\n",
    "        },\n",
    "        {\n",
    "            \"node_type\": \"prediction\",\n",
    "            \"metric\": \"prediction_accuracy\",\n",
    "            \"search_space\": [\n",
    "                {\"module_type\": \"threshold\", \"thresh\": [0.5, [0.5, 0.5, 0.5]]},\n",
    "                {\"module_type\": \"tunable\"},\n",
    "                {\"module_type\": \"argmax\"},\n",
    "                {\"module_type\": \"jinoos\"},\n",
    "            ],\n",
    "        },\n",
    "    ]\n",
    "}\n",
    "\n",
    "pipeline_optimizer = PipelineOptimizer.from_dict_config(config)\n",
    "pipeline_optimizer.optimize(...) # data with partitions: train_1, train_2, val_1, val_2, test"
   ]
  },
  {
   "cell_type": "markdown",
   "metadata": {},
   "source": [
    "## CLI"
   ]
  },
  {
   "cell_type": "code",
   "execution_count": null,
   "metadata": {
    "vscode": {
     "languageId": "shellscript"
    }
   },
   "outputs": [],
   "source": [
    "# override default parameters\n",
    "autointent data.train_path=default-multiclass \\\n",
    "           data.test_path=data/intent_records/banking77_test.json \\\n",
    "           seed=42"
   ]
  },
  {
   "cell_type": "markdown",
   "metadata": {},
   "source": [
    "https://hydra.cc/docs/1.2/upgrades/1.0_to_1.1/automatic_schema_matching/"
   ]
  },
  {
   "cell_type": "code",
   "execution_count": null,
   "metadata": {
    "vscode": {
     "languageId": "shellscript"
    }
   },
   "outputs": [],
   "source": [
    "# use entire new config\n",
    "autointent --config-path FULL_PATH/test_config --config-name config"
   ]
  },
  {
   "cell_type": "code",
   "execution_count": null,
   "metadata": {},
   "outputs": [],
   "source": []
  }
 ],
 "metadata": {
  "kernelspec": {
   "display_name": "autointent-D7M6VOhJ-py3.12",
   "language": "python",
   "name": "python3"
  },
  "language_info": {
   "codemirror_mode": {
    "name": "ipython",
    "version": 3
   },
   "file_extension": ".py",
   "mimetype": "text/x-python",
   "name": "python",
   "nbconvert_exporter": "python",
   "pygments_lexer": "ipython3",
   "version": "3.12.3"
  }
 },
 "nbformat": 4,
 "nbformat_minor": 2
}
