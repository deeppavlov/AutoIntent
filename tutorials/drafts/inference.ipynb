{
 "cells": [
  {
   "cell_type": "markdown",
   "metadata": {},
   "source": [
    "## Modules"
   ]
  },
  {
   "cell_type": "code",
   "execution_count": null,
   "metadata": {},
   "outputs": [],
   "source": [
    "from autointent.modules import LinearScorer, TunablePredictor\n",
    "\n",
    "scorer = LinearScorer(...)  # hyperparams\n",
    "scorer.load(\"path/to/module/dump\")\n",
    "\n",
    "predictor = TunablePredictor(...)  # hyperparams\n",
    "predictor.load(\"path/to/module/dump\")"
   ]
  },
  {
   "cell_type": "markdown",
   "metadata": {},
   "source": [
    "## Nodes"
   ]
  },
  {
   "cell_type": "code",
   "execution_count": null,
   "metadata": {},
   "outputs": [],
   "source": [
    "from autointent.nodes.inference import InferenceNode"
   ]
  },
  {
   "cell_type": "code",
   "execution_count": null,
   "metadata": {},
   "outputs": [],
   "source": [
    "config = {\n",
    "    \"node_type\": \"scoring\",\n",
    "    \"module_type\": \"linear\",\n",
    "    \"module_config\": {...},\n",
    "    \"load_path\": \"path/to/module/dump\",\n",
    "}\n",
    "scoring_node = InferenceNode(**config)\n",
    "\n",
    "scoring_node.module.predict(...)"
   ]
  },
  {
   "cell_type": "code",
   "execution_count": null,
   "metadata": {},
   "outputs": [],
   "source": [
    "config = {\n",
    "    \"node_type\": \"prediction\",\n",
    "    \"module_type\": \"tunable\",\n",
    "    \"module_config\": {...},\n",
    "    \"load_path\": \"path/to/module/dump\",\n",
    "}\n",
    "prediction_node = InferenceNode(**config)\n",
    "\n",
    "prediction_node.module.predict(...)"
   ]
  },
  {
   "cell_type": "markdown",
   "metadata": {},
   "source": [
    "## Pipeline"
   ]
  },
  {
   "cell_type": "code",
   "execution_count": null,
   "metadata": {},
   "outputs": [],
   "source": [
    "from autointent.pipeline.inference import InferencePipeline"
   ]
  },
  {
   "cell_type": "code",
   "execution_count": null,
   "metadata": {},
   "outputs": [],
   "source": [
    "pipeline = InferencePipeline(nodes=[scoring_node, prediction_node])\n",
    "pipeline.predict(...)"
   ]
  },
  {
   "cell_type": "code",
   "execution_count": null,
   "metadata": {},
   "outputs": [],
   "source": [
    "config = {\n",
    "    \"nodes\": [\n",
    "        {\n",
    "            \"node_type\": \"retrieval\",\n",
    "            \"module_type\": \"vector_db\",\n",
    "            \"module_config\": {\"k\": 10, \"model_name\": \"infgrad/stella-base-en-v2\"},\n",
    "            \"load_path\": \".\",\n",
    "        },\n",
    "        {\n",
    "            \"node_type\": \"scoring\",\n",
    "            \"module_type\": \"knn\",\n",
    "            \"module_config\": {\"k\": 10, \"weights\": \"uniform\"},\n",
    "            \"load_path\": \".\",\n",
    "        },\n",
    "        {\"node_type\": \"prediction\", \"module_type\": \"threshold\", \"module_config\": {\"thresh\": 0.5}, \"load_path\": \".\"},\n",
    "    ]\n",
    "}\n",
    "\n",
    "pipeline = InferencePipeline.from_dict_config(config)\n",
    "pipeline.predict(...)"
   ]
  },
  {
   "cell_type": "markdown",
   "metadata": {},
   "source": [
    "## CLI"
   ]
  },
  {
   "cell_type": "code",
   "execution_count": null,
   "metadata": {},
   "outputs": [],
   "source": [
    "# TODO"
   ]
  }
 ],
 "metadata": {
  "kernelspec": {
   "display_name": "autointent-D7M6VOhJ-py3.12",
   "language": "python",
   "name": "python3"
  },
  "language_info": {
   "codemirror_mode": {
    "name": "ipython",
    "version": 3
   },
   "file_extension": ".py",
   "mimetype": "text/x-python",
   "name": "python",
   "nbconvert_exporter": "python",
   "pygments_lexer": "ipython3",
   "version": "3.12.3"
  }
 },
 "nbformat": 4,
 "nbformat_minor": 2
}
