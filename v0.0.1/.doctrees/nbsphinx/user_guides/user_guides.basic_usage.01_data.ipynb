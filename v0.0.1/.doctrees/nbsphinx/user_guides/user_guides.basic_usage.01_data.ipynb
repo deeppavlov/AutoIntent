{
 "cells": [
  {
   "cell_type": "markdown",
   "id": "383d660b",
   "metadata": {
    "cell_marker": "\"\"\""
   },
   "source": [
    "# Working with data\n",
    "\n",
    "In this chapter you will learn how to manipulate intent classification data with AutoIntent."
   ]
  },
  {
   "cell_type": "code",
   "execution_count": 1,
   "id": "bca5affd",
   "metadata": {
    "execution": {
     "iopub.execute_input": "2024-12-18T11:43:46.220732Z",
     "iopub.status.busy": "2024-12-18T11:43:46.220542Z",
     "iopub.status.idle": "2024-12-18T11:43:50.103639Z",
     "shell.execute_reply": "2024-12-18T11:43:50.103003Z"
    }
   },
   "outputs": [
    {
     "name": "stderr",
     "output_type": "stream",
     "text": [
      "/home/runner/.cache/pypoetry/virtualenvs/autointent-FDypUDHQ-py3.10/lib/python3.10/site-packages/tqdm/auto.py:21: TqdmWarning: IProgress not found. Please update jupyter and ipywidgets. See https://ipywidgets.readthedocs.io/en/stable/user_install.html\n",
      "  from .autonotebook import tqdm as notebook_tqdm\n"
     ]
    }
   ],
   "source": [
    "import importlib.resources as ires\n",
    "\n",
    "import datasets\n",
    "\n",
    "from autointent import Dataset"
   ]
  },
  {
   "cell_type": "code",
   "execution_count": 2,
   "id": "e52217c3",
   "metadata": {
    "execution": {
     "iopub.execute_input": "2024-12-18T11:43:50.106087Z",
     "iopub.status.busy": "2024-12-18T11:43:50.105619Z",
     "iopub.status.idle": "2024-12-18T11:43:50.109016Z",
     "shell.execute_reply": "2024-12-18T11:43:50.108360Z"
    }
   },
   "outputs": [],
   "source": [
    "datasets.logging.disable_progress_bar()  # disable tqdm outputs"
   ]
  },
  {
   "cell_type": "markdown",
   "id": "df27925a",
   "metadata": {
    "cell_marker": "\"\"\""
   },
   "source": [
    "## Creating a dataset\n",
    "\n",
    "The first thing you need to think about is your data. You need to collect a set of labeled utterances and save it as JSON file with the following schema:\n",
    "\n",
    "```json\n",
    "{\n",
    "    \"train\": [\n",
    "        {\n",
    "            \"utterance\": \"Hello!\",\n",
    "            \"label\": 0\n",
    "        },\n",
    "        \"...\",\n",
    "    ],\n",
    "    \"test\": [\n",
    "        {\n",
    "            \"utterance\": \"Hi!\",\n",
    "            \"label\": 0\n",
    "        },\n",
    "        \"...\",\n",
    "    ]\n",
    "}\n",
    "```\n",
    "\n",
    "Note:\n",
    "- For a multilabel dataset, the `label` field should be a list of integers representing the corresponding class labels.\n",
    "- Test split is optional. By default, a portion of the training split will be allocated for testing."
   ]
  },
  {
   "cell_type": "markdown",
   "id": "dbf0420c",
   "metadata": {
    "cell_marker": "\"\"\""
   },
   "source": [
    "## Loading a dataset\n",
    "\n",
    "After you converted your labeled data into JSON, you can load it into AutoIntent as [Dataset](../autoapi/autointent/Dataset.html#autointent.Dataset). We will load sample dataset that is provided by AutoIntent library to demonstrate this functionality."
   ]
  },
  {
   "cell_type": "code",
   "execution_count": 3,
   "id": "846a3255",
   "metadata": {
    "execution": {
     "iopub.execute_input": "2024-12-18T11:43:50.111232Z",
     "iopub.status.busy": "2024-12-18T11:43:50.110827Z",
     "iopub.status.idle": "2024-12-18T11:43:50.157076Z",
     "shell.execute_reply": "2024-12-18T11:43:50.156546Z"
    }
   },
   "outputs": [],
   "source": [
    "path_to_dataset = ires.files(\"tests.assets.data\").joinpath(\"clinc_subset.json\")\n",
    "dataset = Dataset.from_json(path_to_dataset)"
   ]
  },
  {
   "cell_type": "markdown",
   "id": "153f9b4f",
   "metadata": {
    "cell_marker": "\"\"\""
   },
   "source": [
    "Note: to load your data, just change `path_to_dataset` variable."
   ]
  },
  {
   "cell_type": "markdown",
   "id": "929d6861",
   "metadata": {
    "cell_marker": "\"\"\""
   },
   "source": [
    "### Accessing dataset splits\n",
    "\n",
    "The [Dataset](../autoapi/autointent/Dataset.html#autointent.Dataset) class organizes your data as a dictionary of [datasets.Dataset](https://huggingface.co/docs/datasets/v2.1.0/en/package_reference/main_classes#datasets.Dataset).\n",
    "For example, after initialization, an `oos` key may be added if OOS samples are provided."
   ]
  },
  {
   "cell_type": "code",
   "execution_count": 4,
   "id": "6e7fe112",
   "metadata": {
    "execution": {
     "iopub.execute_input": "2024-12-18T11:43:50.159178Z",
     "iopub.status.busy": "2024-12-18T11:43:50.158793Z",
     "iopub.status.idle": "2024-12-18T11:43:50.165161Z",
     "shell.execute_reply": "2024-12-18T11:43:50.164579Z"
    }
   },
   "outputs": [
    {
     "data": {
      "text/plain": [
       "Dataset({\n",
       "    features: ['utterance', 'label'],\n",
       "    num_rows: 37\n",
       "})"
      ]
     },
     "execution_count": 4,
     "metadata": {},
     "output_type": "execute_result"
    }
   ],
   "source": [
    "dataset[\"train\"]"
   ]
  },
  {
   "cell_type": "markdown",
   "id": "301fd2a6",
   "metadata": {
    "cell_marker": "\"\"\""
   },
   "source": [
    "### Working with dataset splits\n",
    "\n",
    "Each split in the [Dataset](../autoapi/autointent/Dataset.html#autointent.Dataset) class is an instance of [datasets.Dataset](https://huggingface.co/docs/datasets/en/package_reference/main_classes#datasets.Dataset),\n",
    "so you can work with them accordingly."
   ]
  },
  {
   "cell_type": "code",
   "execution_count": 5,
   "id": "a4bcb327",
   "metadata": {
    "execution": {
     "iopub.execute_input": "2024-12-18T11:43:50.166934Z",
     "iopub.status.busy": "2024-12-18T11:43:50.166719Z",
     "iopub.status.idle": "2024-12-18T11:43:50.171198Z",
     "shell.execute_reply": "2024-12-18T11:43:50.170667Z"
    }
   },
   "outputs": [
    {
     "data": {
      "text/plain": [
       "{'utterance': ['can i make a reservation for redrobin',\n",
       "  'is it possible to make a reservation at redrobin',\n",
       "  'does redrobin take reservations',\n",
       "  'are reservations taken at redrobin',\n",
       "  'does redrobin do reservations'],\n",
       " 'label': [0, 0, 0, 0, 0]}"
      ]
     },
     "execution_count": 5,
     "metadata": {},
     "output_type": "execute_result"
    }
   ],
   "source": [
    "dataset[\"train\"][:5]  # get first 5 train samples"
   ]
  },
  {
   "cell_type": "markdown",
   "id": "34d94232",
   "metadata": {
    "cell_marker": "\"\"\""
   },
   "source": [
    "### Save Dataset\n",
    "\n",
    "To share your dataset on the Hugging Face Hub, use method [push_to_hub](../autoapi/autointent/Dataset.html#autointent.Dataset.push_to_hub)."
   ]
  },
  {
   "cell_type": "code",
   "execution_count": 6,
   "id": "f8cf4ac9",
   "metadata": {
    "execution": {
     "iopub.execute_input": "2024-12-18T11:43:50.173160Z",
     "iopub.status.busy": "2024-12-18T11:43:50.172761Z",
     "iopub.status.idle": "2024-12-18T11:43:50.175383Z",
     "shell.execute_reply": "2024-12-18T11:43:50.174881Z"
    }
   },
   "outputs": [],
   "source": [
    "# dataset.push_to_hub(\"<repo_id>\")"
   ]
  },
  {
   "cell_type": "markdown",
   "id": "1257d4bf",
   "metadata": {
    "cell_marker": "\"\"\""
   },
   "source": [
    "Note: ensure that you are logged in using `huggingface-cli`."
   ]
  },
  {
   "cell_type": "markdown",
   "id": "452934c2",
   "metadata": {
    "cell_marker": "\"\"\""
   },
   "source": [
    "## See Also\n",
    "\n",
    "- Next chapter of the user guide \"Using modules\": [02_modules](../user_guides/user_guides.python_api.02_modules.py)"
   ]
  }
 ],
 "metadata": {
  "jupytext": {
   "cell_metadata_filter": "-all",
   "main_language": "python",
   "notebook_metadata_filter": "-all",
   "text_representation": {
    "extension": ".py",
    "format_name": "percent"
   }
  },
  "language_info": {
   "codemirror_mode": {
    "name": "ipython",
    "version": 3
   },
   "file_extension": ".py",
   "mimetype": "text/x-python",
   "name": "python",
   "nbconvert_exporter": "python",
   "pygments_lexer": "ipython3",
   "version": "3.10.15"
  }
 },
 "nbformat": 4,
 "nbformat_minor": 5
}
