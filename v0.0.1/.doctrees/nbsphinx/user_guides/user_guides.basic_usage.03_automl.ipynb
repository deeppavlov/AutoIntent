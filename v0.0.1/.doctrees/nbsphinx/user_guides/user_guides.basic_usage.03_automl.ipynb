{
 "cells": [
  {
   "cell_type": "markdown",
   "id": "260e9e25",
   "metadata": {
    "cell_marker": "\"\"\""
   },
   "source": [
    "# Pipeline Auto Configuration (AutoML)"
   ]
  },
  {
   "cell_type": "code",
   "execution_count": 1,
   "id": "b16aaa38",
   "metadata": {
    "execution": {
     "iopub.execute_input": "2024-12-17T23:19:38.729946Z",
     "iopub.status.busy": "2024-12-17T23:19:38.729746Z",
     "iopub.status.idle": "2024-12-17T23:19:42.683892Z",
     "shell.execute_reply": "2024-12-17T23:19:42.683243Z"
    }
   },
   "outputs": [
    {
     "name": "stderr",
     "output_type": "stream",
     "text": [
      "/home/runner/.cache/pypoetry/virtualenvs/autointent-FDypUDHQ-py3.10/lib/python3.10/site-packages/sentence_transformers/cross_encoder/CrossEncoder.py:11: TqdmWarning: IProgress not found. Please update jupyter and ipywidgets. See https://ipywidgets.readthedocs.io/en/stable/user_install.html\n",
      "  from tqdm.autonotebook import tqdm, trange\n"
     ]
    }
   ],
   "source": [
    "from autointent import Pipeline"
   ]
  },
  {
   "cell_type": "markdown",
   "id": "deefc7cc",
   "metadata": {
    "cell_marker": "\"\"\""
   },
   "source": [
    "In this tutorial we will walk through pipeline auto configuration process.\n",
    "\n",
    "Let us use small subset of popular `clinc150` dataset for the demonstation."
   ]
  },
  {
   "cell_type": "code",
   "execution_count": 2,
   "id": "58e31e58",
   "metadata": {
    "execution": {
     "iopub.execute_input": "2024-12-17T23:19:42.686317Z",
     "iopub.status.busy": "2024-12-17T23:19:42.685963Z",
     "iopub.status.idle": "2024-12-17T23:19:46.294858Z",
     "shell.execute_reply": "2024-12-17T23:19:46.294248Z"
    }
   },
   "outputs": [
    {
     "data": {
      "text/plain": [
       "{'train': Dataset({\n",
       "     features: ['utterance', 'label'],\n",
       "     num_rows: 60\n",
       " }),\n",
       " 'oos': Dataset({\n",
       "     features: ['utterance', 'label'],\n",
       "     num_rows: 10\n",
       " })}"
      ]
     },
     "execution_count": 2,
     "metadata": {},
     "output_type": "execute_result"
    }
   ],
   "source": [
    "from autointent import Dataset\n",
    "\n",
    "dataset = Dataset.from_hub(\"AutoIntent/clinc150_subset\")\n",
    "dataset"
   ]
  },
  {
   "cell_type": "code",
   "execution_count": 3,
   "id": "902bd525",
   "metadata": {
    "execution": {
     "iopub.execute_input": "2024-12-17T23:19:46.297060Z",
     "iopub.status.busy": "2024-12-17T23:19:46.296655Z",
     "iopub.status.idle": "2024-12-17T23:19:46.301032Z",
     "shell.execute_reply": "2024-12-17T23:19:46.300369Z"
    },
    "lines_to_next_cell": 2
   },
   "outputs": [
    {
     "data": {
      "text/plain": [
       "{'utterance': 'does acero in maplewood allow reservations', 'label': 0}"
      ]
     },
     "execution_count": 3,
     "metadata": {},
     "output_type": "execute_result"
    }
   ],
   "source": [
    "dataset[\"train\"][0]"
   ]
  },
  {
   "cell_type": "markdown",
   "id": "16924acd",
   "metadata": {
    "cell_marker": "\"\"\""
   },
   "source": [
    "## Search Space\n",
    "\n",
    "AutoIntent provides default search spaces for multi-label and single-label classification problems. One can utilize them by constructing [Pipeline](../autoapi/autointent/Pipeline.html#autointent.Pipeline) with factory [default_optimizer](../autoapi/autointent/Pipeline.html#autointent.Pipeline.default_optimizer):"
   ]
  },
  {
   "cell_type": "code",
   "execution_count": 4,
   "id": "924557f0",
   "metadata": {
    "execution": {
     "iopub.execute_input": "2024-12-17T23:19:46.303004Z",
     "iopub.status.busy": "2024-12-17T23:19:46.302806Z",
     "iopub.status.idle": "2024-12-17T23:19:46.312298Z",
     "shell.execute_reply": "2024-12-17T23:19:46.311792Z"
    }
   },
   "outputs": [],
   "source": [
    "multiclass_pipeline = Pipeline.default_optimizer(multilabel=False)\n",
    "multilabel_pipeline = Pipeline.default_optimizer(multilabel=True)"
   ]
  },
  {
   "cell_type": "markdown",
   "id": "9273b568",
   "metadata": {
    "cell_marker": "\"\"\""
   },
   "source": [
    "One can explore its contents:"
   ]
  },
  {
   "cell_type": "code",
   "execution_count": 5,
   "id": "a313182a",
   "metadata": {
    "execution": {
     "iopub.execute_input": "2024-12-17T23:19:46.314413Z",
     "iopub.status.busy": "2024-12-17T23:19:46.313922Z",
     "iopub.status.idle": "2024-12-17T23:19:46.320870Z",
     "shell.execute_reply": "2024-12-17T23:19:46.320186Z"
    }
   },
   "outputs": [
    {
     "name": "stdout",
     "output_type": "stream",
     "text": [
      "[{'metric': 'retrieval_hit_rate_intersecting',\n",
      "  'node_type': 'embedding',\n",
      "  'search_space': [{'embedder_name': ['deepvk/USER-bge-m3'],\n",
      "                    'k': [10],\n",
      "                    'module_name': 'retrieval'}]},\n",
      " {'metric': 'scoring_roc_auc',\n",
      "  'node_type': 'scoring',\n",
      "  'search_space': [{'k': [3],\n",
      "                    'module_name': 'knn',\n",
      "                    'weights': ['uniform', 'distance', 'closest']},\n",
      "                   {'module_name': 'linear'}]},\n",
      " {'metric': 'decision_accuracy',\n",
      "  'node_type': 'decision',\n",
      "  'search_space': [{'module_name': 'threshold', 'thresh': [0.5]},\n",
      "                   {'module_name': 'adaptive'}]}]\n"
     ]
    }
   ],
   "source": [
    "from pprint import pprint\n",
    "\n",
    "from autointent.utils import load_default_search_space\n",
    "\n",
    "search_space = load_default_search_space(multilabel=True)\n",
    "pprint(search_space)"
   ]
  },
  {
   "cell_type": "markdown",
   "id": "732b8470",
   "metadata": {
    "cell_marker": "\"\"\""
   },
   "source": [
    "Search space is allowed to customize:"
   ]
  },
  {
   "cell_type": "code",
   "execution_count": 6,
   "id": "f5d00776",
   "metadata": {
    "execution": {
     "iopub.execute_input": "2024-12-17T23:19:46.322818Z",
     "iopub.status.busy": "2024-12-17T23:19:46.322546Z",
     "iopub.status.idle": "2024-12-17T23:19:46.325825Z",
     "shell.execute_reply": "2024-12-17T23:19:46.325183Z"
    }
   },
   "outputs": [],
   "source": [
    "search_space[1][\"search_space\"][0][\"k\"] = [1, 3]\n",
    "custom_pipeline = Pipeline.from_search_space(search_space)"
   ]
  },
  {
   "cell_type": "markdown",
   "id": "320f9d52",
   "metadata": {
    "cell_marker": "\"\"\""
   },
   "source": [
    "See tutorial [02_search_space_configuration](../user_guides/user_guides.advanced.02_search_space_configuration.py) on how the search space is structured."
   ]
  },
  {
   "cell_type": "markdown",
   "id": "851c59c6",
   "metadata": {
    "cell_marker": "\"\"\""
   },
   "source": [
    "## Embedder Settings\n",
    "\n",
    "[Embedder](../autoapi/autointent/Embedder.html#autointent.Embedder) is one of the key components of AutoIntent. It affects both the quality of the resulting classifier and the efficiency of the auto configuration process.\n",
    "\n",
    "To select embedding models for your optimization, you need to customize search space ([02_search_space_configuration](../user_guides/user_guides.advanced.02_search_space_configuration.py)). Here, we will observe settings affecting efficiency.\n",
    "\n",
    "Several options are customizable via [EmbedderConfig](../autoapi/autointent/configs/EmbedderConfig.html#autointent.configs.EmbedderConfig). Defaults are the following:"
   ]
  },
  {
   "cell_type": "code",
   "execution_count": 7,
   "id": "e9c07064",
   "metadata": {
    "execution": {
     "iopub.execute_input": "2024-12-17T23:19:46.327954Z",
     "iopub.status.busy": "2024-12-17T23:19:46.327574Z",
     "iopub.status.idle": "2024-12-17T23:19:46.330583Z",
     "shell.execute_reply": "2024-12-17T23:19:46.330055Z"
    }
   },
   "outputs": [],
   "source": [
    "from autointent.configs import EmbedderConfig\n",
    "\n",
    "embedder_config = EmbedderConfig(\n",
    "    batch_size=32,\n",
    "    max_length=None,\n",
    "    use_cache=False,\n",
    ")"
   ]
  },
  {
   "cell_type": "markdown",
   "id": "5103162c",
   "metadata": {
    "cell_marker": "\"\"\""
   },
   "source": [
    "To set selected settings, method [set_config](../autoapi/autointent/Pipeline.html#autointent.Pipeline.set_config) is provided:"
   ]
  },
  {
   "cell_type": "code",
   "execution_count": 8,
   "id": "5768e56a",
   "metadata": {
    "execution": {
     "iopub.execute_input": "2024-12-17T23:19:46.332311Z",
     "iopub.status.busy": "2024-12-17T23:19:46.332113Z",
     "iopub.status.idle": "2024-12-17T23:19:46.334915Z",
     "shell.execute_reply": "2024-12-17T23:19:46.334378Z"
    }
   },
   "outputs": [],
   "source": [
    "custom_pipeline.set_config(embedder_config)"
   ]
  },
  {
   "cell_type": "markdown",
   "id": "b64b7a4d",
   "metadata": {
    "cell_marker": "\"\"\""
   },
   "source": [
    "## Vector Index Settings\n",
    "\n",
    "[VectorIndex](../autoapi/autointent/context/vector_index_client/VectorIndex.html#autointent.context.vector_index_client.VectorIndex) is one of the key utilities of AutoIntent. During the auto-configuration process, lots of retrieval is used. By modifying [VectorIndexConfig](../autoapi/autointent/configs/VectorIndexConfig.html#autointent.configs.VectorIndexConfig) you can select whether to save built vector index into file system and where to save it.\n",
    "\n",
    "Default options are the following:"
   ]
  },
  {
   "cell_type": "code",
   "execution_count": 9,
   "id": "6a66869d",
   "metadata": {
    "execution": {
     "iopub.execute_input": "2024-12-17T23:19:46.336665Z",
     "iopub.status.busy": "2024-12-17T23:19:46.336472Z",
     "iopub.status.idle": "2024-12-17T23:19:46.339521Z",
     "shell.execute_reply": "2024-12-17T23:19:46.338982Z"
    }
   },
   "outputs": [],
   "source": [
    "from autointent.configs import VectorIndexConfig\n",
    "\n",
    "vector_index_config = VectorIndexConfig(db_dir=None, save_db=False)"
   ]
  },
  {
   "cell_type": "markdown",
   "id": "9d63f9c3",
   "metadata": {
    "cell_marker": "\"\"\""
   },
   "source": [
    "- `db_dir=None` tells AutoIntent to store intermediate files in a current working directory\n",
    "- `save_db=False` tells AutoIntent to clear all the files after auto configuration is finished\n",
    "\n",
    "These settings can be applied in a familiar way:"
   ]
  },
  {
   "cell_type": "code",
   "execution_count": 10,
   "id": "48118382",
   "metadata": {
    "execution": {
     "iopub.execute_input": "2024-12-17T23:19:46.341539Z",
     "iopub.status.busy": "2024-12-17T23:19:46.341181Z",
     "iopub.status.idle": "2024-12-17T23:19:46.344165Z",
     "shell.execute_reply": "2024-12-17T23:19:46.343605Z"
    }
   },
   "outputs": [],
   "source": [
    "custom_pipeline.set_config(vector_index_config)"
   ]
  },
  {
   "cell_type": "markdown",
   "id": "a73d1e00",
   "metadata": {
    "cell_marker": "\"\"\""
   },
   "source": [
    "## Logging Settings\n",
    "\n",
    "The important thing is what assets you want to save during the pipeline auto-configuration process. You can control it with [LoggingConfig](../autoapi/autointent/configs/LoggingConfig.html#autointent.configs.LoggingConfig). Default settings are the following:"
   ]
  },
  {
   "cell_type": "code",
   "execution_count": 11,
   "id": "69bd4500",
   "metadata": {
    "execution": {
     "iopub.execute_input": "2024-12-17T23:19:46.346112Z",
     "iopub.status.busy": "2024-12-17T23:19:46.345728Z",
     "iopub.status.idle": "2024-12-17T23:19:46.349131Z",
     "shell.execute_reply": "2024-12-17T23:19:46.348573Z"
    }
   },
   "outputs": [],
   "source": [
    "from autointent.configs import LoggingConfig\n",
    "\n",
    "logging_config = LoggingConfig(run_name=None, dirpath=None, dump_dir=None, dump_modules=False, clear_ram=False)\n",
    "custom_pipeline.set_config(logging_config)"
   ]
  },
  {
   "cell_type": "markdown",
   "id": "aac204dd",
   "metadata": {
    "cell_marker": "\"\"\""
   },
   "source": [
    "## Complete Example"
   ]
  },
  {
   "cell_type": "code",
   "execution_count": 12,
   "id": "1163b3df",
   "metadata": {
    "execution": {
     "iopub.execute_input": "2024-12-17T23:19:46.351042Z",
     "iopub.status.busy": "2024-12-17T23:19:46.350662Z",
     "iopub.status.idle": "2024-12-17T23:21:06.700618Z",
     "shell.execute_reply": "2024-12-17T23:21:06.699568Z"
    }
   },
   "outputs": [
    {
     "name": "stderr",
     "output_type": "stream",
     "text": [
      "No sentence-transformers model found with name infgrad/stella-base-en-v2. Creating a new one with mean pooling.\n"
     ]
    },
    {
     "name": "stderr",
     "output_type": "stream",
     "text": [
      "huggingface/tokenizers: The current process just got forked, after parallelism has already been used. Disabling parallelism to avoid deadlocks...\n",
      "To disable this warning, you can either:\n",
      "\t- Avoid using `tokenizers` before the fork if possible\n",
      "\t- Explicitly set the environment variable TOKENIZERS_PARALLELISM=(true | false)\n"
     ]
    },
    {
     "name": "stderr",
     "output_type": "stream",
     "text": [
      "No sentence-transformers model found with name infgrad/stella-base-en-v2. Creating a new one with mean pooling.\n"
     ]
    },
    {
     "name": "stderr",
     "output_type": "stream",
     "text": [
      "huggingface/tokenizers: The current process just got forked, after parallelism has already been used. Disabling parallelism to avoid deadlocks...\n",
      "To disable this warning, you can either:\n",
      "\t- Avoid using `tokenizers` before the fork if possible\n",
      "\t- Explicitly set the environment variable TOKENIZERS_PARALLELISM=(true | false)\n"
     ]
    },
    {
     "data": {
      "text/plain": [
       "array([2])"
      ]
     },
     "execution_count": 12,
     "metadata": {},
     "output_type": "execute_result"
    }
   ],
   "source": [
    "from autointent import Dataset, Pipeline\n",
    "from autointent.configs import EmbedderConfig, LoggingConfig, VectorIndexConfig\n",
    "from autointent.utils import load_default_search_space\n",
    "\n",
    "# load data\n",
    "dataset = Dataset.from_hub(\"AutoIntent/clinc150_subset\")\n",
    "\n",
    "# customize search space\n",
    "search_space = load_default_search_space(multilabel=False)\n",
    "\n",
    "# make pipeline\n",
    "custom_pipeline = Pipeline.from_search_space(search_space)\n",
    "\n",
    "# custom settings\n",
    "embedder_config = EmbedderConfig()\n",
    "vector_index_config = VectorIndexConfig()\n",
    "logging_config = LoggingConfig()\n",
    "\n",
    "custom_pipeline.set_config(embedder_config)\n",
    "custom_pipeline.set_config(vector_index_config)\n",
    "custom_pipeline.set_config(logging_config)\n",
    "\n",
    "# start auto-configuration\n",
    "custom_pipeline.fit(dataset)\n",
    "\n",
    "# inference\n",
    "custom_pipeline.predict([\"hello world!\"])"
   ]
  }
 ],
 "metadata": {
  "jupytext": {
   "cell_metadata_filter": "-all",
   "main_language": "python",
   "notebook_metadata_filter": "-all",
   "text_representation": {
    "extension": ".py",
    "format_name": "percent"
   }
  },
  "language_info": {
   "codemirror_mode": {
    "name": "ipython",
    "version": 3
   },
   "file_extension": ".py",
   "mimetype": "text/x-python",
   "name": "python",
   "nbconvert_exporter": "python",
   "pygments_lexer": "ipython3",
   "version": "3.10.15"
  }
 },
 "nbformat": 4,
 "nbformat_minor": 5
}
