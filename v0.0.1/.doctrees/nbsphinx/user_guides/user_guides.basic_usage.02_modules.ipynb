{
 "cells": [
  {
   "cell_type": "markdown",
   "id": "6e2ccc9e",
   "metadata": {
    "cell_marker": "\"\"\""
   },
   "source": [
    "# Modules\n",
    "\n",
    "In this chapter you will get familiar with modules and how to use them for intent classification.\n",
    "\n",
    "Modules are the basic units in our library. They perform core operations such as predicting probabilities and constructing final set of predicted labels.\n",
    "\n",
    "## Modules Types\n",
    "\n",
    "There are two main module types in AutoIntent:\n",
    "\n",
    "- **Scoring modules.** These modules perform probabilities prediction, i.e. they take an utterance as input and output a vector of probabilities.\n",
    "- **Prediction modules.** These modules take vector of probabilities and output set of labels. Prediction modules are important to support multi-label classification and out-of-domain utterances detection.\n",
    "\n",
    "## Initialize Module\n",
    "\n",
    "Firstly, you need to initialize module:"
   ]
  },
  {
   "cell_type": "code",
   "execution_count": 1,
   "id": "3662aeb0",
   "metadata": {
    "execution": {
     "iopub.execute_input": "2024-12-18T11:43:52.450778Z",
     "iopub.status.busy": "2024-12-18T11:43:52.450586Z",
     "iopub.status.idle": "2024-12-18T11:43:56.256596Z",
     "shell.execute_reply": "2024-12-18T11:43:56.255974Z"
    }
   },
   "outputs": [
    {
     "name": "stderr",
     "output_type": "stream",
     "text": [
      "/home/runner/.cache/pypoetry/virtualenvs/autointent-FDypUDHQ-py3.10/lib/python3.10/site-packages/sentence_transformers/cross_encoder/CrossEncoder.py:11: TqdmWarning: IProgress not found. Please update jupyter and ipywidgets. See https://ipywidgets.readthedocs.io/en/stable/user_install.html\n",
      "  from tqdm.autonotebook import tqdm, trange\n"
     ]
    }
   ],
   "source": [
    "from autointent.modules.scoring import KNNScorer\n",
    "\n",
    "scorer = KNNScorer(\n",
    "    embedder_name=\"sergeyzh/rubert-tiny-turbo\",\n",
    "    k=5,\n",
    ")"
   ]
  },
  {
   "cell_type": "markdown",
   "id": "cf34769c",
   "metadata": {
    "cell_marker": "\"\"\""
   },
   "source": [
    "At this moment, you do two things:\n",
    "\n",
    "- **Set hyperparameters**. Refer to [Modules API Reference](../autoapi/autointent/modules/index.rst) to see all possible hyperparameters and their default values.\n",
    "- **Configure infrastructure**. You are allowed to\n",
    "    - choose CUDA device (`embedder_device`)\n",
    "    - customize embedder batch size (`batch_size`) and truncation length (`embedder_max_length`)\n",
    "    - location where to save module's assets (`db_dir`)\n",
    "\n",
    "## Load Data\n",
    "\n",
    "Secondly, you need to load training data (see previous chapter for detailed explanation of what happens):"
   ]
  },
  {
   "cell_type": "code",
   "execution_count": 2,
   "id": "83be417c",
   "metadata": {
    "execution": {
     "iopub.execute_input": "2024-12-18T11:43:56.259084Z",
     "iopub.status.busy": "2024-12-18T11:43:56.258727Z",
     "iopub.status.idle": "2024-12-18T11:43:58.799579Z",
     "shell.execute_reply": "2024-12-18T11:43:58.799002Z"
    }
   },
   "outputs": [],
   "source": [
    "from autointent import Dataset\n",
    "\n",
    "dataset = Dataset.from_hub(\"AutoIntent/clinc150_subset\")"
   ]
  },
  {
   "cell_type": "markdown",
   "id": "8e22f6f3",
   "metadata": {
    "cell_marker": "\"\"\""
   },
   "source": [
    "## Fit Module"
   ]
  },
  {
   "cell_type": "code",
   "execution_count": 3,
   "id": "9d5c555e",
   "metadata": {
    "execution": {
     "iopub.execute_input": "2024-12-18T11:43:58.802249Z",
     "iopub.status.busy": "2024-12-18T11:43:58.801759Z",
     "iopub.status.idle": "2024-12-18T11:44:04.132963Z",
     "shell.execute_reply": "2024-12-18T11:44:04.132327Z"
    }
   },
   "outputs": [],
   "source": [
    "scorer.fit(dataset[\"train\"][\"utterance\"], dataset[\"train\"][\"label\"])"
   ]
  },
  {
   "cell_type": "markdown",
   "id": "37c763c3",
   "metadata": {
    "cell_marker": "\"\"\""
   },
   "source": [
    "## Inference\n",
    "\n",
    "After fitting, module is ready for using at inference:"
   ]
  },
  {
   "cell_type": "code",
   "execution_count": 4,
   "id": "35edb531",
   "metadata": {
    "execution": {
     "iopub.execute_input": "2024-12-18T11:44:04.135230Z",
     "iopub.status.busy": "2024-12-18T11:44:04.135024Z",
     "iopub.status.idle": "2024-12-18T11:44:04.146987Z",
     "shell.execute_reply": "2024-12-18T11:44:04.146310Z"
    }
   },
   "outputs": [
    {
     "data": {
      "text/plain": [
       "array([[0., 0., 1.]])"
      ]
     },
     "execution_count": 4,
     "metadata": {},
     "output_type": "execute_result"
    }
   ],
   "source": [
    "scorer.predict([\"hello world!\"])"
   ]
  },
  {
   "cell_type": "markdown",
   "id": "2420938a",
   "metadata": {
    "cell_marker": "\"\"\""
   },
   "source": [
    "## Dump and Load\n",
    "\n",
    "We provide functionality to save and restore module. To save, just provide a path to a directory:"
   ]
  },
  {
   "cell_type": "code",
   "execution_count": 5,
   "id": "88dbc104",
   "metadata": {
    "execution": {
     "iopub.execute_input": "2024-12-18T11:44:04.149177Z",
     "iopub.status.busy": "2024-12-18T11:44:04.148969Z",
     "iopub.status.idle": "2024-12-18T11:44:04.276581Z",
     "shell.execute_reply": "2024-12-18T11:44:04.275992Z"
    }
   },
   "outputs": [],
   "source": [
    "from pathlib import Path\n",
    "\n",
    "pathdir = Path(\"my_dumps/knnscorer_clinc150\")\n",
    "pathdir.mkdir(parents=True)\n",
    "scorer.dump(pathdir)"
   ]
  },
  {
   "cell_type": "markdown",
   "id": "87a54f38",
   "metadata": {
    "cell_marker": "\"\"\""
   },
   "source": [
    "To restore, initialize module with the same hyperparams and use load method:"
   ]
  },
  {
   "cell_type": "code",
   "execution_count": 6,
   "id": "a865cc68",
   "metadata": {
    "execution": {
     "iopub.execute_input": "2024-12-18T11:44:04.278893Z",
     "iopub.status.busy": "2024-12-18T11:44:04.278664Z",
     "iopub.status.idle": "2024-12-18T11:44:05.261274Z",
     "shell.execute_reply": "2024-12-18T11:44:05.260651Z"
    }
   },
   "outputs": [
    {
     "data": {
      "text/plain": [
       "array([[0., 0., 1.]])"
      ]
     },
     "execution_count": 6,
     "metadata": {},
     "output_type": "execute_result"
    }
   ],
   "source": [
    "loaded_scorer = KNNScorer(\n",
    "    embedder_name=\"sergeyzh/rubert-tiny-turbo\",\n",
    "    k=5,\n",
    ")\n",
    "loaded_scorer.load(pathdir)\n",
    "loaded_scorer.predict([\"hello world!\"])"
   ]
  },
  {
   "cell_type": "markdown",
   "id": "5d75ec21",
   "metadata": {
    "cell_marker": "\"\"\""
   },
   "source": [
    "## Rich Output\n",
    "\n",
    "Some scoring modules support rich output as a result of prediction. It can be useful for inspecting how your classifier work and for debugging as it contains intrinsic information such as retrieved candidates. Example:"
   ]
  },
  {
   "cell_type": "code",
   "execution_count": 7,
   "id": "e1fcb760",
   "metadata": {
    "execution": {
     "iopub.execute_input": "2024-12-18T11:44:05.263716Z",
     "iopub.status.busy": "2024-12-18T11:44:05.263275Z",
     "iopub.status.idle": "2024-12-18T11:44:05.273085Z",
     "shell.execute_reply": "2024-12-18T11:44:05.272461Z"
    }
   },
   "outputs": [
    {
     "data": {
      "text/plain": [
       "(array([[0., 0., 1.]]),\n",
       " [{'neighbors': ['i need an alarm set please',\n",
       "    'you need to set alarm for me',\n",
       "    'please set up an alarm to go off tomorrow at daybreak',\n",
       "    'set the alarm for me',\n",
       "    'set alarm']}])"
      ]
     },
     "execution_count": 7,
     "metadata": {},
     "output_type": "execute_result"
    }
   ],
   "source": [
    "loaded_scorer.predict_with_metadata([\"hello world!\"])"
   ]
  },
  {
   "cell_type": "markdown",
   "id": "02fee34f",
   "metadata": {
    "cell_marker": "\"\"\""
   },
   "source": [
    "## That's all!"
   ]
  },
  {
   "cell_type": "code",
   "execution_count": 8,
   "id": "084f1718",
   "metadata": {
    "execution": {
     "iopub.execute_input": "2024-12-18T11:44:05.275079Z",
     "iopub.status.busy": "2024-12-18T11:44:05.274875Z",
     "iopub.status.idle": "2024-12-18T11:44:05.305671Z",
     "shell.execute_reply": "2024-12-18T11:44:05.305045Z"
    }
   },
   "outputs": [],
   "source": [
    "# [you didn't see it]\n",
    "import shutil\n",
    "\n",
    "shutil.rmtree(pathdir.parent)\n",
    "\n",
    "for file in Path.cwd().glob(\"vector_db*\"):\n",
    "    shutil.rmtree(file)"
   ]
  }
 ],
 "metadata": {
  "jupytext": {
   "cell_metadata_filter": "-all",
   "main_language": "python",
   "notebook_metadata_filter": "-all",
   "text_representation": {
    "extension": ".py",
    "format_name": "percent"
   }
  },
  "language_info": {
   "codemirror_mode": {
    "name": "ipython",
    "version": 3
   },
   "file_extension": ".py",
   "mimetype": "text/x-python",
   "name": "python",
   "nbconvert_exporter": "python",
   "pygments_lexer": "ipython3",
   "version": "3.10.15"
  }
 },
 "nbformat": 4,
 "nbformat_minor": 5
}
