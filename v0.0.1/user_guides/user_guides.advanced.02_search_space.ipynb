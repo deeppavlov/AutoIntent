{
 "cells": [
  {
   "cell_type": "markdown",
   "id": "4185f53d",
   "metadata": {
    "cell_marker": "\"\"\""
   },
   "source": [
    "# Search Space Configuration\n",
    "\n",
    "In this guide, you will learn how to configure a custom hyperparameter search space."
   ]
  },
  {
   "cell_type": "markdown",
   "id": "f29e6420",
   "metadata": {
    "cell_marker": "\"\"\""
   },
   "source": [
    "## Python API\n",
    "\n",
    "> Before reading this guide, we recommend familiarizing yourself with the sections [concepts](../concepts.rst) and [optimization](../learn/optimization.rst)."
   ]
  },
  {
   "cell_type": "markdown",
   "id": "6a3c2cfb",
   "metadata": {
    "cell_marker": "\"\"\""
   },
   "source": [
    "### Optimization Module\n",
    "\n",
    "\n",
    "To set up the optimization module, you need to create the following dictionary:"
   ]
  },
  {
   "cell_type": "code",
   "execution_count": 1,
   "id": "9d34c620",
   "metadata": {
    "execution": {
     "iopub.execute_input": "2024-12-17T23:17:27.749685Z",
     "iopub.status.busy": "2024-12-17T23:17:27.749216Z",
     "iopub.status.idle": "2024-12-17T23:17:27.755895Z",
     "shell.execute_reply": "2024-12-17T23:17:27.755357Z"
    }
   },
   "outputs": [],
   "source": [
    "knn_module = {\n",
    "    \"module_name\": \"knn\",\n",
    "    \"k\": [1, 5, 10, 50],\n",
    "    \"embedder_name\": [\"avsolatorio/GIST-small-Embedding-v0\", \"infgrad/stella-base-en-v2\"],\n",
    "}"
   ]
  },
  {
   "cell_type": "markdown",
   "id": "e12c4177",
   "metadata": {
    "cell_marker": "\"\"\""
   },
   "source": [
    "The ``module_name`` field specifies the name of the module. You can find the names, for example, in...\n",
    "\n",
    "TODO: _Add docs for all available modules._\n",
    "\n",
    "All fields except ``module_name`` are lists that define the search space for each hyperparameter (see [KNNScorer](../autoapi/autointent/modules/scoring/KNNScorer.html#autointent.modules.scoring.KNNScorer)). If you omit them, the default set of hyperparameters will be used:"
   ]
  },
  {
   "cell_type": "code",
   "execution_count": 2,
   "id": "75ee595e",
   "metadata": {
    "execution": {
     "iopub.execute_input": "2024-12-17T23:17:27.758032Z",
     "iopub.status.busy": "2024-12-17T23:17:27.757520Z",
     "iopub.status.idle": "2024-12-17T23:17:27.760667Z",
     "shell.execute_reply": "2024-12-17T23:17:27.760165Z"
    }
   },
   "outputs": [],
   "source": [
    "\n",
    "linear_module = {\"module_name\": \"linear\"}"
   ]
  },
  {
   "cell_type": "markdown",
   "id": "782bb4b2",
   "metadata": {
    "cell_marker": "\"\"\""
   },
   "source": [
    "See docs [LinearScorer](../autoapi/autointent/modules/scoring/LinearScorer.html#autointent.modules.scoring.LinearScorer)."
   ]
  },
  {
   "cell_type": "markdown",
   "id": "e04daffc",
   "metadata": {
    "cell_marker": "\"\"\""
   },
   "source": [
    "### Optimization Node\n",
    "\n",
    "To set up the optimization node, you need to create a list of modules and specify the metric for optimization:"
   ]
  },
  {
   "cell_type": "code",
   "execution_count": 3,
   "id": "77806758",
   "metadata": {
    "execution": {
     "iopub.execute_input": "2024-12-17T23:17:27.762651Z",
     "iopub.status.busy": "2024-12-17T23:17:27.762458Z",
     "iopub.status.idle": "2024-12-17T23:17:27.765360Z",
     "shell.execute_reply": "2024-12-17T23:17:27.764850Z"
    }
   },
   "outputs": [],
   "source": [
    "scoring_node = {\n",
    "    \"node_type\": \"scoring\",\n",
    "    \"metric_name\": \"scoring_roc_auc\",\n",
    "    \"search_space\": [\n",
    "        knn_module,\n",
    "        linear_module,\n",
    "    ],\n",
    "}"
   ]
  },
  {
   "cell_type": "markdown",
   "id": "a80695d4",
   "metadata": {
    "cell_marker": "\"\"\""
   },
   "source": [
    "### Search Space\n",
    "\n",
    "The search space for the entire pipeline looks approximately like this:"
   ]
  },
  {
   "cell_type": "code",
   "execution_count": 4,
   "id": "a7af71ec",
   "metadata": {
    "execution": {
     "iopub.execute_input": "2024-12-17T23:17:27.767295Z",
     "iopub.status.busy": "2024-12-17T23:17:27.766927Z",
     "iopub.status.idle": "2024-12-17T23:17:27.771436Z",
     "shell.execute_reply": "2024-12-17T23:17:27.770884Z"
    }
   },
   "outputs": [],
   "source": [
    "search_space = [\n",
    "    {\n",
    "        \"node_type\": \"embedding\",\n",
    "        \"metric\": \"retrieval_hit_rate\",\n",
    "        \"search_space\": [\n",
    "            {\n",
    "                \"module_name\": \"retrieval\",\n",
    "                \"k\": [10],\n",
    "                \"embedder_name\": [\"avsolatorio/GIST-small-Embedding-v0\", \"infgrad/stella-base-en-v2\"],\n",
    "            }\n",
    "        ],\n",
    "    },\n",
    "    {\n",
    "        \"node_type\": \"scoring\",\n",
    "        \"metric\": \"scoring_roc_auc\",\n",
    "        \"search_space\": [\n",
    "            {\"module_name\": \"knn\", \"k\": [1, 3, 5, 10], \"weights\": [\"uniform\", \"distance\", \"closest\"]},\n",
    "            {\"module_name\": \"linear\"},\n",
    "            {\n",
    "                \"module_name\": \"dnnc\",\n",
    "                \"cross_encoder_name\": [\"BAAI/bge-reranker-base\", \"cross-encoder/ms-marco-MiniLM-L-6-v2\"],\n",
    "                \"k\": [1, 3, 5, 10],\n",
    "            },\n",
    "        ],\n",
    "    },\n",
    "    {\n",
    "        \"node_type\": \"decision\",\n",
    "        \"metric\": \"decision_accuracy\",\n",
    "        \"search_space\": [{\"module_name\": \"threshold\", \"thresh\": [0.5]}, {\"module_name\": \"argmax\"}],\n",
    "    },\n",
    "]"
   ]
  },
  {
   "cell_type": "markdown",
   "id": "22141645",
   "metadata": {
    "cell_marker": "\"\"\""
   },
   "source": [
    "### Load Data\n",
    "\n",
    "Let us use small subset of popular `clinc150` dataset:"
   ]
  },
  {
   "cell_type": "code",
   "execution_count": 5,
   "id": "d80e76b0",
   "metadata": {
    "execution": {
     "iopub.execute_input": "2024-12-17T23:17:27.773531Z",
     "iopub.status.busy": "2024-12-17T23:17:27.773148Z",
     "iopub.status.idle": "2024-12-17T23:17:35.524532Z",
     "shell.execute_reply": "2024-12-17T23:17:35.523931Z"
    }
   },
   "outputs": [
    {
     "name": "stderr",
     "output_type": "stream",
     "text": [
      "/home/runner/.cache/pypoetry/virtualenvs/autointent-FDypUDHQ-py3.10/lib/python3.10/site-packages/sentence_transformers/cross_encoder/CrossEncoder.py:11: TqdmWarning: IProgress not found. Please update jupyter and ipywidgets. See https://ipywidgets.readthedocs.io/en/stable/user_install.html\n",
      "  from tqdm.autonotebook import tqdm, trange\n"
     ]
    }
   ],
   "source": [
    "\n",
    "from autointent import Dataset\n",
    "\n",
    "dataset = Dataset.from_hub(\"AutoIntent/clinc150_subset\")"
   ]
  },
  {
   "cell_type": "markdown",
   "id": "038fcb85",
   "metadata": {
    "cell_marker": "\"\"\""
   },
   "source": [
    "### Start Auto Configuration"
   ]
  },
  {
   "cell_type": "code",
   "execution_count": 6,
   "id": "747fa603",
   "metadata": {
    "execution": {
     "iopub.execute_input": "2024-12-17T23:17:35.527365Z",
     "iopub.status.busy": "2024-12-17T23:17:35.526827Z",
     "iopub.status.idle": "2024-12-17T23:19:09.286081Z",
     "shell.execute_reply": "2024-12-17T23:19:09.285235Z"
    }
   },
   "outputs": [
    {
     "name": "stderr",
     "output_type": "stream",
     "text": [
      "No sentence-transformers model found with name infgrad/stella-base-en-v2. Creating a new one with mean pooling.\n"
     ]
    },
    {
     "name": "stderr",
     "output_type": "stream",
     "text": [
      "huggingface/tokenizers: The current process just got forked, after parallelism has already been used. Disabling parallelism to avoid deadlocks...\n",
      "To disable this warning, you can either:\n",
      "\t- Avoid using `tokenizers` before the fork if possible\n",
      "\t- Explicitly set the environment variable TOKENIZERS_PARALLELISM=(true | false)\n"
     ]
    },
    {
     "name": "stderr",
     "output_type": "stream",
     "text": [
      "No sentence-transformers model found with name infgrad/stella-base-en-v2. Creating a new one with mean pooling.\n"
     ]
    },
    {
     "name": "stderr",
     "output_type": "stream",
     "text": [
      "huggingface/tokenizers: The current process just got forked, after parallelism has already been used. Disabling parallelism to avoid deadlocks...\n",
      "To disable this warning, you can either:\n",
      "\t- Avoid using `tokenizers` before the fork if possible\n",
      "\t- Explicitly set the environment variable TOKENIZERS_PARALLELISM=(true | false)\n"
     ]
    },
    {
     "data": {
      "text/plain": [
       "<autointent.context._context.Context at 0x7fd6a7e1dde0>"
      ]
     },
     "execution_count": 6,
     "metadata": {},
     "output_type": "execute_result"
    }
   ],
   "source": [
    "from autointent import Pipeline\n",
    "\n",
    "pipeline_optimizer = Pipeline.from_search_space(search_space)\n",
    "pipeline_optimizer.fit(dataset)"
   ]
  },
  {
   "cell_type": "markdown",
   "id": "08d07f91",
   "metadata": {
    "cell_marker": "\"\"\""
   },
   "source": [
    "## See Also\n",
    "\n",
    "- [Modules API reference](../autoapi/autointent/modules/index.rst) to get familiar with modules to include into search space"
   ]
  }
 ],
 "metadata": {
  "jupytext": {
   "cell_metadata_filter": "-all",
   "main_language": "python",
   "notebook_metadata_filter": "-all",
   "text_representation": {
    "extension": ".py",
    "format_name": "percent"
   }
  },
  "language_info": {
   "codemirror_mode": {
    "name": "ipython",
    "version": 3
   },
   "file_extension": ".py",
   "mimetype": "text/x-python",
   "name": "python",
   "nbconvert_exporter": "python",
   "pygments_lexer": "ipython3",
   "version": "3.10.15"
  }
 },
 "nbformat": 4,
 "nbformat_minor": 5
}
