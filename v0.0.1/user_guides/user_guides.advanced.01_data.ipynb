{
 "cells": [
  {
   "cell_type": "markdown",
   "id": "9cdfc763",
   "metadata": {
    "cell_marker": "\"\"\""
   },
   "source": [
    "# Working with data\n",
    "\n",
    "This chapter is a more detailed version of data chapter from basic user guide about how to manipulate intent classification data with AutoIntent."
   ]
  },
  {
   "cell_type": "code",
   "execution_count": 1,
   "id": "16715f9f",
   "metadata": {
    "execution": {
     "iopub.execute_input": "2024-12-17T23:17:15.627097Z",
     "iopub.status.busy": "2024-12-17T23:17:15.626900Z",
     "iopub.status.idle": "2024-12-17T23:17:19.892075Z",
     "shell.execute_reply": "2024-12-17T23:17:19.891159Z"
    }
   },
   "outputs": [
    {
     "name": "stderr",
     "output_type": "stream",
     "text": [
      "/home/runner/.cache/pypoetry/virtualenvs/autointent-FDypUDHQ-py3.10/lib/python3.10/site-packages/tqdm/auto.py:21: TqdmWarning: IProgress not found. Please update jupyter and ipywidgets. See https://ipywidgets.readthedocs.io/en/stable/user_install.html\n",
      "  from .autonotebook import tqdm as notebook_tqdm\n"
     ]
    }
   ],
   "source": [
    "import importlib.resources as ires\n",
    "\n",
    "import datasets\n",
    "\n",
    "from autointent import Dataset"
   ]
  },
  {
   "cell_type": "code",
   "execution_count": 2,
   "id": "e8223d07",
   "metadata": {
    "execution": {
     "iopub.execute_input": "2024-12-17T23:17:19.895271Z",
     "iopub.status.busy": "2024-12-17T23:17:19.894346Z",
     "iopub.status.idle": "2024-12-17T23:17:19.898375Z",
     "shell.execute_reply": "2024-12-17T23:17:19.897801Z"
    }
   },
   "outputs": [],
   "source": [
    "datasets.logging.disable_progress_bar()  # disable tqdm outputs"
   ]
  },
  {
   "cell_type": "markdown",
   "id": "9f2277e6",
   "metadata": {
    "cell_marker": "\"\"\""
   },
   "source": [
    "## Creating a dataset\n",
    "\n",
    "To create a dataset, you need to provide a training split containing samples with utterances and labels, as shown below:\n",
    "\n",
    "```json\n",
    "{\n",
    "    \"train\": [\n",
    "        {\n",
    "            \"utterance\": \"Hello!\",\n",
    "            \"label\": 0\n",
    "        },\n",
    "        \"...\",\n",
    "    ]\n",
    "}\n",
    "```\n",
    "\n",
    "For a multilabel dataset, the `label` field should be a list of integers representing the corresponding class labels.\n",
    "\n",
    "### Handling out-of-scope samples\n",
    "\n",
    "To indicate that a sample is out-of-scope (see [concepts](../concepts.rst)), omit the `label` field from the sample dictionary. For example:\n",
    "\n",
    "```json\n",
    "{\n",
    "    \"train\": [\n",
    "        {\n",
    "            \"utterance\": \"OOS request\"\n",
    "        },\n",
    "        \"...\",\n",
    "    ]\n",
    "}\n",
    "```\n",
    "\n",
    "### Validation and test splits\n",
    "\n",
    "By default, a portion of the training split will be allocated for validation and testing.\n",
    "However, you can also specify a test split explicitly:\n",
    "\n",
    "```json\n",
    "{\n",
    "    \"train\": [\n",
    "        {\n",
    "            \"utterance\": \"Hello!\",\n",
    "            \"label\": 0\n",
    "        },\n",
    "        \"...\",\n",
    "    ],\n",
    "    \"test\": [\n",
    "        {\n",
    "            \"utterance\": \"Hi!\",\n",
    "            \"label\": 0\n",
    "        },\n",
    "        \"...\",\n",
    "    ]\n",
    "}\n",
    "```\n",
    "\n",
    "### Adding metadata to intents\n",
    "\n",
    "You can add metadata to intents in your dataset, such as\n",
    "regular expressions, intent names, descriptions, or tags, using the `intents` field:\n",
    "\n",
    "```json\n",
    "{\n",
    "    \"train\": [\n",
    "        {\n",
    "            \"utterance\": \"Hello!\",\n",
    "            \"label\": 0\n",
    "        },\n",
    "        \"...\",\n",
    "    ],\n",
    "    \"intents\": [\n",
    "        {\n",
    "            \"id\": 0,\n",
    "            \"name\": \"greeting\",\n",
    "            \"tags\": [\"conversation_start\"],\n",
    "            \"regexp_partial_match\": [\"\\bhello\\b\"],\n",
    "            \"regexp_full_match\": [\"^hello$\"],\n",
    "            \"description\": \"User wants to initiate a conversation with a greeting.\"\n",
    "        },\n",
    "        \"...\",\n",
    "    ]\n",
    "}\n",
    "```\n",
    "\n",
    "- `name`: A human-readable representation of the intent.\n",
    "- `tags`: Used in multilabel scenarios to predict the most probable class listed in a specific [Tag](../autoapi/autointent/schemas/Tag.html#autointent.schemas.Tag).\n",
    "- `regexp_partial_match` and `regexp_full_match`: Used by the [RegExp](../autoapi/autointent/modules/regexp/RegExp.html#autointent.modules.regexp.RegExp) module to predict intents based on provided patterns.\n",
    "- `description`: Used by the [DescriptionScorer](../autoapi/autointent/modules/scoring/DescriptionScorer.html#autointent.modules.scoring.DescriptionScorer) to calculate scores based on the similarity between an utterance and intent descriptions.\n",
    "\n",
    "All fields in the `intents` list are optional except for `id`."
   ]
  },
  {
   "cell_type": "markdown",
   "id": "7cdde371",
   "metadata": {
    "cell_marker": "\"\"\""
   },
   "source": [
    "## Loading a dataset\n",
    "\n",
    "There are three main ways to load your dataset:\n",
    "\n",
    "1. From a Python dictionary.\n",
    "2. From a JSON file.\n",
    "3. Directly from the Hugging Face Hub."
   ]
  },
  {
   "cell_type": "markdown",
   "id": "c44f3f6d",
   "metadata": {
    "cell_marker": "\"\"\""
   },
   "source": [
    "### Creating a dataset from a Python dictionary\n",
    "\n",
    "One can load data into Python using our [Dataset](../autoapi/autointent/Dataset.html#autointent.Dataset) object."
   ]
  },
  {
   "cell_type": "code",
   "execution_count": 3,
   "id": "df30d984",
   "metadata": {
    "execution": {
     "iopub.execute_input": "2024-12-17T23:17:19.900893Z",
     "iopub.status.busy": "2024-12-17T23:17:19.900229Z",
     "iopub.status.idle": "2024-12-17T23:17:19.929194Z",
     "shell.execute_reply": "2024-12-17T23:17:19.928427Z"
    }
   },
   "outputs": [],
   "source": [
    "dataset = Dataset.from_dict(\n",
    "    {\n",
    "        \"train\": [\n",
    "            {\n",
    "                \"utterance\": \"Please help me with my card. It won't activate.\",\n",
    "                \"label\": 0,\n",
    "            },\n",
    "            {\n",
    "                \"utterance\": \"I tried but am unable to activate my card.\",\n",
    "                \"label\": 0,\n",
    "            },\n",
    "            {\n",
    "                \"utterance\": \"I want to open an account for my children.\",\n",
    "                \"label\": 1,\n",
    "            },\n",
    "            {\n",
    "                \"utterance\": \"How old do you need to be to use the bank's services?\",\n",
    "                \"label\": 1,\n",
    "            },\n",
    "        ],\n",
    "        \"test\": [\n",
    "            {\n",
    "                \"utterance\": \"I want to start using my card.\",\n",
    "                \"label\": 0,\n",
    "            },\n",
    "            {\n",
    "                \"utterance\": \"How old do I need to be?\",\n",
    "                \"label\": 1,\n",
    "            },\n",
    "        ],\n",
    "        \"intents\": [\n",
    "            {\n",
    "                \"id\": 0,\n",
    "                \"name\": \"activate_my_card\",\n",
    "            },\n",
    "            {\n",
    "                \"id\": 1,\n",
    "                \"name\": \"age_limit\",\n",
    "            },\n",
    "        ],\n",
    "    },\n",
    ")"
   ]
  },
  {
   "cell_type": "markdown",
   "id": "4459ddc7",
   "metadata": {
    "cell_marker": "\"\"\""
   },
   "source": [
    "### Loading a dataset from a file\n",
    "\n",
    "The AutoIntent library includes sample datasets."
   ]
  },
  {
   "cell_type": "code",
   "execution_count": 4,
   "id": "65cc4d9e",
   "metadata": {
    "execution": {
     "iopub.execute_input": "2024-12-17T23:17:19.931595Z",
     "iopub.status.busy": "2024-12-17T23:17:19.931192Z",
     "iopub.status.idle": "2024-12-17T23:17:19.983857Z",
     "shell.execute_reply": "2024-12-17T23:17:19.983048Z"
    }
   },
   "outputs": [],
   "source": [
    "path_to_dataset = ires.files(\"tests.assets.data\").joinpath(\"clinc_subset.json\")\n",
    "dataset = Dataset.from_json(path_to_dataset)"
   ]
  },
  {
   "cell_type": "markdown",
   "id": "a043837e",
   "metadata": {
    "cell_marker": "\"\"\""
   },
   "source": [
    "### Loading a dataset from the Hugging Face Hub\n",
    "\n",
    "If your dataset on the Hugging Face Hub matches the required format, you can load it directly using its repository ID:"
   ]
  },
  {
   "cell_type": "code",
   "execution_count": 5,
   "id": "f6da7508",
   "metadata": {
    "execution": {
     "iopub.execute_input": "2024-12-17T23:17:19.986742Z",
     "iopub.status.busy": "2024-12-17T23:17:19.986192Z",
     "iopub.status.idle": "2024-12-17T23:17:24.792034Z",
     "shell.execute_reply": "2024-12-17T23:17:24.791420Z"
    }
   },
   "outputs": [],
   "source": [
    "dataset = Dataset.from_hub(\"AutoIntent/clinc150_subset\")"
   ]
  },
  {
   "cell_type": "markdown",
   "id": "9f0984ec",
   "metadata": {
    "cell_marker": "\"\"\""
   },
   "source": [
    "### Accessing dataset splits\n",
    "\n",
    "The [Dataset](../autoapi/autointent/Dataset.html#autointent.Dataset) class organizes your data as a dictionary of [datasets.Dataset](https://huggingface.co/docs/datasets/v2.1.0/en/package_reference/main_classes#datasets.Dataset).\n",
    "For example, after initialization, an `oos` key may be added if OOS samples are provided."
   ]
  },
  {
   "cell_type": "code",
   "execution_count": 6,
   "id": "e1f69f17",
   "metadata": {
    "execution": {
     "iopub.execute_input": "2024-12-17T23:17:24.794593Z",
     "iopub.status.busy": "2024-12-17T23:17:24.794061Z",
     "iopub.status.idle": "2024-12-17T23:17:24.800531Z",
     "shell.execute_reply": "2024-12-17T23:17:24.799886Z"
    }
   },
   "outputs": [
    {
     "data": {
      "text/plain": [
       "Dataset({\n",
       "    features: ['utterance', 'label'],\n",
       "    num_rows: 60\n",
       "})"
      ]
     },
     "execution_count": 6,
     "metadata": {},
     "output_type": "execute_result"
    }
   ],
   "source": [
    "dataset[\"train\"]"
   ]
  },
  {
   "cell_type": "markdown",
   "id": "5c1261a9",
   "metadata": {
    "cell_marker": "\"\"\""
   },
   "source": [
    "### Working with dataset splits\n",
    "\n",
    "Each split in the [Dataset](../autoapi/autointent/Dataset.html#autointent.Dataset) class is an instance of [datasets.Dataset](https://huggingface.co/docs/datasets/en/package_reference/main_classes#datasets.Dataset),\n",
    "so you can work with them accordingly."
   ]
  },
  {
   "cell_type": "code",
   "execution_count": 7,
   "id": "3c23a372",
   "metadata": {
    "execution": {
     "iopub.execute_input": "2024-12-17T23:17:24.802604Z",
     "iopub.status.busy": "2024-12-17T23:17:24.802227Z",
     "iopub.status.idle": "2024-12-17T23:17:24.807149Z",
     "shell.execute_reply": "2024-12-17T23:17:24.806466Z"
    }
   },
   "outputs": [
    {
     "data": {
      "text/plain": [
       "{'utterance': ['does acero in maplewood allow reservations',\n",
       "  'do they take reservations at bar tartine',\n",
       "  'does cowgirl creamery in san francisco take reservations',\n",
       "  'can i get a reservation at melting pot tomorrow',\n",
       "  'will they take reservations at torris'],\n",
       " 'label': [0, 0, 0, 0, 0]}"
      ]
     },
     "execution_count": 7,
     "metadata": {},
     "output_type": "execute_result"
    }
   ],
   "source": [
    "dataset[\"train\"][:5]  # get first 5 train samples"
   ]
  },
  {
   "cell_type": "markdown",
   "id": "b9d2e1d3",
   "metadata": {
    "cell_marker": "\"\"\""
   },
   "source": [
    "### Working with intents\n",
    "\n",
    "Metadata that you added to intents in your dataset is stored in [intents](../autoapi/autointent/Dataset.html#autointent.Dataset.intents) attribute."
   ]
  },
  {
   "cell_type": "code",
   "execution_count": 8,
   "id": "b3fbba59",
   "metadata": {
    "execution": {
     "iopub.execute_input": "2024-12-17T23:17:24.809378Z",
     "iopub.status.busy": "2024-12-17T23:17:24.809006Z",
     "iopub.status.idle": "2024-12-17T23:17:24.813463Z",
     "shell.execute_reply": "2024-12-17T23:17:24.812804Z"
    }
   },
   "outputs": [
    {
     "data": {
      "text/plain": [
       "[Intent(id=0, name=None, tags=[], regexp_full_match=[], regexp_partial_match=[], description=None),\n",
       " Intent(id=1, name=None, tags=[], regexp_full_match=[], regexp_partial_match=[], description=None),\n",
       " Intent(id=2, name=None, tags=[], regexp_full_match=[], regexp_partial_match=[], description=None)]"
      ]
     },
     "execution_count": 8,
     "metadata": {},
     "output_type": "execute_result"
    }
   ],
   "source": [
    "dataset.intents[:3]"
   ]
  },
  {
   "cell_type": "markdown",
   "id": "1a9d5d22",
   "metadata": {
    "cell_marker": "\"\"\""
   },
   "source": [
    "### Pushing dataset to the Hugging Face Hub\n",
    "\n",
    "To share your dataset on the Hugging Face Hub, use method [push_to_hub](../autoapi/autointent/Dataset.html#autointent.Dataset.push_to_hub).\n",
    "Ensure that you are logged in using the `huggingface-cli` tool:"
   ]
  },
  {
   "cell_type": "code",
   "execution_count": 9,
   "id": "ba669fea",
   "metadata": {
    "execution": {
     "iopub.execute_input": "2024-12-17T23:17:24.815656Z",
     "iopub.status.busy": "2024-12-17T23:17:24.815261Z",
     "iopub.status.idle": "2024-12-17T23:17:24.818216Z",
     "shell.execute_reply": "2024-12-17T23:17:24.817635Z"
    }
   },
   "outputs": [],
   "source": [
    "# dataset.push_to_hub(\"<repo_id>\")"
   ]
  }
 ],
 "metadata": {
  "jupytext": {
   "cell_metadata_filter": "-all",
   "main_language": "python",
   "notebook_metadata_filter": "-all",
   "text_representation": {
    "extension": ".py",
    "format_name": "percent"
   }
  },
  "language_info": {
   "codemirror_mode": {
    "name": "ipython",
    "version": 3
   },
   "file_extension": ".py",
   "mimetype": "text/x-python",
   "name": "python",
   "nbconvert_exporter": "python",
   "pygments_lexer": "ipython3",
   "version": "3.10.15"
  }
 },
 "nbformat": 4,
 "nbformat_minor": 5
}
