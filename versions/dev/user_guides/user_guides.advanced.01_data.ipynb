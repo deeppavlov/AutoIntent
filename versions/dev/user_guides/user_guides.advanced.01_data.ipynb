{
 "cells": [
  {
   "cell_type": "markdown",
   "id": "55508aa8",
   "metadata": {
    "cell_marker": "\"\"\""
   },
   "source": [
    "# Working with data\n",
    "\n",
    "This chapter is a more detailed version of data chapter from basic user guide about how to manipulate intent classification data with AutoIntent."
   ]
  },
  {
   "cell_type": "code",
   "execution_count": 1,
   "id": "977519d0",
   "metadata": {
    "execution": {
     "iopub.execute_input": "2024-12-18T13:19:32.160431Z",
     "iopub.status.busy": "2024-12-18T13:19:32.160204Z",
     "iopub.status.idle": "2024-12-18T13:19:36.277280Z",
     "shell.execute_reply": "2024-12-18T13:19:36.276568Z"
    }
   },
   "outputs": [
    {
     "name": "stderr",
     "output_type": "stream",
     "text": [
      "/home/runner/.cache/pypoetry/virtualenvs/autointent-FDypUDHQ-py3.10/lib/python3.10/site-packages/tqdm/auto.py:21: TqdmWarning: IProgress not found. Please update jupyter and ipywidgets. See https://ipywidgets.readthedocs.io/en/stable/user_install.html\n",
      "  from .autonotebook import tqdm as notebook_tqdm\n"
     ]
    }
   ],
   "source": [
    "import importlib.resources as ires\n",
    "\n",
    "import datasets\n",
    "\n",
    "from autointent import Dataset"
   ]
  },
  {
   "cell_type": "code",
   "execution_count": 2,
   "id": "fcc270a8",
   "metadata": {
    "execution": {
     "iopub.execute_input": "2024-12-18T13:19:36.280060Z",
     "iopub.status.busy": "2024-12-18T13:19:36.279417Z",
     "iopub.status.idle": "2024-12-18T13:19:36.282743Z",
     "shell.execute_reply": "2024-12-18T13:19:36.282203Z"
    }
   },
   "outputs": [],
   "source": [
    "datasets.logging.disable_progress_bar()  # disable tqdm outputs"
   ]
  },
  {
   "cell_type": "markdown",
   "id": "3dd737aa",
   "metadata": {
    "cell_marker": "\"\"\""
   },
   "source": [
    "## Creating a dataset\n",
    "\n",
    "To create a dataset, you need to provide a training split containing samples with utterances and labels, as shown below:\n",
    "\n",
    "```json\n",
    "{\n",
    "    \"train\": [\n",
    "        {\n",
    "            \"utterance\": \"Hello!\",\n",
    "            \"label\": 0\n",
    "        },\n",
    "        \"...\",\n",
    "    ]\n",
    "}\n",
    "```\n",
    "\n",
    "For a multilabel dataset, the `label` field should be a list of integers representing the corresponding class labels.\n",
    "\n",
    "### Handling out-of-scope samples\n",
    "\n",
    "To indicate that a sample is out-of-scope (see [concepts](../concepts.rst)), omit the `label` field from the sample dictionary. For example:\n",
    "\n",
    "```json\n",
    "{\n",
    "    \"train\": [\n",
    "        {\n",
    "            \"utterance\": \"OOS request\"\n",
    "        },\n",
    "        \"...\",\n",
    "    ]\n",
    "}\n",
    "```\n",
    "\n",
    "### Validation and test splits\n",
    "\n",
    "By default, a portion of the training split will be allocated for validation and testing.\n",
    "However, you can also specify a test split explicitly:\n",
    "\n",
    "```json\n",
    "{\n",
    "    \"train\": [\n",
    "        {\n",
    "            \"utterance\": \"Hello!\",\n",
    "            \"label\": 0\n",
    "        },\n",
    "        \"...\",\n",
    "    ],\n",
    "    \"test\": [\n",
    "        {\n",
    "            \"utterance\": \"Hi!\",\n",
    "            \"label\": 0\n",
    "        },\n",
    "        \"...\",\n",
    "    ]\n",
    "}\n",
    "```\n",
    "\n",
    "### Adding metadata to intents\n",
    "\n",
    "You can add metadata to intents in your dataset, such as\n",
    "regular expressions, intent names, descriptions, or tags, using the `intents` field:\n",
    "\n",
    "```json\n",
    "{\n",
    "    \"train\": [\n",
    "        {\n",
    "            \"utterance\": \"Hello!\",\n",
    "            \"label\": 0\n",
    "        },\n",
    "        \"...\",\n",
    "    ],\n",
    "    \"intents\": [\n",
    "        {\n",
    "            \"id\": 0,\n",
    "            \"name\": \"greeting\",\n",
    "            \"tags\": [\"conversation_start\"],\n",
    "            \"regexp_partial_match\": [\"\\bhello\\b\"],\n",
    "            \"regexp_full_match\": [\"^hello$\"],\n",
    "            \"description\": \"User wants to initiate a conversation with a greeting.\"\n",
    "        },\n",
    "        \"...\",\n",
    "    ]\n",
    "}\n",
    "```\n",
    "\n",
    "- `name`: A human-readable representation of the intent.\n",
    "- `tags`: Used in multilabel scenarios to predict the most probable class listed in a specific [Tag](../autoapi/autointent/schemas/Tag.html#autointent.schemas.Tag).\n",
    "- `regexp_partial_match` and `regexp_full_match`: Used by the [RegExp](../autoapi/autointent/modules/regexp/RegExp.html#autointent.modules.regexp.RegExp) module to predict intents based on provided patterns.\n",
    "- `description`: Used by the [DescriptionScorer](../autoapi/autointent/modules/scoring/DescriptionScorer.html#autointent.modules.scoring.DescriptionScorer) to calculate scores based on the similarity between an utterance and intent descriptions.\n",
    "\n",
    "All fields in the `intents` list are optional except for `id`."
   ]
  },
  {
   "cell_type": "markdown",
   "id": "d0389e3a",
   "metadata": {
    "cell_marker": "\"\"\""
   },
   "source": [
    "## Loading a dataset\n",
    "\n",
    "There are three main ways to load your dataset:\n",
    "\n",
    "1. From a Python dictionary.\n",
    "2. From a JSON file.\n",
    "3. Directly from the Hugging Face Hub."
   ]
  },
  {
   "cell_type": "markdown",
   "id": "4c389fcc",
   "metadata": {
    "cell_marker": "\"\"\""
   },
   "source": [
    "### Creating a dataset from a Python dictionary\n",
    "\n",
    "One can load data into Python using our [Dataset](../autoapi/autointent/Dataset.html#autointent.Dataset) object."
   ]
  },
  {
   "cell_type": "code",
   "execution_count": 3,
   "id": "476751bc",
   "metadata": {
    "execution": {
     "iopub.execute_input": "2024-12-18T13:19:36.285007Z",
     "iopub.status.busy": "2024-12-18T13:19:36.284613Z",
     "iopub.status.idle": "2024-12-18T13:19:36.313015Z",
     "shell.execute_reply": "2024-12-18T13:19:36.312448Z"
    }
   },
   "outputs": [],
   "source": [
    "dataset = Dataset.from_dict(\n",
    "    {\n",
    "        \"train\": [\n",
    "            {\n",
    "                \"utterance\": \"Please help me with my card. It won't activate.\",\n",
    "                \"label\": 0,\n",
    "            },\n",
    "            {\n",
    "                \"utterance\": \"I tried but am unable to activate my card.\",\n",
    "                \"label\": 0,\n",
    "            },\n",
    "            {\n",
    "                \"utterance\": \"I want to open an account for my children.\",\n",
    "                \"label\": 1,\n",
    "            },\n",
    "            {\n",
    "                \"utterance\": \"How old do you need to be to use the bank's services?\",\n",
    "                \"label\": 1,\n",
    "            },\n",
    "        ],\n",
    "        \"test\": [\n",
    "            {\n",
    "                \"utterance\": \"I want to start using my card.\",\n",
    "                \"label\": 0,\n",
    "            },\n",
    "            {\n",
    "                \"utterance\": \"How old do I need to be?\",\n",
    "                \"label\": 1,\n",
    "            },\n",
    "        ],\n",
    "        \"intents\": [\n",
    "            {\n",
    "                \"id\": 0,\n",
    "                \"name\": \"activate_my_card\",\n",
    "            },\n",
    "            {\n",
    "                \"id\": 1,\n",
    "                \"name\": \"age_limit\",\n",
    "            },\n",
    "        ],\n",
    "    },\n",
    ")"
   ]
  },
  {
   "cell_type": "markdown",
   "id": "89133e23",
   "metadata": {
    "cell_marker": "\"\"\""
   },
   "source": [
    "### Loading a dataset from a file\n",
    "\n",
    "The AutoIntent library includes sample datasets."
   ]
  },
  {
   "cell_type": "code",
   "execution_count": 4,
   "id": "7650ddc6",
   "metadata": {
    "execution": {
     "iopub.execute_input": "2024-12-18T13:19:36.315411Z",
     "iopub.status.busy": "2024-12-18T13:19:36.314996Z",
     "iopub.status.idle": "2024-12-18T13:19:36.365808Z",
     "shell.execute_reply": "2024-12-18T13:19:36.365235Z"
    }
   },
   "outputs": [],
   "source": [
    "path_to_dataset = ires.files(\"tests.assets.data\").joinpath(\"clinc_subset.json\")\n",
    "dataset = Dataset.from_json(path_to_dataset)"
   ]
  },
  {
   "cell_type": "markdown",
   "id": "e2557cc7",
   "metadata": {
    "cell_marker": "\"\"\""
   },
   "source": [
    "### Loading a dataset from the Hugging Face Hub\n",
    "\n",
    "If your dataset on the Hugging Face Hub matches the required format, you can load it directly using its repository ID:"
   ]
  },
  {
   "cell_type": "code",
   "execution_count": 5,
   "id": "7b1d99ab",
   "metadata": {
    "execution": {
     "iopub.execute_input": "2024-12-18T13:19:36.368039Z",
     "iopub.status.busy": "2024-12-18T13:19:36.367833Z",
     "iopub.status.idle": "2024-12-18T13:19:37.745497Z",
     "shell.execute_reply": "2024-12-18T13:19:37.744912Z"
    }
   },
   "outputs": [],
   "source": [
    "dataset = Dataset.from_hub(\"AutoIntent/clinc150_subset\")"
   ]
  },
  {
   "cell_type": "markdown",
   "id": "db2185ea",
   "metadata": {
    "cell_marker": "\"\"\""
   },
   "source": [
    "### Accessing dataset splits\n",
    "\n",
    "The [Dataset](../autoapi/autointent/Dataset.html#autointent.Dataset) class organizes your data as a dictionary of [datasets.Dataset](https://huggingface.co/docs/datasets/v2.1.0/en/package_reference/main_classes#datasets.Dataset).\n",
    "For example, after initialization, an `oos` key may be added if OOS samples are provided."
   ]
  },
  {
   "cell_type": "code",
   "execution_count": 6,
   "id": "573f4b8c",
   "metadata": {
    "execution": {
     "iopub.execute_input": "2024-12-18T13:19:37.747988Z",
     "iopub.status.busy": "2024-12-18T13:19:37.747579Z",
     "iopub.status.idle": "2024-12-18T13:19:37.753994Z",
     "shell.execute_reply": "2024-12-18T13:19:37.753354Z"
    }
   },
   "outputs": [
    {
     "data": {
      "text/plain": [
       "Dataset({\n",
       "    features: ['utterance', 'label'],\n",
       "    num_rows: 60\n",
       "})"
      ]
     },
     "execution_count": 6,
     "metadata": {},
     "output_type": "execute_result"
    }
   ],
   "source": [
    "dataset[\"train\"]"
   ]
  },
  {
   "cell_type": "markdown",
   "id": "6910c91f",
   "metadata": {
    "cell_marker": "\"\"\""
   },
   "source": [
    "### Working with dataset splits\n",
    "\n",
    "Each split in the [Dataset](../autoapi/autointent/Dataset.html#autointent.Dataset) class is an instance of [datasets.Dataset](https://huggingface.co/docs/datasets/en/package_reference/main_classes#datasets.Dataset),\n",
    "so you can work with them accordingly."
   ]
  },
  {
   "cell_type": "code",
   "execution_count": 7,
   "id": "3af10acb",
   "metadata": {
    "execution": {
     "iopub.execute_input": "2024-12-18T13:19:37.756285Z",
     "iopub.status.busy": "2024-12-18T13:19:37.755873Z",
     "iopub.status.idle": "2024-12-18T13:19:37.760402Z",
     "shell.execute_reply": "2024-12-18T13:19:37.759849Z"
    }
   },
   "outputs": [
    {
     "data": {
      "text/plain": [
       "{'utterance': ['does acero in maplewood allow reservations',\n",
       "  'do they take reservations at bar tartine',\n",
       "  'does cowgirl creamery in san francisco take reservations',\n",
       "  'can i get a reservation at melting pot tomorrow',\n",
       "  'will they take reservations at torris'],\n",
       " 'label': [0, 0, 0, 0, 0]}"
      ]
     },
     "execution_count": 7,
     "metadata": {},
     "output_type": "execute_result"
    }
   ],
   "source": [
    "dataset[\"train\"][:5]  # get first 5 train samples"
   ]
  },
  {
   "cell_type": "markdown",
   "id": "ed986571",
   "metadata": {
    "cell_marker": "\"\"\""
   },
   "source": [
    "### Working with intents\n",
    "\n",
    "Metadata that you added to intents in your dataset is stored in [intents](../autoapi/autointent/Dataset.html#autointent.Dataset.intents) attribute."
   ]
  },
  {
   "cell_type": "code",
   "execution_count": 8,
   "id": "a37ea1b9",
   "metadata": {
    "execution": {
     "iopub.execute_input": "2024-12-18T13:19:37.762526Z",
     "iopub.status.busy": "2024-12-18T13:19:37.762119Z",
     "iopub.status.idle": "2024-12-18T13:19:37.766091Z",
     "shell.execute_reply": "2024-12-18T13:19:37.765563Z"
    }
   },
   "outputs": [
    {
     "data": {
      "text/plain": [
       "[Intent(id=0, name=None, tags=[], regexp_full_match=[], regexp_partial_match=[], description=None),\n",
       " Intent(id=1, name=None, tags=[], regexp_full_match=[], regexp_partial_match=[], description=None),\n",
       " Intent(id=2, name=None, tags=[], regexp_full_match=[], regexp_partial_match=[], description=None)]"
      ]
     },
     "execution_count": 8,
     "metadata": {},
     "output_type": "execute_result"
    }
   ],
   "source": [
    "dataset.intents[:3]"
   ]
  },
  {
   "cell_type": "markdown",
   "id": "c6b643ad",
   "metadata": {
    "cell_marker": "\"\"\""
   },
   "source": [
    "### Pushing dataset to the Hugging Face Hub\n",
    "\n",
    "To share your dataset on the Hugging Face Hub, use method [push_to_hub](../autoapi/autointent/Dataset.html#autointent.Dataset.push_to_hub).\n",
    "Ensure that you are logged in using the `huggingface-cli` tool:"
   ]
  },
  {
   "cell_type": "code",
   "execution_count": 9,
   "id": "32644e40",
   "metadata": {
    "execution": {
     "iopub.execute_input": "2024-12-18T13:19:37.768043Z",
     "iopub.status.busy": "2024-12-18T13:19:37.767673Z",
     "iopub.status.idle": "2024-12-18T13:19:37.770538Z",
     "shell.execute_reply": "2024-12-18T13:19:37.769973Z"
    }
   },
   "outputs": [],
   "source": [
    "# dataset.push_to_hub(\"<repo_id>\")"
   ]
  }
 ],
 "metadata": {
  "jupytext": {
   "cell_metadata_filter": "-all",
   "main_language": "python",
   "notebook_metadata_filter": "-all",
   "text_representation": {
    "extension": ".py",
    "format_name": "percent"
   }
  },
  "language_info": {
   "codemirror_mode": {
    "name": "ipython",
    "version": 3
   },
   "file_extension": ".py",
   "mimetype": "text/x-python",
   "name": "python",
   "nbconvert_exporter": "python",
   "pygments_lexer": "ipython3",
   "version": "3.10.15"
  }
 },
 "nbformat": 4,
 "nbformat_minor": 5
}
