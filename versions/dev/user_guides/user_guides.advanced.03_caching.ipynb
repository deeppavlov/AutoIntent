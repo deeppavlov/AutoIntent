{
 "cells": [
  {
   "cell_type": "markdown",
   "id": "11c2bafa",
   "metadata": {
    "cell_marker": "\"\"\""
   },
   "source": [
    "# Caching in AutoIntent\n",
    "\n",
    "TODO"
   ]
  }
 ],
 "metadata": {
  "jupytext": {
   "cell_metadata_filter": "-all",
   "main_language": "python",
   "notebook_metadata_filter": "-all",
   "text_representation": {
    "extension": ".py",
    "format_name": "percent"
   }
  }
 },
 "nbformat": 4,
 "nbformat_minor": 5
}
