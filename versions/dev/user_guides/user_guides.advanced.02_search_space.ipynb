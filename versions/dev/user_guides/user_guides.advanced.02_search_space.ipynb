{
 "cells": [
  {
   "cell_type": "markdown",
   "id": "d0675d4e",
   "metadata": {
    "cell_marker": "\"\"\""
   },
   "source": [
    "# Search Space Configuration\n",
    "\n",
    "In this guide, you will learn how to configure a custom hyperparameter search space."
   ]
  },
  {
   "cell_type": "markdown",
   "id": "5203c97d",
   "metadata": {
    "cell_marker": "\"\"\""
   },
   "source": [
    "## Python API\n",
    "\n",
    "> Before reading this guide, we recommend familiarizing yourself with the sections [concepts](../concepts.rst) and [optimization](../learn/optimization.rst)."
   ]
  },
  {
   "cell_type": "markdown",
   "id": "5fa3249f",
   "metadata": {
    "cell_marker": "\"\"\""
   },
   "source": [
    "### Optimization Module\n",
    "\n",
    "\n",
    "To set up the optimization module, you need to create the following dictionary:"
   ]
  },
  {
   "cell_type": "code",
   "execution_count": 1,
   "id": "44c610fc",
   "metadata": {
    "execution": {
     "iopub.execute_input": "2024-12-18T13:19:40.251583Z",
     "iopub.status.busy": "2024-12-18T13:19:40.251378Z",
     "iopub.status.idle": "2024-12-18T13:19:40.258029Z",
     "shell.execute_reply": "2024-12-18T13:19:40.257510Z"
    }
   },
   "outputs": [],
   "source": [
    "knn_module = {\n",
    "    \"module_name\": \"knn\",\n",
    "    \"k\": [1, 5, 10, 50],\n",
    "    \"embedder_name\": [\"avsolatorio/GIST-small-Embedding-v0\", \"infgrad/stella-base-en-v2\"],\n",
    "}"
   ]
  },
  {
   "cell_type": "markdown",
   "id": "3b849638",
   "metadata": {
    "cell_marker": "\"\"\""
   },
   "source": [
    "The ``module_name`` field specifies the name of the module. You can find the names, for example, in...\n",
    "\n",
    "TODO: _Add docs for all available modules._\n",
    "\n",
    "All fields except ``module_name`` are lists that define the search space for each hyperparameter (see [KNNScorer](../autoapi/autointent/modules/scoring/KNNScorer.html#autointent.modules.scoring.KNNScorer)). If you omit them, the default set of hyperparameters will be used:"
   ]
  },
  {
   "cell_type": "code",
   "execution_count": 2,
   "id": "2d9bbe58",
   "metadata": {
    "execution": {
     "iopub.execute_input": "2024-12-18T13:19:40.260027Z",
     "iopub.status.busy": "2024-12-18T13:19:40.259675Z",
     "iopub.status.idle": "2024-12-18T13:19:40.262765Z",
     "shell.execute_reply": "2024-12-18T13:19:40.262113Z"
    }
   },
   "outputs": [],
   "source": [
    "\n",
    "linear_module = {\"module_name\": \"linear\"}"
   ]
  },
  {
   "cell_type": "markdown",
   "id": "c6459a88",
   "metadata": {
    "cell_marker": "\"\"\""
   },
   "source": [
    "See docs [LinearScorer](../autoapi/autointent/modules/scoring/LinearScorer.html#autointent.modules.scoring.LinearScorer)."
   ]
  },
  {
   "cell_type": "markdown",
   "id": "7fa5fffc",
   "metadata": {
    "cell_marker": "\"\"\""
   },
   "source": [
    "### Optimization Node\n",
    "\n",
    "To set up the optimization node, you need to create a list of modules and specify the metric for optimization:"
   ]
  },
  {
   "cell_type": "code",
   "execution_count": 3,
   "id": "4a3e87c2",
   "metadata": {
    "execution": {
     "iopub.execute_input": "2024-12-18T13:19:40.264820Z",
     "iopub.status.busy": "2024-12-18T13:19:40.264387Z",
     "iopub.status.idle": "2024-12-18T13:19:40.267418Z",
     "shell.execute_reply": "2024-12-18T13:19:40.266886Z"
    }
   },
   "outputs": [],
   "source": [
    "scoring_node = {\n",
    "    \"node_type\": \"scoring\",\n",
    "    \"metric_name\": \"scoring_roc_auc\",\n",
    "    \"search_space\": [\n",
    "        knn_module,\n",
    "        linear_module,\n",
    "    ],\n",
    "}"
   ]
  },
  {
   "cell_type": "markdown",
   "id": "62bfa56b",
   "metadata": {
    "cell_marker": "\"\"\""
   },
   "source": [
    "### Search Space\n",
    "\n",
    "The search space for the entire pipeline looks approximately like this:"
   ]
  },
  {
   "cell_type": "code",
   "execution_count": 4,
   "id": "8026c805",
   "metadata": {
    "execution": {
     "iopub.execute_input": "2024-12-18T13:19:40.269574Z",
     "iopub.status.busy": "2024-12-18T13:19:40.269171Z",
     "iopub.status.idle": "2024-12-18T13:19:40.273688Z",
     "shell.execute_reply": "2024-12-18T13:19:40.273155Z"
    }
   },
   "outputs": [],
   "source": [
    "search_space = [\n",
    "    {\n",
    "        \"node_type\": \"embedding\",\n",
    "        \"metric\": \"retrieval_hit_rate\",\n",
    "        \"search_space\": [\n",
    "            {\n",
    "                \"module_name\": \"retrieval\",\n",
    "                \"k\": [10],\n",
    "                \"embedder_name\": [\"avsolatorio/GIST-small-Embedding-v0\", \"infgrad/stella-base-en-v2\"],\n",
    "            }\n",
    "        ],\n",
    "    },\n",
    "    {\n",
    "        \"node_type\": \"scoring\",\n",
    "        \"metric\": \"scoring_roc_auc\",\n",
    "        \"search_space\": [\n",
    "            {\"module_name\": \"knn\", \"k\": [1, 3, 5, 10], \"weights\": [\"uniform\", \"distance\", \"closest\"]},\n",
    "            {\"module_name\": \"linear\"},\n",
    "            {\n",
    "                \"module_name\": \"dnnc\",\n",
    "                \"cross_encoder_name\": [\"BAAI/bge-reranker-base\", \"cross-encoder/ms-marco-MiniLM-L-6-v2\"],\n",
    "                \"k\": [1, 3, 5, 10],\n",
    "            },\n",
    "        ],\n",
    "    },\n",
    "    {\n",
    "        \"node_type\": \"decision\",\n",
    "        \"metric\": \"decision_accuracy\",\n",
    "        \"search_space\": [{\"module_name\": \"threshold\", \"thresh\": [0.5]}, {\"module_name\": \"argmax\"}],\n",
    "    },\n",
    "]"
   ]
  },
  {
   "cell_type": "markdown",
   "id": "04f60148",
   "metadata": {
    "cell_marker": "\"\"\""
   },
   "source": [
    "### Load Data\n",
    "\n",
    "Let us use small subset of popular `clinc150` dataset:"
   ]
  },
  {
   "cell_type": "code",
   "execution_count": 5,
   "id": "04fd6633",
   "metadata": {
    "execution": {
     "iopub.execute_input": "2024-12-18T13:19:40.275646Z",
     "iopub.status.busy": "2024-12-18T13:19:40.275234Z",
     "iopub.status.idle": "2024-12-18T13:19:45.482236Z",
     "shell.execute_reply": "2024-12-18T13:19:45.481593Z"
    }
   },
   "outputs": [
    {
     "name": "stderr",
     "output_type": "stream",
     "text": [
      "/home/runner/.cache/pypoetry/virtualenvs/autointent-FDypUDHQ-py3.10/lib/python3.10/site-packages/sentence_transformers/cross_encoder/CrossEncoder.py:11: TqdmWarning: IProgress not found. Please update jupyter and ipywidgets. See https://ipywidgets.readthedocs.io/en/stable/user_install.html\n",
      "  from tqdm.autonotebook import tqdm, trange\n"
     ]
    }
   ],
   "source": [
    "\n",
    "from autointent import Dataset\n",
    "\n",
    "dataset = Dataset.from_hub(\"AutoIntent/clinc150_subset\")"
   ]
  },
  {
   "cell_type": "markdown",
   "id": "b3892c36",
   "metadata": {
    "cell_marker": "\"\"\""
   },
   "source": [
    "### Start Auto Configuration"
   ]
  },
  {
   "cell_type": "code",
   "execution_count": 6,
   "id": "af70f1bd",
   "metadata": {
    "execution": {
     "iopub.execute_input": "2024-12-18T13:19:45.485040Z",
     "iopub.status.busy": "2024-12-18T13:19:45.484511Z",
     "iopub.status.idle": "2024-12-18T13:20:47.030682Z",
     "shell.execute_reply": "2024-12-18T13:20:47.029712Z"
    }
   },
   "outputs": [
    {
     "name": "stderr",
     "output_type": "stream",
     "text": [
      "No sentence-transformers model found with name infgrad/stella-base-en-v2. Creating a new one with mean pooling.\n"
     ]
    },
    {
     "name": "stderr",
     "output_type": "stream",
     "text": [
      "huggingface/tokenizers: The current process just got forked, after parallelism has already been used. Disabling parallelism to avoid deadlocks...\n",
      "To disable this warning, you can either:\n",
      "\t- Avoid using `tokenizers` before the fork if possible\n",
      "\t- Explicitly set the environment variable TOKENIZERS_PARALLELISM=(true | false)\n"
     ]
    },
    {
     "name": "stderr",
     "output_type": "stream",
     "text": [
      "No sentence-transformers model found with name infgrad/stella-base-en-v2. Creating a new one with mean pooling.\n"
     ]
    },
    {
     "name": "stderr",
     "output_type": "stream",
     "text": [
      "huggingface/tokenizers: The current process just got forked, after parallelism has already been used. Disabling parallelism to avoid deadlocks...\n",
      "To disable this warning, you can either:\n",
      "\t- Avoid using `tokenizers` before the fork if possible\n",
      "\t- Explicitly set the environment variable TOKENIZERS_PARALLELISM=(true | false)\n"
     ]
    },
    {
     "data": {
      "text/plain": [
       "<autointent.context._context.Context at 0x7ff396909ea0>"
      ]
     },
     "execution_count": 6,
     "metadata": {},
     "output_type": "execute_result"
    }
   ],
   "source": [
    "from autointent import Pipeline\n",
    "\n",
    "pipeline_optimizer = Pipeline.from_search_space(search_space)\n",
    "pipeline_optimizer.fit(dataset)"
   ]
  },
  {
   "cell_type": "markdown",
   "id": "06e4c628",
   "metadata": {
    "cell_marker": "\"\"\""
   },
   "source": [
    "## See Also\n",
    "\n",
    "- [Modules API reference](../autoapi/autointent/modules/index.rst) to get familiar with modules to include into search space"
   ]
  }
 ],
 "metadata": {
  "jupytext": {
   "cell_metadata_filter": "-all",
   "main_language": "python",
   "notebook_metadata_filter": "-all",
   "text_representation": {
    "extension": ".py",
    "format_name": "percent"
   }
  },
  "language_info": {
   "codemirror_mode": {
    "name": "ipython",
    "version": 3
   },
   "file_extension": ".py",
   "mimetype": "text/x-python",
   "name": "python",
   "nbconvert_exporter": "python",
   "pygments_lexer": "ipython3",
   "version": "3.10.15"
  }
 },
 "nbformat": 4,
 "nbformat_minor": 5
}
