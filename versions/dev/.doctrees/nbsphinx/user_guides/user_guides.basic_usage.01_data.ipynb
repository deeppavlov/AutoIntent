{
 "cells": [
  {
   "cell_type": "markdown",
   "id": "460d0fc0",
   "metadata": {
    "cell_marker": "\"\"\""
   },
   "source": [
    "# Working with data\n",
    "\n",
    "In this chapter you will learn how to manipulate intent classification data with AutoIntent."
   ]
  },
  {
   "cell_type": "code",
   "execution_count": 1,
   "id": "42457a49",
   "metadata": {
    "execution": {
     "iopub.execute_input": "2024-12-18T13:20:51.563410Z",
     "iopub.status.busy": "2024-12-18T13:20:51.563202Z",
     "iopub.status.idle": "2024-12-18T13:20:55.712937Z",
     "shell.execute_reply": "2024-12-18T13:20:55.712157Z"
    }
   },
   "outputs": [
    {
     "name": "stderr",
     "output_type": "stream",
     "text": [
      "/home/runner/.cache/pypoetry/virtualenvs/autointent-FDypUDHQ-py3.10/lib/python3.10/site-packages/tqdm/auto.py:21: TqdmWarning: IProgress not found. Please update jupyter and ipywidgets. See https://ipywidgets.readthedocs.io/en/stable/user_install.html\n",
      "  from .autonotebook import tqdm as notebook_tqdm\n"
     ]
    }
   ],
   "source": [
    "import importlib.resources as ires\n",
    "\n",
    "import datasets\n",
    "\n",
    "from autointent import Dataset"
   ]
  },
  {
   "cell_type": "code",
   "execution_count": 2,
   "id": "59999119",
   "metadata": {
    "execution": {
     "iopub.execute_input": "2024-12-18T13:20:55.715836Z",
     "iopub.status.busy": "2024-12-18T13:20:55.715119Z",
     "iopub.status.idle": "2024-12-18T13:20:55.718823Z",
     "shell.execute_reply": "2024-12-18T13:20:55.718146Z"
    }
   },
   "outputs": [],
   "source": [
    "datasets.logging.disable_progress_bar()  # disable tqdm outputs"
   ]
  },
  {
   "cell_type": "markdown",
   "id": "04efb0e2",
   "metadata": {
    "cell_marker": "\"\"\""
   },
   "source": [
    "## Creating a dataset\n",
    "\n",
    "The first thing you need to think about is your data. You need to collect a set of labeled utterances and save it as JSON file with the following schema:\n",
    "\n",
    "```json\n",
    "{\n",
    "    \"train\": [\n",
    "        {\n",
    "            \"utterance\": \"Hello!\",\n",
    "            \"label\": 0\n",
    "        },\n",
    "        \"...\",\n",
    "    ],\n",
    "    \"test\": [\n",
    "        {\n",
    "            \"utterance\": \"Hi!\",\n",
    "            \"label\": 0\n",
    "        },\n",
    "        \"...\",\n",
    "    ]\n",
    "}\n",
    "```\n",
    "\n",
    "Note:\n",
    "- For a multilabel dataset, the `label` field should be a list of integers representing the corresponding class labels.\n",
    "- Test split is optional. By default, a portion of the training split will be allocated for testing."
   ]
  },
  {
   "cell_type": "markdown",
   "id": "9a7dee63",
   "metadata": {
    "cell_marker": "\"\"\""
   },
   "source": [
    "## Loading a dataset\n",
    "\n",
    "After you converted your labeled data into JSON, you can load it into AutoIntent as [Dataset](../autoapi/autointent/Dataset.html#autointent.Dataset). We will load sample dataset that is provided by AutoIntent library to demonstrate this functionality."
   ]
  },
  {
   "cell_type": "code",
   "execution_count": 3,
   "id": "9959af67",
   "metadata": {
    "execution": {
     "iopub.execute_input": "2024-12-18T13:20:55.721060Z",
     "iopub.status.busy": "2024-12-18T13:20:55.720596Z",
     "iopub.status.idle": "2024-12-18T13:20:55.770448Z",
     "shell.execute_reply": "2024-12-18T13:20:55.769700Z"
    }
   },
   "outputs": [],
   "source": [
    "path_to_dataset = ires.files(\"tests.assets.data\").joinpath(\"clinc_subset.json\")\n",
    "dataset = Dataset.from_json(path_to_dataset)"
   ]
  },
  {
   "cell_type": "markdown",
   "id": "ec9cd775",
   "metadata": {
    "cell_marker": "\"\"\""
   },
   "source": [
    "Note: to load your data, just change `path_to_dataset` variable."
   ]
  },
  {
   "cell_type": "markdown",
   "id": "869bf02a",
   "metadata": {
    "cell_marker": "\"\"\""
   },
   "source": [
    "### Accessing dataset splits\n",
    "\n",
    "The [Dataset](../autoapi/autointent/Dataset.html#autointent.Dataset) class organizes your data as a dictionary of [datasets.Dataset](https://huggingface.co/docs/datasets/v2.1.0/en/package_reference/main_classes#datasets.Dataset).\n",
    "For example, after initialization, an `oos` key may be added if OOS samples are provided."
   ]
  },
  {
   "cell_type": "code",
   "execution_count": 4,
   "id": "ca51067b",
   "metadata": {
    "execution": {
     "iopub.execute_input": "2024-12-18T13:20:55.773007Z",
     "iopub.status.busy": "2024-12-18T13:20:55.772597Z",
     "iopub.status.idle": "2024-12-18T13:20:55.779302Z",
     "shell.execute_reply": "2024-12-18T13:20:55.778705Z"
    }
   },
   "outputs": [
    {
     "data": {
      "text/plain": [
       "Dataset({\n",
       "    features: ['utterance', 'label'],\n",
       "    num_rows: 37\n",
       "})"
      ]
     },
     "execution_count": 4,
     "metadata": {},
     "output_type": "execute_result"
    }
   ],
   "source": [
    "dataset[\"train\"]"
   ]
  },
  {
   "cell_type": "markdown",
   "id": "1a775748",
   "metadata": {
    "cell_marker": "\"\"\""
   },
   "source": [
    "### Working with dataset splits\n",
    "\n",
    "Each split in the [Dataset](../autoapi/autointent/Dataset.html#autointent.Dataset) class is an instance of [datasets.Dataset](https://huggingface.co/docs/datasets/en/package_reference/main_classes#datasets.Dataset),\n",
    "so you can work with them accordingly."
   ]
  },
  {
   "cell_type": "code",
   "execution_count": 5,
   "id": "7559ada0",
   "metadata": {
    "execution": {
     "iopub.execute_input": "2024-12-18T13:20:55.781539Z",
     "iopub.status.busy": "2024-12-18T13:20:55.781104Z",
     "iopub.status.idle": "2024-12-18T13:20:55.786172Z",
     "shell.execute_reply": "2024-12-18T13:20:55.785515Z"
    }
   },
   "outputs": [
    {
     "data": {
      "text/plain": [
       "{'utterance': ['can i make a reservation for redrobin',\n",
       "  'is it possible to make a reservation at redrobin',\n",
       "  'does redrobin take reservations',\n",
       "  'are reservations taken at redrobin',\n",
       "  'does redrobin do reservations'],\n",
       " 'label': [0, 0, 0, 0, 0]}"
      ]
     },
     "execution_count": 5,
     "metadata": {},
     "output_type": "execute_result"
    }
   ],
   "source": [
    "dataset[\"train\"][:5]  # get first 5 train samples"
   ]
  },
  {
   "cell_type": "markdown",
   "id": "748754d9",
   "metadata": {
    "cell_marker": "\"\"\""
   },
   "source": [
    "### Save Dataset\n",
    "\n",
    "To share your dataset on the Hugging Face Hub, use method [push_to_hub](../autoapi/autointent/Dataset.html#autointent.Dataset.push_to_hub)."
   ]
  },
  {
   "cell_type": "code",
   "execution_count": 6,
   "id": "39ef6a95",
   "metadata": {
    "execution": {
     "iopub.execute_input": "2024-12-18T13:20:55.788485Z",
     "iopub.status.busy": "2024-12-18T13:20:55.788081Z",
     "iopub.status.idle": "2024-12-18T13:20:55.791085Z",
     "shell.execute_reply": "2024-12-18T13:20:55.790441Z"
    }
   },
   "outputs": [],
   "source": [
    "# dataset.push_to_hub(\"<repo_id>\")"
   ]
  },
  {
   "cell_type": "markdown",
   "id": "26ab4034",
   "metadata": {
    "cell_marker": "\"\"\""
   },
   "source": [
    "Note: ensure that you are logged in using `huggingface-cli`."
   ]
  },
  {
   "cell_type": "markdown",
   "id": "447826bd",
   "metadata": {
    "cell_marker": "\"\"\""
   },
   "source": [
    "## See Also\n",
    "\n",
    "- Next chapter of the user guide \"Using modules\": [02_modules](../user_guides/user_guides.python_api.02_modules.py)"
   ]
  }
 ],
 "metadata": {
  "jupytext": {
   "cell_metadata_filter": "-all",
   "main_language": "python",
   "notebook_metadata_filter": "-all",
   "text_representation": {
    "extension": ".py",
    "format_name": "percent"
   }
  },
  "language_info": {
   "codemirror_mode": {
    "name": "ipython",
    "version": 3
   },
   "file_extension": ".py",
   "mimetype": "text/x-python",
   "name": "python",
   "nbconvert_exporter": "python",
   "pygments_lexer": "ipython3",
   "version": "3.10.15"
  }
 },
 "nbformat": 4,
 "nbformat_minor": 5
}
