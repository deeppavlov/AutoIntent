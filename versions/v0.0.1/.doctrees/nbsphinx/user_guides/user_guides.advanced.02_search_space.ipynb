{
 "cells": [
  {
   "cell_type": "markdown",
   "id": "0ca01ebe",
   "metadata": {
    "cell_marker": "\"\"\""
   },
   "source": [
    "# Search Space Configuration\n",
    "\n",
    "In this guide, you will learn how to configure a custom hyperparameter search space."
   ]
  },
  {
   "cell_type": "markdown",
   "id": "dd364567",
   "metadata": {
    "cell_marker": "\"\"\""
   },
   "source": [
    "## Python API\n",
    "\n",
    "> Before reading this guide, we recommend familiarizing yourself with the sections [concepts](../concepts.rst) and [optimization](../learn/optimization.rst)."
   ]
  },
  {
   "cell_type": "markdown",
   "id": "f71a4a5b",
   "metadata": {
    "cell_marker": "\"\"\""
   },
   "source": [
    "### Optimization Module\n",
    "\n",
    "\n",
    "To set up the optimization module, you need to create the following dictionary:"
   ]
  },
  {
   "cell_type": "code",
   "execution_count": 1,
   "id": "a92513cc",
   "metadata": {
    "execution": {
     "iopub.execute_input": "2024-12-18T13:13:13.563412Z",
     "iopub.status.busy": "2024-12-18T13:13:13.563208Z",
     "iopub.status.idle": "2024-12-18T13:13:13.569789Z",
     "shell.execute_reply": "2024-12-18T13:13:13.569294Z"
    }
   },
   "outputs": [],
   "source": [
    "knn_module = {\n",
    "    \"module_name\": \"knn\",\n",
    "    \"k\": [1, 5, 10, 50],\n",
    "    \"embedder_name\": [\"avsolatorio/GIST-small-Embedding-v0\", \"infgrad/stella-base-en-v2\"],\n",
    "}"
   ]
  },
  {
   "cell_type": "markdown",
   "id": "abe16699",
   "metadata": {
    "cell_marker": "\"\"\""
   },
   "source": [
    "The ``module_name`` field specifies the name of the module. You can find the names, for example, in...\n",
    "\n",
    "TODO: _Add docs for all available modules._\n",
    "\n",
    "All fields except ``module_name`` are lists that define the search space for each hyperparameter (see [KNNScorer](../autoapi/autointent/modules/scoring/KNNScorer.html#autointent.modules.scoring.KNNScorer)). If you omit them, the default set of hyperparameters will be used:"
   ]
  },
  {
   "cell_type": "code",
   "execution_count": 2,
   "id": "e8d314ba",
   "metadata": {
    "execution": {
     "iopub.execute_input": "2024-12-18T13:13:13.571757Z",
     "iopub.status.busy": "2024-12-18T13:13:13.571409Z",
     "iopub.status.idle": "2024-12-18T13:13:13.574461Z",
     "shell.execute_reply": "2024-12-18T13:13:13.573818Z"
    }
   },
   "outputs": [],
   "source": [
    "\n",
    "linear_module = {\"module_name\": \"linear\"}"
   ]
  },
  {
   "cell_type": "markdown",
   "id": "f69333be",
   "metadata": {
    "cell_marker": "\"\"\""
   },
   "source": [
    "See docs [LinearScorer](../autoapi/autointent/modules/scoring/LinearScorer.html#autointent.modules.scoring.LinearScorer)."
   ]
  },
  {
   "cell_type": "markdown",
   "id": "81dc0cb0",
   "metadata": {
    "cell_marker": "\"\"\""
   },
   "source": [
    "### Optimization Node\n",
    "\n",
    "To set up the optimization node, you need to create a list of modules and specify the metric for optimization:"
   ]
  },
  {
   "cell_type": "code",
   "execution_count": 3,
   "id": "6f1b5258",
   "metadata": {
    "execution": {
     "iopub.execute_input": "2024-12-18T13:13:13.576442Z",
     "iopub.status.busy": "2024-12-18T13:13:13.576095Z",
     "iopub.status.idle": "2024-12-18T13:13:13.579245Z",
     "shell.execute_reply": "2024-12-18T13:13:13.578575Z"
    }
   },
   "outputs": [],
   "source": [
    "scoring_node = {\n",
    "    \"node_type\": \"scoring\",\n",
    "    \"metric_name\": \"scoring_roc_auc\",\n",
    "    \"search_space\": [\n",
    "        knn_module,\n",
    "        linear_module,\n",
    "    ],\n",
    "}"
   ]
  },
  {
   "cell_type": "markdown",
   "id": "a6a1c9e4",
   "metadata": {
    "cell_marker": "\"\"\""
   },
   "source": [
    "### Search Space\n",
    "\n",
    "The search space for the entire pipeline looks approximately like this:"
   ]
  },
  {
   "cell_type": "code",
   "execution_count": 4,
   "id": "ad13cfa9",
   "metadata": {
    "execution": {
     "iopub.execute_input": "2024-12-18T13:13:13.581533Z",
     "iopub.status.busy": "2024-12-18T13:13:13.581088Z",
     "iopub.status.idle": "2024-12-18T13:13:13.585519Z",
     "shell.execute_reply": "2024-12-18T13:13:13.584979Z"
    }
   },
   "outputs": [],
   "source": [
    "search_space = [\n",
    "    {\n",
    "        \"node_type\": \"embedding\",\n",
    "        \"metric\": \"retrieval_hit_rate\",\n",
    "        \"search_space\": [\n",
    "            {\n",
    "                \"module_name\": \"retrieval\",\n",
    "                \"k\": [10],\n",
    "                \"embedder_name\": [\"avsolatorio/GIST-small-Embedding-v0\", \"infgrad/stella-base-en-v2\"],\n",
    "            }\n",
    "        ],\n",
    "    },\n",
    "    {\n",
    "        \"node_type\": \"scoring\",\n",
    "        \"metric\": \"scoring_roc_auc\",\n",
    "        \"search_space\": [\n",
    "            {\"module_name\": \"knn\", \"k\": [1, 3, 5, 10], \"weights\": [\"uniform\", \"distance\", \"closest\"]},\n",
    "            {\"module_name\": \"linear\"},\n",
    "            {\n",
    "                \"module_name\": \"dnnc\",\n",
    "                \"cross_encoder_name\": [\"BAAI/bge-reranker-base\", \"cross-encoder/ms-marco-MiniLM-L-6-v2\"],\n",
    "                \"k\": [1, 3, 5, 10],\n",
    "            },\n",
    "        ],\n",
    "    },\n",
    "    {\n",
    "        \"node_type\": \"decision\",\n",
    "        \"metric\": \"decision_accuracy\",\n",
    "        \"search_space\": [{\"module_name\": \"threshold\", \"thresh\": [0.5]}, {\"module_name\": \"argmax\"}],\n",
    "    },\n",
    "]"
   ]
  },
  {
   "cell_type": "markdown",
   "id": "1d9fa303",
   "metadata": {
    "cell_marker": "\"\"\""
   },
   "source": [
    "### Load Data\n",
    "\n",
    "Let us use small subset of popular `clinc150` dataset:"
   ]
  },
  {
   "cell_type": "code",
   "execution_count": 5,
   "id": "2d5a9199",
   "metadata": {
    "execution": {
     "iopub.execute_input": "2024-12-18T13:13:13.587504Z",
     "iopub.status.busy": "2024-12-18T13:13:13.587138Z",
     "iopub.status.idle": "2024-12-18T13:13:19.074540Z",
     "shell.execute_reply": "2024-12-18T13:13:19.073959Z"
    }
   },
   "outputs": [
    {
     "name": "stderr",
     "output_type": "stream",
     "text": [
      "/home/runner/.cache/pypoetry/virtualenvs/autointent-FDypUDHQ-py3.10/lib/python3.10/site-packages/sentence_transformers/cross_encoder/CrossEncoder.py:11: TqdmWarning: IProgress not found. Please update jupyter and ipywidgets. See https://ipywidgets.readthedocs.io/en/stable/user_install.html\n",
      "  from tqdm.autonotebook import tqdm, trange\n"
     ]
    }
   ],
   "source": [
    "\n",
    "from autointent import Dataset\n",
    "\n",
    "dataset = Dataset.from_hub(\"AutoIntent/clinc150_subset\")"
   ]
  },
  {
   "cell_type": "markdown",
   "id": "d83d08d1",
   "metadata": {
    "cell_marker": "\"\"\""
   },
   "source": [
    "### Start Auto Configuration"
   ]
  },
  {
   "cell_type": "code",
   "execution_count": 6,
   "id": "f014d2a2",
   "metadata": {
    "execution": {
     "iopub.execute_input": "2024-12-18T13:13:19.076913Z",
     "iopub.status.busy": "2024-12-18T13:13:19.076585Z",
     "iopub.status.idle": "2024-12-18T13:14:35.195987Z",
     "shell.execute_reply": "2024-12-18T13:14:35.195176Z"
    }
   },
   "outputs": [
    {
     "name": "stderr",
     "output_type": "stream",
     "text": [
      "No sentence-transformers model found with name infgrad/stella-base-en-v2. Creating a new one with mean pooling.\n"
     ]
    },
    {
     "name": "stderr",
     "output_type": "stream",
     "text": [
      "huggingface/tokenizers: The current process just got forked, after parallelism has already been used. Disabling parallelism to avoid deadlocks...\n",
      "To disable this warning, you can either:\n",
      "\t- Avoid using `tokenizers` before the fork if possible\n",
      "\t- Explicitly set the environment variable TOKENIZERS_PARALLELISM=(true | false)\n"
     ]
    },
    {
     "name": "stderr",
     "output_type": "stream",
     "text": [
      "No sentence-transformers model found with name infgrad/stella-base-en-v2. Creating a new one with mean pooling.\n"
     ]
    },
    {
     "name": "stderr",
     "output_type": "stream",
     "text": [
      "huggingface/tokenizers: The current process just got forked, after parallelism has already been used. Disabling parallelism to avoid deadlocks...\n",
      "To disable this warning, you can either:\n",
      "\t- Avoid using `tokenizers` before the fork if possible\n",
      "\t- Explicitly set the environment variable TOKENIZERS_PARALLELISM=(true | false)\n"
     ]
    },
    {
     "data": {
      "text/plain": [
       "<autointent.context._context.Context at 0x7fc933329bd0>"
      ]
     },
     "execution_count": 6,
     "metadata": {},
     "output_type": "execute_result"
    }
   ],
   "source": [
    "from autointent import Pipeline\n",
    "\n",
    "pipeline_optimizer = Pipeline.from_search_space(search_space)\n",
    "pipeline_optimizer.fit(dataset)"
   ]
  },
  {
   "cell_type": "markdown",
   "id": "e4a31fc1",
   "metadata": {
    "cell_marker": "\"\"\""
   },
   "source": [
    "## See Also\n",
    "\n",
    "- [Modules API reference](../autoapi/autointent/modules/index.rst) to get familiar with modules to include into search space"
   ]
  }
 ],
 "metadata": {
  "jupytext": {
   "cell_metadata_filter": "-all",
   "main_language": "python",
   "notebook_metadata_filter": "-all",
   "text_representation": {
    "extension": ".py",
    "format_name": "percent"
   }
  },
  "language_info": {
   "codemirror_mode": {
    "name": "ipython",
    "version": 3
   },
   "file_extension": ".py",
   "mimetype": "text/x-python",
   "name": "python",
   "nbconvert_exporter": "python",
   "pygments_lexer": "ipython3",
   "version": "3.10.15"
  }
 },
 "nbformat": 4,
 "nbformat_minor": 5
}
