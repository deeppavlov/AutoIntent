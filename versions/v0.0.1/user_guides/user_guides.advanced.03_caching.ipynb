{
 "cells": [
  {
   "cell_type": "markdown",
   "id": "2541da15",
   "metadata": {
    "cell_marker": "\"\"\""
   },
   "source": [
    "# Caching in AutoIntent\n",
    "\n",
    "TODO"
   ]
  }
 ],
 "metadata": {
  "jupytext": {
   "cell_metadata_filter": "-all",
   "main_language": "python",
   "notebook_metadata_filter": "-all",
   "text_representation": {
    "extension": ".py",
    "format_name": "percent"
   }
  }
 },
 "nbformat": 4,
 "nbformat_minor": 5
}
